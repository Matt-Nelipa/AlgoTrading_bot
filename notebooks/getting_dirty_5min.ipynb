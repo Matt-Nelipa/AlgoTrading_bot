{
 "cells": [
  {
   "cell_type": "markdown",
   "metadata": {},
   "source": [
    "### Here is what we have done in order to obtain btc_data.csv which is used to train our model"
   ]
  },
  {
   "cell_type": "code",
   "execution_count": null,
   "metadata": {},
   "outputs": [],
   "source": [
    "import pandas as pd"
   ]
  },
  {
   "cell_type": "code",
   "execution_count": null,
   "metadata": {},
   "outputs": [],
   "source": [
    "df = pd.read_csv(\"/kaggle/input/bitcoin-historical-data/data.csv\")"
   ]
  },
  {
   "cell_type": "code",
   "execution_count": null,
   "metadata": {},
   "outputs": [],
   "source": [
    "df_copy = df.copy()"
   ]
  },
  {
   "cell_type": "code",
   "execution_count": null,
   "metadata": {},
   "outputs": [],
   "source": [
    "df_copy.Date = pd.to_datetime(df_copy.Date)"
   ]
  },
  {
   "cell_type": "code",
   "execution_count": null,
   "metadata": {},
   "outputs": [],
   "source": [
    "df_copy.rename(columns={\n",
    "    \"Date\": \"date\", \n",
    "    \"Open\": \"open\", \n",
    "    \"High\": \"high\", \n",
    "    \"Low\": \"low\", \n",
    "    \"Close\": \"close\", \n",
    "    \"Volume BTC\": \"volume\"\n",
    "}, inplace=True)"
   ]
  },
  {
   "cell_type": "code",
   "execution_count": null,
   "metadata": {},
   "outputs": [],
   "source": [
    "new_df = df_copy.drop([\"Timestamp\", \"Symbol\", \"Volume USD\"], axis=1)"
   ]
  },
  {
   "cell_type": "code",
   "execution_count": null,
   "metadata": {},
   "outputs": [],
   "source": [
    "try:\n",
    "    new_df.set_index(\"date\", inplace=True)\n",
    "except:\n",
    "    pass\n"
   ]
  },
  {
   "cell_type": "code",
   "execution_count": null,
   "metadata": {},
   "outputs": [],
   "source": [
    "df_5min = new_df.resample('5T').agg({\n",
    "    'open': 'first',\n",
    "    'high': 'max',\n",
    "    'low': 'min',\n",
    "    'close': 'last',\n",
    "    'volume': 'sum'\n",
    "})"
   ]
  },
  {
   "cell_type": "code",
   "execution_count": null,
   "metadata": {},
   "outputs": [],
   "source": [
    "df_5min_inter = df_5min.copy()"
   ]
  },
  {
   "cell_type": "code",
   "execution_count": null,
   "metadata": {},
   "outputs": [],
   "source": [
    "df_5min_inter[[\"open\", \"close\", \"high\", \"low\"]] = df_5min_inter[[\"open\", \"close\", \"high\", \"low\"]].interpolate(method='linear')"
   ]
  },
  {
   "cell_type": "code",
   "execution_count": null,
   "metadata": {},
   "outputs": [],
   "source": [
    "import matplotlib.pyplot as plt \n",
    "\n",
    "fig, ax = plt.subplots()\n",
    "plot_data = df_5min_inter.loc[\"2018-11-01\":\"2019-01-01\"]\n",
    "ax.plot(plot_data.index, plot_data[\"open\"])\n",
    "plt.xticks(rotation=45)\n",
    "\n",
    "plt.savefig(\"linear_interpolation.jpg\", dpi=400)\n",
    "plt.show()"
   ]
  },
  {
   "cell_type": "code",
   "execution_count": null,
   "metadata": {},
   "outputs": [],
   "source": [
    "df_5min_inter = df_5min_inter.iloc[1:]"
   ]
  },
  {
   "cell_type": "code",
   "execution_count": null,
   "metadata": {},
   "outputs": [],
   "source": [
    "df_5min_inter.head()"
   ]
  },
  {
   "cell_type": "code",
   "execution_count": null,
   "metadata": {},
   "outputs": [],
   "source": [
    "warnings.simplefilter(action='ignore', category=FutureWarning)\n",
    "\n",
    "# Создадим новый DataFrame, который будет содержать ваши исходные данные OHLSW\n",
    "combined_df = df_5min_inter.copy()\n",
    "\n",
    "# Получаем все классы из tti.indicators, которые являются индикаторами\n",
    "indicator_classes = [cls for _, cls in inspect.getmembers(ti, inspect.isclass)]\n",
    "\n",
    "# Проходим по каждому индикатору и добавляем его данные в основной DataFrame\n",
    "for indicator_class in indicator_classes:\n",
    "    try:\n",
    "        # Инициализируем индикатор с вашим OHLSW DataFrame\n",
    "        indicator = indicator_class(input_data=df_5min_inter)\n",
    "        \n",
    "        # Получаем рассчитанные данные индикатора\n",
    "        indicator_data = indicator.getTiData()\n",
    "\n",
    "        # Присоединяем данные индикатора к основному DataFrame\n",
    "        # Примечание: добавляем как новые колонки (проверяем пересечение по индексам)\n",
    "        combined_df = combined_df.join(indicator_data, how='left')\n",
    "        \n",
    "        #print(f\"Добавлен индикатор: {indicator_class.__name__}\")\n",
    "    except Exception as e:\n",
    "        pass\n",
    "        #print(f\"Ошибка при вычислении {indicator_class.__name__}: {e}\")\n",
    "\n",
    "# Выводим объединённый DataFrame\n",
    "combined_df.head()"
   ]
  },
  {
   "cell_type": "code",
   "execution_count": null,
   "metadata": {},
   "outputs": [],
   "source": [
    "combined_df['price_change'] = combined_df['close'].pct_change()\n",
    "combined_df.sort_index(ascending=True)\n",
    "combined_df['close_target'] = combined_df['close'].shift(-1)\n",
    "combined_df = combined_df[:-1]\n",
    "combined_df.head()"
   ]
  },
  {
   "cell_type": "code",
   "execution_count": null,
   "metadata": {},
   "outputs": [],
   "source": [
    "combined_df.to_csv(\"submission_baseline.csv\", index=True)"
   ]
  }
 ],
 "metadata": {
  "kernelspec": {
   "display_name": "Python (new_env)",
   "language": "python",
   "name": "new_env"
  },
  "language_info": {
   "name": "python",
   "version": "3.12.5"
  }
 },
 "nbformat": 4,
 "nbformat_minor": 2
}
