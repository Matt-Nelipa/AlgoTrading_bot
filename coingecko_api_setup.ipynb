{
 "cells": [
  {
   "cell_type": "markdown",
   "metadata": {},
   "source": [
    "### Importing Modules"
   ]
  },
  {
   "cell_type": "code",
   "execution_count": null,
   "metadata": {},
   "outputs": [],
   "source": [
    "import numpy as np\n",
    "import pandas as pd\n",
    "import optuna\n",
    "from optuna.samplers import TPESampler\n",
    "from sklearn.model_selection import TimeSeriesSplit\n",
    "from sklearn.metrics import roc_auc_score\n",
    "import lightgbm as lgb\n",
    "from sklearn.decomposition import PCA\n",
    "import time\n",
    "from api_keys import api_public, api_secret\n",
    "from datetime import datetime\n",
    "from pybit.unified_trading import HTTP\n",
    "import tti.indicators as ti\n",
    "import inspect"
   ]
  },
  {
   "cell_type": "markdown",
   "metadata": {},
   "source": [
    "<hr>"
   ]
  },
  {
   "cell_type": "markdown",
   "metadata": {},
   "source": [
    "### Data preparation"
   ]
  },
  {
   "cell_type": "code",
   "execution_count": 2,
   "metadata": {},
   "outputs": [],
   "source": [
    "btc_data = pd.read_csv('clean_5min.csv', header=0, index_col=0)"
   ]
  },
  {
   "cell_type": "code",
   "execution_count": 3,
   "metadata": {},
   "outputs": [],
   "source": [
    "btc_data_copy_v1 = btc_data.copy()"
   ]
  },
  {
   "cell_type": "code",
   "execution_count": 4,
   "metadata": {},
   "outputs": [],
   "source": [
    "btc_data_copy_v1['date'] = pd.to_datetime(btc_data_copy_v1['date'])"
   ]
  },
  {
   "cell_type": "code",
   "execution_count": 5,
   "metadata": {},
   "outputs": [],
   "source": [
    "btc_data_copy_v1 = btc_data_copy_v1.set_index('date')\n",
    "btc_data_copy_v1['target_label'] = btc_data_copy_v1['close'].diff(-1).apply(lambda x: 1 if x <= 0 else -1)\n",
    "btc_data_copy_v1 = btc_data_copy_v1[:-1]"
   ]
  },
  {
   "cell_type": "code",
   "execution_count": 6,
   "metadata": {},
   "outputs": [
    {
     "data": {
      "text/html": [
       "<div>\n",
       "<style scoped>\n",
       "    .dataframe tbody tr th:only-of-type {\n",
       "        vertical-align: middle;\n",
       "    }\n",
       "\n",
       "    .dataframe tbody tr th {\n",
       "        vertical-align: top;\n",
       "    }\n",
       "\n",
       "    .dataframe thead th {\n",
       "        text-align: right;\n",
       "    }\n",
       "</style>\n",
       "<table border=\"1\" class=\"dataframe\">\n",
       "  <thead>\n",
       "    <tr style=\"text-align: right;\">\n",
       "      <th></th>\n",
       "      <th>open</th>\n",
       "      <th>high</th>\n",
       "      <th>low</th>\n",
       "      <th>close</th>\n",
       "      <th>volume</th>\n",
       "      <th>middle_band</th>\n",
       "      <th>upper_band</th>\n",
       "      <th>lower_band</th>\n",
       "      <th>co</th>\n",
       "      <th>cmo</th>\n",
       "      <th>...</th>\n",
       "      <th>vhf</th>\n",
       "      <th>vch</th>\n",
       "      <th>vosc</th>\n",
       "      <th>wc</th>\n",
       "      <th>ws</th>\n",
       "      <th>wad</th>\n",
       "      <th>wr</th>\n",
       "      <th>price_change</th>\n",
       "      <th>close_target</th>\n",
       "      <th>target_label</th>\n",
       "    </tr>\n",
       "    <tr>\n",
       "      <th>date</th>\n",
       "      <th></th>\n",
       "      <th></th>\n",
       "      <th></th>\n",
       "      <th></th>\n",
       "      <th></th>\n",
       "      <th></th>\n",
       "      <th></th>\n",
       "      <th></th>\n",
       "      <th></th>\n",
       "      <th></th>\n",
       "      <th></th>\n",
       "      <th></th>\n",
       "      <th></th>\n",
       "      <th></th>\n",
       "      <th></th>\n",
       "      <th></th>\n",
       "      <th></th>\n",
       "      <th></th>\n",
       "      <th></th>\n",
       "      <th></th>\n",
       "      <th></th>\n",
       "    </tr>\n",
       "  </thead>\n",
       "  <tbody>\n",
       "    <tr>\n",
       "      <th>2015-10-08 19:35:00</th>\n",
       "      <td>244.0</td>\n",
       "      <td>244.0</td>\n",
       "      <td>244.0</td>\n",
       "      <td>244.0</td>\n",
       "      <td>0.0</td>\n",
       "      <td>244.4910</td>\n",
       "      <td>245.4237</td>\n",
       "      <td>243.5583</td>\n",
       "      <td>-1.1617</td>\n",
       "      <td>-100.0</td>\n",
       "      <td>...</td>\n",
       "      <td>0.4</td>\n",
       "      <td>28.2743</td>\n",
       "      <td>0.0</td>\n",
       "      <td>244.0</td>\n",
       "      <td>244.1036</td>\n",
       "      <td>0.0</td>\n",
       "      <td>-100.0</td>\n",
       "      <td>0.0</td>\n",
       "      <td>244.0</td>\n",
       "      <td>1</td>\n",
       "    </tr>\n",
       "    <tr>\n",
       "      <th>2015-10-08 19:40:00</th>\n",
       "      <td>244.0</td>\n",
       "      <td>244.0</td>\n",
       "      <td>244.0</td>\n",
       "      <td>244.0</td>\n",
       "      <td>0.0</td>\n",
       "      <td>244.4415</td>\n",
       "      <td>245.3681</td>\n",
       "      <td>243.5149</td>\n",
       "      <td>-1.1617</td>\n",
       "      <td>-100.0</td>\n",
       "      <td>...</td>\n",
       "      <td>0.5</td>\n",
       "      <td>-79.6453</td>\n",
       "      <td>0.0</td>\n",
       "      <td>244.0</td>\n",
       "      <td>244.0829</td>\n",
       "      <td>0.0</td>\n",
       "      <td>-100.0</td>\n",
       "      <td>0.0</td>\n",
       "      <td>244.0</td>\n",
       "      <td>1</td>\n",
       "    </tr>\n",
       "    <tr>\n",
       "      <th>2015-10-08 19:45:00</th>\n",
       "      <td>244.0</td>\n",
       "      <td>244.0</td>\n",
       "      <td>244.0</td>\n",
       "      <td>244.0</td>\n",
       "      <td>0.0</td>\n",
       "      <td>244.3920</td>\n",
       "      <td>245.3017</td>\n",
       "      <td>243.4823</td>\n",
       "      <td>-1.1617</td>\n",
       "      <td>-100.0</td>\n",
       "      <td>...</td>\n",
       "      <td>0.6</td>\n",
       "      <td>-86.5569</td>\n",
       "      <td>0.0</td>\n",
       "      <td>244.0</td>\n",
       "      <td>244.0663</td>\n",
       "      <td>0.0</td>\n",
       "      <td>-100.0</td>\n",
       "      <td>0.0</td>\n",
       "      <td>244.0</td>\n",
       "      <td>1</td>\n",
       "    </tr>\n",
       "    <tr>\n",
       "      <th>2015-10-08 19:50:00</th>\n",
       "      <td>244.0</td>\n",
       "      <td>244.0</td>\n",
       "      <td>244.0</td>\n",
       "      <td>244.0</td>\n",
       "      <td>0.0</td>\n",
       "      <td>244.3425</td>\n",
       "      <td>245.2240</td>\n",
       "      <td>243.4610</td>\n",
       "      <td>-1.1617</td>\n",
       "      <td>-100.0</td>\n",
       "      <td>...</td>\n",
       "      <td>0.7</td>\n",
       "      <td>-86.5569</td>\n",
       "      <td>0.0</td>\n",
       "      <td>244.0</td>\n",
       "      <td>244.0530</td>\n",
       "      <td>0.0</td>\n",
       "      <td>-100.0</td>\n",
       "      <td>0.0</td>\n",
       "      <td>244.0</td>\n",
       "      <td>1</td>\n",
       "    </tr>\n",
       "    <tr>\n",
       "      <th>2015-10-08 19:55:00</th>\n",
       "      <td>244.0</td>\n",
       "      <td>244.0</td>\n",
       "      <td>244.0</td>\n",
       "      <td>244.0</td>\n",
       "      <td>0.0</td>\n",
       "      <td>244.2930</td>\n",
       "      <td>245.1337</td>\n",
       "      <td>243.4523</td>\n",
       "      <td>-1.1617</td>\n",
       "      <td>-100.0</td>\n",
       "      <td>...</td>\n",
       "      <td>0.8</td>\n",
       "      <td>-86.5569</td>\n",
       "      <td>0.0</td>\n",
       "      <td>244.0</td>\n",
       "      <td>244.0424</td>\n",
       "      <td>0.0</td>\n",
       "      <td>-100.0</td>\n",
       "      <td>0.0</td>\n",
       "      <td>244.0</td>\n",
       "      <td>1</td>\n",
       "    </tr>\n",
       "  </tbody>\n",
       "</table>\n",
       "<p>5 rows × 74 columns</p>\n",
       "</div>"
      ],
      "text/plain": [
       "                      open   high    low  close  volume  middle_band  \\\n",
       "date                                                                   \n",
       "2015-10-08 19:35:00  244.0  244.0  244.0  244.0     0.0     244.4910   \n",
       "2015-10-08 19:40:00  244.0  244.0  244.0  244.0     0.0     244.4415   \n",
       "2015-10-08 19:45:00  244.0  244.0  244.0  244.0     0.0     244.3920   \n",
       "2015-10-08 19:50:00  244.0  244.0  244.0  244.0     0.0     244.3425   \n",
       "2015-10-08 19:55:00  244.0  244.0  244.0  244.0     0.0     244.2930   \n",
       "\n",
       "                     upper_band  lower_band      co    cmo  ...  vhf      vch  \\\n",
       "date                                                        ...                 \n",
       "2015-10-08 19:35:00    245.4237    243.5583 -1.1617 -100.0  ...  0.4  28.2743   \n",
       "2015-10-08 19:40:00    245.3681    243.5149 -1.1617 -100.0  ...  0.5 -79.6453   \n",
       "2015-10-08 19:45:00    245.3017    243.4823 -1.1617 -100.0  ...  0.6 -86.5569   \n",
       "2015-10-08 19:50:00    245.2240    243.4610 -1.1617 -100.0  ...  0.7 -86.5569   \n",
       "2015-10-08 19:55:00    245.1337    243.4523 -1.1617 -100.0  ...  0.8 -86.5569   \n",
       "\n",
       "                     vosc     wc        ws  wad     wr  price_change  \\\n",
       "date                                                                   \n",
       "2015-10-08 19:35:00   0.0  244.0  244.1036  0.0 -100.0           0.0   \n",
       "2015-10-08 19:40:00   0.0  244.0  244.0829  0.0 -100.0           0.0   \n",
       "2015-10-08 19:45:00   0.0  244.0  244.0663  0.0 -100.0           0.0   \n",
       "2015-10-08 19:50:00   0.0  244.0  244.0530  0.0 -100.0           0.0   \n",
       "2015-10-08 19:55:00   0.0  244.0  244.0424  0.0 -100.0           0.0   \n",
       "\n",
       "                     close_target  target_label  \n",
       "date                                             \n",
       "2015-10-08 19:35:00         244.0             1  \n",
       "2015-10-08 19:40:00         244.0             1  \n",
       "2015-10-08 19:45:00         244.0             1  \n",
       "2015-10-08 19:50:00         244.0             1  \n",
       "2015-10-08 19:55:00         244.0             1  \n",
       "\n",
       "[5 rows x 74 columns]"
      ]
     },
     "execution_count": 6,
     "metadata": {},
     "output_type": "execute_result"
    }
   ],
   "source": [
    "btc_data_copy_v1.head()"
   ]
  },
  {
   "cell_type": "code",
   "execution_count": 8,
   "metadata": {},
   "outputs": [],
   "source": [
    "btc_data_copy_targets = btc_data_copy_v1.target_label\n",
    "btc_data_copy_features = btc_data_copy_v1.drop('target_label', axis=1)"
   ]
  },
  {
   "cell_type": "code",
   "execution_count": 9,
   "metadata": {},
   "outputs": [
    {
     "data": {
      "text/plain": [
       "(775354, 73)"
      ]
     },
     "execution_count": 9,
     "metadata": {},
     "output_type": "execute_result"
    }
   ],
   "source": [
    "btc_data_copy_features.shape"
   ]
  },
  {
   "cell_type": "code",
   "execution_count": 10,
   "metadata": {},
   "outputs": [],
   "source": [
    "df_centralized = btc_data_copy_features - btc_data_copy_features.mean()"
   ]
  },
  {
   "cell_type": "markdown",
   "metadata": {},
   "source": [
    "### PCA"
   ]
  },
  {
   "cell_type": "code",
   "execution_count": null,
   "metadata": {},
   "outputs": [],
   "source": [
    "pca = PCA(n_components=7)\n",
    "principal_components = pca.fit_transform(df_centralized)\n",
    "pca_df = pd.DataFrame(data=principal_components, index=btc_data_copy_features.index)\n",
    "print(pca_df.shape, btc_data_copy_targets.shape, sep='\\n')"
   ]
  },
  {
   "cell_type": "markdown",
   "metadata": {},
   "source": [
    "Will take into account class imbalance building models"
   ]
  },
  {
   "cell_type": "code",
   "execution_count": 11,
   "metadata": {},
   "outputs": [
    {
     "data": {
      "text/plain": [
       "target_label\n",
       " 1    2543652\n",
       "-1    1223109\n",
       "Name: count, dtype: int64"
      ]
     },
     "execution_count": 11,
     "metadata": {},
     "output_type": "execute_result"
    }
   ],
   "source": [
    "btc_data.target_label.value_counts()"
   ]
  },
  {
   "cell_type": "markdown",
   "metadata": {},
   "source": [
    "### Bayesian Optimization for LightBoostClassifier hyperparameters tuning"
   ]
  },
  {
   "cell_type": "code",
   "execution_count": 51,
   "metadata": {},
   "outputs": [],
   "source": [
    "def objective(trial):\n",
    "\n",
    "    param = {\n",
    "        \"objective\": \"binary\",\n",
    "        \"metric\": \"auc\",\n",
    "        \"verbosity\": -1,\n",
    "        \"n_jobs\": -1,\n",
    "        \"random_state\": 42,\n",
    "        \"is_unbalance\": True,\n",
    "        \"subsample\": 1.0,\n",
    "        'learning_rate': trial.suggest_float('learning_rate', 0.01, 0.1, log=True),\n",
    "        \"boosting_type\": 'gbdt',\n",
    "        \"lambda_l1\": trial.suggest_float(\"lambda_l1\", 1e-1, 10.0, log=True),\n",
    "        \"lambda_l2\": trial.suggest_float(\"lambda_l2\", 1e-1, 10.0, log=True),\n",
    "        \"num_leaves\": trial.suggest_int(\"num_leaves\", 10, 20),\n",
    "        \"feature_fraction\": trial.suggest_float(\"feature_fraction\", 0.1, 0.9),\n",
    "        \"bagging_fraction\": trial.suggest_float(\"bagging_fraction\", 0.2, 0.8),\n",
    "        \"bagging_freq\": trial.suggest_int(\"bagging_freq\", 1, 3),\n",
    "        \"min_child_samples\": trial.suggest_int(\"min_child_samples\", 5, 100),\n",
    "        \"max_depth\": trial.suggest_int('max_depth', 1, 5),\n",
    "        'max_bin': trial.suggest_int('max_bin', 100, 150),\n",
    "        'min_data_in_leaf': trial.suggest_int('min_data_in_leaf', 20, 150),\n",
    "    }\n",
    "    \n",
    "    dtrain = lgb.Dataset(X_train, label=y_train)\n",
    "\n",
    "    gbm = lgb.train(param, dtrain)\n",
    "    y_pred = gbm.predict(X_test)\n",
    "    auc = roc_auc_score(y_test, y_pred)\n",
    "    return auc"
   ]
  },
  {
   "cell_type": "code",
   "execution_count": null,
   "metadata": {},
   "outputs": [],
   "source": [
    "tscv = TimeSeriesSplit(n_splits=10)\n",
    "\n",
    "for train_index, test_index in tscv.split(pca_df):\n",
    "    X_train, X_test = pca_df.iloc[train_index], pca_df.iloc[test_index]\n",
    "    y_train, y_test = btc_data_copy_targets.iloc[train_index], btc_data_copy_targets.iloc[test_index]\n",
    "    sampler_complex = TPESampler(n_startup_trials=10, seed=42)\n",
    "    study_complex = optuna.create_study(direction='maximize', sampler=sampler_complex)\n",
    "    study_complex.optimize(objective, n_trials=20)"
   ]
  },
  {
   "cell_type": "code",
   "execution_count": null,
   "metadata": {},
   "outputs": [],
   "source": [
    "params = study_complex.best_params | {\n",
    "                                        \"objective\": \"binary\",\n",
    "                                        \"metric\": \"f1\",\n",
    "                                        \"verbosity\": -1,\n",
    "                                        \"n_jobs\": -1,\n",
    "                                        \"random_state\": 42,\n",
    "                                        \"is_unbalance\": True,\n",
    "                                        \"subsample\": 1.0,\n",
    "                                        \"boosting_type\": 'gbdt'\n",
    "                                        }\n",
    "params"
   ]
  },
  {
   "cell_type": "markdown",
   "metadata": {},
   "source": [
    "### Train model on the whole dataset"
   ]
  },
  {
   "cell_type": "code",
   "execution_count": 57,
   "metadata": {},
   "outputs": [],
   "source": [
    "dtrain = lgb.Dataset(pca_df, label=btc_data_copy_targets)\n",
    "tuned_model = lgb.train(params, dtrain)"
   ]
  },
  {
   "cell_type": "markdown",
   "metadata": {},
   "source": [
    "---"
   ]
  },
  {
   "cell_type": "markdown",
   "metadata": {},
   "source": [
    "## Bybit API"
   ]
  },
  {
   "cell_type": "markdown",
   "metadata": {},
   "source": [
    "### Bybit Mainnet Demo Trading connection"
   ]
  },
  {
   "cell_type": "code",
   "execution_count": 20,
   "metadata": {},
   "outputs": [],
   "source": [
    "api_key_ = api_public\n",
    "api_secret_ = api_secret\n",
    "session = HTTP(\n",
    "    demo=True,\n",
    "    api_key=api_key_,\n",
    "    api_secret=api_secret_\n",
    ")"
   ]
  },
  {
   "cell_type": "markdown",
   "metadata": {},
   "source": [
    "### Access to Bybit OHLCV data, model prediction, order placement"
   ]
  },
  {
   "cell_type": "code",
   "execution_count": null,
   "metadata": {},
   "outputs": [],
   "source": [
    "def generate_indicators(df):\n",
    "    from warnings import simplefilter \n",
    "    simplefilter(action='ignore', category=FutureWarning)\n",
    "    \n",
    "    combined_df = df.copy()\n",
    "    \n",
    "    indicator_classes = [cls for _, cls in inspect.getmembers(ti, inspect.isclass)]\n",
    "    \n",
    "    for indicator_class in indicator_classes:\n",
    "        try:\n",
    "            indicator = indicator_class(input_data=df)\n",
    "            indicator_data = indicator.getTiData()\n",
    "            combined_df = combined_df.join(indicator_data, how='left')\n",
    "        except Exception as e:\n",
    "            pass\n",
    "            print(f\"Ошибка при вычислении {indicator_class.__name__}: {e}\")\n",
    "    combined_df['target_label'] = combined_df['close'].diff(-1).apply(lambda x: 1 if x <= 0 else -1)\n",
    "    combined_df = combined_df[:-1]\n",
    "    \n",
    "    return combined_df\n",
    "\n",
    "def get_clean_ohlcv_data(symbol=\"BTCUSDT\", interval=5):\n",
    "    \n",
    "    ''' Extract OHLCV data from Bybit for the last 5 minutes'''\n",
    "    \n",
    "    end_time = int(datetime.now().timestamp())  # Current time in seconds\n",
    "    start_time = end_time - (5 * 60)  # time 5 min ago in seconds\n",
    "    try:\n",
    "        response = session.get_kline(\n",
    "            category=\"spot\",\n",
    "            symbol=symbol,\n",
    "            interval=str(interval),\n",
    "            start=start_time * 1000,  # start_time to milliseconds\n",
    "            end=end_time * 1000       # end_time to milliseconds\n",
    "        )\n",
    "\n",
    "        kline = response['result']['list'][0]\n",
    "        ohlcv_data = {\n",
    "                    \"date\": datetime.fromtimestamp(int(kline[0]) / 1000),\n",
    "                    \"open\": float(kline[1]),\n",
    "                    \"high\": float(kline[2]),\n",
    "                    \"low\": float(kline[3]),\n",
    "                    \"close\": float(kline[4]),\n",
    "                    \"volume\": float(kline[5])\n",
    "                    }\n",
    "        \n",
    "        df = pd.DataFrame(ohlcv_data.items()).T\n",
    "        df.columns = df.iloc[0]\n",
    "        df = df.iloc[1:].set_index('date')\n",
    "        df = df.astype({\n",
    "            'open':'Float64',\n",
    "            'high':'Float64',\n",
    "            'low':'Float64',\n",
    "            'close':'Float64',\n",
    "            'volume':'Float64'\n",
    "        })\n",
    "        return df\n",
    "    except Exception as e:\n",
    "        print(\"Ошибка при получении данных:\", e)\n",
    "\n",
    "def input_data_preprocessing():\n",
    "    new_ohlcv_row = get_clean_ohlcv_data()\n",
    "    last_25_rows_df = btc_data_copy_v1.iloc[-25:, :5]\n",
    "    ohlcv_data = pd.concat([last_25_rows_df, new_ohlcv_row], axis=0)\n",
    "    #Check the next line - could have made a mistake!\n",
    "    nan = ohlcv_data[ohlcv_data.columns[ohlcv_data.isna().sum() > 0]].columns\n",
    "    ohlcv_data[nan] = ohlcv_data[nan].interpolate(method=\"linear\")\n",
    "    cleaned_ohlcv_row = generate_indicators(ohlcv_data).iloc[-1]\n",
    "    return cleaned_ohlcv_row\n",
    "\n",
    "def get_bitcoin_signal():\n",
    "    \n",
    "    '''ohlcv_data processing, features generation, \n",
    "    PCA application and model prediction'''\n",
    "    \n",
    "    preprocessed_data = input_data_preprocessing()\n",
    "    #Дропаем индикаторы, которые удалены в clean_5min.csv\n",
    "    preprocessed_data = preprocessed_data.drop(['adl', 'cmf', 'emv_ma', 'emv', 'mfi', 'vrc'], axis=1)\n",
    "    latest_data = pca.transform(preprocessed_data)\n",
    "    y_pred = tuned_model.predict(latest_data)\n",
    "    # FIXME продумать логику добавления новых данных в исходные датасеты (зазписать в .csv)\n",
    "    return y_pred\n",
    "\n",
    "\n",
    "def place_order(order_side: str, amount):\n",
    "    \n",
    "    '''make a \"buy\" or \"sell\" order'''\n",
    "    try:\n",
    "        order = session.place_order(\n",
    "                                    category=\"spot\",\n",
    "                                    symbol=\"BTCUSDT\",\n",
    "                                    side=order_side, # Buy or Sell\n",
    "                                    orderType=\"Market\",\n",
    "                                    qty=str(amount), # BTC value for Sell and USDT value for Buy\n",
    "                                    marketunit=\"quoteCoin\",\n",
    "                                    timeInForce=\"IOC\",\n",
    "                                    #orderLinkId=\"spot-test-mainnet-algo\",\n",
    "                                    isLeverage=0,\n",
    "                                    orderFilter=\"Order\"\n",
    "                                    )\n",
    "        print(f\"{\"Покупка\" if order_side==\"Buy\" else \"Продажа\"} совершена:\", order)\n",
    "    except Exception as e:\n",
    "        print(\"Ошибка при размещении ордера:\", e)\n",
    "\n",
    "def trading_bot(threshold=0.7, amount=1000):\n",
    "    while True:\n",
    "        probability = get_bitcoin_signal()\n",
    "        if probability >= threshold:\n",
    "            # Проверка, куплен ли уже биток или битка нет; #FIXME\n",
    "            # если есть, то continue и напиши холд\n",
    "            # если нет, то следующее:\n",
    "            print(f\"Сигнал на покупку! Вероятность роста: {probability:.3f}\")\n",
    "            place_order(\"Buy\", amount) # amount должен быть переменной\n",
    "            # в зависимости от баланса, т.е. фиксированный процентом, например\n",
    "        else:\n",
    "            print(f\"Сигнал на продажу! Вероятность роста: {probability:.3f}\")\n",
    "            place_order(\"Sell\", amount) # здесь amount - весь купленный биток\n",
    "            # который должен вытягиваться из bybit из баланса кошелька\n",
    "            \n",
    "        time.sleep(300)  # Checkout every 5 min\n",
    "        \n",
    "        # Далее можно считать PnL: #FIXME\n",
    "        session.get_wallet_balance(\n",
    "                                accountType=\"UNIFIED\",\n",
    "                                coin=\"BTC, USDT\"\n",
    "                                )\n",
    "# Bot launching\n",
    "#trading_bot()\n",
    "#data = get_clean_ohlcv_data()"
   ]
  }
 ],
 "metadata": {
  "kernelspec": {
   "display_name": "Python (new_env)",
   "language": "python",
   "name": "new_env"
  },
  "language_info": {
   "codemirror_mode": {
    "name": "ipython",
    "version": 3
   },
   "file_extension": ".py",
   "mimetype": "text/x-python",
   "name": "python",
   "nbconvert_exporter": "python",
   "pygments_lexer": "ipython3",
   "version": "3.12.5"
  }
 },
 "nbformat": 4,
 "nbformat_minor": 2
}
