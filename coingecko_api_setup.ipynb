{
 "cells": [
  {
   "cell_type": "markdown",
   "metadata": {},
   "source": [
    "### Importing Modules"
   ]
  },
  {
   "cell_type": "code",
   "execution_count": 1,
   "metadata": {},
   "outputs": [],
   "source": [
    "import numpy as np\n",
    "import pandas as pd\n",
    "import optuna\n",
    "from optuna.samplers import TPESampler\n",
    "from sklearn.model_selection import TimeSeriesSplit\n",
    "from sklearn.pipeline import make_pipeline\n",
    "from sklearn.preprocessing import StandardScaler\n",
    "from sklearn.compose import ColumnTransformer\n",
    "from sklearn.impute import SimpleImputer\n",
    "from sklearn.metrics import roc_auc_score, f1_score\n",
    "import lightgbm as lgb\n",
    "import tensorflow as tf\n",
    "from tensorflow.keras.optimizers import AdamW # type: ignore\n",
    "from sklearn.decomposition import PCA"
   ]
  },
  {
   "cell_type": "markdown",
   "metadata": {},
   "source": [
    "<hr>"
   ]
  },
  {
   "cell_type": "markdown",
   "metadata": {},
   "source": [
    "### Data preparation"
   ]
  },
  {
   "cell_type": "markdown",
   "metadata": {},
   "source": [
    "##### Note: unzip btc_data.csv.zip in advance"
   ]
  },
  {
   "cell_type": "code",
   "execution_count": 2,
   "metadata": {},
   "outputs": [],
   "source": [
    "btc_data = pd.read_csv('btc_data.csv', header=0, index_col=0)"
   ]
  },
  {
   "cell_type": "code",
   "execution_count": 3,
   "metadata": {},
   "outputs": [],
   "source": [
    "btc_data_copy = btc_data.copy()"
   ]
  },
  {
   "cell_type": "code",
   "execution_count": 4,
   "metadata": {},
   "outputs": [
    {
     "name": "stdout",
     "output_type": "stream",
     "text": [
      "Index(['emv_ma', 'cmf', 'adl', 'emv', 'mfi', 'swi', 'vrc', 'cmo', 'vhf', 'cci',\n",
      "       'wr', 'uosc', '%D', 'imi', '%K'],\n",
      "      dtype='object')\n"
     ]
    }
   ],
   "source": [
    "nan_counts = btc_data.isna().sum().sort_values(ascending=False)\n",
    "print(nan_counts.head(15).index)"
   ]
  },
  {
   "cell_type": "markdown",
   "metadata": {},
   "source": [
    "Delete NaN before applying PCA"
   ]
  },
  {
   "cell_type": "code",
   "execution_count": 5,
   "metadata": {},
   "outputs": [],
   "source": [
    "btc_data_copy = btc_data_copy.dropna()"
   ]
  },
  {
   "cell_type": "code",
   "execution_count": 6,
   "metadata": {},
   "outputs": [],
   "source": [
    "btc_data_copy_targets = btc_data_copy.target_label\n",
    "btc_data_copy_features = btc_data_copy.drop('target_label', axis=1)"
   ]
  },
  {
   "cell_type": "code",
   "execution_count": 7,
   "metadata": {},
   "outputs": [],
   "source": [
    "scaler = StandardScaler()\n",
    "df_scaled = scaler.fit_transform(btc_data_copy_features)"
   ]
  },
  {
   "cell_type": "markdown",
   "metadata": {},
   "source": [
    "### PCA"
   ]
  },
  {
   "cell_type": "code",
   "execution_count": 8,
   "metadata": {},
   "outputs": [],
   "source": [
    "pca = PCA(n_components=7)\n",
    "\n",
    "principal_components = pca.fit_transform(df_scaled)\n",
    "\n",
    "pca_df = pd.DataFrame(data=principal_components, index=btc_data_copy_features.index)"
   ]
  },
  {
   "cell_type": "code",
   "execution_count": 9,
   "metadata": {},
   "outputs": [
    {
     "data": {
      "text/plain": [
       "(1015072, 7)"
      ]
     },
     "execution_count": 9,
     "metadata": {},
     "output_type": "execute_result"
    }
   ],
   "source": [
    "pca_df.shape"
   ]
  },
  {
   "cell_type": "code",
   "execution_count": 10,
   "metadata": {},
   "outputs": [
    {
     "data": {
      "text/plain": [
       "(1015072,)"
      ]
     },
     "execution_count": 10,
     "metadata": {},
     "output_type": "execute_result"
    }
   ],
   "source": [
    "btc_data_copy_targets.shape"
   ]
  },
  {
   "cell_type": "markdown",
   "metadata": {},
   "source": [
    "Will take into account class imbalance building models"
   ]
  },
  {
   "cell_type": "code",
   "execution_count": 11,
   "metadata": {},
   "outputs": [
    {
     "data": {
      "text/plain": [
       "target_label\n",
       " 1    2543652\n",
       "-1    1223109\n",
       "Name: count, dtype: int64"
      ]
     },
     "execution_count": 11,
     "metadata": {},
     "output_type": "execute_result"
    }
   ],
   "source": [
    "btc_data.target_label.value_counts()"
   ]
  },
  {
   "cell_type": "markdown",
   "metadata": {},
   "source": [
    "Simple split"
   ]
  },
  {
   "cell_type": "code",
   "execution_count": 12,
   "metadata": {},
   "outputs": [],
   "source": [
    "split_index = int(len(pca_df) * 0.8)\n",
    "X_train = pca_df.iloc[:split_index]\n",
    "X_test = pca_df.iloc[split_index:]\n",
    "y_train = btc_data_copy_targets.iloc[:split_index]\n",
    "y_test = btc_data_copy_targets.iloc[split_index:]"
   ]
  },
  {
   "cell_type": "markdown",
   "metadata": {},
   "source": [
    "Complex split"
   ]
  },
  {
   "cell_type": "code",
   "execution_count": 13,
   "metadata": {},
   "outputs": [],
   "source": [
    "tscv = TimeSeriesSplit(n_splits=10)"
   ]
  },
  {
   "cell_type": "markdown",
   "metadata": {},
   "source": [
    "# Models "
   ]
  },
  {
   "cell_type": "markdown",
   "metadata": {},
   "source": [
    "### lgb classifier"
   ]
  },
  {
   "cell_type": "markdown",
   "metadata": {},
   "source": [
    "### Bayesian Optimization for hyperparameters tuning"
   ]
  },
  {
   "cell_type": "code",
   "execution_count": 14,
   "metadata": {},
   "outputs": [],
   "source": [
    "def objective(trial):\n",
    "\n",
    "    param = {\n",
    "        \"objective\": \"binary\",\n",
    "        \"metric\": \"f1\",\n",
    "        \"verbosity\": -1,\n",
    "        \"n_jobs\": -1,\n",
    "        \"random_state\": 42,\n",
    "        \"is_unbalance\": True,\n",
    "        \"subsample\": 1.0,\n",
    "        'learning_rate': trial.suggest_float('learning_rate', 0.01, 0.1, log=True),\n",
    "        \"boosting_type\": 'gbdt',\n",
    "        \"lambda_l1\": trial.suggest_float(\"lambda_l1\", 1e-1, 10.0, log=True),\n",
    "        \"lambda_l2\": trial.suggest_float(\"lambda_l2\", 1e-1, 10.0, log=True),\n",
    "        \"num_leaves\": trial.suggest_int(\"num_leaves\", 10, 20),\n",
    "        \"feature_fraction\": trial.suggest_float(\"feature_fraction\", 0.1, 0.9),\n",
    "        \"bagging_fraction\": trial.suggest_float(\"bagging_fraction\", 0.2, 0.8),\n",
    "        \"bagging_freq\": trial.suggest_int(\"bagging_freq\", 1, 3),\n",
    "        \"min_child_samples\": trial.suggest_int(\"min_child_samples\", 5, 100),\n",
    "        \"max_depth\": trial.suggest_int('max_depth', 1, 5),\n",
    "        'max_bin': trial.suggest_int('max_bin', 100, 150),\n",
    "        'min_data_in_leaf': trial.suggest_int('min_data_in_leaf', 20, 150),\n",
    "    }\n",
    "    \n",
    "    dtrain = lgb.Dataset(X_train, label=y_train)\n",
    "\n",
    "    gbm = lgb.train(param, dtrain)\n",
    "    y_pred = gbm.predict(X_test)\n",
    "    y_pred = np.where(y_pred < 0.5, -1, 1)   \n",
    "    f1 = f1_score(y_test, y_pred) # target metric\n",
    "    return f1"
   ]
  },
  {
   "cell_type": "markdown",
   "metadata": {},
   "source": [
    "Optimization for simple split"
   ]
  },
  {
   "cell_type": "code",
   "execution_count": 15,
   "metadata": {},
   "outputs": [
    {
     "name": "stderr",
     "output_type": "stream",
     "text": [
      "[I 2024-10-31 15:42:20,970] A new study created in memory with name: no-name-fd6e516e-dd69-41ac-a47f-03f7a6b4f215\n"
     ]
    },
    {
     "name": "stderr",
     "output_type": "stream",
     "text": [
      "[I 2024-10-31 15:42:23,390] Trial 0 finished with value: 0.7993542345435746 and parameters: {'learning_rate': 0.023688639503640783, 'lambda_l1': 7.969454818643936, 'lambda_l2': 2.9106359131330697, 'num_leaves': 16, 'feature_fraction': 0.22481491235394924, 'bagging_fraction': 0.2935967122017216, 'bagging_freq': 1, 'min_child_samples': 88, 'max_depth': 4, 'max_bin': 136, 'min_data_in_leaf': 22}. Best is trial 0 with value: 0.7993542345435746.\n",
      "[I 2024-10-31 15:42:24,873] Trial 1 finished with value: 0.8299052188618398 and parameters: {'learning_rate': 0.09330606024425668, 'lambda_l1': 4.622589001020832, 'lambda_l2': 0.26587543983272705, 'num_leaves': 12, 'feature_fraction': 0.24672360788274705, 'bagging_fraction': 0.38254534577572263, 'bagging_freq': 2, 'min_child_samples': 46, 'max_depth': 2, 'max_bin': 131, 'min_data_in_leaf': 38}. Best is trial 1 with value: 0.8299052188618398.\n",
      "[I 2024-10-31 15:42:26,997] Trial 2 finished with value: 0.7970873313525888 and parameters: {'learning_rate': 0.019594972058679168, 'lambda_l1': 0.5404103854647329, 'lambda_l2': 0.8168455894760165, 'num_leaves': 18, 'feature_fraction': 0.25973902572668783, 'bagging_fraction': 0.508540663048167, 'bagging_freq': 2, 'min_child_samples': 9, 'max_depth': 4, 'max_bin': 108, 'min_data_in_leaf': 28}. Best is trial 1 with value: 0.8299052188618398.\n",
      "[I 2024-10-31 15:42:28,856] Trial 3 finished with value: 0.8249168698736422 and parameters: {'learning_rate': 0.08889667907018929, 'lambda_l1': 8.536189862866832, 'lambda_l2': 4.138040112561017, 'num_leaves': 13, 'feature_fraction': 0.1781376912051071, 'bagging_fraction': 0.6105398159072942, 'bagging_freq': 2, 'min_child_samples': 16, 'max_depth': 3, 'max_bin': 101, 'min_data_in_leaf': 139}. Best is trial 1 with value: 0.8299052188618398.\n",
      "[I 2024-10-31 15:42:31,428] Trial 4 finished with value: 0.8371682289097188 and parameters: {'learning_rate': 0.01814596135349025, 'lambda_l1': 2.113705944064573, 'lambda_l2': 0.420167205437253, 'num_leaves': 15, 'feature_fraction': 0.5373682234746238, 'bagging_fraction': 0.31091267331531625, 'bagging_freq': 3, 'min_child_samples': 79, 'max_depth': 5, 'max_bin': 145, 'min_data_in_leaf': 98}. Best is trial 4 with value: 0.8371682289097188.\n",
      "[I 2024-10-31 15:42:32,881] Trial 5 finished with value: 0.8388029649515876 and parameters: {'learning_rate': 0.0835361075531176, 'lambda_l1': 0.15030900645056822, 'lambda_l2': 0.24658447214487378, 'num_leaves': 10, 'feature_fraction': 0.36026426461061145, 'bagging_fraction': 0.43320637381368926, 'bagging_freq': 1, 'min_child_samples': 84, 'max_depth': 2, 'max_bin': 114, 'min_data_in_leaf': 91}. Best is trial 5 with value: 0.8388029649515876.\n",
      "[I 2024-10-31 15:42:35,431] Trial 6 finished with value: 0.8378455653271286 and parameters: {'learning_rate': 0.013833249975219963, 'lambda_l1': 4.02155452669029, 'lambda_l2': 0.14096175149815865, 'num_leaves': 20, 'feature_fraction': 0.717795815437326, 'bagging_fraction': 0.31922940892050344, 'bagging_freq': 1, 'min_child_samples': 83, 'max_depth': 4, 'max_bin': 137, 'min_data_in_leaf': 121}. Best is trial 5 with value: 0.8388029649515876.\n",
      "[I 2024-10-31 15:42:37,048] Trial 7 finished with value: 0.7857757551889614 and parameters: {'learning_rate': 0.011858906685575274, 'lambda_l1': 0.5211124595788266, 'lambda_l2': 0.17050539260269293, 'num_leaves': 19, 'feature_fraction': 0.5986385014620463, 'bagging_fraction': 0.39853881491158955, 'bagging_freq': 1, 'min_child_samples': 34, 'max_depth': 2, 'max_bin': 137, 'min_data_in_leaf': 103}. Best is trial 5 with value: 0.8388029649515876.\n",
      "[I 2024-10-31 15:42:38,987] Trial 8 finished with value: 0.8473655999364726 and parameters: {'learning_rate': 0.07712811947156349, 'lambda_l1': 0.8798929749689022, 'lambda_l2': 0.17345566642360938, 'num_leaves': 17, 'feature_fraction': 0.708628038893518, 'bagging_fraction': 0.5367663185416978, 'bagging_freq': 3, 'min_child_samples': 52, 'max_depth': 3, 'max_bin': 121, 'min_data_in_leaf': 23}. Best is trial 8 with value: 0.8473655999364726.\n",
      "[I 2024-10-31 15:42:41,498] Trial 9 finished with value: 0.8317596904567338 and parameters: {'learning_rate': 0.0128201004189169, 'lambda_l1': 0.11557352816269865, 'lambda_l2': 1.8742210985555698, 'num_leaves': 13, 'feature_fraction': 0.5068565529317622, 'bagging_fraction': 0.7445398843556559, 'bagging_freq': 1, 'min_child_samples': 44, 'max_depth': 4, 'max_bin': 111, 'min_data_in_leaf': 30}. Best is trial 8 with value: 0.8473655999364726.\n",
      "[I 2024-10-31 15:42:42,833] Trial 10 finished with value: 0.8095183945496166 and parameters: {'learning_rate': 0.046632924030566285, 'lambda_l1': 1.3112992007873714, 'lambda_l2': 8.691089486124978, 'num_leaves': 17, 'feature_fraction': 0.8828328849421558, 'bagging_fraction': 0.6136588346475399, 'bagging_freq': 3, 'min_child_samples': 64, 'max_depth': 1, 'max_bin': 121, 'min_data_in_leaf': 56}. Best is trial 8 with value: 0.8473655999364726.\n",
      "[I 2024-10-31 15:42:44,551] Trial 11 finished with value: 0.8093804828625794 and parameters: {'learning_rate': 0.05589773202159083, 'lambda_l1': 0.11090572877945773, 'lambda_l2': 0.5256637703102728, 'num_leaves': 10, 'feature_fraction': 0.35462900009984644, 'bagging_fraction': 0.5204938061209768, 'bagging_freq': 3, 'min_child_samples': 65, 'max_depth': 2, 'max_bin': 120, 'min_data_in_leaf': 67}. Best is trial 8 with value: 0.8473655999364726.\n",
      "[I 2024-10-31 15:42:45,739] Trial 12 finished with value: 0.8144868502612238 and parameters: {'learning_rate': 0.0584380592304802, 'lambda_l1': 0.35397284510561594, 'lambda_l2': 0.11043199262255746, 'num_leaves': 10, 'feature_fraction': 0.7175436670081548, 'bagging_fraction': 0.43871428314185207, 'bagging_freq': 3, 'min_child_samples': 100, 'max_depth': 1, 'max_bin': 114, 'min_data_in_leaf': 78}. Best is trial 8 with value: 0.8473655999364726.\n",
      "[I 2024-10-31 15:42:47,685] Trial 13 finished with value: 0.8383793366412138 and parameters: {'learning_rate': 0.035932869914807916, 'lambda_l1': 0.2209220770793134, 'lambda_l2': 0.2805094210329639, 'num_leaves': 15, 'feature_fraction': 0.4373564812614204, 'bagging_fraction': 0.6167129800853254, 'bagging_freq': 2, 'min_child_samples': 65, 'max_depth': 3, 'max_bin': 126, 'min_data_in_leaf': 57}. Best is trial 8 with value: 0.8473655999364726.\n",
      "[I 2024-10-31 15:42:49,347] Trial 14 finished with value: 0.8398417699502052 and parameters: {'learning_rate': 0.07683810841793164, 'lambda_l1': 0.8697279047851351, 'lambda_l2': 1.0193334078798542, 'num_leaves': 17, 'feature_fraction': 0.8500489274928182, 'bagging_fraction': 0.7140177301575984, 'bagging_freq': 2, 'min_child_samples': 29, 'max_depth': 2, 'max_bin': 116, 'min_data_in_leaf': 90}. Best is trial 8 with value: 0.8473655999364726.\n",
      "[I 2024-10-31 15:42:51,455] Trial 15 finished with value: 0.8463458570499873 and parameters: {'learning_rate': 0.0672647077243804, 'lambda_l1': 0.9320335519444257, 'lambda_l2': 1.1774806769898252, 'num_leaves': 17, 'feature_fraction': 0.8673901314442377, 'bagging_fraction': 0.7948570474938238, 'bagging_freq': 2, 'min_child_samples': 29, 'max_depth': 3, 'max_bin': 100, 'min_data_in_leaf': 113}. Best is trial 8 with value: 0.8473655999364726.\n",
      "[I 2024-10-31 15:42:53,700] Trial 16 finished with value: 0.8384395738173829 and parameters: {'learning_rate': 0.038773133083608864, 'lambda_l1': 1.5527519199172783, 'lambda_l2': 1.3548647922877886, 'num_leaves': 18, 'feature_fraction': 0.6866647863841021, 'bagging_fraction': 0.7964580972217913, 'bagging_freq': 3, 'min_child_samples': 27, 'max_depth': 3, 'max_bin': 100, 'min_data_in_leaf': 121}. Best is trial 8 with value: 0.8473655999364726.\n",
      "[I 2024-10-31 15:42:56,253] Trial 17 finished with value: 0.8556226560913139 and parameters: {'learning_rate': 0.06563441943830989, 'lambda_l1': 0.8108473139204599, 'lambda_l2': 0.654352336537576, 'num_leaves': 20, 'feature_fraction': 0.7912592426983397, 'bagging_fraction': 0.20735355067611028, 'bagging_freq': 2, 'min_child_samples': 56, 'max_depth': 5, 'max_bin': 150, 'min_data_in_leaf': 114}. Best is trial 17 with value: 0.8556226560913139.\n",
      "[I 2024-10-31 15:42:58,812] Trial 18 finished with value: 0.8485478616482983 and parameters: {'learning_rate': 0.02842238616445537, 'lambda_l1': 2.5141324934479012, 'lambda_l2': 0.5212673661961977, 'num_leaves': 20, 'feature_fraction': 0.7858145579077023, 'bagging_fraction': 0.20231743325080562, 'bagging_freq': 3, 'min_child_samples': 56, 'max_depth': 5, 'max_bin': 150, 'min_data_in_leaf': 150}. Best is trial 17 with value: 0.8556226560913139.\n",
      "[I 2024-10-31 15:43:01,818] Trial 19 finished with value: 0.8472965473500614 and parameters: {'learning_rate': 0.02804354391143334, 'lambda_l1': 2.9096040031427064, 'lambda_l2': 0.4515224465770779, 'num_leaves': 20, 'feature_fraction': 0.7985891783855075, 'bagging_fraction': 0.20789839328509374, 'bagging_freq': 2, 'min_child_samples': 58, 'max_depth': 5, 'max_bin': 148, 'min_data_in_leaf': 147}. Best is trial 17 with value: 0.8556226560913139.\n"
     ]
    }
   ],
   "source": [
    "sampler = TPESampler(n_startup_trials=10, seed=42)\n",
    "study = optuna.create_study(direction='maximize', sampler=sampler)\n",
    "study.optimize(objective, n_trials=20)"
   ]
  },
  {
   "cell_type": "markdown",
   "metadata": {},
   "source": [
    "Optimization for complex split"
   ]
  },
  {
   "cell_type": "code",
   "execution_count": 16,
   "metadata": {},
   "outputs": [
    {
     "name": "stderr",
     "output_type": "stream",
     "text": [
      "[I 2024-10-31 15:43:08,758] A new study created in memory with name: no-name-5a2e9d38-3023-47e1-a0f8-ab9f7abcc1f7\n",
      "[I 2024-10-31 15:43:09,312] Trial 0 finished with value: 0.8384515075802068 and parameters: {'learning_rate': 0.023688639503640783, 'lambda_l1': 7.969454818643936, 'lambda_l2': 2.9106359131330697, 'num_leaves': 16, 'feature_fraction': 0.22481491235394924, 'bagging_fraction': 0.2935967122017216, 'bagging_freq': 1, 'min_child_samples': 88, 'max_depth': 4, 'max_bin': 136, 'min_data_in_leaf': 22}. Best is trial 0 with value: 0.8384515075802068.\n",
      "[I 2024-10-31 15:43:09,605] Trial 1 finished with value: 0.8572641967319204 and parameters: {'learning_rate': 0.09330606024425668, 'lambda_l1': 4.622589001020832, 'lambda_l2': 0.26587543983272705, 'num_leaves': 12, 'feature_fraction': 0.24672360788274705, 'bagging_fraction': 0.38254534577572263, 'bagging_freq': 2, 'min_child_samples': 46, 'max_depth': 2, 'max_bin': 131, 'min_data_in_leaf': 38}. Best is trial 1 with value: 0.8572641967319204.\n",
      "[I 2024-10-31 15:43:10,189] Trial 2 finished with value: 0.8387812732226901 and parameters: {'learning_rate': 0.019594972058679168, 'lambda_l1': 0.5404103854647329, 'lambda_l2': 0.8168455894760165, 'num_leaves': 18, 'feature_fraction': 0.25973902572668783, 'bagging_fraction': 0.508540663048167, 'bagging_freq': 2, 'min_child_samples': 9, 'max_depth': 4, 'max_bin': 108, 'min_data_in_leaf': 28}. Best is trial 1 with value: 0.8572641967319204.\n",
      "[I 2024-10-31 15:43:10,586] Trial 3 finished with value: 0.8508732377431087 and parameters: {'learning_rate': 0.08889667907018929, 'lambda_l1': 8.536189862866832, 'lambda_l2': 4.138040112561017, 'num_leaves': 13, 'feature_fraction': 0.1781376912051071, 'bagging_fraction': 0.6105398159072942, 'bagging_freq': 2, 'min_child_samples': 16, 'max_depth': 3, 'max_bin': 101, 'min_data_in_leaf': 139}. Best is trial 1 with value: 0.8572641967319204.\n",
      "[I 2024-10-31 15:43:11,207] Trial 4 finished with value: 0.8715235435270052 and parameters: {'learning_rate': 0.01814596135349025, 'lambda_l1': 2.113705944064573, 'lambda_l2': 0.420167205437253, 'num_leaves': 15, 'feature_fraction': 0.5373682234746238, 'bagging_fraction': 0.31091267331531625, 'bagging_freq': 3, 'min_child_samples': 79, 'max_depth': 5, 'max_bin': 145, 'min_data_in_leaf': 98}. Best is trial 4 with value: 0.8715235435270052.\n",
      "[I 2024-10-31 15:43:11,572] Trial 5 finished with value: 0.8688931547050724 and parameters: {'learning_rate': 0.0835361075531176, 'lambda_l1': 0.15030900645056822, 'lambda_l2': 0.24658447214487378, 'num_leaves': 10, 'feature_fraction': 0.36026426461061145, 'bagging_fraction': 0.43320637381368926, 'bagging_freq': 1, 'min_child_samples': 84, 'max_depth': 2, 'max_bin': 114, 'min_data_in_leaf': 91}. Best is trial 4 with value: 0.8715235435270052.\n",
      "[I 2024-10-31 15:43:12,140] Trial 6 finished with value: 0.8725625864888665 and parameters: {'learning_rate': 0.013833249975219963, 'lambda_l1': 4.02155452669029, 'lambda_l2': 0.14096175149815865, 'num_leaves': 20, 'feature_fraction': 0.717795815437326, 'bagging_fraction': 0.31922940892050344, 'bagging_freq': 1, 'min_child_samples': 83, 'max_depth': 4, 'max_bin': 137, 'min_data_in_leaf': 121}. Best is trial 6 with value: 0.8725625864888665.\n",
      "[I 2024-10-31 15:43:12,900] Trial 7 finished with value: 0.8455361449771581 and parameters: {'learning_rate': 0.011858906685575274, 'lambda_l1': 0.5211124595788266, 'lambda_l2': 0.17050539260269293, 'num_leaves': 19, 'feature_fraction': 0.5986385014620463, 'bagging_fraction': 0.39853881491158955, 'bagging_freq': 1, 'min_child_samples': 34, 'max_depth': 2, 'max_bin': 137, 'min_data_in_leaf': 103}. Best is trial 6 with value: 0.8725625864888665.\n",
      "[I 2024-10-31 15:43:13,422] Trial 8 finished with value: 0.8852131926016081 and parameters: {'learning_rate': 0.07712811947156349, 'lambda_l1': 0.8798929749689022, 'lambda_l2': 0.17345566642360938, 'num_leaves': 17, 'feature_fraction': 0.708628038893518, 'bagging_fraction': 0.5367663185416978, 'bagging_freq': 3, 'min_child_samples': 52, 'max_depth': 3, 'max_bin': 121, 'min_data_in_leaf': 23}. Best is trial 8 with value: 0.8852131926016081.\n",
      "[I 2024-10-31 15:43:14,244] Trial 9 finished with value: 0.86749436321234 and parameters: {'learning_rate': 0.0128201004189169, 'lambda_l1': 0.11557352816269865, 'lambda_l2': 1.8742210985555698, 'num_leaves': 13, 'feature_fraction': 0.5068565529317622, 'bagging_fraction': 0.7445398843556559, 'bagging_freq': 1, 'min_child_samples': 44, 'max_depth': 4, 'max_bin': 111, 'min_data_in_leaf': 30}. Best is trial 8 with value: 0.8852131926016081.\n",
      "[I 2024-10-31 15:43:14,538] Trial 10 finished with value: 0.8672065246801438 and parameters: {'learning_rate': 0.046632924030566285, 'lambda_l1': 1.3112992007873714, 'lambda_l2': 8.691089486124978, 'num_leaves': 17, 'feature_fraction': 0.8828328849421558, 'bagging_fraction': 0.6136588346475399, 'bagging_freq': 3, 'min_child_samples': 64, 'max_depth': 1, 'max_bin': 121, 'min_data_in_leaf': 56}. Best is trial 8 with value: 0.8852131926016081.\n",
      "[I 2024-10-31 15:43:15,317] Trial 11 finished with value: 0.8764436132857185 and parameters: {'learning_rate': 0.04231005256286973, 'lambda_l1': 2.463390460079822, 'lambda_l2': 0.12041782803052058, 'num_leaves': 20, 'feature_fraction': 0.7673712420631215, 'bagging_fraction': 0.20746121676594884, 'bagging_freq': 3, 'min_child_samples': 65, 'max_depth': 3, 'max_bin': 124, 'min_data_in_leaf': 133}. Best is trial 8 with value: 0.8852131926016081.\n",
      "[I 2024-10-31 15:43:15,807] Trial 12 finished with value: 0.8771159812067951 and parameters: {'learning_rate': 0.046660795382774775, 'lambda_l1': 0.5688379606678078, 'lambda_l2': 0.1077980533067773, 'num_leaves': 20, 'feature_fraction': 0.7796274959963606, 'bagging_fraction': 0.21098691610202797, 'bagging_freq': 3, 'min_child_samples': 64, 'max_depth': 3, 'max_bin': 124, 'min_data_in_leaf': 65}. Best is trial 8 with value: 0.8852131926016081.\n",
      "[I 2024-10-31 15:43:16,247] Trial 13 finished with value: 0.8805185494951908 and parameters: {'learning_rate': 0.05832447745885103, 'lambda_l1': 0.42118206722764717, 'lambda_l2': 0.5860344220130842, 'num_leaves': 18, 'feature_fraction': 0.7090873844329774, 'bagging_fraction': 0.5477006755384248, 'bagging_freq': 3, 'min_child_samples': 65, 'max_depth': 3, 'max_bin': 120, 'min_data_in_leaf': 58}. Best is trial 8 with value: 0.8852131926016081.\n",
      "[I 2024-10-31 15:43:16,515] Trial 14 finished with value: 0.869653906303121 and parameters: {'learning_rate': 0.06614122789013444, 'lambda_l1': 0.26016143455351076, 'lambda_l2': 0.6856787888929166, 'num_leaves': 15, 'feature_fraction': 0.6476517714743953, 'bagging_fraction': 0.5701648923928978, 'bagging_freq': 3, 'min_child_samples': 99, 'max_depth': 1, 'max_bin': 117, 'min_data_in_leaf': 61}. Best is trial 8 with value: 0.8852131926016081.\n",
      "[I 2024-10-31 15:43:17,227] Trial 15 finished with value: 0.8896084367544158 and parameters: {'learning_rate': 0.060983051779160115, 'lambda_l1': 0.29009445856794325, 'lambda_l2': 0.576574041107732, 'num_leaves': 17, 'feature_fraction': 0.8673901314442377, 'bagging_fraction': 0.7375437724402116, 'bagging_freq': 3, 'min_child_samples': 29, 'max_depth': 5, 'max_bin': 130, 'min_data_in_leaf': 48}. Best is trial 15 with value: 0.8896084367544158.\n",
      "[I 2024-10-31 15:43:17,974] Trial 16 finished with value: 0.8813846261091249 and parameters: {'learning_rate': 0.031842467167178666, 'lambda_l1': 1.0351029070280395, 'lambda_l2': 1.2325285460618924, 'num_leaves': 16, 'feature_fraction': 0.8992790064411762, 'bagging_fraction': 0.7956057752531425, 'bagging_freq': 2, 'min_child_samples': 27, 'max_depth': 5, 'max_bin': 131, 'min_data_in_leaf': 44}. Best is trial 15 with value: 0.8896084367544158.\n",
      "[I 2024-10-31 15:43:18,808] Trial 17 finished with value: 0.8798012916045703 and parameters: {'learning_rate': 0.06563441943830989, 'lambda_l1': 0.24805638261549234, 'lambda_l2': 0.36416884497978935, 'num_leaves': 17, 'feature_fraction': 0.423257429344725, 'bagging_fraction': 0.6947793353131886, 'bagging_freq': 3, 'min_child_samples': 25, 'max_depth': 5, 'max_bin': 149, 'min_data_in_leaf': 74}. Best is trial 15 with value: 0.8896084367544158.\n",
      "[I 2024-10-31 15:43:19,195] Trial 18 finished with value: 0.8758407880776007 and parameters: {'learning_rate': 0.03405516150254423, 'lambda_l1': 0.28826704152251703, 'lambda_l2': 1.4234983300567192, 'num_leaves': 15, 'feature_fraction': 0.8233118925159123, 'bagging_fraction': 0.6732118325573909, 'bagging_freq': 2, 'min_child_samples': 38, 'max_depth': 2, 'max_bin': 132, 'min_data_in_leaf': 44}. Best is trial 15 with value: 0.8896084367544158.\n",
      "[I 2024-10-31 15:43:19,796] Trial 19 finished with value: 0.8879438825189278 and parameters: {'learning_rate': 0.0739638298515656, 'lambda_l1': 1.3490559001334508, 'lambda_l2': 0.2376970296927638, 'num_leaves': 18, 'feature_fraction': 0.6380209901455304, 'bagging_fraction': 0.6736323348837421, 'bagging_freq': 3, 'min_child_samples': 53, 'max_depth': 4, 'max_bin': 143, 'min_data_in_leaf': 81}. Best is trial 15 with value: 0.8896084367544158.\n",
      "[I 2024-10-31 15:43:19,821] A new study created in memory with name: no-name-cdcc5556-6a50-49f8-ae23-b441942ec9b5\n",
      "[I 2024-10-31 15:43:20,626] Trial 0 finished with value: 0.7893875423507949 and parameters: {'learning_rate': 0.023688639503640783, 'lambda_l1': 7.969454818643936, 'lambda_l2': 2.9106359131330697, 'num_leaves': 16, 'feature_fraction': 0.22481491235394924, 'bagging_fraction': 0.2935967122017216, 'bagging_freq': 1, 'min_child_samples': 88, 'max_depth': 4, 'max_bin': 136, 'min_data_in_leaf': 22}. Best is trial 0 with value: 0.7893875423507949.\n",
      "[I 2024-10-31 15:43:21,155] Trial 1 finished with value: 0.8249596352930003 and parameters: {'learning_rate': 0.09330606024425668, 'lambda_l1': 4.622589001020832, 'lambda_l2': 0.26587543983272705, 'num_leaves': 12, 'feature_fraction': 0.24672360788274705, 'bagging_fraction': 0.38254534577572263, 'bagging_freq': 2, 'min_child_samples': 46, 'max_depth': 2, 'max_bin': 131, 'min_data_in_leaf': 38}. Best is trial 1 with value: 0.8249596352930003.\n",
      "[I 2024-10-31 15:43:22,003] Trial 2 finished with value: 0.7853452129705677 and parameters: {'learning_rate': 0.019594972058679168, 'lambda_l1': 0.5404103854647329, 'lambda_l2': 0.8168455894760165, 'num_leaves': 18, 'feature_fraction': 0.25973902572668783, 'bagging_fraction': 0.508540663048167, 'bagging_freq': 2, 'min_child_samples': 9, 'max_depth': 4, 'max_bin': 108, 'min_data_in_leaf': 28}. Best is trial 1 with value: 0.8249596352930003.\n",
      "[I 2024-10-31 15:43:22,664] Trial 3 finished with value: 0.8116911107606581 and parameters: {'learning_rate': 0.08889667907018929, 'lambda_l1': 8.536189862866832, 'lambda_l2': 4.138040112561017, 'num_leaves': 13, 'feature_fraction': 0.1781376912051071, 'bagging_fraction': 0.6105398159072942, 'bagging_freq': 2, 'min_child_samples': 16, 'max_depth': 3, 'max_bin': 101, 'min_data_in_leaf': 139}. Best is trial 1 with value: 0.8249596352930003.\n",
      "[I 2024-10-31 15:43:23,679] Trial 4 finished with value: 0.8417897578550826 and parameters: {'learning_rate': 0.01814596135349025, 'lambda_l1': 2.113705944064573, 'lambda_l2': 0.420167205437253, 'num_leaves': 15, 'feature_fraction': 0.5373682234746238, 'bagging_fraction': 0.31091267331531625, 'bagging_freq': 3, 'min_child_samples': 79, 'max_depth': 5, 'max_bin': 145, 'min_data_in_leaf': 98}. Best is trial 4 with value: 0.8417897578550826.\n",
      "[I 2024-10-31 15:43:24,220] Trial 5 finished with value: 0.8422812089356111 and parameters: {'learning_rate': 0.0835361075531176, 'lambda_l1': 0.15030900645056822, 'lambda_l2': 0.24658447214487378, 'num_leaves': 10, 'feature_fraction': 0.36026426461061145, 'bagging_fraction': 0.43320637381368926, 'bagging_freq': 1, 'min_child_samples': 84, 'max_depth': 2, 'max_bin': 114, 'min_data_in_leaf': 91}. Best is trial 5 with value: 0.8422812089356111.\n",
      "[I 2024-10-31 15:43:25,100] Trial 6 finished with value: 0.8401970602814279 and parameters: {'learning_rate': 0.013833249975219963, 'lambda_l1': 4.02155452669029, 'lambda_l2': 0.14096175149815865, 'num_leaves': 20, 'feature_fraction': 0.717795815437326, 'bagging_fraction': 0.31922940892050344, 'bagging_freq': 1, 'min_child_samples': 83, 'max_depth': 4, 'max_bin': 137, 'min_data_in_leaf': 121}. Best is trial 5 with value: 0.8422812089356111.\n",
      "[I 2024-10-31 15:43:25,688] Trial 7 finished with value: 0.7852365073977198 and parameters: {'learning_rate': 0.011858906685575274, 'lambda_l1': 0.5211124595788266, 'lambda_l2': 0.17050539260269293, 'num_leaves': 19, 'feature_fraction': 0.5986385014620463, 'bagging_fraction': 0.39853881491158955, 'bagging_freq': 1, 'min_child_samples': 34, 'max_depth': 2, 'max_bin': 137, 'min_data_in_leaf': 103}. Best is trial 5 with value: 0.8422812089356111.\n",
      "[I 2024-10-31 15:43:26,401] Trial 8 finished with value: 0.8618238993710692 and parameters: {'learning_rate': 0.07712811947156349, 'lambda_l1': 0.8798929749689022, 'lambda_l2': 0.17345566642360938, 'num_leaves': 17, 'feature_fraction': 0.708628038893518, 'bagging_fraction': 0.5367663185416978, 'bagging_freq': 3, 'min_child_samples': 52, 'max_depth': 3, 'max_bin': 121, 'min_data_in_leaf': 23}. Best is trial 8 with value: 0.8618238993710692.\n",
      "[I 2024-10-31 15:43:27,167] Trial 9 finished with value: 0.8316713162566574 and parameters: {'learning_rate': 0.0128201004189169, 'lambda_l1': 0.11557352816269865, 'lambda_l2': 1.8742210985555698, 'num_leaves': 13, 'feature_fraction': 0.5068565529317622, 'bagging_fraction': 0.7445398843556559, 'bagging_freq': 1, 'min_child_samples': 44, 'max_depth': 4, 'max_bin': 111, 'min_data_in_leaf': 30}. Best is trial 8 with value: 0.8618238993710692.\n",
      "[I 2024-10-31 15:43:27,565] Trial 10 finished with value: 0.8148568303132818 and parameters: {'learning_rate': 0.046632924030566285, 'lambda_l1': 1.3112992007873714, 'lambda_l2': 8.691089486124978, 'num_leaves': 17, 'feature_fraction': 0.8828328849421558, 'bagging_fraction': 0.6136588346475399, 'bagging_freq': 3, 'min_child_samples': 64, 'max_depth': 1, 'max_bin': 121, 'min_data_in_leaf': 56}. Best is trial 8 with value: 0.8618238993710692.\n",
      "[I 2024-10-31 15:43:28,050] Trial 11 finished with value: 0.8053837378462956 and parameters: {'learning_rate': 0.05589773202159083, 'lambda_l1': 0.11090572877945773, 'lambda_l2': 0.5256637703102728, 'num_leaves': 10, 'feature_fraction': 0.35462900009984644, 'bagging_fraction': 0.5204938061209768, 'bagging_freq': 3, 'min_child_samples': 65, 'max_depth': 2, 'max_bin': 120, 'min_data_in_leaf': 67}. Best is trial 8 with value: 0.8618238993710692.\n",
      "[I 2024-10-31 15:43:28,417] Trial 12 finished with value: 0.820311704186615 and parameters: {'learning_rate': 0.0584380592304802, 'lambda_l1': 0.35397284510561594, 'lambda_l2': 0.11043199262255746, 'num_leaves': 10, 'feature_fraction': 0.7175436670081548, 'bagging_fraction': 0.43871428314185207, 'bagging_freq': 3, 'min_child_samples': 100, 'max_depth': 1, 'max_bin': 114, 'min_data_in_leaf': 78}. Best is trial 8 with value: 0.8618238993710692.\n",
      "[I 2024-10-31 15:43:29,093] Trial 13 finished with value: 0.8424299065420561 and parameters: {'learning_rate': 0.035932869914807916, 'lambda_l1': 0.2209220770793134, 'lambda_l2': 0.2805094210329639, 'num_leaves': 15, 'feature_fraction': 0.4373564812614204, 'bagging_fraction': 0.6167129800853254, 'bagging_freq': 2, 'min_child_samples': 65, 'max_depth': 3, 'max_bin': 126, 'min_data_in_leaf': 57}. Best is trial 8 with value: 0.8618238993710692.\n",
      "[I 2024-10-31 15:43:29,801] Trial 14 finished with value: 0.8396848567671936 and parameters: {'learning_rate': 0.03548355863641129, 'lambda_l1': 0.1983858634441641, 'lambda_l2': 0.41176889291680574, 'num_leaves': 15, 'feature_fraction': 0.7065969170273629, 'bagging_fraction': 0.7385695116842912, 'bagging_freq': 2, 'min_child_samples': 62, 'max_depth': 3, 'max_bin': 127, 'min_data_in_leaf': 52}. Best is trial 8 with value: 0.8618238993710692.\n",
      "[I 2024-10-31 15:43:30,487] Trial 15 finished with value: 0.8418314362976443 and parameters: {'learning_rate': 0.035395480462847184, 'lambda_l1': 0.9320335519444257, 'lambda_l2': 0.7859747283144707, 'num_leaves': 17, 'feature_fraction': 0.8673901314442377, 'bagging_fraction': 0.6331672883364219, 'bagging_freq': 2, 'min_child_samples': 29, 'max_depth': 3, 'max_bin': 122, 'min_data_in_leaf': 47}. Best is trial 8 with value: 0.8618238993710692.\n",
      "[I 2024-10-31 15:43:31,441] Trial 16 finished with value: 0.8444207000708907 and parameters: {'learning_rate': 0.026928053616822635, 'lambda_l1': 0.27496587388659127, 'lambda_l2': 0.2569288923075877, 'num_leaves': 16, 'feature_fraction': 0.41475696877043894, 'bagging_fraction': 0.6778872133652629, 'bagging_freq': 3, 'min_child_samples': 56, 'max_depth': 5, 'max_bin': 146, 'min_data_in_leaf': 68}. Best is trial 8 with value: 0.8618238993710692.\n",
      "[I 2024-10-31 15:43:32,337] Trial 17 finished with value: 0.7934160156046272 and parameters: {'learning_rate': 0.02742574382853258, 'lambda_l1': 0.8107940654832833, 'lambda_l2': 1.2140761136129716, 'num_leaves': 18, 'feature_fraction': 0.10991871834547318, 'bagging_fraction': 0.20735355067611028, 'bagging_freq': 3, 'min_child_samples': 33, 'max_depth': 5, 'max_bin': 150, 'min_data_in_leaf': 114}. Best is trial 8 with value: 0.8618238993710692.\n",
      "[I 2024-10-31 15:43:33,307] Trial 18 finished with value: 0.8728201386355344 and parameters: {'learning_rate': 0.061899989014911984, 'lambda_l1': 0.3295227082942043, 'lambda_l2': 0.18838906649496998, 'num_leaves': 16, 'feature_fraction': 0.6209686930585666, 'bagging_fraction': 0.6729762604683294, 'bagging_freq': 3, 'min_child_samples': 52, 'max_depth': 5, 'max_bin': 144, 'min_data_in_leaf': 78}. Best is trial 18 with value: 0.8728201386355344.\n",
      "[I 2024-10-31 15:43:34,137] Trial 19 finished with value: 0.8711575784135729 and parameters: {'learning_rate': 0.0739638298515656, 'lambda_l1': 2.2141466444275144, 'lambda_l2': 0.10570129379131174, 'num_leaves': 20, 'feature_fraction': 0.6249070340579177, 'bagging_fraction': 0.7874367911983469, 'bagging_freq': 3, 'min_child_samples': 48, 'max_depth': 4, 'max_bin': 132, 'min_data_in_leaf': 147}. Best is trial 18 with value: 0.8728201386355344.\n",
      "[I 2024-10-31 15:43:34,167] A new study created in memory with name: no-name-54f09d59-67e3-4a39-8a33-b741dadec377\n",
      "[I 2024-10-31 15:43:35,084] Trial 0 finished with value: 0.8308114047015567 and parameters: {'learning_rate': 0.023688639503640783, 'lambda_l1': 7.969454818643936, 'lambda_l2': 2.9106359131330697, 'num_leaves': 16, 'feature_fraction': 0.22481491235394924, 'bagging_fraction': 0.2935967122017216, 'bagging_freq': 1, 'min_child_samples': 88, 'max_depth': 4, 'max_bin': 136, 'min_data_in_leaf': 22}. Best is trial 0 with value: 0.8308114047015567.\n",
      "[I 2024-10-31 15:43:35,739] Trial 1 finished with value: 0.8539889721719652 and parameters: {'learning_rate': 0.09330606024425668, 'lambda_l1': 4.622589001020832, 'lambda_l2': 0.26587543983272705, 'num_leaves': 12, 'feature_fraction': 0.24672360788274705, 'bagging_fraction': 0.38254534577572263, 'bagging_freq': 2, 'min_child_samples': 46, 'max_depth': 2, 'max_bin': 131, 'min_data_in_leaf': 38}. Best is trial 1 with value: 0.8539889721719652.\n",
      "[I 2024-10-31 15:43:36,749] Trial 2 finished with value: 0.8284737670229505 and parameters: {'learning_rate': 0.019594972058679168, 'lambda_l1': 0.5404103854647329, 'lambda_l2': 0.8168455894760165, 'num_leaves': 18, 'feature_fraction': 0.25973902572668783, 'bagging_fraction': 0.508540663048167, 'bagging_freq': 2, 'min_child_samples': 9, 'max_depth': 4, 'max_bin': 108, 'min_data_in_leaf': 28}. Best is trial 1 with value: 0.8539889721719652.\n",
      "[I 2024-10-31 15:43:37,561] Trial 3 finished with value: 0.8463886063072228 and parameters: {'learning_rate': 0.08889667907018929, 'lambda_l1': 8.536189862866832, 'lambda_l2': 4.138040112561017, 'num_leaves': 13, 'feature_fraction': 0.1781376912051071, 'bagging_fraction': 0.6105398159072942, 'bagging_freq': 2, 'min_child_samples': 16, 'max_depth': 3, 'max_bin': 101, 'min_data_in_leaf': 139}. Best is trial 1 with value: 0.8539889721719652.\n",
      "[I 2024-10-31 15:43:38,664] Trial 4 finished with value: 0.8591943920653691 and parameters: {'learning_rate': 0.01814596135349025, 'lambda_l1': 2.113705944064573, 'lambda_l2': 0.420167205437253, 'num_leaves': 15, 'feature_fraction': 0.5373682234746238, 'bagging_fraction': 0.31091267331531625, 'bagging_freq': 3, 'min_child_samples': 79, 'max_depth': 5, 'max_bin': 145, 'min_data_in_leaf': 98}. Best is trial 4 with value: 0.8591943920653691.\n",
      "[I 2024-10-31 15:43:39,267] Trial 5 finished with value: 0.8603371136122228 and parameters: {'learning_rate': 0.0835361075531176, 'lambda_l1': 0.15030900645056822, 'lambda_l2': 0.24658447214487378, 'num_leaves': 10, 'feature_fraction': 0.36026426461061145, 'bagging_fraction': 0.43320637381368926, 'bagging_freq': 1, 'min_child_samples': 84, 'max_depth': 2, 'max_bin': 114, 'min_data_in_leaf': 91}. Best is trial 5 with value: 0.8603371136122228.\n",
      "[I 2024-10-31 15:43:40,188] Trial 6 finished with value: 0.8592337585536876 and parameters: {'learning_rate': 0.013833249975219963, 'lambda_l1': 4.02155452669029, 'lambda_l2': 0.14096175149815865, 'num_leaves': 20, 'feature_fraction': 0.717795815437326, 'bagging_fraction': 0.31922940892050344, 'bagging_freq': 1, 'min_child_samples': 83, 'max_depth': 4, 'max_bin': 137, 'min_data_in_leaf': 121}. Best is trial 5 with value: 0.8603371136122228.\n",
      "[I 2024-10-31 15:43:40,870] Trial 7 finished with value: 0.8278787365926928 and parameters: {'learning_rate': 0.011858906685575274, 'lambda_l1': 0.5211124595788266, 'lambda_l2': 0.17050539260269293, 'num_leaves': 19, 'feature_fraction': 0.5986385014620463, 'bagging_fraction': 0.39853881491158955, 'bagging_freq': 1, 'min_child_samples': 34, 'max_depth': 2, 'max_bin': 137, 'min_data_in_leaf': 103}. Best is trial 5 with value: 0.8603371136122228.\n",
      "[I 2024-10-31 15:43:41,619] Trial 8 finished with value: 0.8643794168902954 and parameters: {'learning_rate': 0.07712811947156349, 'lambda_l1': 0.8798929749689022, 'lambda_l2': 0.17345566642360938, 'num_leaves': 17, 'feature_fraction': 0.708628038893518, 'bagging_fraction': 0.5367663185416978, 'bagging_freq': 3, 'min_child_samples': 52, 'max_depth': 3, 'max_bin': 121, 'min_data_in_leaf': 23}. Best is trial 8 with value: 0.8643794168902954.\n",
      "[I 2024-10-31 15:43:42,546] Trial 9 finished with value: 0.8553784439987332 and parameters: {'learning_rate': 0.0128201004189169, 'lambda_l1': 0.11557352816269865, 'lambda_l2': 1.8742210985555698, 'num_leaves': 13, 'feature_fraction': 0.5068565529317622, 'bagging_fraction': 0.7445398843556559, 'bagging_freq': 1, 'min_child_samples': 44, 'max_depth': 4, 'max_bin': 111, 'min_data_in_leaf': 30}. Best is trial 8 with value: 0.8643794168902954.\n",
      "[I 2024-10-31 15:43:43,055] Trial 10 finished with value: 0.8426644434468458 and parameters: {'learning_rate': 0.046632924030566285, 'lambda_l1': 1.3112992007873714, 'lambda_l2': 8.691089486124978, 'num_leaves': 17, 'feature_fraction': 0.8828328849421558, 'bagging_fraction': 0.6136588346475399, 'bagging_freq': 3, 'min_child_samples': 64, 'max_depth': 1, 'max_bin': 121, 'min_data_in_leaf': 56}. Best is trial 8 with value: 0.8643794168902954.\n",
      "[I 2024-10-31 15:43:43,668] Trial 11 finished with value: 0.8415256890539475 and parameters: {'learning_rate': 0.05589773202159083, 'lambda_l1': 0.11090572877945773, 'lambda_l2': 0.5256637703102728, 'num_leaves': 10, 'feature_fraction': 0.35462900009984644, 'bagging_fraction': 0.5204938061209768, 'bagging_freq': 3, 'min_child_samples': 65, 'max_depth': 2, 'max_bin': 120, 'min_data_in_leaf': 67}. Best is trial 8 with value: 0.8643794168902954.\n",
      "[I 2024-10-31 15:43:44,113] Trial 12 finished with value: 0.8464244595113215 and parameters: {'learning_rate': 0.0584380592304802, 'lambda_l1': 0.35397284510561594, 'lambda_l2': 0.11043199262255746, 'num_leaves': 10, 'feature_fraction': 0.7175436670081548, 'bagging_fraction': 0.43871428314185207, 'bagging_freq': 3, 'min_child_samples': 100, 'max_depth': 1, 'max_bin': 114, 'min_data_in_leaf': 78}. Best is trial 8 with value: 0.8643794168902954.\n",
      "[I 2024-10-31 15:43:45,164] Trial 13 finished with value: 0.8585418232578117 and parameters: {'learning_rate': 0.035932869914807916, 'lambda_l1': 0.2209220770793134, 'lambda_l2': 0.2805094210329639, 'num_leaves': 15, 'feature_fraction': 0.4373564812614204, 'bagging_fraction': 0.6167129800853254, 'bagging_freq': 2, 'min_child_samples': 65, 'max_depth': 3, 'max_bin': 126, 'min_data_in_leaf': 57}. Best is trial 8 with value: 0.8643794168902954.\n",
      "[I 2024-10-31 15:43:46,051] Trial 14 finished with value: 0.8614138564773262 and parameters: {'learning_rate': 0.07683810841793164, 'lambda_l1': 0.8697279047851351, 'lambda_l2': 1.0193334078798542, 'num_leaves': 17, 'feature_fraction': 0.8500489274928182, 'bagging_fraction': 0.7140177301575984, 'bagging_freq': 2, 'min_child_samples': 29, 'max_depth': 2, 'max_bin': 116, 'min_data_in_leaf': 90}. Best is trial 8 with value: 0.8643794168902954.\n",
      "[I 2024-10-31 15:43:47,152] Trial 15 finished with value: 0.8637883692853403 and parameters: {'learning_rate': 0.0672647077243804, 'lambda_l1': 0.9320335519444257, 'lambda_l2': 1.1774806769898252, 'num_leaves': 17, 'feature_fraction': 0.8673901314442377, 'bagging_fraction': 0.7948570474938238, 'bagging_freq': 2, 'min_child_samples': 29, 'max_depth': 3, 'max_bin': 100, 'min_data_in_leaf': 113}. Best is trial 8 with value: 0.8643794168902954.\n",
      "[I 2024-10-31 15:43:48,471] Trial 16 finished with value: 0.8605475108789327 and parameters: {'learning_rate': 0.038773133083608864, 'lambda_l1': 1.5527519199172783, 'lambda_l2': 1.3548647922877886, 'num_leaves': 18, 'feature_fraction': 0.6866647863841021, 'bagging_fraction': 0.7964580972217913, 'bagging_freq': 3, 'min_child_samples': 27, 'max_depth': 3, 'max_bin': 100, 'min_data_in_leaf': 121}. Best is trial 8 with value: 0.8643794168902954.\n",
      "[I 2024-10-31 15:43:49,857] Trial 17 finished with value: 0.8641638664934674 and parameters: {'learning_rate': 0.06563441943830989, 'lambda_l1': 0.8108473139204599, 'lambda_l2': 0.654352336537576, 'num_leaves': 20, 'feature_fraction': 0.7912592426983397, 'bagging_fraction': 0.20735355067611028, 'bagging_freq': 2, 'min_child_samples': 56, 'max_depth': 5, 'max_bin': 150, 'min_data_in_leaf': 114}. Best is trial 8 with value: 0.8643794168902954.\n",
      "[I 2024-10-31 15:43:51,506] Trial 18 finished with value: 0.86379560796377 and parameters: {'learning_rate': 0.02842238616445537, 'lambda_l1': 2.5141324934479012, 'lambda_l2': 0.5212673661961977, 'num_leaves': 20, 'feature_fraction': 0.7858145579077023, 'bagging_fraction': 0.20231743325080562, 'bagging_freq': 3, 'min_child_samples': 56, 'max_depth': 5, 'max_bin': 150, 'min_data_in_leaf': 150}. Best is trial 8 with value: 0.8643794168902954.\n",
      "[I 2024-10-31 15:43:52,670] Trial 19 finished with value: 0.8627636269919677 and parameters: {'learning_rate': 0.047614975855476534, 'lambda_l1': 0.5194647799703176, 'lambda_l2': 0.41064867581823966, 'num_leaves': 19, 'feature_fraction': 0.6380209901455304, 'bagging_fraction': 0.21487477086982548, 'bagging_freq': 2, 'min_child_samples': 53, 'max_depth': 5, 'max_bin': 130, 'min_data_in_leaf': 46}. Best is trial 8 with value: 0.8643794168902954.\n",
      "[I 2024-10-31 15:43:52,727] A new study created in memory with name: no-name-f62fb056-44c2-4681-941f-4a4431ff502a\n",
      "[I 2024-10-31 15:43:54,398] Trial 0 finished with value: 0.8219335406351236 and parameters: {'learning_rate': 0.023688639503640783, 'lambda_l1': 7.969454818643936, 'lambda_l2': 2.9106359131330697, 'num_leaves': 16, 'feature_fraction': 0.22481491235394924, 'bagging_fraction': 0.2935967122017216, 'bagging_freq': 1, 'min_child_samples': 88, 'max_depth': 4, 'max_bin': 136, 'min_data_in_leaf': 22}. Best is trial 0 with value: 0.8219335406351236.\n",
      "[I 2024-10-31 15:43:55,222] Trial 1 finished with value: 0.8312305603013974 and parameters: {'learning_rate': 0.09330606024425668, 'lambda_l1': 4.622589001020832, 'lambda_l2': 0.26587543983272705, 'num_leaves': 12, 'feature_fraction': 0.24672360788274705, 'bagging_fraction': 0.38254534577572263, 'bagging_freq': 2, 'min_child_samples': 46, 'max_depth': 2, 'max_bin': 131, 'min_data_in_leaf': 38}. Best is trial 1 with value: 0.8312305603013974.\n",
      "[I 2024-10-31 15:43:56,581] Trial 2 finished with value: 0.8215795448402616 and parameters: {'learning_rate': 0.019594972058679168, 'lambda_l1': 0.5404103854647329, 'lambda_l2': 0.8168455894760165, 'num_leaves': 18, 'feature_fraction': 0.25973902572668783, 'bagging_fraction': 0.508540663048167, 'bagging_freq': 2, 'min_child_samples': 9, 'max_depth': 4, 'max_bin': 108, 'min_data_in_leaf': 28}. Best is trial 1 with value: 0.8312305603013974.\n",
      "[I 2024-10-31 15:43:57,571] Trial 3 finished with value: 0.8304474877878576 and parameters: {'learning_rate': 0.08889667907018929, 'lambda_l1': 8.536189862866832, 'lambda_l2': 4.138040112561017, 'num_leaves': 13, 'feature_fraction': 0.1781376912051071, 'bagging_fraction': 0.6105398159072942, 'bagging_freq': 2, 'min_child_samples': 16, 'max_depth': 3, 'max_bin': 101, 'min_data_in_leaf': 139}. Best is trial 1 with value: 0.8312305603013974.\n",
      "[I 2024-10-31 15:43:58,828] Trial 4 finished with value: 0.8368756299997855 and parameters: {'learning_rate': 0.01814596135349025, 'lambda_l1': 2.113705944064573, 'lambda_l2': 0.420167205437253, 'num_leaves': 15, 'feature_fraction': 0.5373682234746238, 'bagging_fraction': 0.31091267331531625, 'bagging_freq': 3, 'min_child_samples': 79, 'max_depth': 5, 'max_bin': 145, 'min_data_in_leaf': 98}. Best is trial 4 with value: 0.8368756299997855.\n",
      "[I 2024-10-31 15:43:59,582] Trial 5 finished with value: 0.8350986635475556 and parameters: {'learning_rate': 0.0835361075531176, 'lambda_l1': 0.15030900645056822, 'lambda_l2': 0.24658447214487378, 'num_leaves': 10, 'feature_fraction': 0.36026426461061145, 'bagging_fraction': 0.43320637381368926, 'bagging_freq': 1, 'min_child_samples': 84, 'max_depth': 2, 'max_bin': 114, 'min_data_in_leaf': 91}. Best is trial 4 with value: 0.8368756299997855.\n",
      "[I 2024-10-31 15:44:00,705] Trial 6 finished with value: 0.8366947076988606 and parameters: {'learning_rate': 0.013833249975219963, 'lambda_l1': 4.02155452669029, 'lambda_l2': 0.14096175149815865, 'num_leaves': 20, 'feature_fraction': 0.717795815437326, 'bagging_fraction': 0.31922940892050344, 'bagging_freq': 1, 'min_child_samples': 83, 'max_depth': 4, 'max_bin': 137, 'min_data_in_leaf': 121}. Best is trial 4 with value: 0.8368756299997855.\n",
      "[I 2024-10-31 15:44:01,565] Trial 7 finished with value: 0.8171046619130102 and parameters: {'learning_rate': 0.011858906685575274, 'lambda_l1': 0.5211124595788266, 'lambda_l2': 0.17050539260269293, 'num_leaves': 19, 'feature_fraction': 0.5986385014620463, 'bagging_fraction': 0.39853881491158955, 'bagging_freq': 1, 'min_child_samples': 34, 'max_depth': 2, 'max_bin': 137, 'min_data_in_leaf': 103}. Best is trial 4 with value: 0.8368756299997855.\n",
      "[I 2024-10-31 15:44:02,678] Trial 8 finished with value: 0.8365513368752969 and parameters: {'learning_rate': 0.07712811947156349, 'lambda_l1': 0.8798929749689022, 'lambda_l2': 0.17345566642360938, 'num_leaves': 17, 'feature_fraction': 0.708628038893518, 'bagging_fraction': 0.5367663185416978, 'bagging_freq': 3, 'min_child_samples': 52, 'max_depth': 3, 'max_bin': 121, 'min_data_in_leaf': 23}. Best is trial 4 with value: 0.8368756299997855.\n",
      "[I 2024-10-31 15:44:04,018] Trial 9 finished with value: 0.8348505384032529 and parameters: {'learning_rate': 0.0128201004189169, 'lambda_l1': 0.11557352816269865, 'lambda_l2': 1.8742210985555698, 'num_leaves': 13, 'feature_fraction': 0.5068565529317622, 'bagging_fraction': 0.7445398843556559, 'bagging_freq': 1, 'min_child_samples': 44, 'max_depth': 4, 'max_bin': 111, 'min_data_in_leaf': 30}. Best is trial 4 with value: 0.8368756299997855.\n",
      "[I 2024-10-31 15:44:05,401] Trial 10 finished with value: 0.8367364502872389 and parameters: {'learning_rate': 0.03263347760282582, 'lambda_l1': 2.4197610035022694, 'lambda_l2': 8.691089486124978, 'num_leaves': 15, 'feature_fraction': 0.8641361436048647, 'bagging_fraction': 0.2232351199767098, 'bagging_freq': 3, 'min_child_samples': 69, 'max_depth': 5, 'max_bin': 150, 'min_data_in_leaf': 56}. Best is trial 4 with value: 0.8368756299997855.\n",
      "[I 2024-10-31 15:44:06,632] Trial 11 finished with value: 0.8357593296475466 and parameters: {'learning_rate': 0.04144331368147023, 'lambda_l1': 2.0938484991683626, 'lambda_l2': 0.7236773447484212, 'num_leaves': 15, 'feature_fraction': 0.8590183665204982, 'bagging_fraction': 0.20722400229445698, 'bagging_freq': 3, 'min_child_samples': 69, 'max_depth': 5, 'max_bin': 149, 'min_data_in_leaf': 62}. Best is trial 4 with value: 0.8368756299997855.\n",
      "[I 2024-10-31 15:44:07,802] Trial 12 finished with value: 0.8363056432581546 and parameters: {'learning_rate': 0.04065124616416188, 'lambda_l1': 1.9734774740471657, 'lambda_l2': 9.297378553712798, 'num_leaves': 15, 'feature_fraction': 0.8847044648829598, 'bagging_fraction': 0.20652937795853749, 'bagging_freq': 3, 'min_child_samples': 68, 'max_depth': 5, 'max_bin': 150, 'min_data_in_leaf': 58}. Best is trial 4 with value: 0.8368756299997855.\n",
      "[I 2024-10-31 15:44:08,991] Trial 13 finished with value: 0.8362416833450533 and parameters: {'learning_rate': 0.028962511617227408, 'lambda_l1': 1.9493799902453828, 'lambda_l2': 0.4999731424167625, 'num_leaves': 14, 'feature_fraction': 0.42177839512450027, 'bagging_fraction': 0.28328770253155255, 'bagging_freq': 3, 'min_child_samples': 100, 'max_depth': 5, 'max_bin': 145, 'min_data_in_leaf': 70}. Best is trial 4 with value: 0.8368756299997855.\n",
      "[I 2024-10-31 15:44:09,573] Trial 14 finished with value: 0.818808630892305 and parameters: {'learning_rate': 0.018209620471588805, 'lambda_l1': 1.049441551662694, 'lambda_l2': 7.8021043304015665, 'num_leaves': 11, 'feature_fraction': 0.6841401006754801, 'bagging_fraction': 0.3143183395914102, 'bagging_freq': 3, 'min_child_samples': 67, 'max_depth': 1, 'max_bin': 142, 'min_data_in_leaf': 106}. Best is trial 4 with value: 0.8368756299997855.\n",
      "[I 2024-10-31 15:44:11,087] Trial 15 finished with value: 0.836637357645761 and parameters: {'learning_rate': 0.04416824390934669, 'lambda_l1': 3.5067541002277354, 'lambda_l2': 1.7864705023163856, 'num_leaves': 17, 'feature_fraction': 0.5615593391117423, 'bagging_fraction': 0.20031485331479226, 'bagging_freq': 3, 'min_child_samples': 62, 'max_depth': 5, 'max_bin': 125, 'min_data_in_leaf': 78}. Best is trial 4 with value: 0.8368756299997855.\n",
      "[I 2024-10-31 15:44:12,786] Trial 16 finished with value: 0.8370469048795686 and parameters: {'learning_rate': 0.029875353807916276, 'lambda_l1': 1.198244813411217, 'lambda_l2': 0.44486073180955193, 'num_leaves': 16, 'feature_fraction': 0.797746497199089, 'bagging_fraction': 0.6027421804103312, 'bagging_freq': 2, 'min_child_samples': 97, 'max_depth': 5, 'max_bin': 144, 'min_data_in_leaf': 46}. Best is trial 16 with value: 0.8370469048795686.\n",
      "[I 2024-10-31 15:44:14,252] Trial 17 finished with value: 0.8362202843148967 and parameters: {'learning_rate': 0.06069254713874796, 'lambda_l1': 0.23675898607893797, 'lambda_l2': 0.3738670307976093, 'num_leaves': 17, 'feature_fraction': 0.41141396067578145, 'bagging_fraction': 0.6676569213870072, 'bagging_freq': 2, 'min_child_samples': 100, 'max_depth': 4, 'max_bin': 130, 'min_data_in_leaf': 46}. Best is trial 16 with value: 0.8370469048795686.\n",
      "[I 2024-10-31 15:44:15,409] Trial 18 finished with value: 0.8357877662526145 and parameters: {'learning_rate': 0.01690868357466602, 'lambda_l1': 0.97068289087299, 'lambda_l2': 1.1303614913752928, 'num_leaves': 14, 'feature_fraction': 0.7834164762652128, 'bagging_fraction': 0.5903415616777302, 'bagging_freq': 2, 'min_child_samples': 91, 'max_depth': 3, 'max_bin': 144, 'min_data_in_leaf': 150}. Best is trial 16 with value: 0.8370469048795686.\n",
      "[I 2024-10-31 15:44:16,923] Trial 19 finished with value: 0.8362721472627098 and parameters: {'learning_rate': 0.010014983643073861, 'lambda_l1': 0.43034158746476575, 'lambda_l2': 0.41064867581823966, 'num_leaves': 16, 'feature_fraction': 0.6201109683954541, 'bagging_fraction': 0.7778901155647048, 'bagging_freq': 2, 'min_child_samples': 79, 'max_depth': 5, 'max_bin': 132, 'min_data_in_leaf': 89}. Best is trial 16 with value: 0.8370469048795686.\n",
      "[I 2024-10-31 15:44:16,964] A new study created in memory with name: no-name-d960d2f3-706b-4169-a3a2-bab5dedaaba7\n",
      "[I 2024-10-31 15:44:18,324] Trial 0 finished with value: 0.8290994594119456 and parameters: {'learning_rate': 0.023688639503640783, 'lambda_l1': 7.969454818643936, 'lambda_l2': 2.9106359131330697, 'num_leaves': 16, 'feature_fraction': 0.22481491235394924, 'bagging_fraction': 0.2935967122017216, 'bagging_freq': 1, 'min_child_samples': 88, 'max_depth': 4, 'max_bin': 136, 'min_data_in_leaf': 22}. Best is trial 0 with value: 0.8290994594119456.\n",
      "[I 2024-10-31 15:44:19,110] Trial 1 finished with value: 0.8405966980349658 and parameters: {'learning_rate': 0.09330606024425668, 'lambda_l1': 4.622589001020832, 'lambda_l2': 0.26587543983272705, 'num_leaves': 12, 'feature_fraction': 0.24672360788274705, 'bagging_fraction': 0.38254534577572263, 'bagging_freq': 2, 'min_child_samples': 46, 'max_depth': 2, 'max_bin': 131, 'min_data_in_leaf': 38}. Best is trial 1 with value: 0.8405966980349658.\n",
      "[I 2024-10-31 15:44:20,384] Trial 2 finished with value: 0.8283171113568434 and parameters: {'learning_rate': 0.019594972058679168, 'lambda_l1': 0.5404103854647329, 'lambda_l2': 0.8168455894760165, 'num_leaves': 18, 'feature_fraction': 0.25973902572668783, 'bagging_fraction': 0.508540663048167, 'bagging_freq': 2, 'min_child_samples': 9, 'max_depth': 4, 'max_bin': 108, 'min_data_in_leaf': 28}. Best is trial 1 with value: 0.8405966980349658.\n",
      "[I 2024-10-31 15:44:21,414] Trial 3 finished with value: 0.8373984640787243 and parameters: {'learning_rate': 0.08889667907018929, 'lambda_l1': 8.536189862866832, 'lambda_l2': 4.138040112561017, 'num_leaves': 13, 'feature_fraction': 0.1781376912051071, 'bagging_fraction': 0.6105398159072942, 'bagging_freq': 2, 'min_child_samples': 16, 'max_depth': 3, 'max_bin': 101, 'min_data_in_leaf': 139}. Best is trial 1 with value: 0.8405966980349658.\n",
      "[I 2024-10-31 15:44:22,878] Trial 4 finished with value: 0.8462508150402086 and parameters: {'learning_rate': 0.01814596135349025, 'lambda_l1': 2.113705944064573, 'lambda_l2': 0.420167205437253, 'num_leaves': 15, 'feature_fraction': 0.5373682234746238, 'bagging_fraction': 0.31091267331531625, 'bagging_freq': 3, 'min_child_samples': 79, 'max_depth': 5, 'max_bin': 145, 'min_data_in_leaf': 98}. Best is trial 4 with value: 0.8462508150402086.\n",
      "[I 2024-10-31 15:44:23,757] Trial 5 finished with value: 0.8446230049532196 and parameters: {'learning_rate': 0.0835361075531176, 'lambda_l1': 0.15030900645056822, 'lambda_l2': 0.24658447214487378, 'num_leaves': 10, 'feature_fraction': 0.36026426461061145, 'bagging_fraction': 0.43320637381368926, 'bagging_freq': 1, 'min_child_samples': 84, 'max_depth': 2, 'max_bin': 114, 'min_data_in_leaf': 91}. Best is trial 4 with value: 0.8462508150402086.\n",
      "[I 2024-10-31 15:44:25,068] Trial 6 finished with value: 0.846681674531365 and parameters: {'learning_rate': 0.013833249975219963, 'lambda_l1': 4.02155452669029, 'lambda_l2': 0.14096175149815865, 'num_leaves': 20, 'feature_fraction': 0.717795815437326, 'bagging_fraction': 0.31922940892050344, 'bagging_freq': 1, 'min_child_samples': 83, 'max_depth': 4, 'max_bin': 137, 'min_data_in_leaf': 121}. Best is trial 6 with value: 0.846681674531365.\n",
      "[I 2024-10-31 15:44:25,958] Trial 7 finished with value: 0.8226025185663546 and parameters: {'learning_rate': 0.011858906685575274, 'lambda_l1': 0.5211124595788266, 'lambda_l2': 0.17050539260269293, 'num_leaves': 19, 'feature_fraction': 0.5986385014620463, 'bagging_fraction': 0.39853881491158955, 'bagging_freq': 1, 'min_child_samples': 34, 'max_depth': 2, 'max_bin': 137, 'min_data_in_leaf': 103}. Best is trial 6 with value: 0.846681674531365.\n",
      "[I 2024-10-31 15:44:26,996] Trial 8 finished with value: 0.8468116996186824 and parameters: {'learning_rate': 0.07712811947156349, 'lambda_l1': 0.8798929749689022, 'lambda_l2': 0.17345566642360938, 'num_leaves': 17, 'feature_fraction': 0.708628038893518, 'bagging_fraction': 0.5367663185416978, 'bagging_freq': 3, 'min_child_samples': 52, 'max_depth': 3, 'max_bin': 121, 'min_data_in_leaf': 23}. Best is trial 8 with value: 0.8468116996186824.\n",
      "[I 2024-10-31 15:44:28,258] Trial 9 finished with value: 0.8443251782680675 and parameters: {'learning_rate': 0.0128201004189169, 'lambda_l1': 0.11557352816269865, 'lambda_l2': 1.8742210985555698, 'num_leaves': 13, 'feature_fraction': 0.5068565529317622, 'bagging_fraction': 0.7445398843556559, 'bagging_freq': 1, 'min_child_samples': 44, 'max_depth': 4, 'max_bin': 111, 'min_data_in_leaf': 30}. Best is trial 8 with value: 0.8468116996186824.\n",
      "[I 2024-10-31 15:44:29,077] Trial 10 finished with value: 0.8356882801664355 and parameters: {'learning_rate': 0.046632924030566285, 'lambda_l1': 1.3112992007873714, 'lambda_l2': 8.691089486124978, 'num_leaves': 17, 'feature_fraction': 0.8828328849421558, 'bagging_fraction': 0.6136588346475399, 'bagging_freq': 3, 'min_child_samples': 64, 'max_depth': 1, 'max_bin': 121, 'min_data_in_leaf': 56}. Best is trial 8 with value: 0.8468116996186824.\n",
      "[I 2024-10-31 15:44:30,194] Trial 11 finished with value: 0.8470878826628195 and parameters: {'learning_rate': 0.04231005256286973, 'lambda_l1': 2.463390460079822, 'lambda_l2': 0.12041782803052058, 'num_leaves': 20, 'feature_fraction': 0.7673712420631215, 'bagging_fraction': 0.20746121676594884, 'bagging_freq': 3, 'min_child_samples': 65, 'max_depth': 3, 'max_bin': 124, 'min_data_in_leaf': 133}. Best is trial 11 with value: 0.8470878826628195.\n",
      "[I 2024-10-31 15:44:31,231] Trial 12 finished with value: 0.8470348633496847 and parameters: {'learning_rate': 0.046660795382774775, 'lambda_l1': 0.5688379606678078, 'lambda_l2': 0.1077980533067773, 'num_leaves': 20, 'feature_fraction': 0.7796274959963606, 'bagging_fraction': 0.21098691610202797, 'bagging_freq': 3, 'min_child_samples': 64, 'max_depth': 3, 'max_bin': 124, 'min_data_in_leaf': 65}. Best is trial 11 with value: 0.8470878826628195.\n",
      "[I 2024-10-31 15:44:32,198] Trial 13 finished with value: 0.8476630624346007 and parameters: {'learning_rate': 0.04269889086328578, 'lambda_l1': 0.270293734479075, 'lambda_l2': 0.10917211916806906, 'num_leaves': 20, 'feature_fraction': 0.8722703568523644, 'bagging_fraction': 0.21546587054792662, 'bagging_freq': 3, 'min_child_samples': 67, 'max_depth': 3, 'max_bin': 126, 'min_data_in_leaf': 70}. Best is trial 13 with value: 0.8476630624346007.\n",
      "[I 2024-10-31 15:44:32,805] Trial 14 finished with value: 0.8352755562809423 and parameters: {'learning_rate': 0.04305801366032907, 'lambda_l1': 0.21100972196763335, 'lambda_l2': 0.593512684497977, 'num_leaves': 19, 'feature_fraction': 0.8566489275418893, 'bagging_fraction': 0.20911293923952, 'bagging_freq': 3, 'min_child_samples': 99, 'max_depth': 1, 'max_bin': 129, 'min_data_in_leaf': 148}. Best is trial 13 with value: 0.8476630624346007.\n",
      "[I 2024-10-31 15:44:34,355] Trial 15 finished with value: 0.8477221243392902 and parameters: {'learning_rate': 0.03250071715555465, 'lambda_l1': 0.28036193760364536, 'lambda_l2': 0.10121043796624171, 'num_leaves': 20, 'feature_fraction': 0.6512207403199615, 'bagging_fraction': 0.20052812426434813, 'bagging_freq': 3, 'min_child_samples': 66, 'max_depth': 5, 'max_bin': 146, 'min_data_in_leaf': 69}. Best is trial 15 with value: 0.8477221243392902.\n",
      "[I 2024-10-31 15:44:35,859] Trial 16 finished with value: 0.8476141498801878 and parameters: {'learning_rate': 0.029770285429673995, 'lambda_l1': 0.25866583133928633, 'lambda_l2': 0.351406490227692, 'num_leaves': 15, 'feature_fraction': 0.6680676668218695, 'bagging_fraction': 0.2825206101031741, 'bagging_freq': 2, 'min_child_samples': 30, 'max_depth': 5, 'max_bin': 148, 'min_data_in_leaf': 74}. Best is trial 15 with value: 0.8477221243392902.\n",
      "[I 2024-10-31 15:44:37,650] Trial 17 finished with value: 0.8475232709108114 and parameters: {'learning_rate': 0.0643025438789769, 'lambda_l1': 0.3287421697290681, 'lambda_l2': 1.5255571194591677, 'num_leaves': 18, 'feature_fraction': 0.3804188161662534, 'bagging_fraction': 0.7389789600913501, 'bagging_freq': 3, 'min_child_samples': 70, 'max_depth': 5, 'max_bin': 142, 'min_data_in_leaf': 51}. Best is trial 15 with value: 0.8477221243392902.\n",
      "[I 2024-10-31 15:44:39,031] Trial 18 finished with value: 0.8473627838859866 and parameters: {'learning_rate': 0.033346211162682535, 'lambda_l1': 0.33888433854554195, 'lambda_l2': 0.5212673661961977, 'num_leaves': 18, 'feature_fraction': 0.8969803075241962, 'bagging_fraction': 0.3613244091921736, 'bagging_freq': 2, 'min_child_samples': 74, 'max_depth': 4, 'max_bin': 150, 'min_data_in_leaf': 78}. Best is trial 15 with value: 0.8477221243392902.\n",
      "[I 2024-10-31 15:44:39,875] Trial 19 finished with value: 0.8446263850226516 and parameters: {'learning_rate': 0.059597532503888745, 'lambda_l1': 0.16711361932073326, 'lambda_l2': 0.2376970296927638, 'num_leaves': 19, 'feature_fraction': 0.6046454879329012, 'bagging_fraction': 0.25967522793380793, 'bagging_freq': 3, 'min_child_samples': 56, 'max_depth': 2, 'max_bin': 116, 'min_data_in_leaf': 108}. Best is trial 15 with value: 0.8477221243392902.\n",
      "[I 2024-10-31 15:44:39,929] A new study created in memory with name: no-name-6690b037-0064-4e1f-8977-952d927434f0\n",
      "[I 2024-10-31 15:44:41,469] Trial 0 finished with value: 0.8031068546866752 and parameters: {'learning_rate': 0.023688639503640783, 'lambda_l1': 7.969454818643936, 'lambda_l2': 2.9106359131330697, 'num_leaves': 16, 'feature_fraction': 0.22481491235394924, 'bagging_fraction': 0.2935967122017216, 'bagging_freq': 1, 'min_child_samples': 88, 'max_depth': 4, 'max_bin': 136, 'min_data_in_leaf': 22}. Best is trial 0 with value: 0.8031068546866752.\n",
      "[I 2024-10-31 15:44:42,391] Trial 1 finished with value: 0.823319050578397 and parameters: {'learning_rate': 0.09330606024425668, 'lambda_l1': 4.622589001020832, 'lambda_l2': 0.26587543983272705, 'num_leaves': 12, 'feature_fraction': 0.24672360788274705, 'bagging_fraction': 0.38254534577572263, 'bagging_freq': 2, 'min_child_samples': 46, 'max_depth': 2, 'max_bin': 131, 'min_data_in_leaf': 38}. Best is trial 1 with value: 0.823319050578397.\n",
      "[I 2024-10-31 15:44:43,956] Trial 2 finished with value: 0.8020821035685538 and parameters: {'learning_rate': 0.019594972058679168, 'lambda_l1': 0.5404103854647329, 'lambda_l2': 0.8168455894760165, 'num_leaves': 18, 'feature_fraction': 0.25973902572668783, 'bagging_fraction': 0.508540663048167, 'bagging_freq': 2, 'min_child_samples': 9, 'max_depth': 4, 'max_bin': 108, 'min_data_in_leaf': 28}. Best is trial 1 with value: 0.823319050578397.\n",
      "[I 2024-10-31 15:44:45,129] Trial 3 finished with value: 0.8196249140837234 and parameters: {'learning_rate': 0.08889667907018929, 'lambda_l1': 8.536189862866832, 'lambda_l2': 4.138040112561017, 'num_leaves': 13, 'feature_fraction': 0.1781376912051071, 'bagging_fraction': 0.6105398159072942, 'bagging_freq': 2, 'min_child_samples': 16, 'max_depth': 3, 'max_bin': 101, 'min_data_in_leaf': 139}. Best is trial 1 with value: 0.823319050578397.\n",
      "[I 2024-10-31 15:44:46,714] Trial 4 finished with value: 0.835519247747604 and parameters: {'learning_rate': 0.01814596135349025, 'lambda_l1': 2.113705944064573, 'lambda_l2': 0.420167205437253, 'num_leaves': 15, 'feature_fraction': 0.5373682234746238, 'bagging_fraction': 0.31091267331531625, 'bagging_freq': 3, 'min_child_samples': 79, 'max_depth': 5, 'max_bin': 145, 'min_data_in_leaf': 98}. Best is trial 4 with value: 0.835519247747604.\n",
      "[I 2024-10-31 15:44:47,701] Trial 5 finished with value: 0.8316044260027663 and parameters: {'learning_rate': 0.0835361075531176, 'lambda_l1': 0.15030900645056822, 'lambda_l2': 0.24658447214487378, 'num_leaves': 10, 'feature_fraction': 0.36026426461061145, 'bagging_fraction': 0.43320637381368926, 'bagging_freq': 1, 'min_child_samples': 84, 'max_depth': 2, 'max_bin': 114, 'min_data_in_leaf': 91}. Best is trial 4 with value: 0.835519247747604.\n",
      "[I 2024-10-31 15:44:49,229] Trial 6 finished with value: 0.8359703415788251 and parameters: {'learning_rate': 0.013833249975219963, 'lambda_l1': 4.02155452669029, 'lambda_l2': 0.14096175149815865, 'num_leaves': 20, 'feature_fraction': 0.717795815437326, 'bagging_fraction': 0.31922940892050344, 'bagging_freq': 1, 'min_child_samples': 83, 'max_depth': 4, 'max_bin': 137, 'min_data_in_leaf': 121}. Best is trial 6 with value: 0.8359703415788251.\n",
      "[I 2024-10-31 15:44:50,237] Trial 7 finished with value: 0.7936217625294315 and parameters: {'learning_rate': 0.011858906685575274, 'lambda_l1': 0.5211124595788266, 'lambda_l2': 0.17050539260269293, 'num_leaves': 19, 'feature_fraction': 0.5986385014620463, 'bagging_fraction': 0.39853881491158955, 'bagging_freq': 1, 'min_child_samples': 34, 'max_depth': 2, 'max_bin': 137, 'min_data_in_leaf': 103}. Best is trial 6 with value: 0.8359703415788251.\n",
      "[I 2024-10-31 15:44:51,468] Trial 8 finished with value: 0.8389764629669618 and parameters: {'learning_rate': 0.07712811947156349, 'lambda_l1': 0.8798929749689022, 'lambda_l2': 0.17345566642360938, 'num_leaves': 17, 'feature_fraction': 0.708628038893518, 'bagging_fraction': 0.5367663185416978, 'bagging_freq': 3, 'min_child_samples': 52, 'max_depth': 3, 'max_bin': 121, 'min_data_in_leaf': 23}. Best is trial 8 with value: 0.8389764629669618.\n",
      "[I 2024-10-31 15:44:52,985] Trial 9 finished with value: 0.8310551520725635 and parameters: {'learning_rate': 0.0128201004189169, 'lambda_l1': 0.11557352816269865, 'lambda_l2': 1.8742210985555698, 'num_leaves': 13, 'feature_fraction': 0.5068565529317622, 'bagging_fraction': 0.7445398843556559, 'bagging_freq': 1, 'min_child_samples': 44, 'max_depth': 4, 'max_bin': 111, 'min_data_in_leaf': 30}. Best is trial 8 with value: 0.8389764629669618.\n",
      "[I 2024-10-31 15:44:53,841] Trial 10 finished with value: 0.8147270920126038 and parameters: {'learning_rate': 0.046632924030566285, 'lambda_l1': 1.3112992007873714, 'lambda_l2': 8.691089486124978, 'num_leaves': 17, 'feature_fraction': 0.8828328849421558, 'bagging_fraction': 0.6136588346475399, 'bagging_freq': 3, 'min_child_samples': 64, 'max_depth': 1, 'max_bin': 121, 'min_data_in_leaf': 56}. Best is trial 8 with value: 0.8389764629669618.\n",
      "[I 2024-10-31 15:44:54,944] Trial 11 finished with value: 0.8366655951998285 and parameters: {'learning_rate': 0.04231005256286973, 'lambda_l1': 2.463390460079822, 'lambda_l2': 0.12041782803052058, 'num_leaves': 20, 'feature_fraction': 0.7673712420631215, 'bagging_fraction': 0.20746121676594884, 'bagging_freq': 3, 'min_child_samples': 65, 'max_depth': 3, 'max_bin': 124, 'min_data_in_leaf': 133}. Best is trial 8 with value: 0.8389764629669618.\n",
      "[I 2024-10-31 15:44:56,143] Trial 12 finished with value: 0.8372537236554063 and parameters: {'learning_rate': 0.046660795382774775, 'lambda_l1': 0.5688379606678078, 'lambda_l2': 0.1077980533067773, 'num_leaves': 20, 'feature_fraction': 0.7796274959963606, 'bagging_fraction': 0.21098691610202797, 'bagging_freq': 3, 'min_child_samples': 64, 'max_depth': 3, 'max_bin': 124, 'min_data_in_leaf': 65}. Best is trial 8 with value: 0.8389764629669618.\n",
      "[I 2024-10-31 15:44:57,426] Trial 13 finished with value: 0.8383193638512787 and parameters: {'learning_rate': 0.05832447745885103, 'lambda_l1': 0.42118206722764717, 'lambda_l2': 0.5860344220130842, 'num_leaves': 18, 'feature_fraction': 0.7090873844329774, 'bagging_fraction': 0.5477006755384248, 'bagging_freq': 3, 'min_child_samples': 65, 'max_depth': 3, 'max_bin': 120, 'min_data_in_leaf': 58}. Best is trial 8 with value: 0.8389764629669618.\n",
      "[I 2024-10-31 15:44:58,269] Trial 14 finished with value: 0.822386649539804 and parameters: {'learning_rate': 0.06614122789013444, 'lambda_l1': 0.26016143455351076, 'lambda_l2': 0.6856787888929166, 'num_leaves': 15, 'feature_fraction': 0.6476517714743953, 'bagging_fraction': 0.5701648923928978, 'bagging_freq': 3, 'min_child_samples': 99, 'max_depth': 1, 'max_bin': 117, 'min_data_in_leaf': 61}. Best is trial 8 with value: 0.8389764629669618.\n",
      "[I 2024-10-31 15:45:00,304] Trial 15 finished with value: 0.840839154798795 and parameters: {'learning_rate': 0.060983051779160115, 'lambda_l1': 0.29009445856794325, 'lambda_l2': 0.576574041107732, 'num_leaves': 17, 'feature_fraction': 0.8673901314442377, 'bagging_fraction': 0.7375437724402116, 'bagging_freq': 3, 'min_child_samples': 29, 'max_depth': 5, 'max_bin': 130, 'min_data_in_leaf': 48}. Best is trial 15 with value: 0.840839154798795.\n",
      "[I 2024-10-31 15:45:02,390] Trial 16 finished with value: 0.8400733126828798 and parameters: {'learning_rate': 0.031842467167178666, 'lambda_l1': 1.0351029070280395, 'lambda_l2': 1.2325285460618924, 'num_leaves': 16, 'feature_fraction': 0.8992790064411762, 'bagging_fraction': 0.7956057752531425, 'bagging_freq': 2, 'min_child_samples': 27, 'max_depth': 5, 'max_bin': 131, 'min_data_in_leaf': 44}. Best is trial 15 with value: 0.840839154798795.\n",
      "[I 2024-10-31 15:45:04,465] Trial 17 finished with value: 0.840149973219068 and parameters: {'learning_rate': 0.03172904608005835, 'lambda_l1': 0.2137959538170063, 'lambda_l2': 1.6034574964613595, 'num_leaves': 14, 'feature_fraction': 0.8975698310918622, 'bagging_fraction': 0.7949591652686122, 'bagging_freq': 2, 'min_child_samples': 25, 'max_depth': 5, 'max_bin': 150, 'min_data_in_leaf': 78}. Best is trial 15 with value: 0.840839154798795.\n",
      "[I 2024-10-31 15:45:06,523] Trial 18 finished with value: 0.8393402696177922 and parameters: {'learning_rate': 0.029041573380355998, 'lambda_l1': 0.25190581694437436, 'lambda_l2': 1.476907195488138, 'num_leaves': 13, 'feature_fraction': 0.8306623004181076, 'bagging_fraction': 0.700188570237016, 'bagging_freq': 2, 'min_child_samples': 25, 'max_depth': 5, 'max_bin': 150, 'min_data_in_leaf': 78}. Best is trial 15 with value: 0.840839154798795.\n",
      "[I 2024-10-31 15:45:08,319] Trial 19 finished with value: 0.8365461070638042 and parameters: {'learning_rate': 0.034488384795507525, 'lambda_l1': 0.21216907439465568, 'lambda_l2': 2.4843436827117884, 'num_leaves': 14, 'feature_fraction': 0.3913644658939482, 'bagging_fraction': 0.6813866840492686, 'bagging_freq': 2, 'min_child_samples': 6, 'max_depth': 5, 'max_bin': 144, 'min_data_in_leaf': 77}. Best is trial 15 with value: 0.840839154798795.\n",
      "[I 2024-10-31 15:45:08,370] A new study created in memory with name: no-name-f71a6eb8-3fb8-4668-a10c-9a087afeecc8\n",
      "[I 2024-10-31 15:45:10,086] Trial 0 finished with value: 0.8055732158058642 and parameters: {'learning_rate': 0.023688639503640783, 'lambda_l1': 7.969454818643936, 'lambda_l2': 2.9106359131330697, 'num_leaves': 16, 'feature_fraction': 0.22481491235394924, 'bagging_fraction': 0.2935967122017216, 'bagging_freq': 1, 'min_child_samples': 88, 'max_depth': 4, 'max_bin': 136, 'min_data_in_leaf': 22}. Best is trial 0 with value: 0.8055732158058642.\n",
      "[I 2024-10-31 15:45:11,091] Trial 1 finished with value: 0.8182987163001547 and parameters: {'learning_rate': 0.09330606024425668, 'lambda_l1': 4.622589001020832, 'lambda_l2': 0.26587543983272705, 'num_leaves': 12, 'feature_fraction': 0.24672360788274705, 'bagging_fraction': 0.38254534577572263, 'bagging_freq': 2, 'min_child_samples': 46, 'max_depth': 2, 'max_bin': 131, 'min_data_in_leaf': 38}. Best is trial 1 with value: 0.8182987163001547.\n",
      "[I 2024-10-31 15:45:12,746] Trial 2 finished with value: 0.8040605206843526 and parameters: {'learning_rate': 0.019594972058679168, 'lambda_l1': 0.5404103854647329, 'lambda_l2': 0.8168455894760165, 'num_leaves': 18, 'feature_fraction': 0.25973902572668783, 'bagging_fraction': 0.508540663048167, 'bagging_freq': 2, 'min_child_samples': 9, 'max_depth': 4, 'max_bin': 108, 'min_data_in_leaf': 28}. Best is trial 1 with value: 0.8182987163001547.\n",
      "[I 2024-10-31 15:45:14,082] Trial 3 finished with value: 0.8163176360347796 and parameters: {'learning_rate': 0.08889667907018929, 'lambda_l1': 8.536189862866832, 'lambda_l2': 4.138040112561017, 'num_leaves': 13, 'feature_fraction': 0.1781376912051071, 'bagging_fraction': 0.6105398159072942, 'bagging_freq': 2, 'min_child_samples': 16, 'max_depth': 3, 'max_bin': 101, 'min_data_in_leaf': 139}. Best is trial 1 with value: 0.8182987163001547.\n",
      "[I 2024-10-31 15:45:15,873] Trial 4 finished with value: 0.8261382148675298 and parameters: {'learning_rate': 0.01814596135349025, 'lambda_l1': 2.113705944064573, 'lambda_l2': 0.420167205437253, 'num_leaves': 15, 'feature_fraction': 0.5373682234746238, 'bagging_fraction': 0.31091267331531625, 'bagging_freq': 3, 'min_child_samples': 79, 'max_depth': 5, 'max_bin': 145, 'min_data_in_leaf': 98}. Best is trial 4 with value: 0.8261382148675298.\n",
      "[I 2024-10-31 15:45:17,113] Trial 5 finished with value: 0.8236479240909436 and parameters: {'learning_rate': 0.0835361075531176, 'lambda_l1': 0.15030900645056822, 'lambda_l2': 0.24658447214487378, 'num_leaves': 10, 'feature_fraction': 0.36026426461061145, 'bagging_fraction': 0.43320637381368926, 'bagging_freq': 1, 'min_child_samples': 84, 'max_depth': 2, 'max_bin': 114, 'min_data_in_leaf': 91}. Best is trial 4 with value: 0.8261382148675298.\n",
      "[I 2024-10-31 15:45:19,101] Trial 6 finished with value: 0.8266162619337477 and parameters: {'learning_rate': 0.013833249975219963, 'lambda_l1': 4.02155452669029, 'lambda_l2': 0.14096175149815865, 'num_leaves': 20, 'feature_fraction': 0.717795815437326, 'bagging_fraction': 0.31922940892050344, 'bagging_freq': 1, 'min_child_samples': 83, 'max_depth': 4, 'max_bin': 137, 'min_data_in_leaf': 121}. Best is trial 6 with value: 0.8266162619337477.\n",
      "[I 2024-10-31 15:45:20,332] Trial 7 finished with value: 0.7993279229013441 and parameters: {'learning_rate': 0.011858906685575274, 'lambda_l1': 0.5211124595788266, 'lambda_l2': 0.17050539260269293, 'num_leaves': 19, 'feature_fraction': 0.5986385014620463, 'bagging_fraction': 0.39853881491158955, 'bagging_freq': 1, 'min_child_samples': 34, 'max_depth': 2, 'max_bin': 137, 'min_data_in_leaf': 103}. Best is trial 6 with value: 0.8266162619337477.\n",
      "[I 2024-10-31 15:45:21,825] Trial 8 finished with value: 0.8264663216922511 and parameters: {'learning_rate': 0.07712811947156349, 'lambda_l1': 0.8798929749689022, 'lambda_l2': 0.17345566642360938, 'num_leaves': 17, 'feature_fraction': 0.708628038893518, 'bagging_fraction': 0.5367663185416978, 'bagging_freq': 3, 'min_child_samples': 52, 'max_depth': 3, 'max_bin': 121, 'min_data_in_leaf': 23}. Best is trial 6 with value: 0.8266162619337477.\n",
      "[I 2024-10-31 15:45:23,460] Trial 9 finished with value: 0.824685777640374 and parameters: {'learning_rate': 0.0128201004189169, 'lambda_l1': 0.11557352816269865, 'lambda_l2': 1.8742210985555698, 'num_leaves': 13, 'feature_fraction': 0.5068565529317622, 'bagging_fraction': 0.7445398843556559, 'bagging_freq': 1, 'min_child_samples': 44, 'max_depth': 4, 'max_bin': 111, 'min_data_in_leaf': 30}. Best is trial 6 with value: 0.8266162619337477.\n",
      "[I 2024-10-31 15:45:24,387] Trial 10 finished with value: 0.8123466052194416 and parameters: {'learning_rate': 0.04781724219262293, 'lambda_l1': 2.510441004250465, 'lambda_l2': 8.691089486124978, 'num_leaves': 20, 'feature_fraction': 0.8834283099953404, 'bagging_fraction': 0.2232351199767098, 'bagging_freq': 1, 'min_child_samples': 69, 'max_depth': 1, 'max_bin': 150, 'min_data_in_leaf': 149}. Best is trial 6 with value: 0.8266162619337477.\n",
      "[I 2024-10-31 15:45:25,884] Trial 11 finished with value: 0.8257295343031764 and parameters: {'learning_rate': 0.04231005256286973, 'lambda_l1': 1.0009249066019286, 'lambda_l2': 0.12041782803052058, 'num_leaves': 17, 'feature_fraction': 0.7673712420631215, 'bagging_fraction': 0.569947452079244, 'bagging_freq': 3, 'min_child_samples': 62, 'max_depth': 3, 'max_bin': 122, 'min_data_in_leaf': 62}. Best is trial 6 with value: 0.8266162619337477.\n",
      "[I 2024-10-31 15:45:28,149] Trial 12 finished with value: 0.8267827673065231 and parameters: {'learning_rate': 0.056066265867459816, 'lambda_l1': 1.2224995361910898, 'lambda_l2': 0.5170732988770051, 'num_leaves': 20, 'feature_fraction': 0.6970614623549939, 'bagging_fraction': 0.6812798467424964, 'bagging_freq': 3, 'min_child_samples': 100, 'max_depth': 5, 'max_bin': 123, 'min_data_in_leaf': 119}. Best is trial 12 with value: 0.8267827673065231.\n",
      "[I 2024-10-31 15:45:30,533] Trial 13 finished with value: 0.8268936723960311 and parameters: {'learning_rate': 0.05213188831786147, 'lambda_l1': 2.3793537960598536, 'lambda_l2': 0.504281466874455, 'num_leaves': 20, 'feature_fraction': 0.7090873844329774, 'bagging_fraction': 0.7936854481553871, 'bagging_freq': 3, 'min_child_samples': 100, 'max_depth': 5, 'max_bin': 129, 'min_data_in_leaf': 123}. Best is trial 13 with value: 0.8268936723960311.\n",
      "[I 2024-10-31 15:45:32,835] Trial 14 finished with value: 0.8276041047156651 and parameters: {'learning_rate': 0.05297400229884737, 'lambda_l1': 1.4043051586785025, 'lambda_l2': 0.6958456398807136, 'num_leaves': 19, 'feature_fraction': 0.8500489274928182, 'bagging_fraction': 0.7837935640562737, 'bagging_freq': 3, 'min_child_samples': 99, 'max_depth': 5, 'max_bin': 128, 'min_data_in_leaf': 121}. Best is trial 14 with value: 0.8276041047156651.\n",
      "[I 2024-10-31 15:45:35,612] Trial 15 finished with value: 0.8275476285244032 and parameters: {'learning_rate': 0.03085392680512827, 'lambda_l1': 0.32259433347725347, 'lambda_l2': 1.361968633595348, 'num_leaves': 18, 'feature_fraction': 0.8674684091592906, 'bagging_fraction': 0.7947673505141039, 'bagging_freq': 3, 'min_child_samples': 95, 'max_depth': 5, 'max_bin': 129, 'min_data_in_leaf': 72}. Best is trial 14 with value: 0.8276041047156651.\n",
      "[I 2024-10-31 15:45:37,933] Trial 16 finished with value: 0.8276003231887962 and parameters: {'learning_rate': 0.032639162978233285, 'lambda_l1': 0.27043713598160046, 'lambda_l2': 1.20279064117167, 'num_leaves': 18, 'feature_fraction': 0.8994693319016399, 'bagging_fraction': 0.6778872133652629, 'bagging_freq': 3, 'min_child_samples': 69, 'max_depth': 5, 'max_bin': 118, 'min_data_in_leaf': 56}. Best is trial 14 with value: 0.8276041047156651.\n",
      "[I 2024-10-31 15:45:40,452] Trial 17 finished with value: 0.8278652362454672 and parameters: {'learning_rate': 0.0336209451963012, 'lambda_l1': 0.2501661496782281, 'lambda_l2': 0.9240538757372134, 'num_leaves': 15, 'feature_fraction': 0.8014586124900056, 'bagging_fraction': 0.6676569213870072, 'bagging_freq': 2, 'min_child_samples': 69, 'max_depth': 5, 'max_bin': 116, 'min_data_in_leaf': 51}. Best is trial 17 with value: 0.8278652362454672.\n",
      "[I 2024-10-31 15:45:42,463] Trial 18 finished with value: 0.8272852351878923 and parameters: {'learning_rate': 0.03747749737939001, 'lambda_l1': 0.3029103421739362, 'lambda_l2': 0.7809744404671205, 'num_leaves': 14, 'feature_fraction': 0.7874355216503086, 'bagging_fraction': 0.6633738893124628, 'bagging_freq': 2, 'min_child_samples': 28, 'max_depth': 4, 'max_bin': 103, 'min_data_in_leaf': 78}. Best is trial 17 with value: 0.8278652362454672.\n",
      "[I 2024-10-31 15:45:44,633] Trial 19 finished with value: 0.8264837213335068 and parameters: {'learning_rate': 0.059597532503888745, 'lambda_l1': 1.511603035196257, 'lambda_l2': 2.028137434459583, 'num_leaves': 15, 'feature_fraction': 0.39028966519177033, 'bagging_fraction': 0.7308942739483116, 'bagging_freq': 2, 'min_child_samples': 71, 'max_depth': 5, 'max_bin': 116, 'min_data_in_leaf': 47}. Best is trial 17 with value: 0.8278652362454672.\n",
      "[I 2024-10-31 15:45:44,689] A new study created in memory with name: no-name-af4e6452-4c8e-4f69-ad47-54d94d0e42f3\n",
      "[I 2024-10-31 15:45:46,478] Trial 0 finished with value: 0.8045897827818561 and parameters: {'learning_rate': 0.023688639503640783, 'lambda_l1': 7.969454818643936, 'lambda_l2': 2.9106359131330697, 'num_leaves': 16, 'feature_fraction': 0.22481491235394924, 'bagging_fraction': 0.2935967122017216, 'bagging_freq': 1, 'min_child_samples': 88, 'max_depth': 4, 'max_bin': 136, 'min_data_in_leaf': 22}. Best is trial 0 with value: 0.8045897827818561.\n",
      "[I 2024-10-31 15:45:47,579] Trial 1 finished with value: 0.8239453421537795 and parameters: {'learning_rate': 0.09330606024425668, 'lambda_l1': 4.622589001020832, 'lambda_l2': 0.26587543983272705, 'num_leaves': 12, 'feature_fraction': 0.24672360788274705, 'bagging_fraction': 0.38254534577572263, 'bagging_freq': 2, 'min_child_samples': 46, 'max_depth': 2, 'max_bin': 131, 'min_data_in_leaf': 38}. Best is trial 1 with value: 0.8239453421537795.\n",
      "[I 2024-10-31 15:45:49,423] Trial 2 finished with value: 0.8027608747070334 and parameters: {'learning_rate': 0.019594972058679168, 'lambda_l1': 0.5404103854647329, 'lambda_l2': 0.8168455894760165, 'num_leaves': 18, 'feature_fraction': 0.25973902572668783, 'bagging_fraction': 0.508540663048167, 'bagging_freq': 2, 'min_child_samples': 9, 'max_depth': 4, 'max_bin': 108, 'min_data_in_leaf': 28}. Best is trial 1 with value: 0.8239453421537795.\n",
      "[I 2024-10-31 15:45:50,886] Trial 3 finished with value: 0.8200533449458386 and parameters: {'learning_rate': 0.08889667907018929, 'lambda_l1': 8.536189862866832, 'lambda_l2': 4.138040112561017, 'num_leaves': 13, 'feature_fraction': 0.1781376912051071, 'bagging_fraction': 0.6105398159072942, 'bagging_freq': 2, 'min_child_samples': 16, 'max_depth': 3, 'max_bin': 101, 'min_data_in_leaf': 139}. Best is trial 1 with value: 0.8239453421537795.\n",
      "[I 2024-10-31 15:45:52,831] Trial 4 finished with value: 0.8315188771507486 and parameters: {'learning_rate': 0.01814596135349025, 'lambda_l1': 2.113705944064573, 'lambda_l2': 0.420167205437253, 'num_leaves': 15, 'feature_fraction': 0.5373682234746238, 'bagging_fraction': 0.31091267331531625, 'bagging_freq': 3, 'min_child_samples': 79, 'max_depth': 5, 'max_bin': 145, 'min_data_in_leaf': 98}. Best is trial 4 with value: 0.8315188771507486.\n",
      "[I 2024-10-31 15:45:54,154] Trial 5 finished with value: 0.8306998232276676 and parameters: {'learning_rate': 0.0835361075531176, 'lambda_l1': 0.15030900645056822, 'lambda_l2': 0.24658447214487378, 'num_leaves': 10, 'feature_fraction': 0.36026426461061145, 'bagging_fraction': 0.43320637381368926, 'bagging_freq': 1, 'min_child_samples': 84, 'max_depth': 2, 'max_bin': 114, 'min_data_in_leaf': 91}. Best is trial 4 with value: 0.8315188771507486.\n",
      "[I 2024-10-31 15:45:56,156] Trial 6 finished with value: 0.832708578772625 and parameters: {'learning_rate': 0.013833249975219963, 'lambda_l1': 4.02155452669029, 'lambda_l2': 0.14096175149815865, 'num_leaves': 20, 'feature_fraction': 0.717795815437326, 'bagging_fraction': 0.31922940892050344, 'bagging_freq': 1, 'min_child_samples': 83, 'max_depth': 4, 'max_bin': 137, 'min_data_in_leaf': 121}. Best is trial 6 with value: 0.832708578772625.\n",
      "[I 2024-10-31 15:45:57,631] Trial 7 finished with value: 0.7941257730644167 and parameters: {'learning_rate': 0.011858906685575274, 'lambda_l1': 0.5211124595788266, 'lambda_l2': 0.17050539260269293, 'num_leaves': 19, 'feature_fraction': 0.5986385014620463, 'bagging_fraction': 0.39853881491158955, 'bagging_freq': 1, 'min_child_samples': 34, 'max_depth': 2, 'max_bin': 137, 'min_data_in_leaf': 103}. Best is trial 6 with value: 0.832708578772625.\n",
      "[I 2024-10-31 15:45:59,392] Trial 8 finished with value: 0.8370486997122536 and parameters: {'learning_rate': 0.07712811947156349, 'lambda_l1': 0.8798929749689022, 'lambda_l2': 0.17345566642360938, 'num_leaves': 17, 'feature_fraction': 0.708628038893518, 'bagging_fraction': 0.5367663185416978, 'bagging_freq': 3, 'min_child_samples': 52, 'max_depth': 3, 'max_bin': 121, 'min_data_in_leaf': 23}. Best is trial 8 with value: 0.8370486997122536.\n",
      "[I 2024-10-31 15:46:01,475] Trial 9 finished with value: 0.828966785721924 and parameters: {'learning_rate': 0.0128201004189169, 'lambda_l1': 0.11557352816269865, 'lambda_l2': 1.8742210985555698, 'num_leaves': 13, 'feature_fraction': 0.5068565529317622, 'bagging_fraction': 0.7445398843556559, 'bagging_freq': 1, 'min_child_samples': 44, 'max_depth': 4, 'max_bin': 111, 'min_data_in_leaf': 30}. Best is trial 8 with value: 0.8370486997122536.\n",
      "[I 2024-10-31 15:46:02,625] Trial 10 finished with value: 0.8126610548015805 and parameters: {'learning_rate': 0.046632924030566285, 'lambda_l1': 1.3112992007873714, 'lambda_l2': 8.691089486124978, 'num_leaves': 17, 'feature_fraction': 0.8828328849421558, 'bagging_fraction': 0.6136588346475399, 'bagging_freq': 3, 'min_child_samples': 64, 'max_depth': 1, 'max_bin': 121, 'min_data_in_leaf': 56}. Best is trial 8 with value: 0.8370486997122536.\n",
      "[I 2024-10-31 15:46:04,087] Trial 11 finished with value: 0.8333081031984603 and parameters: {'learning_rate': 0.04231005256286973, 'lambda_l1': 2.463390460079822, 'lambda_l2': 0.12041782803052058, 'num_leaves': 20, 'feature_fraction': 0.7673712420631215, 'bagging_fraction': 0.20746121676594884, 'bagging_freq': 3, 'min_child_samples': 65, 'max_depth': 3, 'max_bin': 124, 'min_data_in_leaf': 133}. Best is trial 8 with value: 0.8370486997122536.\n",
      "[I 2024-10-31 15:46:05,533] Trial 12 finished with value: 0.8342755839972327 and parameters: {'learning_rate': 0.046660795382774775, 'lambda_l1': 0.5688379606678078, 'lambda_l2': 0.1077980533067773, 'num_leaves': 20, 'feature_fraction': 0.7796274959963606, 'bagging_fraction': 0.21098691610202797, 'bagging_freq': 3, 'min_child_samples': 64, 'max_depth': 3, 'max_bin': 124, 'min_data_in_leaf': 65}. Best is trial 8 with value: 0.8370486997122536.\n",
      "[I 2024-10-31 15:46:07,158] Trial 13 finished with value: 0.8350263152195101 and parameters: {'learning_rate': 0.05832447745885103, 'lambda_l1': 0.42118206722764717, 'lambda_l2': 0.5860344220130842, 'num_leaves': 18, 'feature_fraction': 0.7090873844329774, 'bagging_fraction': 0.5477006755384248, 'bagging_freq': 3, 'min_child_samples': 65, 'max_depth': 3, 'max_bin': 120, 'min_data_in_leaf': 58}. Best is trial 8 with value: 0.8370486997122536.\n",
      "[I 2024-10-31 15:46:08,206] Trial 14 finished with value: 0.8204072000171634 and parameters: {'learning_rate': 0.06614122789013444, 'lambda_l1': 0.26016143455351076, 'lambda_l2': 0.6856787888929166, 'num_leaves': 15, 'feature_fraction': 0.6476517714743953, 'bagging_fraction': 0.5701648923928978, 'bagging_freq': 3, 'min_child_samples': 99, 'max_depth': 1, 'max_bin': 117, 'min_data_in_leaf': 61}. Best is trial 8 with value: 0.8370486997122536.\n",
      "[I 2024-10-31 15:46:10,669] Trial 15 finished with value: 0.84 and parameters: {'learning_rate': 0.060983051779160115, 'lambda_l1': 0.29009445856794325, 'lambda_l2': 0.576574041107732, 'num_leaves': 17, 'feature_fraction': 0.8673901314442377, 'bagging_fraction': 0.7375437724402116, 'bagging_freq': 3, 'min_child_samples': 29, 'max_depth': 5, 'max_bin': 130, 'min_data_in_leaf': 48}. Best is trial 15 with value: 0.84.\n",
      "[I 2024-10-31 15:46:13,317] Trial 16 finished with value: 0.8374854280903242 and parameters: {'learning_rate': 0.031842467167178666, 'lambda_l1': 1.0351029070280395, 'lambda_l2': 1.2325285460618924, 'num_leaves': 16, 'feature_fraction': 0.8992790064411762, 'bagging_fraction': 0.7956057752531425, 'bagging_freq': 2, 'min_child_samples': 27, 'max_depth': 5, 'max_bin': 131, 'min_data_in_leaf': 44}. Best is trial 15 with value: 0.84.\n",
      "[I 2024-10-31 15:46:15,955] Trial 17 finished with value: 0.8380484864143306 and parameters: {'learning_rate': 0.03172904608005835, 'lambda_l1': 0.2137959538170063, 'lambda_l2': 1.6034574964613595, 'num_leaves': 14, 'feature_fraction': 0.8975698310918622, 'bagging_fraction': 0.7949591652686122, 'bagging_freq': 2, 'min_child_samples': 25, 'max_depth': 5, 'max_bin': 150, 'min_data_in_leaf': 78}. Best is trial 15 with value: 0.84.\n",
      "[I 2024-10-31 15:46:18,282] Trial 18 finished with value: 0.8369249316484036 and parameters: {'learning_rate': 0.029041573380355998, 'lambda_l1': 0.25190581694437436, 'lambda_l2': 1.476907195488138, 'num_leaves': 13, 'feature_fraction': 0.8306623004181076, 'bagging_fraction': 0.700188570237016, 'bagging_freq': 2, 'min_child_samples': 25, 'max_depth': 5, 'max_bin': 150, 'min_data_in_leaf': 78}. Best is trial 15 with value: 0.84.\n",
      "[I 2024-10-31 15:46:20,606] Trial 19 finished with value: 0.8341963322545847 and parameters: {'learning_rate': 0.034488384795507525, 'lambda_l1': 0.21216907439465568, 'lambda_l2': 2.4843436827117884, 'num_leaves': 14, 'feature_fraction': 0.3913644658939482, 'bagging_fraction': 0.6813866840492686, 'bagging_freq': 2, 'min_child_samples': 6, 'max_depth': 5, 'max_bin': 144, 'min_data_in_leaf': 77}. Best is trial 15 with value: 0.84.\n",
      "[I 2024-10-31 15:46:20,665] A new study created in memory with name: no-name-5e4ff7fc-06b7-4242-a205-717139a01ba1\n",
      "[I 2024-10-31 15:46:22,710] Trial 0 finished with value: 0.8096354307318391 and parameters: {'learning_rate': 0.023688639503640783, 'lambda_l1': 7.969454818643936, 'lambda_l2': 2.9106359131330697, 'num_leaves': 16, 'feature_fraction': 0.22481491235394924, 'bagging_fraction': 0.2935967122017216, 'bagging_freq': 1, 'min_child_samples': 88, 'max_depth': 4, 'max_bin': 136, 'min_data_in_leaf': 22}. Best is trial 0 with value: 0.8096354307318391.\n",
      "[I 2024-10-31 15:46:24,109] Trial 1 finished with value: 0.833735201477137 and parameters: {'learning_rate': 0.09330606024425668, 'lambda_l1': 4.622589001020832, 'lambda_l2': 0.26587543983272705, 'num_leaves': 12, 'feature_fraction': 0.24672360788274705, 'bagging_fraction': 0.38254534577572263, 'bagging_freq': 2, 'min_child_samples': 46, 'max_depth': 2, 'max_bin': 131, 'min_data_in_leaf': 38}. Best is trial 1 with value: 0.833735201477137.\n",
      "[I 2024-10-31 15:46:26,139] Trial 2 finished with value: 0.8079657378340184 and parameters: {'learning_rate': 0.019594972058679168, 'lambda_l1': 0.5404103854647329, 'lambda_l2': 0.8168455894760165, 'num_leaves': 18, 'feature_fraction': 0.25973902572668783, 'bagging_fraction': 0.508540663048167, 'bagging_freq': 2, 'min_child_samples': 9, 'max_depth': 4, 'max_bin': 108, 'min_data_in_leaf': 28}. Best is trial 1 with value: 0.833735201477137.\n",
      "[I 2024-10-31 15:46:27,757] Trial 3 finished with value: 0.8288940137496857 and parameters: {'learning_rate': 0.08889667907018929, 'lambda_l1': 8.536189862866832, 'lambda_l2': 4.138040112561017, 'num_leaves': 13, 'feature_fraction': 0.1781376912051071, 'bagging_fraction': 0.6105398159072942, 'bagging_freq': 2, 'min_child_samples': 16, 'max_depth': 3, 'max_bin': 101, 'min_data_in_leaf': 139}. Best is trial 1 with value: 0.833735201477137.\n",
      "[I 2024-10-31 15:46:29,920] Trial 4 finished with value: 0.8398037172138266 and parameters: {'learning_rate': 0.01814596135349025, 'lambda_l1': 2.113705944064573, 'lambda_l2': 0.420167205437253, 'num_leaves': 15, 'feature_fraction': 0.5373682234746238, 'bagging_fraction': 0.31091267331531625, 'bagging_freq': 3, 'min_child_samples': 79, 'max_depth': 5, 'max_bin': 145, 'min_data_in_leaf': 98}. Best is trial 4 with value: 0.8398037172138266.\n",
      "[I 2024-10-31 15:46:31,297] Trial 5 finished with value: 0.8406307393038395 and parameters: {'learning_rate': 0.0835361075531176, 'lambda_l1': 0.15030900645056822, 'lambda_l2': 0.24658447214487378, 'num_leaves': 10, 'feature_fraction': 0.36026426461061145, 'bagging_fraction': 0.43320637381368926, 'bagging_freq': 1, 'min_child_samples': 84, 'max_depth': 2, 'max_bin': 114, 'min_data_in_leaf': 91}. Best is trial 5 with value: 0.8406307393038395.\n",
      "[I 2024-10-31 15:46:33,362] Trial 6 finished with value: 0.8407916544798674 and parameters: {'learning_rate': 0.013833249975219963, 'lambda_l1': 4.02155452669029, 'lambda_l2': 0.14096175149815865, 'num_leaves': 20, 'feature_fraction': 0.717795815437326, 'bagging_fraction': 0.31922940892050344, 'bagging_freq': 1, 'min_child_samples': 83, 'max_depth': 4, 'max_bin': 137, 'min_data_in_leaf': 121}. Best is trial 6 with value: 0.8407916544798674.\n",
      "[I 2024-10-31 15:46:34,794] Trial 7 finished with value: 0.7981688751661735 and parameters: {'learning_rate': 0.011858906685575274, 'lambda_l1': 0.5211124595788266, 'lambda_l2': 0.17050539260269293, 'num_leaves': 19, 'feature_fraction': 0.5986385014620463, 'bagging_fraction': 0.39853881491158955, 'bagging_freq': 1, 'min_child_samples': 34, 'max_depth': 2, 'max_bin': 137, 'min_data_in_leaf': 103}. Best is trial 6 with value: 0.8407916544798674.\n",
      "[I 2024-10-31 15:46:36,481] Trial 8 finished with value: 0.8457236662106703 and parameters: {'learning_rate': 0.07712811947156349, 'lambda_l1': 0.8798929749689022, 'lambda_l2': 0.17345566642360938, 'num_leaves': 17, 'feature_fraction': 0.708628038893518, 'bagging_fraction': 0.5367663185416978, 'bagging_freq': 3, 'min_child_samples': 52, 'max_depth': 3, 'max_bin': 121, 'min_data_in_leaf': 23}. Best is trial 8 with value: 0.8457236662106703.\n",
      "[I 2024-10-31 15:46:38,402] Trial 9 finished with value: 0.836195036344531 and parameters: {'learning_rate': 0.0128201004189169, 'lambda_l1': 0.11557352816269865, 'lambda_l2': 1.8742210985555698, 'num_leaves': 13, 'feature_fraction': 0.5068565529317622, 'bagging_fraction': 0.7445398843556559, 'bagging_freq': 1, 'min_child_samples': 44, 'max_depth': 4, 'max_bin': 111, 'min_data_in_leaf': 30}. Best is trial 8 with value: 0.8457236662106703.\n",
      "[I 2024-10-31 15:46:39,584] Trial 10 finished with value: 0.8182650591903028 and parameters: {'learning_rate': 0.046632924030566285, 'lambda_l1': 1.3112992007873714, 'lambda_l2': 8.691089486124978, 'num_leaves': 17, 'feature_fraction': 0.8828328849421558, 'bagging_fraction': 0.6136588346475399, 'bagging_freq': 3, 'min_child_samples': 64, 'max_depth': 1, 'max_bin': 121, 'min_data_in_leaf': 56}. Best is trial 8 with value: 0.8457236662106703.\n",
      "[I 2024-10-31 15:46:41,003] Trial 11 finished with value: 0.8419605746888194 and parameters: {'learning_rate': 0.04231005256286973, 'lambda_l1': 2.463390460079822, 'lambda_l2': 0.12041782803052058, 'num_leaves': 20, 'feature_fraction': 0.7673712420631215, 'bagging_fraction': 0.20746121676594884, 'bagging_freq': 3, 'min_child_samples': 65, 'max_depth': 3, 'max_bin': 124, 'min_data_in_leaf': 133}. Best is trial 8 with value: 0.8457236662106703.\n",
      "[I 2024-10-31 15:46:42,479] Trial 12 finished with value: 0.8418834217825242 and parameters: {'learning_rate': 0.046660795382774775, 'lambda_l1': 0.5688379606678078, 'lambda_l2': 0.1077980533067773, 'num_leaves': 20, 'feature_fraction': 0.7796274959963606, 'bagging_fraction': 0.21098691610202797, 'bagging_freq': 3, 'min_child_samples': 64, 'max_depth': 3, 'max_bin': 124, 'min_data_in_leaf': 65}. Best is trial 8 with value: 0.8457236662106703.\n",
      "[I 2024-10-31 15:46:44,213] Trial 13 finished with value: 0.8425852021124219 and parameters: {'learning_rate': 0.049589020000221744, 'lambda_l1': 1.628071624939596, 'lambda_l2': 0.5860344220130842, 'num_leaves': 18, 'feature_fraction': 0.7090873844329774, 'bagging_fraction': 0.5477006755384248, 'bagging_freq': 3, 'min_child_samples': 65, 'max_depth': 3, 'max_bin': 120, 'min_data_in_leaf': 149}. Best is trial 8 with value: 0.8457236662106703.\n",
      "[I 2024-10-31 15:46:45,364] Trial 14 finished with value: 0.8266788647106232 and parameters: {'learning_rate': 0.06614122789013444, 'lambda_l1': 1.0183416165259087, 'lambda_l2': 0.6856787888929166, 'num_leaves': 15, 'feature_fraction': 0.6476517714743953, 'bagging_fraction': 0.5701648923928978, 'bagging_freq': 3, 'min_child_samples': 99, 'max_depth': 1, 'max_bin': 117, 'min_data_in_leaf': 74}. Best is trial 8 with value: 0.8457236662106703.\n",
      "[I 2024-10-31 15:46:48,040] Trial 15 finished with value: 0.8492233179160485 and parameters: {'learning_rate': 0.06043604744776325, 'lambda_l1': 0.32259433347725347, 'lambda_l2': 0.576574041107732, 'num_leaves': 17, 'feature_fraction': 0.8673901314442377, 'bagging_fraction': 0.7375437724402116, 'bagging_freq': 3, 'min_child_samples': 29, 'max_depth': 5, 'max_bin': 130, 'min_data_in_leaf': 113}. Best is trial 15 with value: 0.8492233179160485.\n",
      "[I 2024-10-31 15:46:50,886] Trial 16 finished with value: 0.8472737964303994 and parameters: {'learning_rate': 0.031842467167178666, 'lambda_l1': 0.2552060085785948, 'lambda_l2': 1.2325285460618924, 'num_leaves': 16, 'feature_fraction': 0.8992790064411762, 'bagging_fraction': 0.7956057752531425, 'bagging_freq': 2, 'min_child_samples': 27, 'max_depth': 5, 'max_bin': 131, 'min_data_in_leaf': 113}. Best is trial 15 with value: 0.8492233179160485.\n",
      "[I 2024-10-31 15:46:53,628] Trial 17 finished with value: 0.8468884412261121 and parameters: {'learning_rate': 0.03172904608005835, 'lambda_l1': 0.23166799044612485, 'lambda_l2': 1.6034574964613595, 'num_leaves': 14, 'feature_fraction': 0.8975698310918622, 'bagging_fraction': 0.7949591652686122, 'bagging_freq': 2, 'min_child_samples': 25, 'max_depth': 5, 'max_bin': 150, 'min_data_in_leaf': 114}. Best is trial 15 with value: 0.8492233179160485.\n",
      "[I 2024-10-31 15:46:56,159] Trial 18 finished with value: 0.8431391701668132 and parameters: {'learning_rate': 0.02915950863529146, 'lambda_l1': 0.2772906232721236, 'lambda_l2': 1.3918149277657181, 'num_leaves': 16, 'feature_fraction': 0.3708720931704601, 'bagging_fraction': 0.7004293432960743, 'bagging_freq': 2, 'min_child_samples': 29, 'max_depth': 5, 'max_bin': 130, 'min_data_in_leaf': 117}. Best is trial 15 with value: 0.8492233179160485.\n",
      "[I 2024-10-31 15:46:58,845] Trial 19 finished with value: 0.8490014825150431 and parameters: {'learning_rate': 0.059597532503888745, 'lambda_l1': 0.28248081701461575, 'lambda_l2': 0.41064867581823966, 'num_leaves': 17, 'feature_fraction': 0.831150100008885, 'bagging_fraction': 0.6813866840492686, 'bagging_freq': 2, 'min_child_samples': 6, 'max_depth': 5, 'max_bin': 130, 'min_data_in_leaf': 81}. Best is trial 15 with value: 0.8492233179160485.\n",
      "[I 2024-10-31 15:46:58,958] A new study created in memory with name: no-name-569d9115-e9ca-4a57-b146-2ffdc33d0c97\n",
      "[I 2024-10-31 15:47:01,120] Trial 0 finished with value: 0.7833506309062107 and parameters: {'learning_rate': 0.023688639503640783, 'lambda_l1': 7.969454818643936, 'lambda_l2': 2.9106359131330697, 'num_leaves': 16, 'feature_fraction': 0.22481491235394924, 'bagging_fraction': 0.2935967122017216, 'bagging_freq': 1, 'min_child_samples': 88, 'max_depth': 4, 'max_bin': 136, 'min_data_in_leaf': 22}. Best is trial 0 with value: 0.7833506309062107.\n",
      "[I 2024-10-31 15:47:02,457] Trial 1 finished with value: 0.8251794993423748 and parameters: {'learning_rate': 0.09330606024425668, 'lambda_l1': 4.622589001020832, 'lambda_l2': 0.26587543983272705, 'num_leaves': 12, 'feature_fraction': 0.24672360788274705, 'bagging_fraction': 0.38254534577572263, 'bagging_freq': 2, 'min_child_samples': 46, 'max_depth': 2, 'max_bin': 131, 'min_data_in_leaf': 38}. Best is trial 1 with value: 0.8251794993423748.\n",
      "[I 2024-10-31 15:47:04,660] Trial 2 finished with value: 0.7806095638465581 and parameters: {'learning_rate': 0.019594972058679168, 'lambda_l1': 0.5404103854647329, 'lambda_l2': 0.8168455894760165, 'num_leaves': 18, 'feature_fraction': 0.25973902572668783, 'bagging_fraction': 0.508540663048167, 'bagging_freq': 2, 'min_child_samples': 9, 'max_depth': 4, 'max_bin': 108, 'min_data_in_leaf': 28}. Best is trial 1 with value: 0.8251794993423748.\n",
      "[I 2024-10-31 15:47:06,421] Trial 3 finished with value: 0.8172475667446033 and parameters: {'learning_rate': 0.08889667907018929, 'lambda_l1': 8.536189862866832, 'lambda_l2': 4.138040112561017, 'num_leaves': 13, 'feature_fraction': 0.1781376912051071, 'bagging_fraction': 0.6105398159072942, 'bagging_freq': 2, 'min_child_samples': 16, 'max_depth': 3, 'max_bin': 101, 'min_data_in_leaf': 139}. Best is trial 1 with value: 0.8251794993423748.\n",
      "[I 2024-10-31 15:47:08,701] Trial 4 finished with value: 0.8340228580161337 and parameters: {'learning_rate': 0.01814596135349025, 'lambda_l1': 2.113705944064573, 'lambda_l2': 0.420167205437253, 'num_leaves': 15, 'feature_fraction': 0.5373682234746238, 'bagging_fraction': 0.31091267331531625, 'bagging_freq': 3, 'min_child_samples': 79, 'max_depth': 5, 'max_bin': 145, 'min_data_in_leaf': 98}. Best is trial 4 with value: 0.8340228580161337.\n",
      "[I 2024-10-31 15:47:10,272] Trial 5 finished with value: 0.8376543142379146 and parameters: {'learning_rate': 0.0835361075531176, 'lambda_l1': 0.15030900645056822, 'lambda_l2': 0.24658447214487378, 'num_leaves': 10, 'feature_fraction': 0.36026426461061145, 'bagging_fraction': 0.43320637381368926, 'bagging_freq': 1, 'min_child_samples': 84, 'max_depth': 2, 'max_bin': 114, 'min_data_in_leaf': 91}. Best is trial 5 with value: 0.8376543142379146.\n",
      "[I 2024-10-31 15:47:12,523] Trial 6 finished with value: 0.8361127709272639 and parameters: {'learning_rate': 0.013833249975219963, 'lambda_l1': 4.02155452669029, 'lambda_l2': 0.14096175149815865, 'num_leaves': 20, 'feature_fraction': 0.717795815437326, 'bagging_fraction': 0.31922940892050344, 'bagging_freq': 1, 'min_child_samples': 83, 'max_depth': 4, 'max_bin': 137, 'min_data_in_leaf': 121}. Best is trial 5 with value: 0.8376543142379146.\n",
      "[I 2024-10-31 15:47:14,068] Trial 7 finished with value: 0.7715578897926941 and parameters: {'learning_rate': 0.011858906685575274, 'lambda_l1': 0.5211124595788266, 'lambda_l2': 0.17050539260269293, 'num_leaves': 19, 'feature_fraction': 0.5986385014620463, 'bagging_fraction': 0.39853881491158955, 'bagging_freq': 1, 'min_child_samples': 34, 'max_depth': 2, 'max_bin': 137, 'min_data_in_leaf': 103}. Best is trial 5 with value: 0.8376543142379146.\n",
      "[I 2024-10-31 15:47:15,921] Trial 8 finished with value: 0.8492516620634696 and parameters: {'learning_rate': 0.07712811947156349, 'lambda_l1': 0.8798929749689022, 'lambda_l2': 0.17345566642360938, 'num_leaves': 17, 'feature_fraction': 0.708628038893518, 'bagging_fraction': 0.5367663185416978, 'bagging_freq': 3, 'min_child_samples': 52, 'max_depth': 3, 'max_bin': 121, 'min_data_in_leaf': 23}. Best is trial 8 with value: 0.8492516620634696.\n",
      "[I 2024-10-31 15:47:18,030] Trial 9 finished with value: 0.8273992881322724 and parameters: {'learning_rate': 0.0128201004189169, 'lambda_l1': 0.11557352816269865, 'lambda_l2': 1.8742210985555698, 'num_leaves': 13, 'feature_fraction': 0.5068565529317622, 'bagging_fraction': 0.7445398843556559, 'bagging_freq': 1, 'min_child_samples': 44, 'max_depth': 4, 'max_bin': 111, 'min_data_in_leaf': 30}. Best is trial 8 with value: 0.8492516620634696.\n",
      "[I 2024-10-31 15:47:19,355] Trial 10 finished with value: 0.7995041160542428 and parameters: {'learning_rate': 0.046632924030566285, 'lambda_l1': 1.3112992007873714, 'lambda_l2': 8.691089486124978, 'num_leaves': 17, 'feature_fraction': 0.8828328849421558, 'bagging_fraction': 0.6136588346475399, 'bagging_freq': 3, 'min_child_samples': 64, 'max_depth': 1, 'max_bin': 121, 'min_data_in_leaf': 56}. Best is trial 8 with value: 0.8492516620634696.\n",
      "[I 2024-10-31 15:47:20,882] Trial 11 finished with value: 0.7983279714617119 and parameters: {'learning_rate': 0.05589773202159083, 'lambda_l1': 0.11090572877945773, 'lambda_l2': 0.5256637703102728, 'num_leaves': 10, 'feature_fraction': 0.35462900009984644, 'bagging_fraction': 0.5204938061209768, 'bagging_freq': 3, 'min_child_samples': 65, 'max_depth': 2, 'max_bin': 120, 'min_data_in_leaf': 67}. Best is trial 8 with value: 0.8492516620634696.\n",
      "[I 2024-10-31 15:47:22,049] Trial 12 finished with value: 0.8081272971174924 and parameters: {'learning_rate': 0.0584380592304802, 'lambda_l1': 0.35397284510561594, 'lambda_l2': 0.11043199262255746, 'num_leaves': 10, 'feature_fraction': 0.7175436670081548, 'bagging_fraction': 0.43871428314185207, 'bagging_freq': 3, 'min_child_samples': 100, 'max_depth': 1, 'max_bin': 114, 'min_data_in_leaf': 78}. Best is trial 8 with value: 0.8492516620634696.\n",
      "[I 2024-10-31 15:47:23,970] Trial 13 finished with value: 0.8342125176842174 and parameters: {'learning_rate': 0.035932869914807916, 'lambda_l1': 0.2209220770793134, 'lambda_l2': 0.2805094210329639, 'num_leaves': 15, 'feature_fraction': 0.4373564812614204, 'bagging_fraction': 0.6167129800853254, 'bagging_freq': 2, 'min_child_samples': 65, 'max_depth': 3, 'max_bin': 126, 'min_data_in_leaf': 57}. Best is trial 8 with value: 0.8492516620634696.\n",
      "[I 2024-10-31 15:47:25,716] Trial 14 finished with value: 0.8373335669236159 and parameters: {'learning_rate': 0.07683810841793164, 'lambda_l1': 0.8697279047851351, 'lambda_l2': 1.0193334078798542, 'num_leaves': 17, 'feature_fraction': 0.8500489274928182, 'bagging_fraction': 0.7140177301575984, 'bagging_freq': 2, 'min_child_samples': 29, 'max_depth': 2, 'max_bin': 116, 'min_data_in_leaf': 90}. Best is trial 8 with value: 0.8492516620634696.\n",
      "[I 2024-10-31 15:47:27,277] Trial 15 finished with value: 0.8470204081632653 and parameters: {'learning_rate': 0.0672647077243804, 'lambda_l1': 0.18089331451050095, 'lambda_l2': 0.2544868396817269, 'num_leaves': 12, 'feature_fraction': 0.6860445190790873, 'bagging_fraction': 0.20623265001428076, 'bagging_freq': 3, 'min_child_samples': 56, 'max_depth': 3, 'max_bin': 104, 'min_data_in_leaf': 118}. Best is trial 8 with value: 0.8492516620634696.\n",
      "[I 2024-10-31 15:47:28,866] Trial 16 finished with value: 0.8366461595620295 and parameters: {'learning_rate': 0.038773133083608864, 'lambda_l1': 0.27498949835546865, 'lambda_l2': 0.5684448061268255, 'num_leaves': 12, 'feature_fraction': 0.690297796006737, 'bagging_fraction': 0.21912924338875933, 'bagging_freq': 3, 'min_child_samples': 56, 'max_depth': 3, 'max_bin': 100, 'min_data_in_leaf': 122}. Best is trial 8 with value: 0.8492516620634696.\n",
      "[I 2024-10-31 15:47:31,069] Trial 17 finished with value: 0.855070414876842 and parameters: {'learning_rate': 0.06563441943830989, 'lambda_l1': 1.585701499025233, 'lambda_l2': 1.2140761136129716, 'num_leaves': 14, 'feature_fraction': 0.6319752507941696, 'bagging_fraction': 0.20735355067611028, 'bagging_freq': 3, 'min_child_samples': 33, 'max_depth': 5, 'max_bin': 105, 'min_data_in_leaf': 140}. Best is trial 17 with value: 0.855070414876842.\n",
      "[I 2024-10-31 15:47:33,770] Trial 18 finished with value: 0.8482984293193717 and parameters: {'learning_rate': 0.02842238616445537, 'lambda_l1': 1.8748227534833273, 'lambda_l2': 1.4399284630142775, 'num_leaves': 15, 'feature_fraction': 0.7974739327963711, 'bagging_fraction': 0.5619958938849257, 'bagging_freq': 3, 'min_child_samples': 27, 'max_depth': 5, 'max_bin': 150, 'min_data_in_leaf': 150}. Best is trial 17 with value: 0.855070414876842.\n",
      "[I 2024-10-31 15:47:36,484] Trial 19 finished with value: 0.8494241340197191 and parameters: {'learning_rate': 0.047614975855476534, 'lambda_l1': 1.0124506487390628, 'lambda_l2': 3.8546912594668905, 'num_leaves': 14, 'feature_fraction': 0.5989102746158249, 'bagging_fraction': 0.6736227089780917, 'bagging_freq': 3, 'min_child_samples': 39, 'max_depth': 5, 'max_bin': 108, 'min_data_in_leaf': 46}. Best is trial 17 with value: 0.855070414876842.\n"
     ]
    }
   ],
   "source": [
    "for train_index, test_index in tscv.split(pca_df):\n",
    "    X_train, X_test = pca_df.iloc[train_index], pca_df.iloc[test_index]\n",
    "    y_train, y_test = btc_data_copy_targets.iloc[train_index], btc_data_copy_targets.iloc[test_index]\n",
    "    sampler_complex = TPESampler(n_startup_trials=10, seed=42)\n",
    "    study_complex = optuna.create_study(direction='maximize', sampler=sampler_complex)\n",
    "    study_complex.optimize(objective, n_trials=20)"
   ]
  },
  {
   "cell_type": "markdown",
   "metadata": {},
   "source": [
    "---"
   ]
  },
  {
   "cell_type": "markdown",
   "metadata": {},
   "source": [
    "## Neural Networks (CHANGE THE DATA SPLITAGE)"
   ]
  },
  {
   "cell_type": "code",
   "execution_count": 91,
   "metadata": {},
   "outputs": [],
   "source": [
    "X = combined_df.drop(['close', 'close_target'], axis=1)\n",
    "y = combined_df[\"close_target\"]\n",
    "tscv = TimeSeriesSplit()"
   ]
  },
  {
   "cell_type": "code",
   "execution_count": 92,
   "metadata": {},
   "outputs": [],
   "source": [
    "num = X.select_dtypes(include=['float64', 'int64']).columns\n",
    "\n",
    "numeric = make_pipeline(SimpleImputer(strategy=\"median\"),\n",
    "                        StandardScaler())\n",
    "\n",
    "preproccessing_pipeline = ColumnTransformer([\n",
    "    ('num', numeric, num)\n",
    "    ], remainder='passthrough')"
   ]
  },
  {
   "cell_type": "code",
   "execution_count": 104,
   "metadata": {},
   "outputs": [],
   "source": [
    "# from sklearn.pipeline import make_pipeline, Pipeline\n",
    "\n",
    "# preproccessing = ColumnTransformer([\n",
    "#     ('num', Pipeline([\n",
    "#         ('imputer', SimpleImputer(strategy='mean')),  # Handle missing values\n",
    "#         ('scaler', StandardScaler())  # Scale numerical data\n",
    "#     ]), num)\n",
    "# ], remainder='passthrough')\n",
    "\n",
    "# X_train_processed = preproccessing.fit_transform(X_train)\n",
    "# X_test_processed = preproccessing.transform(X_test)\n",
    "\n",
    "# tf.random.set_seed(42)\n",
    "# nn_model = tf.keras.Sequential([\n",
    "#     tf.keras.layers.Flatten(),\n",
    "#     tf.keras.layers.Dense(300, activation=\"relu\"),\n",
    "#     tf.keras.layers.Dense(1, activation=\"linear\")  # Linear activation for regression\n",
    "# ])\n",
    "\n",
    "# adam_optimizer = AdamW(learning_rate=0.1)\n",
    "\n",
    "# # Use mean squared error for regression\n",
    "# nn_model.compile(loss=\"mean_squared_error\",\n",
    "#                  optimizer=adam_optimizer,\n",
    "#                  metrics=[tf.keras.metrics.RootMeanSquaredError()])\n",
    "\n",
    "# history = nn_model.fit(X_train_processed, y_train, epochs=30, batch_size=8,\n",
    "#                        validation_data=(X_test_processed, y_test))\n"
   ]
  },
  {
   "cell_type": "markdown",
   "metadata": {},
   "source": [
    "<hr>"
   ]
  },
  {
   "cell_type": "code",
   "execution_count": 105,
   "metadata": {},
   "outputs": [
    {
     "name": "stdout",
     "output_type": "stream",
     "text": [
      "Epoch 1/30\n",
      "\u001b[1m2/2\u001b[0m \u001b[32m━━━━━━━━━━━━━━━━━━━━\u001b[0m\u001b[37m\u001b[0m \u001b[1m1s\u001b[0m 166ms/step - loss: 3650553600.0000 - root_mean_squared_error: 60418.8945 - val_loss: 3968795904.0000 - val_root_mean_squared_error: 62998.3789\n",
      "Epoch 2/30\n",
      "\u001b[1m2/2\u001b[0m \u001b[32m━━━━━━━━━━━━━━━━━━━━\u001b[0m\u001b[37m\u001b[0m \u001b[1m0s\u001b[0m 38ms/step - loss: 3649643008.0000 - root_mean_squared_error: 60411.3555 - val_loss: 3967686400.0000 - val_root_mean_squared_error: 62989.5742\n",
      "Epoch 3/30\n",
      "\u001b[1m2/2\u001b[0m \u001b[32m━━━━━━━━━━━━━━━━━━━━\u001b[0m\u001b[37m\u001b[0m \u001b[1m0s\u001b[0m 39ms/step - loss: 3648480256.0000 - root_mean_squared_error: 60401.7305 - val_loss: 3966282496.0000 - val_root_mean_squared_error: 62978.4297\n",
      "Epoch 4/30\n",
      "\u001b[1m2/2\u001b[0m \u001b[32m━━━━━━━━━━━━━━━━━━━━\u001b[0m\u001b[37m\u001b[0m \u001b[1m0s\u001b[0m 34ms/step - loss: 3646931712.0000 - root_mean_squared_error: 60388.9102 - val_loss: 3964512768.0000 - val_root_mean_squared_error: 62964.3789\n",
      "Epoch 5/30\n",
      "\u001b[1m2/2\u001b[0m \u001b[32m━━━━━━━━━━━━━━━━━━━━\u001b[0m\u001b[37m\u001b[0m \u001b[1m0s\u001b[0m 35ms/step - loss: 3644932608.0000 - root_mean_squared_error: 60372.3555 - val_loss: 3962319616.0000 - val_root_mean_squared_error: 62946.9570\n",
      "Epoch 6/30\n",
      "\u001b[1m2/2\u001b[0m \u001b[32m━━━━━━━━━━━━━━━━━━━━\u001b[0m\u001b[37m\u001b[0m \u001b[1m0s\u001b[0m 38ms/step - loss: 3642414336.0000 - root_mean_squared_error: 60351.4961 - val_loss: 3959635200.0000 - val_root_mean_squared_error: 62925.6328\n",
      "Epoch 7/30\n",
      "\u001b[1m2/2\u001b[0m \u001b[32m━━━━━━━━━━━━━━━━━━━━\u001b[0m\u001b[37m\u001b[0m \u001b[1m0s\u001b[0m 30ms/step - loss: 3639304704.0000 - root_mean_squared_error: 60325.7266 - val_loss: 3956387072.0000 - val_root_mean_squared_error: 62899.8164\n",
      "Epoch 8/30\n",
      "\u001b[1m2/2\u001b[0m \u001b[32m━━━━━━━━━━━━━━━━━━━━\u001b[0m\u001b[37m\u001b[0m \u001b[1m0s\u001b[0m 29ms/step - loss: 3635532800.0000 - root_mean_squared_error: 60294.4570 - val_loss: 3952500224.0000 - val_root_mean_squared_error: 62868.9141\n",
      "Epoch 9/30\n",
      "\u001b[1m2/2\u001b[0m \u001b[32m━━━━━━━━━━━━━━━━━━━━\u001b[0m\u001b[37m\u001b[0m \u001b[1m0s\u001b[0m 32ms/step - loss: 3631021056.0000 - root_mean_squared_error: 60257.0312 - val_loss: 3947909120.0000 - val_root_mean_squared_error: 62832.3906\n",
      "Epoch 10/30\n",
      "\u001b[1m2/2\u001b[0m \u001b[32m━━━━━━━━━━━━━━━━━━━━\u001b[0m\u001b[37m\u001b[0m \u001b[1m0s\u001b[0m 32ms/step - loss: 3625693440.0000 - root_mean_squared_error: 60212.8086 - val_loss: 3942544640.0000 - val_root_mean_squared_error: 62789.6875\n",
      "Epoch 11/30\n",
      "\u001b[1m2/2\u001b[0m \u001b[32m━━━━━━━━━━━━━━━━━━━━\u001b[0m\u001b[37m\u001b[0m \u001b[1m0s\u001b[0m 32ms/step - loss: 3619476480.0000 - root_mean_squared_error: 60161.1602 - val_loss: 3936336640.0000 - val_root_mean_squared_error: 62740.2305\n",
      "Epoch 12/30\n",
      "\u001b[1m2/2\u001b[0m \u001b[32m━━━━━━━━━━━━━━━━━━━━\u001b[0m\u001b[37m\u001b[0m \u001b[1m0s\u001b[0m 29ms/step - loss: 3612290560.0000 - root_mean_squared_error: 60101.4062 - val_loss: 3929213184.0000 - val_root_mean_squared_error: 62683.4375\n",
      "Epoch 13/30\n",
      "\u001b[1m2/2\u001b[0m \u001b[32m━━━━━━━━━━━━━━━━━━━━\u001b[0m\u001b[37m\u001b[0m \u001b[1m0s\u001b[0m 26ms/step - loss: 3604058624.0000 - root_mean_squared_error: 60032.8828 - val_loss: 3921121536.0000 - val_root_mean_squared_error: 62618.8594\n",
      "Epoch 14/30\n",
      "\u001b[1m2/2\u001b[0m \u001b[32m━━━━━━━━━━━━━━━━━━━━\u001b[0m\u001b[37m\u001b[0m \u001b[1m0s\u001b[0m 31ms/step - loss: 3594708992.0000 - root_mean_squared_error: 59954.9609 - val_loss: 3912011776.0000 - val_root_mean_squared_error: 62546.0781\n",
      "Epoch 15/30\n",
      "\u001b[1m2/2\u001b[0m \u001b[32m━━━━━━━━━━━━━━━━━━━━\u001b[0m\u001b[37m\u001b[0m \u001b[1m0s\u001b[0m 27ms/step - loss: 3584175360.0000 - root_mean_squared_error: 59867.0469 - val_loss: 3901826048.0000 - val_root_mean_squared_error: 62464.5977\n",
      "Epoch 16/30\n",
      "\u001b[1m2/2\u001b[0m \u001b[32m━━━━━━━━━━━━━━━━━━━━\u001b[0m\u001b[37m\u001b[0m \u001b[1m0s\u001b[0m 30ms/step - loss: 3572393216.0000 - root_mean_squared_error: 59768.5625 - val_loss: 3890510080.0000 - val_root_mean_squared_error: 62373.9531\n",
      "Epoch 17/30\n",
      "\u001b[1m2/2\u001b[0m \u001b[32m━━━━━━━━━━━━━━━━━━━━\u001b[0m\u001b[37m\u001b[0m \u001b[1m0s\u001b[0m 30ms/step - loss: 3559305728.0000 - root_mean_squared_error: 59658.9766 - val_loss: 3878032640.0000 - val_root_mean_squared_error: 62273.8516\n",
      "Epoch 18/30\n",
      "\u001b[1m2/2\u001b[0m \u001b[32m━━━━━━━━━━━━━━━━━━━━\u001b[0m\u001b[37m\u001b[0m \u001b[1m0s\u001b[0m 32ms/step - loss: 3544860672.0000 - root_mean_squared_error: 59537.7852 - val_loss: 3864358400.0000 - val_root_mean_squared_error: 62163.9648\n",
      "Epoch 19/30\n",
      "\u001b[1m2/2\u001b[0m \u001b[32m━━━━━━━━━━━━━━━━━━━━\u001b[0m\u001b[37m\u001b[0m \u001b[1m0s\u001b[0m 34ms/step - loss: 3529015808.0000 - root_mean_squared_error: 59404.5664 - val_loss: 3849453056.0000 - val_root_mean_squared_error: 62043.9609\n",
      "Epoch 20/30\n",
      "\u001b[1m2/2\u001b[0m \u001b[32m━━━━━━━━━━━━━━━━━━━━\u001b[0m\u001b[37m\u001b[0m \u001b[1m0s\u001b[0m 31ms/step - loss: 3511736576.0000 - root_mean_squared_error: 59258.9492 - val_loss: 3833290752.0000 - val_root_mean_squared_error: 61913.5742\n",
      "Epoch 21/30\n",
      "\u001b[1m2/2\u001b[0m \u001b[32m━━━━━━━━━━━━━━━━━━━━\u001b[0m\u001b[37m\u001b[0m \u001b[1m0s\u001b[0m 31ms/step - loss: 3492989184.0000 - root_mean_squared_error: 59100.5508 - val_loss: 3815848960.0000 - val_root_mean_squared_error: 61772.5586\n",
      "Epoch 22/30\n",
      "\u001b[1m2/2\u001b[0m \u001b[32m━━━━━━━━━━━━━━━━━━━━\u001b[0m\u001b[37m\u001b[0m \u001b[1m0s\u001b[0m 32ms/step - loss: 3472736256.0000 - root_mean_squared_error: 58928.9531 - val_loss: 3797122048.0000 - val_root_mean_squared_error: 61620.7930\n",
      "Epoch 23/30\n",
      "\u001b[1m2/2\u001b[0m \u001b[32m━━━━━━━━━━━━━━━━━━━━\u001b[0m\u001b[37m\u001b[0m \u001b[1m0s\u001b[0m 52ms/step - loss: 3450959360.0000 - root_mean_squared_error: 58743.8828 - val_loss: 3777094144.0000 - val_root_mean_squared_error: 61458.0664\n",
      "Epoch 24/30\n",
      "\u001b[1m2/2\u001b[0m \u001b[32m━━━━━━━━━━━━━━━━━━━━\u001b[0m\u001b[37m\u001b[0m \u001b[1m0s\u001b[0m 36ms/step - loss: 3427646976.0000 - root_mean_squared_error: 58545.1172 - val_loss: 3755760128.0000 - val_root_mean_squared_error: 61284.2578\n",
      "Epoch 25/30\n",
      "\u001b[1m2/2\u001b[0m \u001b[32m━━━━━━━━━━━━━━━━━━━━\u001b[0m\u001b[37m\u001b[0m \u001b[1m0s\u001b[0m 29ms/step - loss: 3402788864.0000 - root_mean_squared_error: 58332.4297 - val_loss: 3733121280.0000 - val_root_mean_squared_error: 61099.2734\n",
      "Epoch 26/30\n",
      "\u001b[1m2/2\u001b[0m \u001b[32m━━━━━━━━━━━━━━━━━━━━\u001b[0m\u001b[37m\u001b[0m \u001b[1m0s\u001b[0m 33ms/step - loss: 3376387840.0000 - root_mean_squared_error: 58105.6797 - val_loss: 3709180416.0000 - val_root_mean_squared_error: 60903.0430\n",
      "Epoch 27/30\n",
      "\u001b[1m2/2\u001b[0m \u001b[32m━━━━━━━━━━━━━━━━━━━━\u001b[0m\u001b[37m\u001b[0m \u001b[1m0s\u001b[0m 28ms/step - loss: 3348450304.0000 - root_mean_squared_error: 57864.7734 - val_loss: 3683940096.0000 - val_root_mean_squared_error: 60695.4688\n",
      "Epoch 28/30\n",
      "\u001b[1m2/2\u001b[0m \u001b[32m━━━━━━━━━━━━━━━━━━━━\u001b[0m\u001b[37m\u001b[0m \u001b[1m0s\u001b[0m 34ms/step - loss: 3318984448.0000 - root_mean_squared_error: 57609.5938 - val_loss: 3657411584.0000 - val_root_mean_squared_error: 60476.5391\n",
      "Epoch 29/30\n",
      "\u001b[1m2/2\u001b[0m \u001b[32m━━━━━━━━━━━━━━━━━━━━\u001b[0m\u001b[37m\u001b[0m \u001b[1m0s\u001b[0m 33ms/step - loss: 3288007424.0000 - root_mean_squared_error: 57340.1016 - val_loss: 3629591552.0000 - val_root_mean_squared_error: 60246.0898\n",
      "Epoch 30/30\n",
      "\u001b[1m2/2\u001b[0m \u001b[32m━━━━━━━━━━━━━━━━━━━━\u001b[0m\u001b[37m\u001b[0m \u001b[1m0s\u001b[0m 34ms/step - loss: 3255543296.0000 - root_mean_squared_error: 57056.3086 - val_loss: 3600497664.0000 - val_root_mean_squared_error: 60004.1484\n",
      "Epoch 1/30\n",
      "\u001b[1m4/4\u001b[0m \u001b[32m━━━━━━━━━━━━━━━━━━━━\u001b[0m\u001b[37m\u001b[0m \u001b[1m1s\u001b[0m 62ms/step - loss: 3791504128.0000 - root_mean_squared_error: 61574.8672 - val_loss: 4359291904.0000 - val_root_mean_squared_error: 66024.9375\n",
      "Epoch 2/30\n",
      "\u001b[1m4/4\u001b[0m \u001b[32m━━━━━━━━━━━━━━━━━━━━\u001b[0m\u001b[37m\u001b[0m \u001b[1m0s\u001b[0m 15ms/step - loss: 3789801216.0000 - root_mean_squared_error: 61561.0391 - val_loss: 4356096000.0000 - val_root_mean_squared_error: 66000.7266\n",
      "Epoch 3/30\n",
      "\u001b[1m4/4\u001b[0m \u001b[32m━━━━━━━━━━━━━━━━━━━━\u001b[0m\u001b[37m\u001b[0m \u001b[1m0s\u001b[0m 14ms/step - loss: 3787581184.0000 - root_mean_squared_error: 61542.9883 - val_loss: 4351068672.0000 - val_root_mean_squared_error: 65962.6328\n",
      "Epoch 4/30\n",
      "\u001b[1m4/4\u001b[0m \u001b[32m━━━━━━━━━━━━━━━━━━━━\u001b[0m\u001b[37m\u001b[0m \u001b[1m0s\u001b[0m 12ms/step - loss: 3783414016.0000 - root_mean_squared_error: 61509.1445 - val_loss: 4343736320.0000 - val_root_mean_squared_error: 65907.0312\n",
      "Epoch 5/30\n",
      "\u001b[1m4/4\u001b[0m \u001b[32m━━━━━━━━━━━━━━━━━━━━\u001b[0m\u001b[37m\u001b[0m \u001b[1m0s\u001b[0m 16ms/step - loss: 3782445824.0000 - root_mean_squared_error: 61501.2773 - val_loss: 4333620736.0000 - val_root_mean_squared_error: 65830.2422\n",
      "Epoch 6/30\n",
      "\u001b[1m4/4\u001b[0m \u001b[32m━━━━━━━━━━━━━━━━━━━━\u001b[0m\u001b[37m\u001b[0m \u001b[1m0s\u001b[0m 13ms/step - loss: 3770323200.0000 - root_mean_squared_error: 61402.6523 - val_loss: 4320244224.0000 - val_root_mean_squared_error: 65728.5625\n",
      "Epoch 7/30\n",
      "\u001b[1m4/4\u001b[0m \u001b[32m━━━━━━━━━━━━━━━━━━━━\u001b[0m\u001b[37m\u001b[0m \u001b[1m0s\u001b[0m 13ms/step - loss: 3760262912.0000 - root_mean_squared_error: 61320.6836 - val_loss: 4303101952.0000 - val_root_mean_squared_error: 65598.0312\n",
      "Epoch 8/30\n",
      "\u001b[1m4/4\u001b[0m \u001b[32m━━━━━━━━━━━━━━━━━━━━\u001b[0m\u001b[37m\u001b[0m \u001b[1m0s\u001b[0m 13ms/step - loss: 3747338240.0000 - root_mean_squared_error: 61215.2148 - val_loss: 4281738752.0000 - val_root_mean_squared_error: 65434.9961\n",
      "Epoch 9/30\n",
      "\u001b[1m4/4\u001b[0m \u001b[32m━━━━━━━━━━━━━━━━━━━━\u001b[0m\u001b[37m\u001b[0m \u001b[1m0s\u001b[0m 12ms/step - loss: 3731197952.0000 - root_mean_squared_error: 61083.2500 - val_loss: 4255792640.0000 - val_root_mean_squared_error: 65236.4375\n",
      "Epoch 10/30\n",
      "\u001b[1m4/4\u001b[0m \u001b[32m━━━━━━━━━━━━━━━━━━━━\u001b[0m\u001b[37m\u001b[0m \u001b[1m0s\u001b[0m 13ms/step - loss: 3711541760.0000 - root_mean_squared_error: 60922.1484 - val_loss: 4224997632.0000 - val_root_mean_squared_error: 64999.9805\n",
      "Epoch 11/30\n",
      "\u001b[1m4/4\u001b[0m \u001b[32m━━━━━━━━━━━━━━━━━━━━\u001b[0m\u001b[37m\u001b[0m \u001b[1m0s\u001b[0m 13ms/step - loss: 3688130304.0000 - root_mean_squared_error: 60729.7148 - val_loss: 4189148928.0000 - val_root_mean_squared_error: 64723.6367\n",
      "Epoch 12/30\n",
      "\u001b[1m4/4\u001b[0m \u001b[32m━━━━━━━━━━━━━━━━━━━━\u001b[0m\u001b[37m\u001b[0m \u001b[1m0s\u001b[0m 13ms/step - loss: 3660776960.0000 - root_mean_squared_error: 60504.1016 - val_loss: 4148116736.0000 - val_root_mean_squared_error: 64405.8750\n",
      "Epoch 13/30\n",
      "\u001b[1m4/4\u001b[0m \u001b[32m━━━━━━━━━━━━━━━━━━━━\u001b[0m\u001b[37m\u001b[0m \u001b[1m0s\u001b[0m 14ms/step - loss: 3629358336.0000 - root_mean_squared_error: 60243.9102 - val_loss: 4101807360.0000 - val_root_mean_squared_error: 64045.3555\n",
      "Epoch 14/30\n",
      "\u001b[1m4/4\u001b[0m \u001b[32m━━━━━━━━━━━━━━━━━━━━\u001b[0m\u001b[37m\u001b[0m \u001b[1m0s\u001b[0m 13ms/step - loss: 3593808896.0000 - root_mean_squared_error: 59948.1484 - val_loss: 4050144256.0000 - val_root_mean_squared_error: 63640.7422\n",
      "Epoch 15/30\n",
      "\u001b[1m4/4\u001b[0m \u001b[32m━━━━━━━━━━━━━━━━━━━━\u001b[0m\u001b[37m\u001b[0m \u001b[1m0s\u001b[0m 11ms/step - loss: 3554101248.0000 - root_mean_squared_error: 59616.0586 - val_loss: 3993186560.0000 - val_root_mean_squared_error: 63191.6641\n",
      "Epoch 16/30\n",
      "\u001b[1m4/4\u001b[0m \u001b[32m━━━━━━━━━━━━━━━━━━━━\u001b[0m\u001b[37m\u001b[0m \u001b[1m0s\u001b[0m 12ms/step - loss: 3510246912.0000 - root_mean_squared_error: 59247.1172 - val_loss: 3931008512.0000 - val_root_mean_squared_error: 62697.7539\n",
      "Epoch 17/30\n",
      "\u001b[1m4/4\u001b[0m \u001b[32m━━━━━━━━━━━━━━━━━━━━\u001b[0m\u001b[37m\u001b[0m \u001b[1m0s\u001b[0m 13ms/step - loss: 3462293760.0000 - root_mean_squared_error: 58841.0469 - val_loss: 3863691008.0000 - val_root_mean_squared_error: 62158.5938\n",
      "Epoch 18/30\n",
      "\u001b[1m4/4\u001b[0m \u001b[32m━━━━━━━━━━━━━━━━━━━━\u001b[0m\u001b[37m\u001b[0m \u001b[1m0s\u001b[0m 15ms/step - loss: 3411394304.0000 - root_mean_squared_error: 58406.9414 - val_loss: 3791366656.0000 - val_root_mean_squared_error: 61574.0742\n",
      "Epoch 19/30\n",
      "\u001b[1m4/4\u001b[0m \u001b[32m━━━━━━━━━━━━━━━━━━━━\u001b[0m\u001b[37m\u001b[0m \u001b[1m0s\u001b[0m 13ms/step - loss: 3354478848.0000 - root_mean_squared_error: 57917.6641 - val_loss: 3714232832.0000 - val_root_mean_squared_error: 60944.5078\n",
      "Epoch 20/30\n",
      "\u001b[1m4/4\u001b[0m \u001b[32m━━━━━━━━━━━━━━━━━━━━\u001b[0m\u001b[37m\u001b[0m \u001b[1m0s\u001b[0m 10ms/step - loss: 3294881280.0000 - root_mean_squared_error: 57400.8633 - val_loss: 3632467968.0000 - val_root_mean_squared_error: 60269.9609\n",
      "Epoch 21/30\n",
      "\u001b[1m4/4\u001b[0m \u001b[32m━━━━━━━━━━━━━━━━━━━━\u001b[0m\u001b[37m\u001b[0m \u001b[1m0s\u001b[0m 13ms/step - loss: 3231717120.0000 - root_mean_squared_error: 56848.0039 - val_loss: 3546290688.0000 - val_root_mean_squared_error: 59550.7422\n",
      "Epoch 22/30\n",
      "\u001b[1m4/4\u001b[0m \u001b[32m━━━━━━━━━━━━━━━━━━━━\u001b[0m\u001b[37m\u001b[0m \u001b[1m0s\u001b[0m 24ms/step - loss: 3165187840.0000 - root_mean_squared_error: 56259.8164 - val_loss: 3455973120.0000 - val_root_mean_squared_error: 58787.5234\n",
      "Epoch 23/30\n",
      "\u001b[1m4/4\u001b[0m \u001b[32m━━━━━━━━━━━━━━━━━━━━\u001b[0m\u001b[37m\u001b[0m \u001b[1m0s\u001b[0m 13ms/step - loss: 3095518464.0000 - root_mean_squared_error: 55637.1992 - val_loss: 3361842176.0000 - val_root_mean_squared_error: 57981.3945\n",
      "Epoch 24/30\n",
      "\u001b[1m4/4\u001b[0m \u001b[32m━━━━━━━━━━━━━━━━━━━━\u001b[0m\u001b[37m\u001b[0m \u001b[1m0s\u001b[0m 14ms/step - loss: 3022949376.0000 - root_mean_squared_error: 54981.1680 - val_loss: 3264163072.0000 - val_root_mean_squared_error: 57132.8555\n",
      "Epoch 25/30\n",
      "\u001b[1m4/4\u001b[0m \u001b[32m━━━━━━━━━━━━━━━━━━━━\u001b[0m\u001b[37m\u001b[0m \u001b[1m0s\u001b[0m 13ms/step - loss: 2947753472.0000 - root_mean_squared_error: 54293.0273 - val_loss: 3163252992.0000 - val_root_mean_squared_error: 56242.8047\n",
      "Epoch 26/30\n",
      "\u001b[1m4/4\u001b[0m \u001b[32m━━━━━━━━━━━━━━━━━━━━\u001b[0m\u001b[37m\u001b[0m \u001b[1m0s\u001b[0m 13ms/step - loss: 2872989952.0000 - root_mean_squared_error: 53600.0898 - val_loss: 3059401728.0000 - val_root_mean_squared_error: 55311.8594\n",
      "Epoch 27/30\n",
      "\u001b[1m4/4\u001b[0m \u001b[32m━━━━━━━━━━━━━━━━━━━━\u001b[0m\u001b[37m\u001b[0m \u001b[1m0s\u001b[0m 14ms/step - loss: 2790606848.0000 - root_mean_squared_error: 52826.0000 - val_loss: 2952986624.0000 - val_root_mean_squared_error: 54341.3906\n",
      "Epoch 28/30\n",
      "\u001b[1m4/4\u001b[0m \u001b[32m━━━━━━━━━━━━━━━━━━━━\u001b[0m\u001b[37m\u001b[0m \u001b[1m0s\u001b[0m 11ms/step - loss: 2709253376.0000 - root_mean_squared_error: 52050.2891 - val_loss: 2844394496.0000 - val_root_mean_squared_error: 53332.8633\n",
      "Epoch 29/30\n",
      "\u001b[1m4/4\u001b[0m \u001b[32m━━━━━━━━━━━━━━━━━━━━\u001b[0m\u001b[37m\u001b[0m \u001b[1m0s\u001b[0m 18ms/step - loss: 2626460928.0000 - root_mean_squared_error: 51248.8008 - val_loss: 2734004480.0000 - val_root_mean_squared_error: 52287.7070\n",
      "Epoch 30/30\n",
      "\u001b[1m4/4\u001b[0m \u001b[32m━━━━━━━━━━━━━━━━━━━━\u001b[0m\u001b[37m\u001b[0m \u001b[1m0s\u001b[0m 16ms/step - loss: 2542540544.0000 - root_mean_squared_error: 50423.3945 - val_loss: 2622230784.0000 - val_root_mean_squared_error: 51207.7227\n",
      "Epoch 1/30\n",
      "\u001b[1m6/6\u001b[0m \u001b[32m━━━━━━━━━━━━━━━━━━━━\u001b[0m\u001b[37m\u001b[0m \u001b[1m1s\u001b[0m 42ms/step - loss: 3965967360.0000 - root_mean_squared_error: 62974.2383 - val_loss: 4118011136.0000 - val_root_mean_squared_error: 64171.7305\n",
      "Epoch 2/30\n",
      "\u001b[1m6/6\u001b[0m \u001b[32m━━━━━━━━━━━━━━━━━━━━\u001b[0m\u001b[37m\u001b[0m \u001b[1m0s\u001b[0m 9ms/step - loss: 3960227840.0000 - root_mean_squared_error: 62928.2500 - val_loss: 4107879424.0000 - val_root_mean_squared_error: 64092.7422\n",
      "Epoch 3/30\n",
      "\u001b[1m6/6\u001b[0m \u001b[32m━━━━━━━━━━━━━━━━━━━━\u001b[0m\u001b[37m\u001b[0m \u001b[1m0s\u001b[0m 9ms/step - loss: 3954430208.0000 - root_mean_squared_error: 62882.1719 - val_loss: 4090480896.0000 - val_root_mean_squared_error: 63956.8672\n",
      "Epoch 4/30\n",
      "\u001b[1m6/6\u001b[0m \u001b[32m━━━━━━━━━━━━━━━━━━━━\u001b[0m\u001b[37m\u001b[0m \u001b[1m0s\u001b[0m 9ms/step - loss: 3944505088.0000 - root_mean_squared_error: 62803.2148 - val_loss: 4062930432.0000 - val_root_mean_squared_error: 63741.1211\n",
      "Epoch 5/30\n",
      "\u001b[1m6/6\u001b[0m \u001b[32m━━━━━━━━━━━━━━━━━━━━\u001b[0m\u001b[37m\u001b[0m \u001b[1m0s\u001b[0m 14ms/step - loss: 3934455296.0000 - root_mean_squared_error: 62723.7031 - val_loss: 4022421760.0000 - val_root_mean_squared_error: 63422.5664\n",
      "Epoch 6/30\n",
      "\u001b[1m6/6\u001b[0m \u001b[32m━━━━━━━━━━━━━━━━━━━━\u001b[0m\u001b[37m\u001b[0m \u001b[1m0s\u001b[0m 13ms/step - loss: 3906486784.0000 - root_mean_squared_error: 62499.8359 - val_loss: 3966656768.0000 - val_root_mean_squared_error: 62981.3984\n",
      "Epoch 7/30\n",
      "\u001b[1m6/6\u001b[0m \u001b[32m━━━━━━━━━━━━━━━━━━━━\u001b[0m\u001b[37m\u001b[0m \u001b[1m0s\u001b[0m 9ms/step - loss: 3875851776.0000 - root_mean_squared_error: 62254.2969 - val_loss: 3893837312.0000 - val_root_mean_squared_error: 62400.6211\n",
      "Epoch 8/30\n",
      "\u001b[1m6/6\u001b[0m \u001b[32m━━━━━━━━━━━━━━━━━━━━\u001b[0m\u001b[37m\u001b[0m \u001b[1m0s\u001b[0m 11ms/step - loss: 3836230144.0000 - root_mean_squared_error: 61935.2852 - val_loss: 3802967808.0000 - val_root_mean_squared_error: 61668.2070\n",
      "Epoch 9/30\n",
      "\u001b[1m6/6\u001b[0m \u001b[32m━━━━━━━━━━━━━━━━━━━━\u001b[0m\u001b[37m\u001b[0m \u001b[1m0s\u001b[0m 12ms/step - loss: 3787073024.0000 - root_mean_squared_error: 61537.1992 - val_loss: 3693497344.0000 - val_root_mean_squared_error: 60774.1484\n",
      "Epoch 10/30\n",
      "\u001b[1m6/6\u001b[0m \u001b[32m━━━━━━━━━━━━━━━━━━━━\u001b[0m\u001b[37m\u001b[0m \u001b[1m0s\u001b[0m 12ms/step - loss: 3728090368.0000 - root_mean_squared_error: 61056.1094 - val_loss: 3565606656.0000 - val_root_mean_squared_error: 59712.6992\n",
      "Epoch 11/30\n",
      "\u001b[1m6/6\u001b[0m \u001b[32m━━━━━━━━━━━━━━━━━━━━\u001b[0m\u001b[37m\u001b[0m \u001b[1m0s\u001b[0m 11ms/step - loss: 3659231744.0000 - root_mean_squared_error: 60489.6172 - val_loss: 3420031488.0000 - val_root_mean_squared_error: 58481.0352\n",
      "Epoch 12/30\n",
      "\u001b[1m6/6\u001b[0m \u001b[32m━━━━━━━━━━━━━━━━━━━━\u001b[0m\u001b[37m\u001b[0m \u001b[1m0s\u001b[0m 10ms/step - loss: 3584705024.0000 - root_mean_squared_error: 59870.6172 - val_loss: 3257904384.0000 - val_root_mean_squared_error: 57078.0547\n",
      "Epoch 13/30\n",
      "\u001b[1m6/6\u001b[0m \u001b[32m━━━━━━━━━━━━━━━━━━━━\u001b[0m\u001b[37m\u001b[0m \u001b[1m0s\u001b[0m 8ms/step - loss: 3492687104.0000 - root_mean_squared_error: 59096.9727 - val_loss: 3080975616.0000 - val_root_mean_squared_error: 55506.5352\n",
      "Epoch 14/30\n",
      "\u001b[1m6/6\u001b[0m \u001b[32m━━━━━━━━━━━━━━━━━━━━\u001b[0m\u001b[37m\u001b[0m \u001b[1m0s\u001b[0m 9ms/step - loss: 3395891200.0000 - root_mean_squared_error: 58272.2305 - val_loss: 2891371264.0000 - val_root_mean_squared_error: 53771.4727\n",
      "Epoch 15/30\n",
      "\u001b[1m6/6\u001b[0m \u001b[32m━━━━━━━━━━━━━━━━━━━━\u001b[0m\u001b[37m\u001b[0m \u001b[1m0s\u001b[0m 9ms/step - loss: 3290904832.0000 - root_mean_squared_error: 57364.2578 - val_loss: 2691509504.0000 - val_root_mean_squared_error: 51879.7617\n",
      "Epoch 16/30\n",
      "\u001b[1m6/6\u001b[0m \u001b[32m━━━━━━━━━━━━━━━━━━━━\u001b[0m\u001b[37m\u001b[0m \u001b[1m0s\u001b[0m 11ms/step - loss: 3178526208.0000 - root_mean_squared_error: 56376.0977 - val_loss: 2484034048.0000 - val_root_mean_squared_error: 49840.0859\n",
      "Epoch 17/30\n",
      "\u001b[1m6/6\u001b[0m \u001b[32m━━━━━━━━━━━━━━━━━━━━\u001b[0m\u001b[37m\u001b[0m \u001b[1m0s\u001b[0m 9ms/step - loss: 3069036800.0000 - root_mean_squared_error: 55396.6562 - val_loss: 2271872256.0000 - val_root_mean_squared_error: 47664.1602\n",
      "Epoch 18/30\n",
      "\u001b[1m6/6\u001b[0m \u001b[32m━━━━━━━━━━━━━━━━━━━━\u001b[0m\u001b[37m\u001b[0m \u001b[1m0s\u001b[0m 8ms/step - loss: 2935381504.0000 - root_mean_squared_error: 54176.2148 - val_loss: 2058165760.0000 - val_root_mean_squared_error: 45367.0117\n",
      "Epoch 19/30\n",
      "\u001b[1m6/6\u001b[0m \u001b[32m━━━━━━━━━━━━━━━━━━━━\u001b[0m\u001b[37m\u001b[0m \u001b[1m0s\u001b[0m 11ms/step - loss: 2806693376.0000 - root_mean_squared_error: 52974.7852 - val_loss: 1846014848.0000 - val_root_mean_squared_error: 42965.2734\n",
      "Epoch 20/30\n",
      "\u001b[1m6/6\u001b[0m \u001b[32m━━━━━━━━━━━━━━━━━━━━\u001b[0m\u001b[37m\u001b[0m \u001b[1m0s\u001b[0m 8ms/step - loss: 2674748416.0000 - root_mean_squared_error: 51713.8516 - val_loss: 1638511872.0000 - val_root_mean_squared_error: 40478.5352\n",
      "Epoch 21/30\n",
      "\u001b[1m6/6\u001b[0m \u001b[32m━━━━━━━━━━━━━━━━━━━━\u001b[0m\u001b[37m\u001b[0m \u001b[1m0s\u001b[0m 8ms/step - loss: 2552037632.0000 - root_mean_squared_error: 50513.3320 - val_loss: 1438820864.0000 - val_root_mean_squared_error: 37931.7930\n",
      "Epoch 22/30\n",
      "\u001b[1m6/6\u001b[0m \u001b[32m━━━━━━━━━━━━━━━━━━━━\u001b[0m\u001b[37m\u001b[0m \u001b[1m0s\u001b[0m 8ms/step - loss: 2405750272.0000 - root_mean_squared_error: 49042.3828 - val_loss: 1249959680.0000 - val_root_mean_squared_error: 35354.7695\n",
      "Epoch 23/30\n",
      "\u001b[1m6/6\u001b[0m \u001b[32m━━━━━━━━━━━━━━━━━━━━\u001b[0m\u001b[37m\u001b[0m \u001b[1m0s\u001b[0m 10ms/step - loss: 2269405696.0000 - root_mean_squared_error: 47631.8984 - val_loss: 1074703872.0000 - val_root_mean_squared_error: 32782.6758\n",
      "Epoch 24/30\n",
      "\u001b[1m6/6\u001b[0m \u001b[32m━━━━━━━━━━━━━━━━━━━━\u001b[0m\u001b[37m\u001b[0m \u001b[1m0s\u001b[0m 10ms/step - loss: 2137798912.0000 - root_mean_squared_error: 46227.2773 - val_loss: 915501120.0000 - val_root_mean_squared_error: 30257.2500\n",
      "Epoch 25/30\n",
      "\u001b[1m6/6\u001b[0m \u001b[32m━━━━━━━━━━━━━━━━━━━━\u001b[0m\u001b[37m\u001b[0m \u001b[1m0s\u001b[0m 9ms/step - loss: 2007042176.0000 - root_mean_squared_error: 44789.0039 - val_loss: 774427968.0000 - val_root_mean_squared_error: 27828.5469\n",
      "Epoch 26/30\n",
      "\u001b[1m6/6\u001b[0m \u001b[32m━━━━━━━━━━━━━━━━━━━━\u001b[0m\u001b[37m\u001b[0m \u001b[1m0s\u001b[0m 9ms/step - loss: 1879823616.0000 - root_mean_squared_error: 43343.6055 - val_loss: 653049408.0000 - val_root_mean_squared_error: 25554.8320\n",
      "Epoch 27/30\n",
      "\u001b[1m6/6\u001b[0m \u001b[32m━━━━━━━━━━━━━━━━━━━━\u001b[0m\u001b[37m\u001b[0m \u001b[1m0s\u001b[0m 17ms/step - loss: 1757079040.0000 - root_mean_squared_error: 41901.5391 - val_loss: 552477632.0000 - val_root_mean_squared_error: 23504.8418\n",
      "Epoch 28/30\n",
      "\u001b[1m6/6\u001b[0m \u001b[32m━━━━━━━━━━━━━━━━━━━━\u001b[0m\u001b[37m\u001b[0m \u001b[1m0s\u001b[0m 12ms/step - loss: 1639643648.0000 - root_mean_squared_error: 40473.5117 - val_loss: 473294336.0000 - val_root_mean_squared_error: 21755.3281\n",
      "Epoch 29/30\n",
      "\u001b[1m6/6\u001b[0m \u001b[32m━━━━━━━━━━━━━━━━━━━━\u001b[0m\u001b[37m\u001b[0m \u001b[1m0s\u001b[0m 9ms/step - loss: 1528226176.0000 - root_mean_squared_error: 39070.1758 - val_loss: 415513376.0000 - val_root_mean_squared_error: 20384.1445\n",
      "Epoch 30/30\n",
      "\u001b[1m6/6\u001b[0m \u001b[32m━━━━━━━━━━━━━━━━━━━━\u001b[0m\u001b[37m\u001b[0m \u001b[1m0s\u001b[0m 11ms/step - loss: 1423396608.0000 - root_mean_squared_error: 37701.9297 - val_loss: 378596288.0000 - val_root_mean_squared_error: 19457.5508\n",
      "Epoch 1/30\n",
      "\u001b[1m8/8\u001b[0m \u001b[32m━━━━━━━━━━━━━━━━━━━━\u001b[0m\u001b[37m\u001b[0m \u001b[1m1s\u001b[0m 28ms/step - loss: 4031763456.0000 - root_mean_squared_error: 63496.0469 - val_loss: 1879393920.0000 - val_root_mean_squared_error: 43351.9766\n",
      "Epoch 2/30\n",
      "\u001b[1m8/8\u001b[0m \u001b[32m━━━━━━━━━━━━━━━━━━━━\u001b[0m\u001b[37m\u001b[0m \u001b[1m0s\u001b[0m 5ms/step - loss: 4026449664.0000 - root_mean_squared_error: 63454.1836 - val_loss: 1872049792.0000 - val_root_mean_squared_error: 43267.1914\n",
      "Epoch 3/30\n",
      "\u001b[1m8/8\u001b[0m \u001b[32m━━━━━━━━━━━━━━━━━━━━\u001b[0m\u001b[37m\u001b[0m \u001b[1m0s\u001b[0m 6ms/step - loss: 4014983936.0000 - root_mean_squared_error: 63363.7695 - val_loss: 1858154624.0000 - val_root_mean_squared_error: 43106.3164\n",
      "Epoch 4/30\n",
      "\u001b[1m8/8\u001b[0m \u001b[32m━━━━━━━━━━━━━━━━━━━━\u001b[0m\u001b[37m\u001b[0m \u001b[1m0s\u001b[0m 6ms/step - loss: 3994276864.0000 - root_mean_squared_error: 63200.1445 - val_loss: 1836028800.0000 - val_root_mean_squared_error: 42848.9062\n",
      "Epoch 5/30\n",
      "\u001b[1m8/8\u001b[0m \u001b[32m━━━━━━━━━━━━━━━━━━━━\u001b[0m\u001b[37m\u001b[0m \u001b[1m0s\u001b[0m 5ms/step - loss: 3964260096.0000 - root_mean_squared_error: 62962.1914 - val_loss: 1804431744.0000 - val_root_mean_squared_error: 42478.6016\n",
      "Epoch 6/30\n",
      "\u001b[1m8/8\u001b[0m \u001b[32m━━━━━━━━━━━━━━━━━━━━\u001b[0m\u001b[37m\u001b[0m \u001b[1m0s\u001b[0m 7ms/step - loss: 3914729472.0000 - root_mean_squared_error: 62567.5547 - val_loss: 1762681600.0000 - val_root_mean_squared_error: 41984.3008\n",
      "Epoch 7/30\n",
      "\u001b[1m8/8\u001b[0m \u001b[32m━━━━━━━━━━━━━━━━━━━━\u001b[0m\u001b[37m\u001b[0m \u001b[1m0s\u001b[0m 5ms/step - loss: 3852596224.0000 - root_mean_squared_error: 62068.9336 - val_loss: 1710552192.0000 - val_root_mean_squared_error: 41358.8242\n",
      "Epoch 8/30\n",
      "\u001b[1m8/8\u001b[0m \u001b[32m━━━━━━━━━━━━━━━━━━━━\u001b[0m\u001b[37m\u001b[0m \u001b[1m0s\u001b[0m 7ms/step - loss: 3774550016.0000 - root_mean_squared_error: 61436.8555 - val_loss: 1648207104.0000 - val_root_mean_squared_error: 40598.1172\n",
      "Epoch 9/30\n",
      "\u001b[1m8/8\u001b[0m \u001b[32m━━━━━━━━━━━━━━━━━━━━\u001b[0m\u001b[37m\u001b[0m \u001b[1m0s\u001b[0m 6ms/step - loss: 3680600064.0000 - root_mean_squared_error: 60667.1953 - val_loss: 1576380800.0000 - val_root_mean_squared_error: 39703.6641\n",
      "Epoch 10/30\n",
      "\u001b[1m8/8\u001b[0m \u001b[32m━━━━━━━━━━━━━━━━━━━━\u001b[0m\u001b[37m\u001b[0m \u001b[1m0s\u001b[0m 8ms/step - loss: 3571332352.0000 - root_mean_squared_error: 59759.5352 - val_loss: 1496187392.0000 - val_root_mean_squared_error: 38680.5820\n",
      "Epoch 11/30\n",
      "\u001b[1m8/8\u001b[0m \u001b[32m━━━━━━━━━━━━━━━━━━━━\u001b[0m\u001b[37m\u001b[0m \u001b[1m0s\u001b[0m 6ms/step - loss: 3447812864.0000 - root_mean_squared_error: 58716.5273 - val_loss: 1409223296.0000 - val_root_mean_squared_error: 37539.6211\n",
      "Epoch 12/30\n",
      "\u001b[1m8/8\u001b[0m \u001b[32m━━━━━━━━━━━━━━━━━━━━\u001b[0m\u001b[37m\u001b[0m \u001b[1m0s\u001b[0m 5ms/step - loss: 3311517184.0000 - root_mean_squared_error: 57543.6289 - val_loss: 1316795008.0000 - val_root_mean_squared_error: 36287.6719\n",
      "Epoch 13/30\n",
      "\u001b[1m8/8\u001b[0m \u001b[32m━━━━━━━━━━━━━━━━━━━━\u001b[0m\u001b[37m\u001b[0m \u001b[1m0s\u001b[0m 9ms/step - loss: 3164221696.0000 - root_mean_squared_error: 56248.4922 - val_loss: 1220615424.0000 - val_root_mean_squared_error: 34937.3086\n",
      "Epoch 14/30\n",
      "\u001b[1m8/8\u001b[0m \u001b[32m━━━━━━━━━━━━━━━━━━━━\u001b[0m\u001b[37m\u001b[0m \u001b[1m0s\u001b[0m 8ms/step - loss: 3007912192.0000 - root_mean_squared_error: 54840.5586 - val_loss: 1122475776.0000 - val_root_mean_squared_error: 33503.3711\n",
      "Epoch 15/30\n",
      "\u001b[1m8/8\u001b[0m \u001b[32m━━━━━━━━━━━━━━━━━━━━\u001b[0m\u001b[37m\u001b[0m \u001b[1m0s\u001b[0m 7ms/step - loss: 2844816896.0000 - root_mean_squared_error: 53331.7969 - val_loss: 1024085056.0000 - val_root_mean_squared_error: 32001.3281\n",
      "Epoch 16/30\n",
      "\u001b[1m8/8\u001b[0m \u001b[32m━━━━━━━━━━━━━━━━━━━━\u001b[0m\u001b[37m\u001b[0m \u001b[1m0s\u001b[0m 8ms/step - loss: 2671992576.0000 - root_mean_squared_error: 51685.7031 - val_loss: 927104320.0000 - val_root_mean_squared_error: 30448.3887\n",
      "Epoch 17/30\n",
      "\u001b[1m8/8\u001b[0m \u001b[32m━━━━━━━━━━━━━━━━━━━━\u001b[0m\u001b[37m\u001b[0m \u001b[1m0s\u001b[0m 6ms/step - loss: 2507618560.0000 - root_mean_squared_error: 50068.2109 - val_loss: 833030144.0000 - val_root_mean_squared_error: 28862.2617\n",
      "Epoch 18/30\n",
      "\u001b[1m8/8\u001b[0m \u001b[32m━━━━━━━━━━━━━━━━━━━━\u001b[0m\u001b[37m\u001b[0m \u001b[1m0s\u001b[0m 12ms/step - loss: 2330532096.0000 - root_mean_squared_error: 48266.3164 - val_loss: 743153536.0000 - val_root_mean_squared_error: 27260.8418\n",
      "Epoch 19/30\n",
      "\u001b[1m8/8\u001b[0m \u001b[32m━━━━━━━━━━━━━━━━━━━━\u001b[0m\u001b[37m\u001b[0m \u001b[1m0s\u001b[0m 7ms/step - loss: 2162465536.0000 - root_mean_squared_error: 46492.8242 - val_loss: 658636928.0000 - val_root_mean_squared_error: 25663.9219\n",
      "Epoch 20/30\n",
      "\u001b[1m8/8\u001b[0m \u001b[32m━━━━━━━━━━━━━━━━━━━━\u001b[0m\u001b[37m\u001b[0m \u001b[1m0s\u001b[0m 9ms/step - loss: 2009309312.0000 - root_mean_squared_error: 44811.9883 - val_loss: 580483136.0000 - val_root_mean_squared_error: 24093.2168\n",
      "Epoch 21/30\n",
      "\u001b[1m8/8\u001b[0m \u001b[32m━━━━━━━━━━━━━━━━━━━━\u001b[0m\u001b[37m\u001b[0m \u001b[1m0s\u001b[0m 8ms/step - loss: 1853568256.0000 - root_mean_squared_error: 43037.9023 - val_loss: 509046752.0000 - val_root_mean_squared_error: 22562.0645\n",
      "Epoch 22/30\n",
      "\u001b[1m8/8\u001b[0m \u001b[32m━━━━━━━━━━━━━━━━━━━━\u001b[0m\u001b[37m\u001b[0m \u001b[1m0s\u001b[0m 9ms/step - loss: 1705833088.0000 - root_mean_squared_error: 41284.8164 - val_loss: 444557440.0000 - val_root_mean_squared_error: 21084.5312\n",
      "Epoch 23/30\n",
      "\u001b[1m8/8\u001b[0m \u001b[32m━━━━━━━━━━━━━━━━━━━━\u001b[0m\u001b[37m\u001b[0m \u001b[1m0s\u001b[0m 10ms/step - loss: 1567264640.0000 - root_mean_squared_error: 39570.2812 - val_loss: 387150784.0000 - val_root_mean_squared_error: 19676.1484\n",
      "Epoch 24/30\n",
      "\u001b[1m8/8\u001b[0m \u001b[32m━━━━━━━━━━━━━━━━━━━━\u001b[0m\u001b[37m\u001b[0m \u001b[1m0s\u001b[0m 12ms/step - loss: 1438662656.0000 - root_mean_squared_error: 37910.1289 - val_loss: 336510464.0000 - val_root_mean_squared_error: 18344.2207\n",
      "Epoch 25/30\n",
      "\u001b[1m8/8\u001b[0m \u001b[32m━━━━━━━━━━━━━━━━━━━━\u001b[0m\u001b[37m\u001b[0m \u001b[1m0s\u001b[0m 5ms/step - loss: 1320479488.0000 - root_mean_squared_error: 36318.0742 - val_loss: 292132032.0000 - val_root_mean_squared_error: 17091.8711\n",
      "Epoch 26/30\n",
      "\u001b[1m8/8\u001b[0m \u001b[32m━━━━━━━━━━━━━━━━━━━━\u001b[0m\u001b[37m\u001b[0m \u001b[1m0s\u001b[0m 7ms/step - loss: 1212773632.0000 - root_mean_squared_error: 34804.2812 - val_loss: 253120448.0000 - val_root_mean_squared_error: 15909.7598\n",
      "Epoch 27/30\n",
      "\u001b[1m8/8\u001b[0m \u001b[32m━━━━━━━━━━━━━━━━━━━━\u001b[0m\u001b[37m\u001b[0m \u001b[1m0s\u001b[0m 5ms/step - loss: 1102994560.0000 - root_mean_squared_error: 33192.0938 - val_loss: 218480704.0000 - val_root_mean_squared_error: 14781.0928\n",
      "Epoch 28/30\n",
      "\u001b[1m8/8\u001b[0m \u001b[32m━━━━━━━━━━━━━━━━━━━━\u001b[0m\u001b[37m\u001b[0m \u001b[1m0s\u001b[0m 6ms/step - loss: 1016028544.0000 - root_mean_squared_error: 31856.5273 - val_loss: 187313072.0000 - val_root_mean_squared_error: 13686.2363\n",
      "Epoch 29/30\n",
      "\u001b[1m8/8\u001b[0m \u001b[32m━━━━━━━━━━━━━━━━━━━━\u001b[0m\u001b[37m\u001b[0m \u001b[1m0s\u001b[0m 6ms/step - loss: 948599872.0000 - root_mean_squared_error: 30780.5879 - val_loss: 159585840.0000 - val_root_mean_squared_error: 12632.7285\n",
      "Epoch 30/30\n",
      "\u001b[1m8/8\u001b[0m \u001b[32m━━━━━━━━━━━━━━━━━━━━\u001b[0m\u001b[37m\u001b[0m \u001b[1m0s\u001b[0m 6ms/step - loss: 877756480.0000 - root_mean_squared_error: 29609.5059 - val_loss: 135177168.0000 - val_root_mean_squared_error: 11626.5713\n",
      "Epoch 1/30\n",
      "\u001b[1m10/10\u001b[0m \u001b[32m━━━━━━━━━━━━━━━━━━━━\u001b[0m\u001b[37m\u001b[0m \u001b[1m1s\u001b[0m 20ms/step - loss: 3637519872.0000 - root_mean_squared_error: 60309.8359 - val_loss: 1342917248.0000 - val_root_mean_squared_error: 36645.8359\n",
      "Epoch 2/30\n",
      "\u001b[1m10/10\u001b[0m \u001b[32m━━━━━━━━━━━━━━━━━━━━\u001b[0m\u001b[37m\u001b[0m \u001b[1m0s\u001b[0m 6ms/step - loss: 3633357824.0000 - root_mean_squared_error: 60275.2031 - val_loss: 1334256512.0000 - val_root_mean_squared_error: 36527.4766\n",
      "Epoch 3/30\n",
      "\u001b[1m10/10\u001b[0m \u001b[32m━━━━━━━━━━━━━━━━━━━━\u001b[0m\u001b[37m\u001b[0m \u001b[1m0s\u001b[0m 4ms/step - loss: 3612466432.0000 - root_mean_squared_error: 60101.8711 - val_loss: 1316597504.0000 - val_root_mean_squared_error: 36284.9492\n",
      "Epoch 4/30\n",
      "\u001b[1m10/10\u001b[0m \u001b[32m━━━━━━━━━━━━━━━━━━━━\u001b[0m\u001b[37m\u001b[0m \u001b[1m0s\u001b[0m 5ms/step - loss: 3584197376.0000 - root_mean_squared_error: 59866.0039 - val_loss: 1286753024.0000 - val_root_mean_squared_error: 35871.3398\n",
      "Epoch 5/30\n",
      "\u001b[1m10/10\u001b[0m \u001b[32m━━━━━━━━━━━━━━━━━━━━\u001b[0m\u001b[37m\u001b[0m \u001b[1m0s\u001b[0m 4ms/step - loss: 3532011264.0000 - root_mean_squared_error: 59428.5820 - val_loss: 1243400960.0000 - val_root_mean_squared_error: 35261.8906\n",
      "Epoch 6/30\n",
      "\u001b[1m10/10\u001b[0m \u001b[32m━━━━━━━━━━━━━━━━━━━━\u001b[0m\u001b[37m\u001b[0m \u001b[1m0s\u001b[0m 5ms/step - loss: 3458922752.0000 - root_mean_squared_error: 58810.8359 - val_loss: 1186461440.0000 - val_root_mean_squared_error: 34445.0508\n",
      "Epoch 7/30\n",
      "\u001b[1m10/10\u001b[0m \u001b[32m━━━━━━━━━━━━━━━━━━━━\u001b[0m\u001b[37m\u001b[0m \u001b[1m0s\u001b[0m 5ms/step - loss: 3359892992.0000 - root_mean_squared_error: 57962.9141 - val_loss: 1116880000.0000 - val_root_mean_squared_error: 33419.7539\n",
      "Epoch 8/30\n",
      "\u001b[1m10/10\u001b[0m \u001b[32m━━━━━━━━━━━━━━━━━━━━\u001b[0m\u001b[37m\u001b[0m \u001b[1m0s\u001b[0m 6ms/step - loss: 3237506048.0000 - root_mean_squared_error: 56897.5391 - val_loss: 1036517952.0000 - val_root_mean_squared_error: 32194.9980\n",
      "Epoch 9/30\n",
      "\u001b[1m10/10\u001b[0m \u001b[32m━━━━━━━━━━━━━━━━━━━━\u001b[0m\u001b[37m\u001b[0m \u001b[1m0s\u001b[0m 5ms/step - loss: 3088566784.0000 - root_mean_squared_error: 55573.3086 - val_loss: 947588224.0000 - val_root_mean_squared_error: 30782.9219\n",
      "Epoch 10/30\n",
      "\u001b[1m10/10\u001b[0m \u001b[32m━━━━━━━━━━━━━━━━━━━━\u001b[0m\u001b[37m\u001b[0m \u001b[1m0s\u001b[0m 6ms/step - loss: 2922419456.0000 - root_mean_squared_error: 54058.0586 - val_loss: 852418752.0000 - val_root_mean_squared_error: 29196.2109\n",
      "Epoch 11/30\n",
      "\u001b[1m10/10\u001b[0m \u001b[32m━━━━━━━━━━━━━━━━━━━━\u001b[0m\u001b[37m\u001b[0m \u001b[1m0s\u001b[0m 5ms/step - loss: 2738953216.0000 - root_mean_squared_error: 52333.8477 - val_loss: 753736000.0000 - val_root_mean_squared_error: 27454.2520\n",
      "Epoch 12/30\n",
      "\u001b[1m10/10\u001b[0m \u001b[32m━━━━━━━━━━━━━━━━━━━━\u001b[0m\u001b[37m\u001b[0m \u001b[1m0s\u001b[0m 5ms/step - loss: 2547012608.0000 - root_mean_squared_error: 50466.8906 - val_loss: 654372992.0000 - val_root_mean_squared_error: 25580.7148\n",
      "Epoch 13/30\n",
      "\u001b[1m10/10\u001b[0m \u001b[32m━━━━━━━━━━━━━━━━━━━━\u001b[0m\u001b[37m\u001b[0m \u001b[1m0s\u001b[0m 7ms/step - loss: 2334429952.0000 - root_mean_squared_error: 48314.8594 - val_loss: 557012352.0000 - val_root_mean_squared_error: 23601.1094\n",
      "Epoch 14/30\n",
      "\u001b[1m10/10\u001b[0m \u001b[32m━━━━━━━━━━━━━━━━━━━━\u001b[0m\u001b[37m\u001b[0m \u001b[1m0s\u001b[0m 5ms/step - loss: 2121513728.0000 - root_mean_squared_error: 46058.5820 - val_loss: 464110656.0000 - val_root_mean_squared_error: 21543.2285\n",
      "Epoch 15/30\n",
      "\u001b[1m10/10\u001b[0m \u001b[32m━━━━━━━━━━━━━━━━━━━━\u001b[0m\u001b[37m\u001b[0m \u001b[1m0s\u001b[0m 6ms/step - loss: 1911368064.0000 - root_mean_squared_error: 43717.3867 - val_loss: 377787744.0000 - val_root_mean_squared_error: 19436.7617\n",
      "Epoch 16/30\n",
      "\u001b[1m10/10\u001b[0m \u001b[32m━━━━━━━━━━━━━━━━━━━━\u001b[0m\u001b[37m\u001b[0m \u001b[1m0s\u001b[0m 7ms/step - loss: 1695788160.0000 - root_mean_squared_error: 41177.3008 - val_loss: 299832736.0000 - val_root_mean_squared_error: 17315.6797\n",
      "Epoch 17/30\n",
      "\u001b[1m10/10\u001b[0m \u001b[32m━━━━━━━━━━━━━━━━━━━━\u001b[0m\u001b[37m\u001b[0m \u001b[1m0s\u001b[0m 7ms/step - loss: 1497099648.0000 - root_mean_squared_error: 38689.3828 - val_loss: 231653984.0000 - val_root_mean_squared_error: 15220.1836\n",
      "Epoch 18/30\n",
      "\u001b[1m10/10\u001b[0m \u001b[32m━━━━━━━━━━━━━━━━━━━━\u001b[0m\u001b[37m\u001b[0m \u001b[1m0s\u001b[0m 5ms/step - loss: 1296755712.0000 - root_mean_squared_error: 36004.9336 - val_loss: 173861072.0000 - val_root_mean_squared_error: 13185.6387\n",
      "Epoch 19/30\n",
      "\u001b[1m10/10\u001b[0m \u001b[32m━━━━━━━━━━━━━━━━━━━━\u001b[0m\u001b[37m\u001b[0m \u001b[1m0s\u001b[0m 5ms/step - loss: 1115498368.0000 - root_mean_squared_error: 33391.3789 - val_loss: 126471784.0000 - val_root_mean_squared_error: 11245.9678\n",
      "Epoch 20/30\n",
      "\u001b[1m10/10\u001b[0m \u001b[32m━━━━━━━━━━━━━━━━━━━━\u001b[0m\u001b[37m\u001b[0m \u001b[1m0s\u001b[0m 5ms/step - loss: 949634240.0000 - root_mean_squared_error: 30805.8867 - val_loss: 89091960.0000 - val_root_mean_squared_error: 9438.8535\n",
      "Epoch 21/30\n",
      "\u001b[1m10/10\u001b[0m \u001b[32m━━━━━━━━━━━━━━━━━━━━\u001b[0m\u001b[37m\u001b[0m \u001b[1m0s\u001b[0m 4ms/step - loss: 800639872.0000 - root_mean_squared_error: 28282.4395 - val_loss: 60697180.0000 - val_root_mean_squared_error: 7790.8394\n",
      "Epoch 22/30\n",
      "\u001b[1m10/10\u001b[0m \u001b[32m━━━━━━━━━━━━━━━━━━━━\u001b[0m\u001b[37m\u001b[0m \u001b[1m0s\u001b[0m 4ms/step - loss: 669275072.0000 - root_mean_squared_error: 25854.0938 - val_loss: 40058256.0000 - val_root_mean_squared_error: 6329.1592\n",
      "Epoch 23/30\n",
      "\u001b[1m10/10\u001b[0m \u001b[32m━━━━━━━━━━━━━━━━━━━━\u001b[0m\u001b[37m\u001b[0m \u001b[1m0s\u001b[0m 6ms/step - loss: 555558912.0000 - root_mean_squared_error: 23550.8887 - val_loss: 25842318.0000 - val_root_mean_squared_error: 5083.5342\n",
      "Epoch 24/30\n",
      "\u001b[1m10/10\u001b[0m \u001b[32m━━━━━━━━━━━━━━━━━━━━\u001b[0m\u001b[37m\u001b[0m \u001b[1m0s\u001b[0m 4ms/step - loss: 460495936.0000 - root_mean_squared_error: 21438.6582 - val_loss: 16713035.0000 - val_root_mean_squared_error: 4088.1580\n",
      "Epoch 25/30\n",
      "\u001b[1m10/10\u001b[0m \u001b[32m━━━━━━━━━━━━━━━━━━━━\u001b[0m\u001b[37m\u001b[0m \u001b[1m0s\u001b[0m 4ms/step - loss: 378120128.0000 - root_mean_squared_error: 19420.3438 - val_loss: 11393913.0000 - val_root_mean_squared_error: 3375.4871\n",
      "Epoch 26/30\n",
      "\u001b[1m10/10\u001b[0m \u001b[32m━━━━━━━━━━━━━━━━━━━━\u001b[0m\u001b[37m\u001b[0m \u001b[1m0s\u001b[0m 5ms/step - loss: 311776320.0000 - root_mean_squared_error: 17630.2480 - val_loss: 8771989.0000 - val_root_mean_squared_error: 2961.7544\n",
      "Epoch 27/30\n",
      "\u001b[1m10/10\u001b[0m \u001b[32m━━━━━━━━━━━━━━━━━━━━\u001b[0m\u001b[37m\u001b[0m \u001b[1m0s\u001b[0m 5ms/step - loss: 261974400.0000 - root_mean_squared_error: 16161.8857 - val_loss: 7955030.5000 - val_root_mean_squared_error: 2820.4663\n",
      "Epoch 28/30\n",
      "\u001b[1m10/10\u001b[0m \u001b[32m━━━━━━━━━━━━━━━━━━━━\u001b[0m\u001b[37m\u001b[0m \u001b[1m0s\u001b[0m 6ms/step - loss: 211857472.0000 - root_mean_squared_error: 14527.1484 - val_loss: 8255378.0000 - val_root_mean_squared_error: 2873.2173\n",
      "Epoch 29/30\n",
      "\u001b[1m10/10\u001b[0m \u001b[32m━━━━━━━━━━━━━━━━━━━━\u001b[0m\u001b[37m\u001b[0m \u001b[1m0s\u001b[0m 7ms/step - loss: 184475808.0000 - root_mean_squared_error: 13558.5039 - val_loss: 9202795.0000 - val_root_mean_squared_error: 3033.6108\n",
      "Epoch 30/30\n",
      "\u001b[1m10/10\u001b[0m \u001b[32m━━━━━━━━━━━━━━━━━━━━\u001b[0m\u001b[37m\u001b[0m \u001b[1m0s\u001b[0m 5ms/step - loss: 155491232.0000 - root_mean_squared_error: 12442.2256 - val_loss: 10484335.0000 - val_root_mean_squared_error: 3237.9524\n"
     ]
    }
   ],
   "source": [
    "# TimeSeriesSplit для кросс-валидации\n",
    "tscv = TimeSeriesSplit(n_splits=5)\n",
    "\n",
    "# Валидация на временных рядах\n",
    "for train_index, test_index in tscv.split(X):\n",
    "    X_train, X_test = X.iloc[train_index], X.iloc[test_index]\n",
    "    y_train, y_test = y.iloc[train_index], y.iloc[test_index]\n",
    "    \n",
    "    # Предобработка\n",
    "    X_train_processed = preproccessing_pipeline.fit_transform(X_train)\n",
    "    X_test_processed = preproccessing_pipeline.transform(X_test)\n",
    "    \n",
    "    # Построение и компиляция модели\n",
    "    nn_model = tf.keras.Sequential([\n",
    "        tf.keras.layers.Flatten(),\n",
    "        tf.keras.layers.Dense(400, activation=\"relu\"),\n",
    "        tf.keras.layers.Dense(1, activation=\"linear\")\n",
    "    ])\n",
    "    \n",
    "    adam_optimizer = AdamW(learning_rate=0.01)\n",
    "    \n",
    "    nn_model.compile(loss=\"mean_squared_error\",\n",
    "                     optimizer = adam_optimizer,\n",
    "                     metrics=[tf.keras.metrics.RootMeanSquaredError()])\n",
    "    \n",
    "    # Обучение модели\n",
    "    history = nn_model.fit(X_train_processed, y_train, epochs=30, batch_size=8,\n",
    "                           validation_data=(X_test_processed, y_test))\n"
   ]
  }
 ],
 "metadata": {
  "kernelspec": {
   "display_name": "my_env",
   "language": "python",
   "name": "my_env"
  },
  "language_info": {
   "codemirror_mode": {
    "name": "ipython",
    "version": 3
   },
   "file_extension": ".py",
   "mimetype": "text/x-python",
   "name": "python",
   "nbconvert_exporter": "python",
   "pygments_lexer": "ipython3",
   "version": "3.12.5"
  }
 },
 "nbformat": 4,
 "nbformat_minor": 2
}
