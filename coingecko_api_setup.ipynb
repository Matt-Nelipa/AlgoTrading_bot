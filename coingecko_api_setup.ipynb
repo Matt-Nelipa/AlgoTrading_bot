{
 "cells": [
  {
   "cell_type": "markdown",
   "metadata": {},
   "source": [
    "### Importing Modules"
   ]
  },
  {
   "cell_type": "code",
   "execution_count": 20,
   "metadata": {},
   "outputs": [],
   "source": [
    "import numpy as np\n",
    "import pandas as pd\n",
    "import optuna\n",
    "from optuna.samplers import TPESampler\n",
    "from sklearn.model_selection import TimeSeriesSplit\n",
    "from sklearn.metrics import roc_auc_score\n",
    "import lightgbm as lgb\n",
    "from sklearn.decomposition import PCA\n",
    "import time\n",
    "from api_keys import api_public, api_secret\n",
    "from datetime import datetime\n",
    "from pybit.unified_trading import HTTP"
   ]
  },
  {
   "cell_type": "markdown",
   "metadata": {},
   "source": [
    "<hr>"
   ]
  },
  {
   "cell_type": "markdown",
   "metadata": {},
   "source": [
    "### Data preparation"
   ]
  },
  {
   "cell_type": "code",
   "execution_count": null,
   "metadata": {},
   "outputs": [],
   "source": [
    "btc_data = pd.read_csv('btc_data_1min.csv', header=0, index_col=0)"
   ]
  },
  {
   "cell_type": "code",
   "execution_count": 3,
   "metadata": {},
   "outputs": [],
   "source": [
    "btc_data_copy = btc_data.copy()"
   ]
  },
  {
   "cell_type": "code",
   "execution_count": 6,
   "metadata": {},
   "outputs": [],
   "source": [
    "btc_data_copy_targets = btc_data_copy.target_label\n",
    "btc_data_copy_features = btc_data_copy.drop('target_label', axis=1)"
   ]
  },
  {
   "cell_type": "code",
   "execution_count": 7,
   "metadata": {},
   "outputs": [],
   "source": [
    "df_centralized = btc_data_copy_features - btc_data_copy_features.mean()"
   ]
  },
  {
   "cell_type": "markdown",
   "metadata": {},
   "source": [
    "### PCA"
   ]
  },
  {
   "cell_type": "code",
   "execution_count": 38,
   "metadata": {},
   "outputs": [],
   "source": [
    "pca = PCA(n_components=7)\n",
    "principal_components = pca.fit_transform(df_centralized)\n",
    "pca_df = pd.DataFrame(data=principal_components, index=btc_data_copy_features.index)\n",
    "print(pca_df.shape, btc_data_copy_targets.shape, sep='\\n')"
   ]
  },
  {
   "cell_type": "markdown",
   "metadata": {},
   "source": [
    "Will take into account class imbalance building models"
   ]
  },
  {
   "cell_type": "code",
   "execution_count": 11,
   "metadata": {},
   "outputs": [
    {
     "data": {
      "text/plain": [
       "target_label\n",
       " 1    2543652\n",
       "-1    1223109\n",
       "Name: count, dtype: int64"
      ]
     },
     "execution_count": 11,
     "metadata": {},
     "output_type": "execute_result"
    }
   ],
   "source": [
    "btc_data.target_label.value_counts()"
   ]
  },
  {
   "cell_type": "markdown",
   "metadata": {},
   "source": [
    "### Bayesian Optimization for LightBoostClassifier hyperparameters tuning"
   ]
  },
  {
   "cell_type": "code",
   "execution_count": 51,
   "metadata": {},
   "outputs": [],
   "source": [
    "def objective(trial):\n",
    "\n",
    "    param = {\n",
    "        \"objective\": \"binary\",\n",
    "        \"metric\": \"auc\",\n",
    "        \"verbosity\": -1,\n",
    "        \"n_jobs\": -1,\n",
    "        \"random_state\": 42,\n",
    "        \"is_unbalance\": True,\n",
    "        \"subsample\": 1.0,\n",
    "        'learning_rate': trial.suggest_float('learning_rate', 0.01, 0.1, log=True),\n",
    "        \"boosting_type\": 'gbdt',\n",
    "        \"lambda_l1\": trial.suggest_float(\"lambda_l1\", 1e-1, 10.0, log=True),\n",
    "        \"lambda_l2\": trial.suggest_float(\"lambda_l2\", 1e-1, 10.0, log=True),\n",
    "        \"num_leaves\": trial.suggest_int(\"num_leaves\", 10, 20),\n",
    "        \"feature_fraction\": trial.suggest_float(\"feature_fraction\", 0.1, 0.9),\n",
    "        \"bagging_fraction\": trial.suggest_float(\"bagging_fraction\", 0.2, 0.8),\n",
    "        \"bagging_freq\": trial.suggest_int(\"bagging_freq\", 1, 3),\n",
    "        \"min_child_samples\": trial.suggest_int(\"min_child_samples\", 5, 100),\n",
    "        \"max_depth\": trial.suggest_int('max_depth', 1, 5),\n",
    "        'max_bin': trial.suggest_int('max_bin', 100, 150),\n",
    "        'min_data_in_leaf': trial.suggest_int('min_data_in_leaf', 20, 150),\n",
    "    }\n",
    "    \n",
    "    dtrain = lgb.Dataset(X_train, label=y_train)\n",
    "\n",
    "    gbm = lgb.train(param, dtrain)\n",
    "    y_pred = gbm.predict(X_test)\n",
    "    auc = roc_auc_score(y_test, y_pred)\n",
    "    return auc"
   ]
  },
  {
   "cell_type": "code",
   "execution_count": null,
   "metadata": {},
   "outputs": [],
   "source": [
    "tscv = TimeSeriesSplit(n_splits=10)\n",
    "\n",
    "for train_index, test_index in tscv.split(pca_df):\n",
    "    X_train, X_test = pca_df.iloc[train_index], pca_df.iloc[test_index]\n",
    "    y_train, y_test = btc_data_copy_targets.iloc[train_index], btc_data_copy_targets.iloc[test_index]\n",
    "    sampler_complex = TPESampler(n_startup_trials=10, seed=42)\n",
    "    study_complex = optuna.create_study(direction='maximize', sampler=sampler_complex)\n",
    "    study_complex.optimize(objective, n_trials=20)"
   ]
  },
  {
   "cell_type": "code",
   "execution_count": null,
   "metadata": {},
   "outputs": [],
   "source": [
    "params = study_complex.best_params | {\n",
    "                                        \"objective\": \"binary\",\n",
    "                                        \"metric\": \"f1\",\n",
    "                                        \"verbosity\": -1,\n",
    "                                        \"n_jobs\": -1,\n",
    "                                        \"random_state\": 42,\n",
    "                                        \"is_unbalance\": True,\n",
    "                                        \"subsample\": 1.0,\n",
    "                                        \"boosting_type\": 'gbdt'\n",
    "                                        }\n",
    "params"
   ]
  },
  {
   "cell_type": "markdown",
   "metadata": {},
   "source": [
    "### Train model on the whole dataset"
   ]
  },
  {
   "cell_type": "code",
   "execution_count": 57,
   "metadata": {},
   "outputs": [],
   "source": [
    "dtrain = lgb.Da\n",
    "tuned_model = lgb.train(params, dtrain)"
   ]
  },
  {
   "cell_type": "markdown",
   "metadata": {},
   "source": [
    "---"
   ]
  },
  {
   "cell_type": "markdown",
   "metadata": {},
   "source": [
    "## Bybit API"
   ]
  },
  {
   "cell_type": "markdown",
   "metadata": {},
   "source": [
    "### Bybit Mainnet Demo Trading connection"
   ]
  },
  {
   "cell_type": "code",
   "execution_count": 6,
   "metadata": {},
   "outputs": [],
   "source": [
    "api_key_ = api_public\n",
    "api_secret_ = api_secret\n",
    "session = HTTP(\n",
    "    demo=True,\n",
    "    api_key=api_key_,\n",
    "    api_secret=api_secret_\n",
    ")"
   ]
  },
  {
   "cell_type": "markdown",
   "metadata": {},
   "source": [
    "### Access to Bybit OHLCV data, model prediction, order placement"
   ]
  },
  {
   "cell_type": "code",
   "execution_count": null,
   "metadata": {},
   "outputs": [],
   "source": [
    "def get_ohlcv_data(symbol=\"BTCUSDT\", interval=5):\n",
    "    \n",
    "    ''' Extract OHLCV data from Bybit for the last 5 minutes'''\n",
    "    \n",
    "    end_time = int(datetime.now().timestamp())  # Current time in seconds\n",
    "    start_time = end_time - (5 * 60)  # time 5 min ago in seconds\n",
    "    try:\n",
    "        response = session.get_kline(\n",
    "            category=\"spot\",\n",
    "            symbol=symbol,\n",
    "            interval=str(interval),\n",
    "            start=start_time * 1000,  # start_time to milliseconds\n",
    "            end=end_time * 1000       # end_time to milliseconds\n",
    "        )\n",
    "\n",
    "        kline = response['result']['list']\n",
    "        ohlcv_data = {\n",
    "                    \"timestamp\": datetime.fromtimestamp(kline[0] / 1000),\n",
    "                    \"open\": kline[1],\n",
    "                    \"high\": kline[2],\n",
    "                    \"low\": kline[3],\n",
    "                    \"close\": kline[4],\n",
    "                    \"volume\": kline[5]\n",
    "                    }\n",
    "        return ohlcv_data\n",
    "    except Exception as e:\n",
    "        print(\"Ошибка при получении данных:\", e)\n",
    "\n",
    "\n",
    "def get_bitcoin_signal():\n",
    "    \n",
    "    '''ohlcv_data processing, features generation, \n",
    "    PCA application and model prediction'''\n",
    "    \n",
    "    ohlcv_data = get_ohlcv_data()\n",
    "    preprocessed_data = ohlcv_data # FIX_ME!!!\n",
    "    latest_data = pca.transform(preprocessed_data)\n",
    "    y_pred = tuned_model.predict(latest_data)\n",
    "    return y_pred\n",
    "\n",
    "def place_order(order_side: str, amount):\n",
    "    \n",
    "    '''make a \"buy\" or \"sell\" order'''\n",
    "    try:\n",
    "        order = session.place_order(\n",
    "                                    category=\"spot\",\n",
    "                                    symbol=\"BTCUSDT\",\n",
    "                                    side=order_side, # Buy or Sell\n",
    "                                    orderType=\"Market\",\n",
    "                                    qty=str(amount), # BTC value for Sell and USDT value for Buy\n",
    "                                    marketunit=\"quoteCoin\",\n",
    "                                    timeInForce=\"IOC\",\n",
    "                                    #orderLinkId=\"spot-test-mainnet-algo\",\n",
    "                                    isLeverage=0,\n",
    "                                    orderFilter=\"Order\"\n",
    "                                    )\n",
    "        print(f\"{\"Покупка\" if order_side==\"Buy\" else \"Продажа\"} совершена:\", order)\n",
    "    except Exception as e:\n",
    "        print(\"Ошибка при размещении ордера:\", e)\n",
    "\n",
    "def trading_bot(threshold=0.7, amount=1000):\n",
    "    while True:\n",
    "        probability = get_bitcoin_signal()\n",
    "        if probability >= threshold:\n",
    "            # Проверка, куплен ли уже биток или битка нет; \n",
    "            # если есть, то continue\n",
    "            # если нет, то следующее:\n",
    "            print(f\"Сигнал на покупку! Вероятность роста: {probability:.3f}\")\n",
    "            place_order(\"Buy\", amount) # amount должен быть переменной\n",
    "            # в зависимости от баланса, т.е. фиксированный процентом, например\n",
    "        else:\n",
    "            print(f\"Сигнал на продажу! Вероятность роста: {probability:.3f}\")\n",
    "            place_order(\"Sell\", amount) # здесь amount - весь купленный биток\n",
    "            # который должен вытягиваться из bybit из баланса кошелька\n",
    "            \n",
    "        time.sleep(300)  # Checkout every 5 min\n",
    "        \n",
    "        # Далее можно считать PnL:\n",
    "        session.get_wallet_balance(\n",
    "                                accountType=\"UNIFIED\",\n",
    "                                coin=\"BTC, USDT\"\n",
    "                                )\n",
    "# Bot launching\n",
    "trading_bot()"
   ]
  }
 ],
 "metadata": {
  "kernelspec": {
   "display_name": "myenv",
   "language": "python",
   "name": "myenv"
  },
  "language_info": {
   "codemirror_mode": {
    "name": "ipython",
    "version": 3
   },
   "file_extension": ".py",
   "mimetype": "text/x-python",
   "name": "python",
   "nbconvert_exporter": "python",
   "pygments_lexer": "ipython3",
   "version": "3.12.5"
  }
 },
 "nbformat": 4,
 "nbformat_minor": 2
}
