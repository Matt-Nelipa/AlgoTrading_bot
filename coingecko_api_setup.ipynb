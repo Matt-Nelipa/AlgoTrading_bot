{
 "cells": [
  {
   "cell_type": "markdown",
   "metadata": {},
   "source": [
    "### Importing Modules"
   ]
  },
  {
   "cell_type": "code",
   "execution_count": 53,
   "metadata": {},
   "outputs": [],
   "source": [
    "import numpy as np\n",
    "import pandas as pd\n",
    "import optuna\n",
    "from optuna.samplers import TPESampler\n",
    "from sklearn.model_selection import TimeSeriesSplit\n",
    "from sklearn.pipeline import make_pipeline\n",
    "from sklearn.preprocessing import StandardScaler\n",
    "from sklearn.compose import ColumnTransformer\n",
    "from sklearn.impute import SimpleImputer\n",
    "from sklearn.metrics import roc_auc_score, f1_score\n",
    "import lightgbm as lgb\n",
    "from sklearn.decomposition import PCA\n",
    "import ccxt\n",
    "import time\n",
    "from api_keys import api_public, api_secret\n",
    "from datetime import datetime, timedelta"
   ]
  },
  {
   "cell_type": "markdown",
   "metadata": {},
   "source": [
    "<hr>"
   ]
  },
  {
   "cell_type": "markdown",
   "metadata": {},
   "source": [
    "### Data preparation"
   ]
  },
  {
   "cell_type": "markdown",
   "metadata": {},
   "source": [
    "##### Note: unzip btc_data.csv.zip in advance"
   ]
  },
  {
   "cell_type": "code",
   "execution_count": null,
   "metadata": {},
   "outputs": [],
   "source": [
    "btc_data = pd.read_csv('btc_data_1min.csv', header=0, index_col=0)"
   ]
  },
  {
   "cell_type": "code",
   "execution_count": 3,
   "metadata": {},
   "outputs": [],
   "source": [
    "btc_data_copy = btc_data.copy()"
   ]
  },
  {
   "cell_type": "code",
   "execution_count": 63,
   "metadata": {},
   "outputs": [
    {
     "data": {
      "text/plain": [
       "Index(['open', 'high', 'low', 'close', 'volume', 'adl', 'middle_band',\n",
       "       'upper_band', 'lower_band', 'cmf', 'co', 'cmo', 'cci', 'dpo', '+di',\n",
       "       '-di', 'dx', 'adx', 'adxr', 'dema', 'emv', 'emv_ma', 'rl_0.0',\n",
       "       'rl_23.6', 'rl_38.2', 'rl_50.0', 'rl_61.8', 'rl_100.0', 'fosc',\n",
       "       'tenkan_sen', 'kijun_sen', 'senkou_a', 'senkou_b', 'imi', 'ko', 'lri',\n",
       "       'lrs', 'mfi', 'mi', 'mp', 'mom', 'ma-simple', 'macd', 'signal_line',\n",
       "       'nvi', 'obv', 'sar', 'prf', 'target_LONG', 'pvi', 'pvt', 'highest_high',\n",
       "       'lowest_low', 'posc', 'prc', 'qstick', 'ri', 'rmi', 'rsi', 'rvi', 'sd',\n",
       "       'smi', '%K', '%D', 'swi', 'tsf', 'tema', 'tp', 'uosc', 'vhf', 'vch',\n",
       "       'vosc', 'vrc', 'wc', 'ws', 'wad', 'wr', 'price_change', 'target_label'],\n",
       "      dtype='object')"
      ]
     },
     "execution_count": 63,
     "metadata": {},
     "output_type": "execute_result"
    }
   ],
   "source": [
    "btc_data_copy.columns"
   ]
  },
  {
   "cell_type": "code",
   "execution_count": 4,
   "metadata": {},
   "outputs": [
    {
     "name": "stdout",
     "output_type": "stream",
     "text": [
      "Index(['emv_ma', 'cmf', 'adl', 'emv', 'mfi', 'swi', 'vrc', 'cmo', 'vhf', 'cci',\n",
      "       'wr', 'uosc', '%D', 'imi', '%K'],\n",
      "      dtype='object')\n"
     ]
    }
   ],
   "source": [
    "nan_counts = btc_data.isna().sum().sort_values(ascending=False)\n",
    "print(nan_counts.head(15).index)"
   ]
  },
  {
   "cell_type": "markdown",
   "metadata": {},
   "source": [
    "Delete NaN before applying PCA"
   ]
  },
  {
   "cell_type": "code",
   "execution_count": 5,
   "metadata": {},
   "outputs": [],
   "source": [
    "btc_data_copy = btc_data_copy.dropna()"
   ]
  },
  {
   "cell_type": "code",
   "execution_count": 6,
   "metadata": {},
   "outputs": [],
   "source": [
    "btc_data_copy_targets = btc_data_copy.target_label\n",
    "btc_data_copy_features = btc_data_copy.drop('target_label', axis=1)"
   ]
  },
  {
   "cell_type": "code",
   "execution_count": 7,
   "metadata": {},
   "outputs": [],
   "source": [
    "scaler = StandardScaler()\n",
    "df_scaled = scaler.fit_transform(btc_data_copy_features)"
   ]
  },
  {
   "cell_type": "markdown",
   "metadata": {},
   "source": [
    "### PCA"
   ]
  },
  {
   "cell_type": "code",
   "execution_count": 38,
   "metadata": {},
   "outputs": [],
   "source": [
    "pca = PCA(n_components=7)\n",
    "\n",
    "principal_components = pca.fit_transform(df_scaled)\n",
    "\n",
    "pca_df = pd.DataFrame(data=principal_components, index=btc_data_copy_features.index)"
   ]
  },
  {
   "cell_type": "code",
   "execution_count": 39,
   "metadata": {},
   "outputs": [
    {
     "data": {
      "text/plain": [
       "(1015072, 7)"
      ]
     },
     "execution_count": 39,
     "metadata": {},
     "output_type": "execute_result"
    }
   ],
   "source": [
    "pca_df.shape"
   ]
  },
  {
   "cell_type": "code",
   "execution_count": 19,
   "metadata": {},
   "outputs": [
    {
     "data": {
      "text/plain": [
       "(1015072,)"
      ]
     },
     "execution_count": 19,
     "metadata": {},
     "output_type": "execute_result"
    }
   ],
   "source": [
    "btc_data_copy_targets.shape"
   ]
  },
  {
   "cell_type": "markdown",
   "metadata": {},
   "source": [
    "Will take into account class imbalance building models"
   ]
  },
  {
   "cell_type": "code",
   "execution_count": 11,
   "metadata": {},
   "outputs": [
    {
     "data": {
      "text/plain": [
       "target_label\n",
       " 1    2543652\n",
       "-1    1223109\n",
       "Name: count, dtype: int64"
      ]
     },
     "execution_count": 11,
     "metadata": {},
     "output_type": "execute_result"
    }
   ],
   "source": [
    "btc_data.target_label.value_counts()"
   ]
  },
  {
   "cell_type": "markdown",
   "metadata": {},
   "source": [
    "Simple split"
   ]
  },
  {
   "cell_type": "code",
   "execution_count": 40,
   "metadata": {},
   "outputs": [],
   "source": [
    "split_index = int(len(pca_df) * 0.8)\n",
    "X_train = pca_df.iloc[:split_index]\n",
    "X_test = pca_df.iloc[split_index:]\n",
    "y_train = btc_data_copy_targets.iloc[:split_index]\n",
    "y_test = btc_data_copy_targets.iloc[split_index:]"
   ]
  },
  {
   "cell_type": "markdown",
   "metadata": {},
   "source": [
    "Complex split"
   ]
  },
  {
   "cell_type": "code",
   "execution_count": 13,
   "metadata": {},
   "outputs": [],
   "source": [
    "tscv = TimeSeriesSplit(n_splits=10)"
   ]
  },
  {
   "cell_type": "markdown",
   "metadata": {},
   "source": [
    "# Models "
   ]
  },
  {
   "cell_type": "markdown",
   "metadata": {},
   "source": [
    "### lgb classifier"
   ]
  },
  {
   "cell_type": "markdown",
   "metadata": {},
   "source": [
    "### Bayesian Optimization for hyperparameters tuning"
   ]
  },
  {
   "cell_type": "code",
   "execution_count": 51,
   "metadata": {},
   "outputs": [],
   "source": [
    "def objective(trial):\n",
    "\n",
    "    param = {\n",
    "        \"objective\": \"binary\",\n",
    "        \"metric\": \"auc\",\n",
    "        \"verbosity\": -1,\n",
    "        \"n_jobs\": -1,\n",
    "        \"random_state\": 42,\n",
    "        \"is_unbalance\": True,\n",
    "        \"subsample\": 1.0,\n",
    "        'learning_rate': trial.suggest_float('learning_rate', 0.01, 0.1, log=True),\n",
    "        \"boosting_type\": 'gbdt',\n",
    "        \"lambda_l1\": trial.suggest_float(\"lambda_l1\", 1e-1, 10.0, log=True),\n",
    "        \"lambda_l2\": trial.suggest_float(\"lambda_l2\", 1e-1, 10.0, log=True),\n",
    "        \"num_leaves\": trial.suggest_int(\"num_leaves\", 10, 20),\n",
    "        \"feature_fraction\": trial.suggest_float(\"feature_fraction\", 0.1, 0.9),\n",
    "        \"bagging_fraction\": trial.suggest_float(\"bagging_fraction\", 0.2, 0.8),\n",
    "        \"bagging_freq\": trial.suggest_int(\"bagging_freq\", 1, 3),\n",
    "        \"min_child_samples\": trial.suggest_int(\"min_child_samples\", 5, 100),\n",
    "        \"max_depth\": trial.suggest_int('max_depth', 1, 5),\n",
    "        'max_bin': trial.suggest_int('max_bin', 100, 150),\n",
    "        'min_data_in_leaf': trial.suggest_int('min_data_in_leaf', 20, 150),\n",
    "    }\n",
    "    \n",
    "    dtrain = lgb.Dataset(X_train, label=y_train)\n",
    "\n",
    "    gbm = lgb.train(param, dtrain)\n",
    "    y_pred = gbm.predict(X_test)\n",
    "    #y_pred = np.where(y_pred < 0.5, -1, 1)   \n",
    "    #f1 = f1_score(y_test, y_pred) # target metric\n",
    "    auc = roc_auc_score(y_test, y_pred)\n",
    "    return auc"
   ]
  },
  {
   "cell_type": "markdown",
   "metadata": {},
   "source": [
    "Optimization for simple split"
   ]
  },
  {
   "cell_type": "code",
   "execution_count": null,
   "metadata": {},
   "outputs": [],
   "source": [
    "# sampler = TPESampler(n_startup_trials=10, seed=42)\n",
    "# study = optuna.create_study(direction='maximize', sampler=sampler)\n",
    "# study.optimize(objective, n_trials=20)"
   ]
  },
  {
   "cell_type": "markdown",
   "metadata": {},
   "source": [
    "Optimization for complex split"
   ]
  },
  {
   "cell_type": "code",
   "execution_count": 52,
   "metadata": {},
   "outputs": [
    {
     "name": "stderr",
     "output_type": "stream",
     "text": [
      "[I 2024-11-03 12:28:41,884] A new study created in memory with name: no-name-9562e513-74b8-469f-9ed2-bf2e5886a5ee\n",
      "[I 2024-11-03 12:28:42,518] Trial 0 finished with value: 0.9174143815344098 and parameters: {'learning_rate': 0.023688639503640783, 'lambda_l1': 7.969454818643936, 'lambda_l2': 2.9106359131330697, 'num_leaves': 16, 'feature_fraction': 0.22481491235394924, 'bagging_fraction': 0.2935967122017216, 'bagging_freq': 1, 'min_child_samples': 88, 'max_depth': 4, 'max_bin': 136, 'min_data_in_leaf': 22}. Best is trial 0 with value: 0.9174143815344098.\n",
      "[I 2024-11-03 12:28:42,912] Trial 1 finished with value: 0.9355933875093618 and parameters: {'learning_rate': 0.09330606024425668, 'lambda_l1': 4.622589001020832, 'lambda_l2': 0.26587543983272705, 'num_leaves': 12, 'feature_fraction': 0.24672360788274705, 'bagging_fraction': 0.38254534577572263, 'bagging_freq': 2, 'min_child_samples': 46, 'max_depth': 2, 'max_bin': 131, 'min_data_in_leaf': 38}. Best is trial 1 with value: 0.9355933875093618.\n",
      "[I 2024-11-03 12:28:43,879] Trial 2 finished with value: 0.9167853136769178 and parameters: {'learning_rate': 0.019594972058679168, 'lambda_l1': 0.5404103854647329, 'lambda_l2': 0.8168455894760165, 'num_leaves': 18, 'feature_fraction': 0.25973902572668783, 'bagging_fraction': 0.508540663048167, 'bagging_freq': 2, 'min_child_samples': 9, 'max_depth': 4, 'max_bin': 108, 'min_data_in_leaf': 28}. Best is trial 1 with value: 0.9355933875093618.\n",
      "[I 2024-11-03 12:28:44,583] Trial 3 finished with value: 0.929860628756914 and parameters: {'learning_rate': 0.08889667907018929, 'lambda_l1': 8.536189862866832, 'lambda_l2': 4.138040112561017, 'num_leaves': 13, 'feature_fraction': 0.1781376912051071, 'bagging_fraction': 0.6105398159072942, 'bagging_freq': 2, 'min_child_samples': 16, 'max_depth': 3, 'max_bin': 101, 'min_data_in_leaf': 139}. Best is trial 1 with value: 0.9355933875093618.\n",
      "[I 2024-11-03 12:28:45,370] Trial 4 finished with value: 0.9422301188730304 and parameters: {'learning_rate': 0.01814596135349025, 'lambda_l1': 2.113705944064573, 'lambda_l2': 0.420167205437253, 'num_leaves': 15, 'feature_fraction': 0.5373682234746238, 'bagging_fraction': 0.31091267331531625, 'bagging_freq': 3, 'min_child_samples': 79, 'max_depth': 5, 'max_bin': 145, 'min_data_in_leaf': 98}. Best is trial 4 with value: 0.9422301188730304.\n",
      "[I 2024-11-03 12:28:45,788] Trial 5 finished with value: 0.9441120094590025 and parameters: {'learning_rate': 0.0835361075531176, 'lambda_l1': 0.15030900645056822, 'lambda_l2': 0.24658447214487378, 'num_leaves': 10, 'feature_fraction': 0.36026426461061145, 'bagging_fraction': 0.43320637381368926, 'bagging_freq': 1, 'min_child_samples': 84, 'max_depth': 2, 'max_bin': 114, 'min_data_in_leaf': 91}. Best is trial 5 with value: 0.9441120094590025.\n",
      "[I 2024-11-03 12:28:46,487] Trial 6 finished with value: 0.9426472135977534 and parameters: {'learning_rate': 0.013833249975219963, 'lambda_l1': 4.02155452669029, 'lambda_l2': 0.14096175149815865, 'num_leaves': 20, 'feature_fraction': 0.717795815437326, 'bagging_fraction': 0.31922940892050344, 'bagging_freq': 1, 'min_child_samples': 83, 'max_depth': 4, 'max_bin': 137, 'min_data_in_leaf': 121}. Best is trial 5 with value: 0.9441120094590025.\n",
      "[I 2024-11-03 12:28:46,910] Trial 7 finished with value: 0.9204858562732027 and parameters: {'learning_rate': 0.011858906685575274, 'lambda_l1': 0.5211124595788266, 'lambda_l2': 0.17050539260269293, 'num_leaves': 19, 'feature_fraction': 0.5986385014620463, 'bagging_fraction': 0.39853881491158955, 'bagging_freq': 1, 'min_child_samples': 34, 'max_depth': 2, 'max_bin': 137, 'min_data_in_leaf': 103}. Best is trial 5 with value: 0.9441120094590025.\n",
      "[I 2024-11-03 12:28:47,435] Trial 8 finished with value: 0.9543011686787656 and parameters: {'learning_rate': 0.07712811947156349, 'lambda_l1': 0.8798929749689022, 'lambda_l2': 0.17345566642360938, 'num_leaves': 17, 'feature_fraction': 0.708628038893518, 'bagging_fraction': 0.5367663185416978, 'bagging_freq': 3, 'min_child_samples': 52, 'max_depth': 3, 'max_bin': 121, 'min_data_in_leaf': 23}. Best is trial 8 with value: 0.9543011686787656.\n",
      "[I 2024-11-03 12:28:48,125] Trial 9 finished with value: 0.9373927070448109 and parameters: {'learning_rate': 0.0128201004189169, 'lambda_l1': 0.11557352816269865, 'lambda_l2': 1.8742210985555698, 'num_leaves': 13, 'feature_fraction': 0.5068565529317622, 'bagging_fraction': 0.7445398843556559, 'bagging_freq': 1, 'min_child_samples': 44, 'max_depth': 4, 'max_bin': 111, 'min_data_in_leaf': 30}. Best is trial 8 with value: 0.9543011686787656.\n",
      "[I 2024-11-03 12:28:48,487] Trial 10 finished with value: 0.9353259888495792 and parameters: {'learning_rate': 0.046632924030566285, 'lambda_l1': 1.3112992007873714, 'lambda_l2': 8.691089486124978, 'num_leaves': 17, 'feature_fraction': 0.8828328849421558, 'bagging_fraction': 0.6136588346475399, 'bagging_freq': 3, 'min_child_samples': 64, 'max_depth': 1, 'max_bin': 121, 'min_data_in_leaf': 56}. Best is trial 8 with value: 0.9543011686787656.\n",
      "[I 2024-11-03 12:28:48,994] Trial 11 finished with value: 0.9277891020773219 and parameters: {'learning_rate': 0.05589773202159083, 'lambda_l1': 0.11090572877945773, 'lambda_l2': 0.5256637703102728, 'num_leaves': 10, 'feature_fraction': 0.35462900009984644, 'bagging_fraction': 0.5204938061209768, 'bagging_freq': 3, 'min_child_samples': 65, 'max_depth': 2, 'max_bin': 120, 'min_data_in_leaf': 67}. Best is trial 8 with value: 0.9543011686787656.\n",
      "[I 2024-11-03 12:28:49,515] Trial 12 finished with value: 0.9374682644521914 and parameters: {'learning_rate': 0.0584380592304802, 'lambda_l1': 0.35397284510561594, 'lambda_l2': 0.11043199262255746, 'num_leaves': 10, 'feature_fraction': 0.7175436670081548, 'bagging_fraction': 0.43871428314185207, 'bagging_freq': 3, 'min_child_samples': 100, 'max_depth': 1, 'max_bin': 114, 'min_data_in_leaf': 78}. Best is trial 8 with value: 0.9543011686787656.\n",
      "[I 2024-11-03 12:28:50,158] Trial 13 finished with value: 0.9418741674450429 and parameters: {'learning_rate': 0.035932869914807916, 'lambda_l1': 0.2209220770793134, 'lambda_l2': 0.2805094210329639, 'num_leaves': 15, 'feature_fraction': 0.4373564812614204, 'bagging_fraction': 0.6167129800853254, 'bagging_freq': 2, 'min_child_samples': 65, 'max_depth': 3, 'max_bin': 126, 'min_data_in_leaf': 57}. Best is trial 8 with value: 0.9543011686787656.\n",
      "[I 2024-11-03 12:28:50,626] Trial 14 finished with value: 0.9491038150114623 and parameters: {'learning_rate': 0.07683810841793164, 'lambda_l1': 0.8697279047851351, 'lambda_l2': 1.0193334078798542, 'num_leaves': 17, 'feature_fraction': 0.8500489274928182, 'bagging_fraction': 0.7140177301575984, 'bagging_freq': 2, 'min_child_samples': 29, 'max_depth': 2, 'max_bin': 116, 'min_data_in_leaf': 90}. Best is trial 8 with value: 0.9543011686787656.\n",
      "[I 2024-11-03 12:28:51,314] Trial 15 finished with value: 0.9531189039422835 and parameters: {'learning_rate': 0.0672647077243804, 'lambda_l1': 0.9320335519444257, 'lambda_l2': 1.1774806769898252, 'num_leaves': 17, 'feature_fraction': 0.8673901314442377, 'bagging_fraction': 0.7948570474938238, 'bagging_freq': 2, 'min_child_samples': 29, 'max_depth': 3, 'max_bin': 100, 'min_data_in_leaf': 113}. Best is trial 8 with value: 0.9543011686787656.\n",
      "[I 2024-11-03 12:28:52,001] Trial 16 finished with value: 0.9467823083470179 and parameters: {'learning_rate': 0.038773133083608864, 'lambda_l1': 1.5527519199172783, 'lambda_l2': 1.3548647922877886, 'num_leaves': 18, 'feature_fraction': 0.6866647863841021, 'bagging_fraction': 0.7964580972217913, 'bagging_freq': 3, 'min_child_samples': 27, 'max_depth': 3, 'max_bin': 100, 'min_data_in_leaf': 121}. Best is trial 8 with value: 0.9543011686787656.\n",
      "[I 2024-11-03 12:28:52,909] Trial 17 finished with value: 0.9593137772057779 and parameters: {'learning_rate': 0.06563441943830989, 'lambda_l1': 0.8108473139204599, 'lambda_l2': 0.654352336537576, 'num_leaves': 20, 'feature_fraction': 0.7912592426983397, 'bagging_fraction': 0.20735355067611028, 'bagging_freq': 2, 'min_child_samples': 56, 'max_depth': 5, 'max_bin': 150, 'min_data_in_leaf': 114}. Best is trial 17 with value: 0.9593137772057779.\n",
      "[I 2024-11-03 12:28:53,775] Trial 18 finished with value: 0.9520651353108963 and parameters: {'learning_rate': 0.02842238616445537, 'lambda_l1': 2.5141324934479012, 'lambda_l2': 0.5212673661961977, 'num_leaves': 20, 'feature_fraction': 0.7858145579077023, 'bagging_fraction': 0.20231743325080562, 'bagging_freq': 3, 'min_child_samples': 56, 'max_depth': 5, 'max_bin': 150, 'min_data_in_leaf': 150}. Best is trial 17 with value: 0.9593137772057779.\n",
      "[I 2024-11-03 12:28:54,725] Trial 19 finished with value: 0.9530775990403587 and parameters: {'learning_rate': 0.047614975855476534, 'lambda_l1': 0.5194647799703176, 'lambda_l2': 0.41064867581823966, 'num_leaves': 19, 'feature_fraction': 0.6380209901455304, 'bagging_fraction': 0.21487477086982548, 'bagging_freq': 2, 'min_child_samples': 53, 'max_depth': 5, 'max_bin': 130, 'min_data_in_leaf': 46}. Best is trial 17 with value: 0.9593137772057779.\n",
      "[I 2024-11-03 12:28:54,751] A new study created in memory with name: no-name-90629149-370f-4f56-b350-30607787d2c1\n",
      "[I 2024-11-03 12:28:55,807] Trial 0 finished with value: 0.8777015483931079 and parameters: {'learning_rate': 0.023688639503640783, 'lambda_l1': 7.969454818643936, 'lambda_l2': 2.9106359131330697, 'num_leaves': 16, 'feature_fraction': 0.22481491235394924, 'bagging_fraction': 0.2935967122017216, 'bagging_freq': 1, 'min_child_samples': 88, 'max_depth': 4, 'max_bin': 136, 'min_data_in_leaf': 22}. Best is trial 0 with value: 0.8777015483931079.\n",
      "[I 2024-11-03 12:28:56,706] Trial 1 finished with value: 0.9150648261991405 and parameters: {'learning_rate': 0.09330606024425668, 'lambda_l1': 4.622589001020832, 'lambda_l2': 0.26587543983272705, 'num_leaves': 12, 'feature_fraction': 0.24672360788274705, 'bagging_fraction': 0.38254534577572263, 'bagging_freq': 2, 'min_child_samples': 46, 'max_depth': 2, 'max_bin': 131, 'min_data_in_leaf': 38}. Best is trial 1 with value: 0.9150648261991405.\n",
      "[I 2024-11-03 12:28:58,293] Trial 2 finished with value: 0.8755576354023955 and parameters: {'learning_rate': 0.019594972058679168, 'lambda_l1': 0.5404103854647329, 'lambda_l2': 0.8168455894760165, 'num_leaves': 18, 'feature_fraction': 0.25973902572668783, 'bagging_fraction': 0.508540663048167, 'bagging_freq': 2, 'min_child_samples': 9, 'max_depth': 4, 'max_bin': 108, 'min_data_in_leaf': 28}. Best is trial 1 with value: 0.9150648261991405.\n",
      "[I 2024-11-03 12:28:59,381] Trial 3 finished with value: 0.9025534186031405 and parameters: {'learning_rate': 0.08889667907018929, 'lambda_l1': 8.536189862866832, 'lambda_l2': 4.138040112561017, 'num_leaves': 13, 'feature_fraction': 0.1781376912051071, 'bagging_fraction': 0.6105398159072942, 'bagging_freq': 2, 'min_child_samples': 16, 'max_depth': 3, 'max_bin': 101, 'min_data_in_leaf': 139}. Best is trial 1 with value: 0.9150648261991405.\n",
      "[I 2024-11-03 12:29:00,857] Trial 4 finished with value: 0.9223357704579883 and parameters: {'learning_rate': 0.01814596135349025, 'lambda_l1': 2.113705944064573, 'lambda_l2': 0.420167205437253, 'num_leaves': 15, 'feature_fraction': 0.5373682234746238, 'bagging_fraction': 0.31091267331531625, 'bagging_freq': 3, 'min_child_samples': 79, 'max_depth': 5, 'max_bin': 145, 'min_data_in_leaf': 98}. Best is trial 4 with value: 0.9223357704579883.\n",
      "[I 2024-11-03 12:29:02,293] Trial 5 finished with value: 0.9276559808070428 and parameters: {'learning_rate': 0.0835361075531176, 'lambda_l1': 0.15030900645056822, 'lambda_l2': 0.24658447214487378, 'num_leaves': 10, 'feature_fraction': 0.36026426461061145, 'bagging_fraction': 0.43320637381368926, 'bagging_freq': 1, 'min_child_samples': 84, 'max_depth': 2, 'max_bin': 114, 'min_data_in_leaf': 91}. Best is trial 5 with value: 0.9276559808070428.\n",
      "[I 2024-11-03 12:29:03,613] Trial 6 finished with value: 0.9203374336395911 and parameters: {'learning_rate': 0.013833249975219963, 'lambda_l1': 4.02155452669029, 'lambda_l2': 0.14096175149815865, 'num_leaves': 20, 'feature_fraction': 0.717795815437326, 'bagging_fraction': 0.31922940892050344, 'bagging_freq': 1, 'min_child_samples': 83, 'max_depth': 4, 'max_bin': 137, 'min_data_in_leaf': 121}. Best is trial 5 with value: 0.9276559808070428.\n",
      "[I 2024-11-03 12:29:04,801] Trial 7 finished with value: 0.8781618655019886 and parameters: {'learning_rate': 0.011858906685575274, 'lambda_l1': 0.5211124595788266, 'lambda_l2': 0.17050539260269293, 'num_leaves': 19, 'feature_fraction': 0.5986385014620463, 'bagging_fraction': 0.39853881491158955, 'bagging_freq': 1, 'min_child_samples': 34, 'max_depth': 2, 'max_bin': 137, 'min_data_in_leaf': 103}. Best is trial 5 with value: 0.9276559808070428.\n",
      "[I 2024-11-03 12:29:05,572] Trial 8 finished with value: 0.9436394359802964 and parameters: {'learning_rate': 0.07712811947156349, 'lambda_l1': 0.8798929749689022, 'lambda_l2': 0.17345566642360938, 'num_leaves': 17, 'feature_fraction': 0.708628038893518, 'bagging_fraction': 0.5367663185416978, 'bagging_freq': 3, 'min_child_samples': 52, 'max_depth': 3, 'max_bin': 121, 'min_data_in_leaf': 23}. Best is trial 8 with value: 0.9436394359802964.\n",
      "[I 2024-11-03 12:29:07,599] Trial 9 finished with value: 0.9131377704579147 and parameters: {'learning_rate': 0.0128201004189169, 'lambda_l1': 0.11557352816269865, 'lambda_l2': 1.8742210985555698, 'num_leaves': 13, 'feature_fraction': 0.5068565529317622, 'bagging_fraction': 0.7445398843556559, 'bagging_freq': 1, 'min_child_samples': 44, 'max_depth': 4, 'max_bin': 111, 'min_data_in_leaf': 30}. Best is trial 8 with value: 0.9436394359802964.\n",
      "[I 2024-11-03 12:29:08,508] Trial 10 finished with value: 0.8961155683830802 and parameters: {'learning_rate': 0.046632924030566285, 'lambda_l1': 1.3112992007873714, 'lambda_l2': 8.691089486124978, 'num_leaves': 17, 'feature_fraction': 0.8828328849421558, 'bagging_fraction': 0.6136588346475399, 'bagging_freq': 3, 'min_child_samples': 64, 'max_depth': 1, 'max_bin': 121, 'min_data_in_leaf': 56}. Best is trial 8 with value: 0.9436394359802964.\n",
      "[I 2024-11-03 12:29:09,365] Trial 11 finished with value: 0.8964620045968673 and parameters: {'learning_rate': 0.05589773202159083, 'lambda_l1': 0.11090572877945773, 'lambda_l2': 0.5256637703102728, 'num_leaves': 10, 'feature_fraction': 0.35462900009984644, 'bagging_fraction': 0.5204938061209768, 'bagging_freq': 3, 'min_child_samples': 65, 'max_depth': 2, 'max_bin': 120, 'min_data_in_leaf': 67}. Best is trial 8 with value: 0.9436394359802964.\n",
      "[I 2024-11-03 12:29:09,948] Trial 12 finished with value: 0.9025413681887214 and parameters: {'learning_rate': 0.0584380592304802, 'lambda_l1': 0.35397284510561594, 'lambda_l2': 0.11043199262255746, 'num_leaves': 10, 'feature_fraction': 0.7175436670081548, 'bagging_fraction': 0.43871428314185207, 'bagging_freq': 3, 'min_child_samples': 100, 'max_depth': 1, 'max_bin': 114, 'min_data_in_leaf': 78}. Best is trial 8 with value: 0.9436394359802964.\n",
      "[I 2024-11-03 12:29:10,863] Trial 13 finished with value: 0.922836400116186 and parameters: {'learning_rate': 0.035932869914807916, 'lambda_l1': 0.2209220770793134, 'lambda_l2': 0.2805094210329639, 'num_leaves': 15, 'feature_fraction': 0.4373564812614204, 'bagging_fraction': 0.6167129800853254, 'bagging_freq': 2, 'min_child_samples': 65, 'max_depth': 3, 'max_bin': 126, 'min_data_in_leaf': 57}. Best is trial 8 with value: 0.9436394359802964.\n",
      "[I 2024-11-03 12:29:11,723] Trial 14 finished with value: 0.9301098322481516 and parameters: {'learning_rate': 0.07683810841793164, 'lambda_l1': 0.8697279047851351, 'lambda_l2': 1.0193334078798542, 'num_leaves': 17, 'feature_fraction': 0.8500489274928182, 'bagging_fraction': 0.7140177301575984, 'bagging_freq': 2, 'min_child_samples': 29, 'max_depth': 2, 'max_bin': 116, 'min_data_in_leaf': 90}. Best is trial 8 with value: 0.9436394359802964.\n",
      "[I 2024-11-03 12:29:13,034] Trial 15 finished with value: 0.9421537896065475 and parameters: {'learning_rate': 0.0672647077243804, 'lambda_l1': 0.9320335519444257, 'lambda_l2': 1.1774806769898252, 'num_leaves': 17, 'feature_fraction': 0.8673901314442377, 'bagging_fraction': 0.7948570474938238, 'bagging_freq': 2, 'min_child_samples': 29, 'max_depth': 3, 'max_bin': 100, 'min_data_in_leaf': 113}. Best is trial 8 with value: 0.9436394359802964.\n",
      "[I 2024-11-03 12:29:14,080] Trial 16 finished with value: 0.9238061197358275 and parameters: {'learning_rate': 0.038773133083608864, 'lambda_l1': 1.5527519199172783, 'lambda_l2': 1.3548647922877886, 'num_leaves': 18, 'feature_fraction': 0.6866647863841021, 'bagging_fraction': 0.7964580972217913, 'bagging_freq': 3, 'min_child_samples': 27, 'max_depth': 3, 'max_bin': 100, 'min_data_in_leaf': 121}. Best is trial 8 with value: 0.9436394359802964.\n",
      "[I 2024-11-03 12:29:15,479] Trial 17 finished with value: 0.9556303121117964 and parameters: {'learning_rate': 0.06563441943830989, 'lambda_l1': 0.8108473139204599, 'lambda_l2': 0.654352336537576, 'num_leaves': 20, 'feature_fraction': 0.7912592426983397, 'bagging_fraction': 0.20735355067611028, 'bagging_freq': 2, 'min_child_samples': 56, 'max_depth': 5, 'max_bin': 150, 'min_data_in_leaf': 114}. Best is trial 17 with value: 0.9556303121117964.\n",
      "[I 2024-11-03 12:29:16,817] Trial 18 finished with value: 0.9398199411519426 and parameters: {'learning_rate': 0.02842238616445537, 'lambda_l1': 2.5141324934479012, 'lambda_l2': 0.5212673661961977, 'num_leaves': 20, 'feature_fraction': 0.7858145579077023, 'bagging_fraction': 0.20231743325080562, 'bagging_freq': 3, 'min_child_samples': 56, 'max_depth': 5, 'max_bin': 150, 'min_data_in_leaf': 150}. Best is trial 17 with value: 0.9556303121117964.\n",
      "[I 2024-11-03 12:29:18,040] Trial 19 finished with value: 0.9438040712313801 and parameters: {'learning_rate': 0.047614975855476534, 'lambda_l1': 0.5194647799703176, 'lambda_l2': 0.41064867581823966, 'num_leaves': 19, 'feature_fraction': 0.6380209901455304, 'bagging_fraction': 0.21487477086982548, 'bagging_freq': 2, 'min_child_samples': 53, 'max_depth': 5, 'max_bin': 130, 'min_data_in_leaf': 46}. Best is trial 17 with value: 0.9556303121117964.\n",
      "[I 2024-11-03 12:29:18,122] A new study created in memory with name: no-name-d5611c73-9aaa-4bf5-bf04-e35e3f36a2f7\n",
      "[I 2024-11-03 12:29:20,388] Trial 0 finished with value: 0.9135495214545848 and parameters: {'learning_rate': 0.023688639503640783, 'lambda_l1': 7.969454818643936, 'lambda_l2': 2.9106359131330697, 'num_leaves': 16, 'feature_fraction': 0.22481491235394924, 'bagging_fraction': 0.2935967122017216, 'bagging_freq': 1, 'min_child_samples': 88, 'max_depth': 4, 'max_bin': 136, 'min_data_in_leaf': 22}. Best is trial 0 with value: 0.9135495214545848.\n",
      "[I 2024-11-03 12:29:21,209] Trial 1 finished with value: 0.9251146477887923 and parameters: {'learning_rate': 0.09330606024425668, 'lambda_l1': 4.622589001020832, 'lambda_l2': 0.26587543983272705, 'num_leaves': 12, 'feature_fraction': 0.24672360788274705, 'bagging_fraction': 0.38254534577572263, 'bagging_freq': 2, 'min_child_samples': 46, 'max_depth': 2, 'max_bin': 131, 'min_data_in_leaf': 38}. Best is trial 1 with value: 0.9251146477887923.\n",
      "[I 2024-11-03 12:29:22,556] Trial 2 finished with value: 0.9129337551054543 and parameters: {'learning_rate': 0.019594972058679168, 'lambda_l1': 0.5404103854647329, 'lambda_l2': 0.8168455894760165, 'num_leaves': 18, 'feature_fraction': 0.25973902572668783, 'bagging_fraction': 0.508540663048167, 'bagging_freq': 2, 'min_child_samples': 9, 'max_depth': 4, 'max_bin': 108, 'min_data_in_leaf': 28}. Best is trial 1 with value: 0.9251146477887923.\n",
      "[I 2024-11-03 12:29:23,897] Trial 3 finished with value: 0.9234111988132737 and parameters: {'learning_rate': 0.08889667907018929, 'lambda_l1': 8.536189862866832, 'lambda_l2': 4.138040112561017, 'num_leaves': 13, 'feature_fraction': 0.1781376912051071, 'bagging_fraction': 0.6105398159072942, 'bagging_freq': 2, 'min_child_samples': 16, 'max_depth': 3, 'max_bin': 101, 'min_data_in_leaf': 139}. Best is trial 1 with value: 0.9251146477887923.\n",
      "[I 2024-11-03 12:29:25,514] Trial 4 finished with value: 0.9262971408659824 and parameters: {'learning_rate': 0.01814596135349025, 'lambda_l1': 2.113705944064573, 'lambda_l2': 0.420167205437253, 'num_leaves': 15, 'feature_fraction': 0.5373682234746238, 'bagging_fraction': 0.31091267331531625, 'bagging_freq': 3, 'min_child_samples': 79, 'max_depth': 5, 'max_bin': 145, 'min_data_in_leaf': 98}. Best is trial 4 with value: 0.9262971408659824.\n",
      "[I 2024-11-03 12:29:26,343] Trial 5 finished with value: 0.9275754513141777 and parameters: {'learning_rate': 0.0835361075531176, 'lambda_l1': 0.15030900645056822, 'lambda_l2': 0.24658447214487378, 'num_leaves': 10, 'feature_fraction': 0.36026426461061145, 'bagging_fraction': 0.43320637381368926, 'bagging_freq': 1, 'min_child_samples': 84, 'max_depth': 2, 'max_bin': 114, 'min_data_in_leaf': 91}. Best is trial 5 with value: 0.9275754513141777.\n",
      "[I 2024-11-03 12:29:27,659] Trial 6 finished with value: 0.9272196568704563 and parameters: {'learning_rate': 0.013833249975219963, 'lambda_l1': 4.02155452669029, 'lambda_l2': 0.14096175149815865, 'num_leaves': 20, 'feature_fraction': 0.717795815437326, 'bagging_fraction': 0.31922940892050344, 'bagging_freq': 1, 'min_child_samples': 83, 'max_depth': 4, 'max_bin': 137, 'min_data_in_leaf': 121}. Best is trial 5 with value: 0.9275754513141777.\n",
      "[I 2024-11-03 12:29:28,760] Trial 7 finished with value: 0.9112310185136487 and parameters: {'learning_rate': 0.011858906685575274, 'lambda_l1': 0.5211124595788266, 'lambda_l2': 0.17050539260269293, 'num_leaves': 19, 'feature_fraction': 0.5986385014620463, 'bagging_fraction': 0.39853881491158955, 'bagging_freq': 1, 'min_child_samples': 34, 'max_depth': 2, 'max_bin': 137, 'min_data_in_leaf': 103}. Best is trial 5 with value: 0.9275754513141777.\n",
      "[I 2024-11-03 12:29:30,053] Trial 8 finished with value: 0.9310433335858362 and parameters: {'learning_rate': 0.07712811947156349, 'lambda_l1': 0.8798929749689022, 'lambda_l2': 0.17345566642360938, 'num_leaves': 17, 'feature_fraction': 0.708628038893518, 'bagging_fraction': 0.5367663185416978, 'bagging_freq': 3, 'min_child_samples': 52, 'max_depth': 3, 'max_bin': 121, 'min_data_in_leaf': 23}. Best is trial 8 with value: 0.9310433335858362.\n",
      "[I 2024-11-03 12:29:31,631] Trial 9 finished with value: 0.9246171672003818 and parameters: {'learning_rate': 0.0128201004189169, 'lambda_l1': 0.11557352816269865, 'lambda_l2': 1.8742210985555698, 'num_leaves': 13, 'feature_fraction': 0.5068565529317622, 'bagging_fraction': 0.7445398843556559, 'bagging_freq': 1, 'min_child_samples': 44, 'max_depth': 4, 'max_bin': 111, 'min_data_in_leaf': 30}. Best is trial 8 with value: 0.9310433335858362.\n",
      "[I 2024-11-03 12:29:32,520] Trial 10 finished with value: 0.9167997943419387 and parameters: {'learning_rate': 0.046632924030566285, 'lambda_l1': 1.3112992007873714, 'lambda_l2': 8.691089486124978, 'num_leaves': 17, 'feature_fraction': 0.8828328849421558, 'bagging_fraction': 0.6136588346475399, 'bagging_freq': 3, 'min_child_samples': 64, 'max_depth': 1, 'max_bin': 121, 'min_data_in_leaf': 56}. Best is trial 8 with value: 0.9310433335858362.\n",
      "[I 2024-11-03 12:29:33,502] Trial 11 finished with value: 0.9191278737117421 and parameters: {'learning_rate': 0.05589773202159083, 'lambda_l1': 0.11090572877945773, 'lambda_l2': 0.5256637703102728, 'num_leaves': 10, 'feature_fraction': 0.35462900009984644, 'bagging_fraction': 0.5204938061209768, 'bagging_freq': 3, 'min_child_samples': 65, 'max_depth': 2, 'max_bin': 120, 'min_data_in_leaf': 67}. Best is trial 8 with value: 0.9310433335858362.\n",
      "[I 2024-11-03 12:29:34,210] Trial 12 finished with value: 0.9195573365702696 and parameters: {'learning_rate': 0.0584380592304802, 'lambda_l1': 0.35397284510561594, 'lambda_l2': 0.11043199262255746, 'num_leaves': 10, 'feature_fraction': 0.7175436670081548, 'bagging_fraction': 0.43871428314185207, 'bagging_freq': 3, 'min_child_samples': 100, 'max_depth': 1, 'max_bin': 114, 'min_data_in_leaf': 78}. Best is trial 8 with value: 0.9310433335858362.\n",
      "[I 2024-11-03 12:29:35,363] Trial 13 finished with value: 0.9266207218490168 and parameters: {'learning_rate': 0.035932869914807916, 'lambda_l1': 0.2209220770793134, 'lambda_l2': 0.2805094210329639, 'num_leaves': 15, 'feature_fraction': 0.4373564812614204, 'bagging_fraction': 0.6167129800853254, 'bagging_freq': 2, 'min_child_samples': 65, 'max_depth': 3, 'max_bin': 126, 'min_data_in_leaf': 57}. Best is trial 8 with value: 0.9310433335858362.\n",
      "[I 2024-11-03 12:29:36,395] Trial 14 finished with value: 0.9292206151822743 and parameters: {'learning_rate': 0.07683810841793164, 'lambda_l1': 0.8697279047851351, 'lambda_l2': 1.0193334078798542, 'num_leaves': 17, 'feature_fraction': 0.8500489274928182, 'bagging_fraction': 0.7140177301575984, 'bagging_freq': 2, 'min_child_samples': 29, 'max_depth': 2, 'max_bin': 116, 'min_data_in_leaf': 90}. Best is trial 8 with value: 0.9310433335858362.\n",
      "[I 2024-11-03 12:29:37,619] Trial 15 finished with value: 0.930849572497054 and parameters: {'learning_rate': 0.0672647077243804, 'lambda_l1': 0.9320335519444257, 'lambda_l2': 1.1774806769898252, 'num_leaves': 17, 'feature_fraction': 0.8673901314442377, 'bagging_fraction': 0.7948570474938238, 'bagging_freq': 2, 'min_child_samples': 29, 'max_depth': 3, 'max_bin': 100, 'min_data_in_leaf': 113}. Best is trial 8 with value: 0.9310433335858362.\n",
      "[I 2024-11-03 12:29:38,836] Trial 16 finished with value: 0.9285689750401829 and parameters: {'learning_rate': 0.038773133083608864, 'lambda_l1': 1.5527519199172783, 'lambda_l2': 1.3548647922877886, 'num_leaves': 18, 'feature_fraction': 0.6866647863841021, 'bagging_fraction': 0.7964580972217913, 'bagging_freq': 3, 'min_child_samples': 27, 'max_depth': 3, 'max_bin': 100, 'min_data_in_leaf': 121}. Best is trial 8 with value: 0.9310433335858362.\n",
      "[I 2024-11-03 12:29:40,528] Trial 17 finished with value: 0.9322507448259447 and parameters: {'learning_rate': 0.06563441943830989, 'lambda_l1': 0.8108473139204599, 'lambda_l2': 0.654352336537576, 'num_leaves': 20, 'feature_fraction': 0.7912592426983397, 'bagging_fraction': 0.20735355067611028, 'bagging_freq': 2, 'min_child_samples': 56, 'max_depth': 5, 'max_bin': 150, 'min_data_in_leaf': 114}. Best is trial 17 with value: 0.9322507448259447.\n",
      "[I 2024-11-03 12:29:42,037] Trial 18 finished with value: 0.9308195520883715 and parameters: {'learning_rate': 0.02842238616445537, 'lambda_l1': 2.5141324934479012, 'lambda_l2': 0.5212673661961977, 'num_leaves': 20, 'feature_fraction': 0.7858145579077023, 'bagging_fraction': 0.20231743325080562, 'bagging_freq': 3, 'min_child_samples': 56, 'max_depth': 5, 'max_bin': 150, 'min_data_in_leaf': 150}. Best is trial 17 with value: 0.9322507448259447.\n",
      "[I 2024-11-03 12:29:43,570] Trial 19 finished with value: 0.9304300975729212 and parameters: {'learning_rate': 0.047614975855476534, 'lambda_l1': 0.5194647799703176, 'lambda_l2': 0.41064867581823966, 'num_leaves': 19, 'feature_fraction': 0.6380209901455304, 'bagging_fraction': 0.21487477086982548, 'bagging_freq': 2, 'min_child_samples': 53, 'max_depth': 5, 'max_bin': 130, 'min_data_in_leaf': 46}. Best is trial 17 with value: 0.9322507448259447.\n",
      "[I 2024-11-03 12:29:43,605] A new study created in memory with name: no-name-fa711d3f-8751-47e9-a06d-aac23c51649d\n",
      "[I 2024-11-03 12:29:45,153] Trial 0 finished with value: 0.9039145752075426 and parameters: {'learning_rate': 0.023688639503640783, 'lambda_l1': 7.969454818643936, 'lambda_l2': 2.9106359131330697, 'num_leaves': 16, 'feature_fraction': 0.22481491235394924, 'bagging_fraction': 0.2935967122017216, 'bagging_freq': 1, 'min_child_samples': 88, 'max_depth': 4, 'max_bin': 136, 'min_data_in_leaf': 22}. Best is trial 0 with value: 0.9039145752075426.\n",
      "[I 2024-11-03 12:29:46,075] Trial 1 finished with value: 0.910080638844835 and parameters: {'learning_rate': 0.09330606024425668, 'lambda_l1': 4.622589001020832, 'lambda_l2': 0.26587543983272705, 'num_leaves': 12, 'feature_fraction': 0.24672360788274705, 'bagging_fraction': 0.38254534577572263, 'bagging_freq': 2, 'min_child_samples': 46, 'max_depth': 2, 'max_bin': 131, 'min_data_in_leaf': 38}. Best is trial 1 with value: 0.910080638844835.\n",
      "[I 2024-11-03 12:29:47,616] Trial 2 finished with value: 0.9036523155504422 and parameters: {'learning_rate': 0.019594972058679168, 'lambda_l1': 0.5404103854647329, 'lambda_l2': 0.8168455894760165, 'num_leaves': 18, 'feature_fraction': 0.25973902572668783, 'bagging_fraction': 0.508540663048167, 'bagging_freq': 2, 'min_child_samples': 9, 'max_depth': 4, 'max_bin': 108, 'min_data_in_leaf': 28}. Best is trial 1 with value: 0.910080638844835.\n",
      "[I 2024-11-03 12:29:49,209] Trial 3 finished with value: 0.9096458753430219 and parameters: {'learning_rate': 0.08889667907018929, 'lambda_l1': 8.536189862866832, 'lambda_l2': 4.138040112561017, 'num_leaves': 13, 'feature_fraction': 0.1781376912051071, 'bagging_fraction': 0.6105398159072942, 'bagging_freq': 2, 'min_child_samples': 16, 'max_depth': 3, 'max_bin': 101, 'min_data_in_leaf': 139}. Best is trial 1 with value: 0.910080638844835.\n",
      "[I 2024-11-03 12:29:50,856] Trial 4 finished with value: 0.9111753096605473 and parameters: {'learning_rate': 0.01814596135349025, 'lambda_l1': 2.113705944064573, 'lambda_l2': 0.420167205437253, 'num_leaves': 15, 'feature_fraction': 0.5373682234746238, 'bagging_fraction': 0.31091267331531625, 'bagging_freq': 3, 'min_child_samples': 79, 'max_depth': 5, 'max_bin': 145, 'min_data_in_leaf': 98}. Best is trial 4 with value: 0.9111753096605473.\n",
      "[I 2024-11-03 12:29:52,056] Trial 5 finished with value: 0.9104838404438911 and parameters: {'learning_rate': 0.0835361075531176, 'lambda_l1': 0.15030900645056822, 'lambda_l2': 0.24658447214487378, 'num_leaves': 10, 'feature_fraction': 0.36026426461061145, 'bagging_fraction': 0.43320637381368926, 'bagging_freq': 1, 'min_child_samples': 84, 'max_depth': 2, 'max_bin': 114, 'min_data_in_leaf': 91}. Best is trial 4 with value: 0.9111753096605473.\n",
      "[I 2024-11-03 12:29:54,001] Trial 6 finished with value: 0.9119955377053273 and parameters: {'learning_rate': 0.013833249975219963, 'lambda_l1': 4.02155452669029, 'lambda_l2': 0.14096175149815865, 'num_leaves': 20, 'feature_fraction': 0.717795815437326, 'bagging_fraction': 0.31922940892050344, 'bagging_freq': 1, 'min_child_samples': 83, 'max_depth': 4, 'max_bin': 137, 'min_data_in_leaf': 121}. Best is trial 6 with value: 0.9119955377053273.\n",
      "[I 2024-11-03 12:29:55,309] Trial 7 finished with value: 0.900155303416833 and parameters: {'learning_rate': 0.011858906685575274, 'lambda_l1': 0.5211124595788266, 'lambda_l2': 0.17050539260269293, 'num_leaves': 19, 'feature_fraction': 0.5986385014620463, 'bagging_fraction': 0.39853881491158955, 'bagging_freq': 1, 'min_child_samples': 34, 'max_depth': 2, 'max_bin': 137, 'min_data_in_leaf': 103}. Best is trial 6 with value: 0.9119955377053273.\n",
      "[I 2024-11-03 12:29:56,624] Trial 8 finished with value: 0.9137178535534514 and parameters: {'learning_rate': 0.07712811947156349, 'lambda_l1': 0.8798929749689022, 'lambda_l2': 0.17345566642360938, 'num_leaves': 17, 'feature_fraction': 0.708628038893518, 'bagging_fraction': 0.5367663185416978, 'bagging_freq': 3, 'min_child_samples': 52, 'max_depth': 3, 'max_bin': 121, 'min_data_in_leaf': 23}. Best is trial 8 with value: 0.9137178535534514.\n",
      "[I 2024-11-03 12:29:58,344] Trial 9 finished with value: 0.9102558852523991 and parameters: {'learning_rate': 0.0128201004189169, 'lambda_l1': 0.11557352816269865, 'lambda_l2': 1.8742210985555698, 'num_leaves': 13, 'feature_fraction': 0.5068565529317622, 'bagging_fraction': 0.7445398843556559, 'bagging_freq': 1, 'min_child_samples': 44, 'max_depth': 4, 'max_bin': 111, 'min_data_in_leaf': 30}. Best is trial 8 with value: 0.9137178535534514.\n",
      "[I 2024-11-03 12:29:59,361] Trial 10 finished with value: 0.9040438575581972 and parameters: {'learning_rate': 0.046632924030566285, 'lambda_l1': 1.3112992007873714, 'lambda_l2': 8.691089486124978, 'num_leaves': 17, 'feature_fraction': 0.8828328849421558, 'bagging_fraction': 0.6136588346475399, 'bagging_freq': 3, 'min_child_samples': 64, 'max_depth': 1, 'max_bin': 121, 'min_data_in_leaf': 56}. Best is trial 8 with value: 0.9137178535534514.\n",
      "[I 2024-11-03 12:30:00,748] Trial 11 finished with value: 0.9124970283696188 and parameters: {'learning_rate': 0.04231005256286973, 'lambda_l1': 2.463390460079822, 'lambda_l2': 0.12041782803052058, 'num_leaves': 20, 'feature_fraction': 0.7673712420631215, 'bagging_fraction': 0.20746121676594884, 'bagging_freq': 3, 'min_child_samples': 65, 'max_depth': 3, 'max_bin': 124, 'min_data_in_leaf': 133}. Best is trial 8 with value: 0.9137178535534514.\n",
      "[I 2024-11-03 12:30:02,019] Trial 12 finished with value: 0.9130374548771727 and parameters: {'learning_rate': 0.046660795382774775, 'lambda_l1': 0.5688379606678078, 'lambda_l2': 0.1077980533067773, 'num_leaves': 20, 'feature_fraction': 0.7796274959963606, 'bagging_fraction': 0.21098691610202797, 'bagging_freq': 3, 'min_child_samples': 64, 'max_depth': 3, 'max_bin': 124, 'min_data_in_leaf': 65}. Best is trial 8 with value: 0.9137178535534514.\n",
      "[I 2024-11-03 12:30:03,413] Trial 13 finished with value: 0.9133442179421827 and parameters: {'learning_rate': 0.05832447745885103, 'lambda_l1': 0.42118206722764717, 'lambda_l2': 0.5860344220130842, 'num_leaves': 18, 'feature_fraction': 0.7090873844329774, 'bagging_fraction': 0.5477006755384248, 'bagging_freq': 3, 'min_child_samples': 65, 'max_depth': 3, 'max_bin': 120, 'min_data_in_leaf': 58}. Best is trial 8 with value: 0.9137178535534514.\n",
      "[I 2024-11-03 12:30:04,420] Trial 14 finished with value: 0.9074697032743441 and parameters: {'learning_rate': 0.06614122789013444, 'lambda_l1': 0.26016143455351076, 'lambda_l2': 0.6856787888929166, 'num_leaves': 15, 'feature_fraction': 0.6476517714743953, 'bagging_fraction': 0.5701648923928978, 'bagging_freq': 3, 'min_child_samples': 99, 'max_depth': 1, 'max_bin': 117, 'min_data_in_leaf': 61}. Best is trial 8 with value: 0.9137178535534514.\n",
      "[I 2024-11-03 12:30:06,935] Trial 15 finished with value: 0.9148672105134275 and parameters: {'learning_rate': 0.060983051779160115, 'lambda_l1': 0.29009445856794325, 'lambda_l2': 0.576574041107732, 'num_leaves': 17, 'feature_fraction': 0.8673901314442377, 'bagging_fraction': 0.7375437724402116, 'bagging_freq': 3, 'min_child_samples': 29, 'max_depth': 5, 'max_bin': 130, 'min_data_in_leaf': 48}. Best is trial 15 with value: 0.9148672105134275.\n",
      "[I 2024-11-03 12:30:09,381] Trial 16 finished with value: 0.9136622291083747 and parameters: {'learning_rate': 0.031842467167178666, 'lambda_l1': 1.0351029070280395, 'lambda_l2': 1.2325285460618924, 'num_leaves': 16, 'feature_fraction': 0.8992790064411762, 'bagging_fraction': 0.7956057752531425, 'bagging_freq': 2, 'min_child_samples': 27, 'max_depth': 5, 'max_bin': 131, 'min_data_in_leaf': 44}. Best is trial 15 with value: 0.9148672105134275.\n",
      "[I 2024-11-03 12:30:11,728] Trial 17 finished with value: 0.913855186736461 and parameters: {'learning_rate': 0.06563441943830989, 'lambda_l1': 0.24805638261549234, 'lambda_l2': 0.36416884497978935, 'num_leaves': 17, 'feature_fraction': 0.423257429344725, 'bagging_fraction': 0.6947793353131886, 'bagging_freq': 3, 'min_child_samples': 25, 'max_depth': 5, 'max_bin': 149, 'min_data_in_leaf': 74}. Best is trial 15 with value: 0.9148672105134275.\n",
      "[I 2024-11-03 12:30:13,829] Trial 18 finished with value: 0.9133867369436923 and parameters: {'learning_rate': 0.06096649028451469, 'lambda_l1': 0.27287432572750214, 'lambda_l2': 0.4973566212314119, 'num_leaves': 14, 'feature_fraction': 0.38846756813304, 'bagging_fraction': 0.6944303319686559, 'bagging_freq': 2, 'min_child_samples': 25, 'max_depth': 5, 'max_bin': 150, 'min_data_in_leaf': 78}. Best is trial 15 with value: 0.9148672105134275.\n",
      "[I 2024-11-03 12:30:15,941] Trial 19 finished with value: 0.9118025608179999 and parameters: {'learning_rate': 0.03081623173380392, 'lambda_l1': 0.21216907439465568, 'lambda_l2': 0.33032306270788514, 'num_leaves': 18, 'feature_fraction': 0.3913644658939482, 'bagging_fraction': 0.6878879960560887, 'bagging_freq': 3, 'min_child_samples': 6, 'max_depth': 5, 'max_bin': 144, 'min_data_in_leaf': 77}. Best is trial 15 with value: 0.9148672105134275.\n",
      "[I 2024-11-03 12:30:16,117] A new study created in memory with name: no-name-9289aed4-adf6-4b20-b876-af8b631211d2\n",
      "[I 2024-11-03 12:30:18,861] Trial 0 finished with value: 0.912854496814367 and parameters: {'learning_rate': 0.023688639503640783, 'lambda_l1': 7.969454818643936, 'lambda_l2': 2.9106359131330697, 'num_leaves': 16, 'feature_fraction': 0.22481491235394924, 'bagging_fraction': 0.2935967122017216, 'bagging_freq': 1, 'min_child_samples': 88, 'max_depth': 4, 'max_bin': 136, 'min_data_in_leaf': 22}. Best is trial 0 with value: 0.912854496814367.\n",
      "[I 2024-11-03 12:30:20,271] Trial 1 finished with value: 0.9201839655120496 and parameters: {'learning_rate': 0.09330606024425668, 'lambda_l1': 4.622589001020832, 'lambda_l2': 0.26587543983272705, 'num_leaves': 12, 'feature_fraction': 0.24672360788274705, 'bagging_fraction': 0.38254534577572263, 'bagging_freq': 2, 'min_child_samples': 46, 'max_depth': 2, 'max_bin': 131, 'min_data_in_leaf': 38}. Best is trial 1 with value: 0.9201839655120496.\n",
      "[I 2024-11-03 12:30:22,380] Trial 2 finished with value: 0.9123978355914628 and parameters: {'learning_rate': 0.019594972058679168, 'lambda_l1': 0.5404103854647329, 'lambda_l2': 0.8168455894760165, 'num_leaves': 18, 'feature_fraction': 0.25973902572668783, 'bagging_fraction': 0.508540663048167, 'bagging_freq': 2, 'min_child_samples': 9, 'max_depth': 4, 'max_bin': 108, 'min_data_in_leaf': 28}. Best is trial 1 with value: 0.9201839655120496.\n",
      "[I 2024-11-03 12:30:24,084] Trial 3 finished with value: 0.9198812416419659 and parameters: {'learning_rate': 0.08889667907018929, 'lambda_l1': 8.536189862866832, 'lambda_l2': 4.138040112561017, 'num_leaves': 13, 'feature_fraction': 0.1781376912051071, 'bagging_fraction': 0.6105398159072942, 'bagging_freq': 2, 'min_child_samples': 16, 'max_depth': 3, 'max_bin': 101, 'min_data_in_leaf': 139}. Best is trial 1 with value: 0.9201839655120496.\n",
      "[I 2024-11-03 12:30:26,410] Trial 4 finished with value: 0.921746285251597 and parameters: {'learning_rate': 0.01814596135349025, 'lambda_l1': 2.113705944064573, 'lambda_l2': 0.420167205437253, 'num_leaves': 15, 'feature_fraction': 0.5373682234746238, 'bagging_fraction': 0.31091267331531625, 'bagging_freq': 3, 'min_child_samples': 79, 'max_depth': 5, 'max_bin': 145, 'min_data_in_leaf': 98}. Best is trial 4 with value: 0.921746285251597.\n",
      "[I 2024-11-03 12:30:27,845] Trial 5 finished with value: 0.9218003864073775 and parameters: {'learning_rate': 0.0835361075531176, 'lambda_l1': 0.15030900645056822, 'lambda_l2': 0.24658447214487378, 'num_leaves': 10, 'feature_fraction': 0.36026426461061145, 'bagging_fraction': 0.43320637381368926, 'bagging_freq': 1, 'min_child_samples': 84, 'max_depth': 2, 'max_bin': 114, 'min_data_in_leaf': 91}. Best is trial 5 with value: 0.9218003864073775.\n",
      "[I 2024-11-03 12:30:30,440] Trial 6 finished with value: 0.9226235859086609 and parameters: {'learning_rate': 0.013833249975219963, 'lambda_l1': 4.02155452669029, 'lambda_l2': 0.14096175149815865, 'num_leaves': 20, 'feature_fraction': 0.717795815437326, 'bagging_fraction': 0.31922940892050344, 'bagging_freq': 1, 'min_child_samples': 83, 'max_depth': 4, 'max_bin': 137, 'min_data_in_leaf': 121}. Best is trial 6 with value: 0.9226235859086609.\n",
      "[I 2024-11-03 12:30:32,003] Trial 7 finished with value: 0.9083130238010771 and parameters: {'learning_rate': 0.011858906685575274, 'lambda_l1': 0.5211124595788266, 'lambda_l2': 0.17050539260269293, 'num_leaves': 19, 'feature_fraction': 0.5986385014620463, 'bagging_fraction': 0.39853881491158955, 'bagging_freq': 1, 'min_child_samples': 34, 'max_depth': 2, 'max_bin': 137, 'min_data_in_leaf': 103}. Best is trial 6 with value: 0.9226235859086609.\n",
      "[I 2024-11-03 12:30:33,530] Trial 8 finished with value: 0.92548919600309 and parameters: {'learning_rate': 0.07712811947156349, 'lambda_l1': 0.8798929749689022, 'lambda_l2': 0.17345566642360938, 'num_leaves': 17, 'feature_fraction': 0.708628038893518, 'bagging_fraction': 0.5367663185416978, 'bagging_freq': 3, 'min_child_samples': 52, 'max_depth': 3, 'max_bin': 121, 'min_data_in_leaf': 23}. Best is trial 8 with value: 0.92548919600309.\n",
      "[I 2024-11-03 12:30:35,757] Trial 9 finished with value: 0.9206398485190564 and parameters: {'learning_rate': 0.0128201004189169, 'lambda_l1': 0.11557352816269865, 'lambda_l2': 1.8742210985555698, 'num_leaves': 13, 'feature_fraction': 0.5068565529317622, 'bagging_fraction': 0.7445398843556559, 'bagging_freq': 1, 'min_child_samples': 44, 'max_depth': 4, 'max_bin': 111, 'min_data_in_leaf': 30}. Best is trial 8 with value: 0.92548919600309.\n",
      "[I 2024-11-03 12:30:37,016] Trial 10 finished with value: 0.9135854038564765 and parameters: {'learning_rate': 0.046632924030566285, 'lambda_l1': 1.3112992007873714, 'lambda_l2': 8.691089486124978, 'num_leaves': 17, 'feature_fraction': 0.8828328849421558, 'bagging_fraction': 0.6136588346475399, 'bagging_freq': 3, 'min_child_samples': 64, 'max_depth': 1, 'max_bin': 121, 'min_data_in_leaf': 56}. Best is trial 8 with value: 0.92548919600309.\n",
      "[I 2024-11-03 12:30:38,447] Trial 11 finished with value: 0.9237117520674826 and parameters: {'learning_rate': 0.04231005256286973, 'lambda_l1': 2.463390460079822, 'lambda_l2': 0.12041782803052058, 'num_leaves': 20, 'feature_fraction': 0.7673712420631215, 'bagging_fraction': 0.20746121676594884, 'bagging_freq': 3, 'min_child_samples': 65, 'max_depth': 3, 'max_bin': 124, 'min_data_in_leaf': 133}. Best is trial 8 with value: 0.92548919600309.\n",
      "[I 2024-11-03 12:30:39,811] Trial 12 finished with value: 0.9241272404311869 and parameters: {'learning_rate': 0.046660795382774775, 'lambda_l1': 0.5688379606678078, 'lambda_l2': 0.1077980533067773, 'num_leaves': 20, 'feature_fraction': 0.7796274959963606, 'bagging_fraction': 0.21098691610202797, 'bagging_freq': 3, 'min_child_samples': 64, 'max_depth': 3, 'max_bin': 124, 'min_data_in_leaf': 65}. Best is trial 8 with value: 0.92548919600309.\n",
      "[I 2024-11-03 12:30:41,564] Trial 13 finished with value: 0.9247636805666238 and parameters: {'learning_rate': 0.05832447745885103, 'lambda_l1': 0.42118206722764717, 'lambda_l2': 0.5860344220130842, 'num_leaves': 18, 'feature_fraction': 0.7090873844329774, 'bagging_fraction': 0.5477006755384248, 'bagging_freq': 3, 'min_child_samples': 65, 'max_depth': 3, 'max_bin': 120, 'min_data_in_leaf': 58}. Best is trial 8 with value: 0.92548919600309.\n",
      "[I 2024-11-03 12:30:43,030] Trial 14 finished with value: 0.917093054985788 and parameters: {'learning_rate': 0.06614122789013444, 'lambda_l1': 0.26016143455351076, 'lambda_l2': 0.6856787888929166, 'num_leaves': 15, 'feature_fraction': 0.6476517714743953, 'bagging_fraction': 0.5701648923928978, 'bagging_freq': 3, 'min_child_samples': 99, 'max_depth': 1, 'max_bin': 117, 'min_data_in_leaf': 61}. Best is trial 8 with value: 0.92548919600309.\n",
      "[I 2024-11-03 12:30:46,137] Trial 15 finished with value: 0.9266021992992939 and parameters: {'learning_rate': 0.060983051779160115, 'lambda_l1': 0.29009445856794325, 'lambda_l2': 0.576574041107732, 'num_leaves': 17, 'feature_fraction': 0.8673901314442377, 'bagging_fraction': 0.7375437724402116, 'bagging_freq': 3, 'min_child_samples': 29, 'max_depth': 5, 'max_bin': 130, 'min_data_in_leaf': 48}. Best is trial 15 with value: 0.9266021992992939.\n",
      "[I 2024-11-03 12:30:49,306] Trial 16 finished with value: 0.9246552158743933 and parameters: {'learning_rate': 0.031842467167178666, 'lambda_l1': 1.0351029070280395, 'lambda_l2': 1.2325285460618924, 'num_leaves': 16, 'feature_fraction': 0.8992790064411762, 'bagging_fraction': 0.7956057752531425, 'bagging_freq': 2, 'min_child_samples': 27, 'max_depth': 5, 'max_bin': 131, 'min_data_in_leaf': 44}. Best is trial 15 with value: 0.9266021992992939.\n",
      "[I 2024-11-03 12:30:52,089] Trial 17 finished with value: 0.9251072857879303 and parameters: {'learning_rate': 0.06563441943830989, 'lambda_l1': 0.24805638261549234, 'lambda_l2': 0.36416884497978935, 'num_leaves': 17, 'feature_fraction': 0.423257429344725, 'bagging_fraction': 0.6947793353131886, 'bagging_freq': 3, 'min_child_samples': 25, 'max_depth': 5, 'max_bin': 149, 'min_data_in_leaf': 74}. Best is trial 15 with value: 0.9266021992992939.\n",
      "[I 2024-11-03 12:30:53,557] Trial 18 finished with value: 0.9197370882458511 and parameters: {'learning_rate': 0.03405516150254423, 'lambda_l1': 0.28826704152251703, 'lambda_l2': 1.4234983300567192, 'num_leaves': 15, 'feature_fraction': 0.8233118925159123, 'bagging_fraction': 0.6732118325573909, 'bagging_freq': 2, 'min_child_samples': 38, 'max_depth': 2, 'max_bin': 132, 'min_data_in_leaf': 44}. Best is trial 15 with value: 0.9266021992992939.\n",
      "[I 2024-11-03 12:30:56,176] Trial 19 finished with value: 0.9264624873478491 and parameters: {'learning_rate': 0.0739638298515656, 'lambda_l1': 1.3490559001334508, 'lambda_l2': 0.2376970296927638, 'num_leaves': 18, 'feature_fraction': 0.6380209901455304, 'bagging_fraction': 0.6736323348837421, 'bagging_freq': 3, 'min_child_samples': 53, 'max_depth': 4, 'max_bin': 143, 'min_data_in_leaf': 81}. Best is trial 15 with value: 0.9266021992992939.\n",
      "[I 2024-11-03 12:30:56,299] A new study created in memory with name: no-name-ab93140c-7d4f-4a28-afa3-eaa25fc4820a\n",
      "[I 2024-11-03 12:30:58,753] Trial 0 finished with value: 0.8913354234931381 and parameters: {'learning_rate': 0.023688639503640783, 'lambda_l1': 7.969454818643936, 'lambda_l2': 2.9106359131330697, 'num_leaves': 16, 'feature_fraction': 0.22481491235394924, 'bagging_fraction': 0.2935967122017216, 'bagging_freq': 1, 'min_child_samples': 88, 'max_depth': 4, 'max_bin': 136, 'min_data_in_leaf': 22}. Best is trial 0 with value: 0.8913354234931381.\n",
      "[I 2024-11-03 12:31:00,063] Trial 1 finished with value: 0.9078610192994425 and parameters: {'learning_rate': 0.09330606024425668, 'lambda_l1': 4.622589001020832, 'lambda_l2': 0.26587543983272705, 'num_leaves': 12, 'feature_fraction': 0.24672360788274705, 'bagging_fraction': 0.38254534577572263, 'bagging_freq': 2, 'min_child_samples': 46, 'max_depth': 2, 'max_bin': 131, 'min_data_in_leaf': 38}. Best is trial 1 with value: 0.9078610192994425.\n",
      "[I 2024-11-03 12:31:02,294] Trial 2 finished with value: 0.8898511730811177 and parameters: {'learning_rate': 0.019594972058679168, 'lambda_l1': 0.5404103854647329, 'lambda_l2': 0.8168455894760165, 'num_leaves': 18, 'feature_fraction': 0.25973902572668783, 'bagging_fraction': 0.508540663048167, 'bagging_freq': 2, 'min_child_samples': 9, 'max_depth': 4, 'max_bin': 108, 'min_data_in_leaf': 28}. Best is trial 1 with value: 0.9078610192994425.\n",
      "[I 2024-11-03 12:31:04,998] Trial 3 finished with value: 0.9063344863720393 and parameters: {'learning_rate': 0.08889667907018929, 'lambda_l1': 8.536189862866832, 'lambda_l2': 4.138040112561017, 'num_leaves': 13, 'feature_fraction': 0.1781376912051071, 'bagging_fraction': 0.6105398159072942, 'bagging_freq': 2, 'min_child_samples': 16, 'max_depth': 3, 'max_bin': 101, 'min_data_in_leaf': 139}. Best is trial 1 with value: 0.9078610192994425.\n",
      "[I 2024-11-03 12:31:08,634] Trial 4 finished with value: 0.9114391717025251 and parameters: {'learning_rate': 0.01814596135349025, 'lambda_l1': 2.113705944064573, 'lambda_l2': 0.420167205437253, 'num_leaves': 15, 'feature_fraction': 0.5373682234746238, 'bagging_fraction': 0.31091267331531625, 'bagging_freq': 3, 'min_child_samples': 79, 'max_depth': 5, 'max_bin': 145, 'min_data_in_leaf': 98}. Best is trial 4 with value: 0.9114391717025251.\n",
      "[I 2024-11-03 12:31:10,661] Trial 5 finished with value: 0.912431066287374 and parameters: {'learning_rate': 0.0835361075531176, 'lambda_l1': 0.15030900645056822, 'lambda_l2': 0.24658447214487378, 'num_leaves': 10, 'feature_fraction': 0.36026426461061145, 'bagging_fraction': 0.43320637381368926, 'bagging_freq': 1, 'min_child_samples': 84, 'max_depth': 2, 'max_bin': 114, 'min_data_in_leaf': 91}. Best is trial 5 with value: 0.912431066287374.\n",
      "[I 2024-11-03 12:31:13,146] Trial 6 finished with value: 0.9125265487617955 and parameters: {'learning_rate': 0.013833249975219963, 'lambda_l1': 4.02155452669029, 'lambda_l2': 0.14096175149815865, 'num_leaves': 20, 'feature_fraction': 0.717795815437326, 'bagging_fraction': 0.31922940892050344, 'bagging_freq': 1, 'min_child_samples': 83, 'max_depth': 4, 'max_bin': 137, 'min_data_in_leaf': 121}. Best is trial 6 with value: 0.9125265487617955.\n",
      "[I 2024-11-03 12:31:14,906] Trial 7 finished with value: 0.8855131394463301 and parameters: {'learning_rate': 0.011858906685575274, 'lambda_l1': 0.5211124595788266, 'lambda_l2': 0.17050539260269293, 'num_leaves': 19, 'feature_fraction': 0.5986385014620463, 'bagging_fraction': 0.39853881491158955, 'bagging_freq': 1, 'min_child_samples': 34, 'max_depth': 2, 'max_bin': 137, 'min_data_in_leaf': 103}. Best is trial 6 with value: 0.9125265487617955.\n",
      "[I 2024-11-03 12:31:16,908] Trial 8 finished with value: 0.9182784523039137 and parameters: {'learning_rate': 0.07712811947156349, 'lambda_l1': 0.8798929749689022, 'lambda_l2': 0.17345566642360938, 'num_leaves': 17, 'feature_fraction': 0.708628038893518, 'bagging_fraction': 0.5367663185416978, 'bagging_freq': 3, 'min_child_samples': 52, 'max_depth': 3, 'max_bin': 121, 'min_data_in_leaf': 23}. Best is trial 8 with value: 0.9182784523039137.\n",
      "[I 2024-11-03 12:31:19,307] Trial 9 finished with value: 0.9090145472025254 and parameters: {'learning_rate': 0.0128201004189169, 'lambda_l1': 0.11557352816269865, 'lambda_l2': 1.8742210985555698, 'num_leaves': 13, 'feature_fraction': 0.5068565529317622, 'bagging_fraction': 0.7445398843556559, 'bagging_freq': 1, 'min_child_samples': 44, 'max_depth': 4, 'max_bin': 111, 'min_data_in_leaf': 30}. Best is trial 8 with value: 0.9182784523039137.\n",
      "[I 2024-11-03 12:31:21,275] Trial 10 finished with value: 0.896112910131673 and parameters: {'learning_rate': 0.046632924030566285, 'lambda_l1': 1.3112992007873714, 'lambda_l2': 8.691089486124978, 'num_leaves': 17, 'feature_fraction': 0.8828328849421558, 'bagging_fraction': 0.6136588346475399, 'bagging_freq': 3, 'min_child_samples': 64, 'max_depth': 1, 'max_bin': 121, 'min_data_in_leaf': 56}. Best is trial 8 with value: 0.9182784523039137.\n",
      "[I 2024-11-03 12:31:23,520] Trial 11 finished with value: 0.9146247323243835 and parameters: {'learning_rate': 0.04231005256286973, 'lambda_l1': 2.463390460079822, 'lambda_l2': 0.12041782803052058, 'num_leaves': 20, 'feature_fraction': 0.7673712420631215, 'bagging_fraction': 0.20746121676594884, 'bagging_freq': 3, 'min_child_samples': 65, 'max_depth': 3, 'max_bin': 124, 'min_data_in_leaf': 133}. Best is trial 8 with value: 0.9182784523039137.\n",
      "[I 2024-11-03 12:31:25,618] Trial 12 finished with value: 0.9153689736527262 and parameters: {'learning_rate': 0.046660795382774775, 'lambda_l1': 0.5688379606678078, 'lambda_l2': 0.1077980533067773, 'num_leaves': 20, 'feature_fraction': 0.7796274959963606, 'bagging_fraction': 0.21098691610202797, 'bagging_freq': 3, 'min_child_samples': 64, 'max_depth': 3, 'max_bin': 124, 'min_data_in_leaf': 65}. Best is trial 8 with value: 0.9182784523039137.\n",
      "[I 2024-11-03 12:31:27,840] Trial 13 finished with value: 0.9167558826723389 and parameters: {'learning_rate': 0.05832447745885103, 'lambda_l1': 0.42118206722764717, 'lambda_l2': 0.5860344220130842, 'num_leaves': 18, 'feature_fraction': 0.7090873844329774, 'bagging_fraction': 0.5477006755384248, 'bagging_freq': 3, 'min_child_samples': 65, 'max_depth': 3, 'max_bin': 120, 'min_data_in_leaf': 58}. Best is trial 8 with value: 0.9182784523039137.\n",
      "[I 2024-11-03 12:31:29,390] Trial 14 finished with value: 0.902447985889233 and parameters: {'learning_rate': 0.06614122789013444, 'lambda_l1': 0.26016143455351076, 'lambda_l2': 0.6856787888929166, 'num_leaves': 15, 'feature_fraction': 0.6476517714743953, 'bagging_fraction': 0.5701648923928978, 'bagging_freq': 3, 'min_child_samples': 99, 'max_depth': 1, 'max_bin': 117, 'min_data_in_leaf': 61}. Best is trial 8 with value: 0.9182784523039137.\n",
      "[I 2024-11-03 12:31:32,652] Trial 15 finished with value: 0.919910692929113 and parameters: {'learning_rate': 0.060983051779160115, 'lambda_l1': 0.29009445856794325, 'lambda_l2': 0.576574041107732, 'num_leaves': 17, 'feature_fraction': 0.8673901314442377, 'bagging_fraction': 0.7375437724402116, 'bagging_freq': 3, 'min_child_samples': 29, 'max_depth': 5, 'max_bin': 130, 'min_data_in_leaf': 48}. Best is trial 15 with value: 0.919910692929113.\n",
      "[I 2024-11-03 12:31:35,643] Trial 16 finished with value: 0.9169826873438616 and parameters: {'learning_rate': 0.031842467167178666, 'lambda_l1': 1.0351029070280395, 'lambda_l2': 1.2325285460618924, 'num_leaves': 16, 'feature_fraction': 0.8992790064411762, 'bagging_fraction': 0.7956057752531425, 'bagging_freq': 2, 'min_child_samples': 27, 'max_depth': 5, 'max_bin': 131, 'min_data_in_leaf': 44}. Best is trial 15 with value: 0.919910692929113.\n",
      "[I 2024-11-03 12:31:38,434] Trial 17 finished with value: 0.9177097241677924 and parameters: {'learning_rate': 0.06563441943830989, 'lambda_l1': 0.24805638261549234, 'lambda_l2': 0.36416884497978935, 'num_leaves': 17, 'feature_fraction': 0.423257429344725, 'bagging_fraction': 0.6947793353131886, 'bagging_freq': 3, 'min_child_samples': 25, 'max_depth': 5, 'max_bin': 149, 'min_data_in_leaf': 74}. Best is trial 15 with value: 0.919910692929113.\n",
      "[I 2024-11-03 12:31:40,381] Trial 18 finished with value: 0.9073683038559661 and parameters: {'learning_rate': 0.03405516150254423, 'lambda_l1': 0.28826704152251703, 'lambda_l2': 1.4234983300567192, 'num_leaves': 15, 'feature_fraction': 0.8233118925159123, 'bagging_fraction': 0.6732118325573909, 'bagging_freq': 2, 'min_child_samples': 38, 'max_depth': 2, 'max_bin': 132, 'min_data_in_leaf': 44}. Best is trial 15 with value: 0.919910692929113.\n",
      "[I 2024-11-03 12:31:42,858] Trial 19 finished with value: 0.9189615858727465 and parameters: {'learning_rate': 0.0739638298515656, 'lambda_l1': 1.3490559001334508, 'lambda_l2': 0.2376970296927638, 'num_leaves': 18, 'feature_fraction': 0.6380209901455304, 'bagging_fraction': 0.6736323348837421, 'bagging_freq': 3, 'min_child_samples': 53, 'max_depth': 4, 'max_bin': 143, 'min_data_in_leaf': 81}. Best is trial 15 with value: 0.919910692929113.\n",
      "[I 2024-11-03 12:31:42,976] A new study created in memory with name: no-name-6c9c50fc-dfcd-4444-8ab2-e28f690d691f\n",
      "[I 2024-11-03 12:31:45,606] Trial 0 finished with value: 0.8909531938182773 and parameters: {'learning_rate': 0.023688639503640783, 'lambda_l1': 7.969454818643936, 'lambda_l2': 2.9106359131330697, 'num_leaves': 16, 'feature_fraction': 0.22481491235394924, 'bagging_fraction': 0.2935967122017216, 'bagging_freq': 1, 'min_child_samples': 88, 'max_depth': 4, 'max_bin': 136, 'min_data_in_leaf': 22}. Best is trial 0 with value: 0.8909531938182773.\n",
      "[I 2024-11-03 12:31:47,392] Trial 1 finished with value: 0.9012252759616037 and parameters: {'learning_rate': 0.09330606024425668, 'lambda_l1': 4.622589001020832, 'lambda_l2': 0.26587543983272705, 'num_leaves': 12, 'feature_fraction': 0.24672360788274705, 'bagging_fraction': 0.38254534577572263, 'bagging_freq': 2, 'min_child_samples': 46, 'max_depth': 2, 'max_bin': 131, 'min_data_in_leaf': 38}. Best is trial 1 with value: 0.9012252759616037.\n",
      "[I 2024-11-03 12:31:50,100] Trial 2 finished with value: 0.8901653358740558 and parameters: {'learning_rate': 0.019594972058679168, 'lambda_l1': 0.5404103854647329, 'lambda_l2': 0.8168455894760165, 'num_leaves': 18, 'feature_fraction': 0.25973902572668783, 'bagging_fraction': 0.508540663048167, 'bagging_freq': 2, 'min_child_samples': 9, 'max_depth': 4, 'max_bin': 108, 'min_data_in_leaf': 28}. Best is trial 1 with value: 0.9012252759616037.\n",
      "[I 2024-11-03 12:31:52,158] Trial 3 finished with value: 0.9006608379551047 and parameters: {'learning_rate': 0.08889667907018929, 'lambda_l1': 8.536189862866832, 'lambda_l2': 4.138040112561017, 'num_leaves': 13, 'feature_fraction': 0.1781376912051071, 'bagging_fraction': 0.6105398159072942, 'bagging_freq': 2, 'min_child_samples': 16, 'max_depth': 3, 'max_bin': 101, 'min_data_in_leaf': 139}. Best is trial 1 with value: 0.9012252759616037.\n",
      "[I 2024-11-03 12:31:54,864] Trial 4 finished with value: 0.9030660763482888 and parameters: {'learning_rate': 0.01814596135349025, 'lambda_l1': 2.113705944064573, 'lambda_l2': 0.420167205437253, 'num_leaves': 15, 'feature_fraction': 0.5373682234746238, 'bagging_fraction': 0.31091267331531625, 'bagging_freq': 3, 'min_child_samples': 79, 'max_depth': 5, 'max_bin': 145, 'min_data_in_leaf': 98}. Best is trial 4 with value: 0.9030660763482888.\n",
      "[I 2024-11-03 12:31:56,551] Trial 5 finished with value: 0.9036306980222324 and parameters: {'learning_rate': 0.0835361075531176, 'lambda_l1': 0.15030900645056822, 'lambda_l2': 0.24658447214487378, 'num_leaves': 10, 'feature_fraction': 0.36026426461061145, 'bagging_fraction': 0.43320637381368926, 'bagging_freq': 1, 'min_child_samples': 84, 'max_depth': 2, 'max_bin': 114, 'min_data_in_leaf': 91}. Best is trial 5 with value: 0.9036306980222324.\n",
      "[I 2024-11-03 12:31:59,128] Trial 6 finished with value: 0.904233931666188 and parameters: {'learning_rate': 0.013833249975219963, 'lambda_l1': 4.02155452669029, 'lambda_l2': 0.14096175149815865, 'num_leaves': 20, 'feature_fraction': 0.717795815437326, 'bagging_fraction': 0.31922940892050344, 'bagging_freq': 1, 'min_child_samples': 83, 'max_depth': 4, 'max_bin': 137, 'min_data_in_leaf': 121}. Best is trial 6 with value: 0.904233931666188.\n",
      "[I 2024-11-03 12:32:00,831] Trial 7 finished with value: 0.8866017052640061 and parameters: {'learning_rate': 0.011858906685575274, 'lambda_l1': 0.5211124595788266, 'lambda_l2': 0.17050539260269293, 'num_leaves': 19, 'feature_fraction': 0.5986385014620463, 'bagging_fraction': 0.39853881491158955, 'bagging_freq': 1, 'min_child_samples': 34, 'max_depth': 2, 'max_bin': 137, 'min_data_in_leaf': 103}. Best is trial 6 with value: 0.904233931666188.\n",
      "[I 2024-11-03 12:32:02,792] Trial 8 finished with value: 0.9073035421800844 and parameters: {'learning_rate': 0.07712811947156349, 'lambda_l1': 0.8798929749689022, 'lambda_l2': 0.17345566642360938, 'num_leaves': 17, 'feature_fraction': 0.708628038893518, 'bagging_fraction': 0.5367663185416978, 'bagging_freq': 3, 'min_child_samples': 52, 'max_depth': 3, 'max_bin': 121, 'min_data_in_leaf': 23}. Best is trial 8 with value: 0.9073035421800844.\n",
      "[I 2024-11-03 12:32:05,157] Trial 9 finished with value: 0.9018840131087487 and parameters: {'learning_rate': 0.0128201004189169, 'lambda_l1': 0.11557352816269865, 'lambda_l2': 1.8742210985555698, 'num_leaves': 13, 'feature_fraction': 0.5068565529317622, 'bagging_fraction': 0.7445398843556559, 'bagging_freq': 1, 'min_child_samples': 44, 'max_depth': 4, 'max_bin': 111, 'min_data_in_leaf': 30}. Best is trial 8 with value: 0.9073035421800844.\n",
      "[I 2024-11-03 12:32:06,485] Trial 10 finished with value: 0.8931113529945073 and parameters: {'learning_rate': 0.046632924030566285, 'lambda_l1': 1.3112992007873714, 'lambda_l2': 8.691089486124978, 'num_leaves': 17, 'feature_fraction': 0.8828328849421558, 'bagging_fraction': 0.6136588346475399, 'bagging_freq': 3, 'min_child_samples': 64, 'max_depth': 1, 'max_bin': 121, 'min_data_in_leaf': 56}. Best is trial 8 with value: 0.9073035421800844.\n",
      "[I 2024-11-03 12:32:08,509] Trial 11 finished with value: 0.9051430491120434 and parameters: {'learning_rate': 0.04231005256286973, 'lambda_l1': 2.463390460079822, 'lambda_l2': 0.12041782803052058, 'num_leaves': 20, 'feature_fraction': 0.7673712420631215, 'bagging_fraction': 0.20746121676594884, 'bagging_freq': 3, 'min_child_samples': 65, 'max_depth': 3, 'max_bin': 124, 'min_data_in_leaf': 133}. Best is trial 8 with value: 0.9073035421800844.\n",
      "[I 2024-11-03 12:32:10,606] Trial 12 finished with value: 0.9056610497880222 and parameters: {'learning_rate': 0.046660795382774775, 'lambda_l1': 0.5688379606678078, 'lambda_l2': 0.1077980533067773, 'num_leaves': 20, 'feature_fraction': 0.7796274959963606, 'bagging_fraction': 0.21098691610202797, 'bagging_freq': 3, 'min_child_samples': 64, 'max_depth': 3, 'max_bin': 124, 'min_data_in_leaf': 65}. Best is trial 8 with value: 0.9073035421800844.\n",
      "[I 2024-11-03 12:32:12,961] Trial 13 finished with value: 0.9066187754572238 and parameters: {'learning_rate': 0.05832447745885103, 'lambda_l1': 0.42118206722764717, 'lambda_l2': 0.5860344220130842, 'num_leaves': 18, 'feature_fraction': 0.7090873844329774, 'bagging_fraction': 0.5477006755384248, 'bagging_freq': 3, 'min_child_samples': 65, 'max_depth': 3, 'max_bin': 120, 'min_data_in_leaf': 58}. Best is trial 8 with value: 0.9073035421800844.\n",
      "[I 2024-11-03 12:32:14,658] Trial 14 finished with value: 0.8973959689837977 and parameters: {'learning_rate': 0.06614122789013444, 'lambda_l1': 0.26016143455351076, 'lambda_l2': 0.6856787888929166, 'num_leaves': 15, 'feature_fraction': 0.6476517714743953, 'bagging_fraction': 0.5701648923928978, 'bagging_freq': 3, 'min_child_samples': 99, 'max_depth': 1, 'max_bin': 117, 'min_data_in_leaf': 61}. Best is trial 8 with value: 0.9073035421800844.\n",
      "[I 2024-11-03 12:32:18,729] Trial 15 finished with value: 0.9086143318718942 and parameters: {'learning_rate': 0.060983051779160115, 'lambda_l1': 0.29009445856794325, 'lambda_l2': 0.576574041107732, 'num_leaves': 17, 'feature_fraction': 0.8673901314442377, 'bagging_fraction': 0.7375437724402116, 'bagging_freq': 3, 'min_child_samples': 29, 'max_depth': 5, 'max_bin': 130, 'min_data_in_leaf': 48}. Best is trial 15 with value: 0.9086143318718942.\n",
      "[I 2024-11-03 12:32:22,539] Trial 16 finished with value: 0.9067398663230195 and parameters: {'learning_rate': 0.031842467167178666, 'lambda_l1': 1.0351029070280395, 'lambda_l2': 1.2325285460618924, 'num_leaves': 16, 'feature_fraction': 0.8992790064411762, 'bagging_fraction': 0.7956057752531425, 'bagging_freq': 2, 'min_child_samples': 27, 'max_depth': 5, 'max_bin': 131, 'min_data_in_leaf': 44}. Best is trial 15 with value: 0.9086143318718942.\n",
      "[I 2024-11-03 12:32:26,029] Trial 17 finished with value: 0.9071100485272499 and parameters: {'learning_rate': 0.06563441943830989, 'lambda_l1': 0.24805638261549234, 'lambda_l2': 0.36416884497978935, 'num_leaves': 17, 'feature_fraction': 0.423257429344725, 'bagging_fraction': 0.6947793353131886, 'bagging_freq': 3, 'min_child_samples': 25, 'max_depth': 5, 'max_bin': 149, 'min_data_in_leaf': 74}. Best is trial 15 with value: 0.9086143318718942.\n",
      "[I 2024-11-03 12:32:28,472] Trial 18 finished with value: 0.9007927957330799 and parameters: {'learning_rate': 0.03405516150254423, 'lambda_l1': 0.28826704152251703, 'lambda_l2': 1.4234983300567192, 'num_leaves': 15, 'feature_fraction': 0.8233118925159123, 'bagging_fraction': 0.6732118325573909, 'bagging_freq': 2, 'min_child_samples': 38, 'max_depth': 2, 'max_bin': 132, 'min_data_in_leaf': 44}. Best is trial 15 with value: 0.9086143318718942.\n",
      "[I 2024-11-03 12:32:31,540] Trial 19 finished with value: 0.908258902485048 and parameters: {'learning_rate': 0.0739638298515656, 'lambda_l1': 1.3490559001334508, 'lambda_l2': 0.2376970296927638, 'num_leaves': 18, 'feature_fraction': 0.6380209901455304, 'bagging_fraction': 0.6736323348837421, 'bagging_freq': 3, 'min_child_samples': 53, 'max_depth': 4, 'max_bin': 143, 'min_data_in_leaf': 81}. Best is trial 15 with value: 0.9086143318718942.\n",
      "[I 2024-11-03 12:32:31,640] A new study created in memory with name: no-name-7b9d1db9-9005-4e0e-885f-4cfc8439b7e9\n",
      "[I 2024-11-03 12:32:34,271] Trial 0 finished with value: 0.8920639160707677 and parameters: {'learning_rate': 0.023688639503640783, 'lambda_l1': 7.969454818643936, 'lambda_l2': 2.9106359131330697, 'num_leaves': 16, 'feature_fraction': 0.22481491235394924, 'bagging_fraction': 0.2935967122017216, 'bagging_freq': 1, 'min_child_samples': 88, 'max_depth': 4, 'max_bin': 136, 'min_data_in_leaf': 22}. Best is trial 0 with value: 0.8920639160707677.\n",
      "[I 2024-11-03 12:32:35,766] Trial 1 finished with value: 0.9073789747818758 and parameters: {'learning_rate': 0.09330606024425668, 'lambda_l1': 4.622589001020832, 'lambda_l2': 0.26587543983272705, 'num_leaves': 12, 'feature_fraction': 0.24672360788274705, 'bagging_fraction': 0.38254534577572263, 'bagging_freq': 2, 'min_child_samples': 46, 'max_depth': 2, 'max_bin': 131, 'min_data_in_leaf': 38}. Best is trial 1 with value: 0.9073789747818758.\n",
      "[I 2024-11-03 12:32:38,177] Trial 2 finished with value: 0.8907072818546524 and parameters: {'learning_rate': 0.019594972058679168, 'lambda_l1': 0.5404103854647329, 'lambda_l2': 0.8168455894760165, 'num_leaves': 18, 'feature_fraction': 0.25973902572668783, 'bagging_fraction': 0.508540663048167, 'bagging_freq': 2, 'min_child_samples': 9, 'max_depth': 4, 'max_bin': 108, 'min_data_in_leaf': 28}. Best is trial 1 with value: 0.9073789747818758.\n",
      "[I 2024-11-03 12:32:40,212] Trial 3 finished with value: 0.9061478033048541 and parameters: {'learning_rate': 0.08889667907018929, 'lambda_l1': 8.536189862866832, 'lambda_l2': 4.138040112561017, 'num_leaves': 13, 'feature_fraction': 0.1781376912051071, 'bagging_fraction': 0.6105398159072942, 'bagging_freq': 2, 'min_child_samples': 16, 'max_depth': 3, 'max_bin': 101, 'min_data_in_leaf': 139}. Best is trial 1 with value: 0.9073789747818758.\n",
      "[I 2024-11-03 12:32:43,000] Trial 4 finished with value: 0.910007609417533 and parameters: {'learning_rate': 0.01814596135349025, 'lambda_l1': 2.113705944064573, 'lambda_l2': 0.420167205437253, 'num_leaves': 15, 'feature_fraction': 0.5373682234746238, 'bagging_fraction': 0.31091267331531625, 'bagging_freq': 3, 'min_child_samples': 79, 'max_depth': 5, 'max_bin': 145, 'min_data_in_leaf': 98}. Best is trial 4 with value: 0.910007609417533.\n",
      "[I 2024-11-03 12:32:44,693] Trial 5 finished with value: 0.9114233801866201 and parameters: {'learning_rate': 0.0835361075531176, 'lambda_l1': 0.15030900645056822, 'lambda_l2': 0.24658447214487378, 'num_leaves': 10, 'feature_fraction': 0.36026426461061145, 'bagging_fraction': 0.43320637381368926, 'bagging_freq': 1, 'min_child_samples': 84, 'max_depth': 2, 'max_bin': 114, 'min_data_in_leaf': 91}. Best is trial 5 with value: 0.9114233801866201.\n",
      "[I 2024-11-03 12:32:47,394] Trial 6 finished with value: 0.9113580738432663 and parameters: {'learning_rate': 0.013833249975219963, 'lambda_l1': 4.02155452669029, 'lambda_l2': 0.14096175149815865, 'num_leaves': 20, 'feature_fraction': 0.717795815437326, 'bagging_fraction': 0.31922940892050344, 'bagging_freq': 1, 'min_child_samples': 83, 'max_depth': 4, 'max_bin': 137, 'min_data_in_leaf': 121}. Best is trial 5 with value: 0.9114233801866201.\n",
      "[I 2024-11-03 12:32:49,499] Trial 7 finished with value: 0.886585646965502 and parameters: {'learning_rate': 0.011858906685575274, 'lambda_l1': 0.5211124595788266, 'lambda_l2': 0.17050539260269293, 'num_leaves': 19, 'feature_fraction': 0.5986385014620463, 'bagging_fraction': 0.39853881491158955, 'bagging_freq': 1, 'min_child_samples': 34, 'max_depth': 2, 'max_bin': 137, 'min_data_in_leaf': 103}. Best is trial 5 with value: 0.9114233801866201.\n",
      "[I 2024-11-03 12:32:51,625] Trial 8 finished with value: 0.9164159960317321 and parameters: {'learning_rate': 0.07712811947156349, 'lambda_l1': 0.8798929749689022, 'lambda_l2': 0.17345566642360938, 'num_leaves': 17, 'feature_fraction': 0.708628038893518, 'bagging_fraction': 0.5367663185416978, 'bagging_freq': 3, 'min_child_samples': 52, 'max_depth': 3, 'max_bin': 121, 'min_data_in_leaf': 23}. Best is trial 8 with value: 0.9164159960317321.\n",
      "[I 2024-11-03 12:32:54,014] Trial 9 finished with value: 0.9080515801127707 and parameters: {'learning_rate': 0.0128201004189169, 'lambda_l1': 0.11557352816269865, 'lambda_l2': 1.8742210985555698, 'num_leaves': 13, 'feature_fraction': 0.5068565529317622, 'bagging_fraction': 0.7445398843556559, 'bagging_freq': 1, 'min_child_samples': 44, 'max_depth': 4, 'max_bin': 111, 'min_data_in_leaf': 30}. Best is trial 8 with value: 0.9164159960317321.\n",
      "[I 2024-11-03 12:32:55,438] Trial 10 finished with value: 0.8964316722317529 and parameters: {'learning_rate': 0.046632924030566285, 'lambda_l1': 1.3112992007873714, 'lambda_l2': 8.691089486124978, 'num_leaves': 17, 'feature_fraction': 0.8828328849421558, 'bagging_fraction': 0.6136588346475399, 'bagging_freq': 3, 'min_child_samples': 64, 'max_depth': 1, 'max_bin': 121, 'min_data_in_leaf': 56}. Best is trial 8 with value: 0.9164159960317321.\n",
      "[I 2024-11-03 12:32:57,018] Trial 11 finished with value: 0.8991009777366501 and parameters: {'learning_rate': 0.05589773202159083, 'lambda_l1': 0.11090572877945773, 'lambda_l2': 0.5256637703102728, 'num_leaves': 10, 'feature_fraction': 0.35462900009984644, 'bagging_fraction': 0.5204938061209768, 'bagging_freq': 3, 'min_child_samples': 65, 'max_depth': 2, 'max_bin': 120, 'min_data_in_leaf': 67}. Best is trial 8 with value: 0.9164159960317321.\n",
      "[I 2024-11-03 12:32:58,938] Trial 12 finished with value: 0.8998978378261325 and parameters: {'learning_rate': 0.0584380592304802, 'lambda_l1': 0.35397284510561594, 'lambda_l2': 0.11043199262255746, 'num_leaves': 10, 'feature_fraction': 0.7175436670081548, 'bagging_fraction': 0.43871428314185207, 'bagging_freq': 3, 'min_child_samples': 100, 'max_depth': 1, 'max_bin': 114, 'min_data_in_leaf': 78}. Best is trial 8 with value: 0.9164159960317321.\n",
      "[I 2024-11-03 12:33:01,670] Trial 13 finished with value: 0.9106177368128624 and parameters: {'learning_rate': 0.035932869914807916, 'lambda_l1': 0.2209220770793134, 'lambda_l2': 0.2805094210329639, 'num_leaves': 15, 'feature_fraction': 0.4373564812614204, 'bagging_fraction': 0.6167129800853254, 'bagging_freq': 2, 'min_child_samples': 65, 'max_depth': 3, 'max_bin': 126, 'min_data_in_leaf': 57}. Best is trial 8 with value: 0.9164159960317321.\n",
      "[I 2024-11-03 12:33:03,874] Trial 14 finished with value: 0.913924044284649 and parameters: {'learning_rate': 0.07683810841793164, 'lambda_l1': 0.8697279047851351, 'lambda_l2': 1.0193334078798542, 'num_leaves': 17, 'feature_fraction': 0.8500489274928182, 'bagging_fraction': 0.7140177301575984, 'bagging_freq': 2, 'min_child_samples': 29, 'max_depth': 2, 'max_bin': 116, 'min_data_in_leaf': 90}. Best is trial 8 with value: 0.9164159960317321.\n",
      "[I 2024-11-03 12:33:06,662] Trial 15 finished with value: 0.9164451869757888 and parameters: {'learning_rate': 0.0672647077243804, 'lambda_l1': 0.9320335519444257, 'lambda_l2': 1.1774806769898252, 'num_leaves': 17, 'feature_fraction': 0.8673901314442377, 'bagging_fraction': 0.7948570474938238, 'bagging_freq': 2, 'min_child_samples': 29, 'max_depth': 3, 'max_bin': 100, 'min_data_in_leaf': 113}. Best is trial 15 with value: 0.9164451869757888.\n",
      "[I 2024-11-03 12:33:09,493] Trial 16 finished with value: 0.9125752235391767 and parameters: {'learning_rate': 0.038773133083608864, 'lambda_l1': 1.5527519199172783, 'lambda_l2': 1.3548647922877886, 'num_leaves': 18, 'feature_fraction': 0.6866647863841021, 'bagging_fraction': 0.7964580972217913, 'bagging_freq': 3, 'min_child_samples': 27, 'max_depth': 3, 'max_bin': 100, 'min_data_in_leaf': 121}. Best is trial 15 with value: 0.9164451869757888.\n",
      "[I 2024-11-03 12:33:12,250] Trial 17 finished with value: 0.9181978682760727 and parameters: {'learning_rate': 0.06563441943830989, 'lambda_l1': 0.8108473139204599, 'lambda_l2': 0.654352336537576, 'num_leaves': 20, 'feature_fraction': 0.7912592426983397, 'bagging_fraction': 0.20735355067611028, 'bagging_freq': 2, 'min_child_samples': 56, 'max_depth': 5, 'max_bin': 150, 'min_data_in_leaf': 114}. Best is trial 17 with value: 0.9181978682760727.\n",
      "[I 2024-11-03 12:33:16,872] Trial 18 finished with value: 0.9156174504536027 and parameters: {'learning_rate': 0.02842238616445537, 'lambda_l1': 2.635138198482028, 'lambda_l2': 0.5212673661961977, 'num_leaves': 20, 'feature_fraction': 0.7874355216503086, 'bagging_fraction': 0.20231743325080562, 'bagging_freq': 2, 'min_child_samples': 38, 'max_depth': 5, 'max_bin': 150, 'min_data_in_leaf': 150}. Best is trial 17 with value: 0.9181978682760727.\n",
      "[I 2024-11-03 12:33:19,763] Trial 19 finished with value: 0.9179820280197568 and parameters: {'learning_rate': 0.059597532503888745, 'lambda_l1': 0.5194647799703176, 'lambda_l2': 3.1132570297680195, 'num_leaves': 19, 'feature_fraction': 0.8134182777606509, 'bagging_fraction': 0.21487477086982548, 'bagging_freq': 2, 'min_child_samples': 20, 'max_depth': 5, 'max_bin': 144, 'min_data_in_leaf': 112}. Best is trial 17 with value: 0.9181978682760727.\n",
      "[I 2024-11-03 12:33:19,819] A new study created in memory with name: no-name-1e90e6b0-2cba-4295-b242-79b96d53191c\n",
      "[I 2024-11-03 12:33:22,519] Trial 0 finished with value: 0.8997560079194915 and parameters: {'learning_rate': 0.023688639503640783, 'lambda_l1': 7.969454818643936, 'lambda_l2': 2.9106359131330697, 'num_leaves': 16, 'feature_fraction': 0.22481491235394924, 'bagging_fraction': 0.2935967122017216, 'bagging_freq': 1, 'min_child_samples': 88, 'max_depth': 4, 'max_bin': 136, 'min_data_in_leaf': 22}. Best is trial 0 with value: 0.8997560079194915.\n",
      "[I 2024-11-03 12:33:24,325] Trial 1 finished with value: 0.917048538938612 and parameters: {'learning_rate': 0.09330606024425668, 'lambda_l1': 4.622589001020832, 'lambda_l2': 0.26587543983272705, 'num_leaves': 12, 'feature_fraction': 0.24672360788274705, 'bagging_fraction': 0.38254534577572263, 'bagging_freq': 2, 'min_child_samples': 46, 'max_depth': 2, 'max_bin': 131, 'min_data_in_leaf': 38}. Best is trial 1 with value: 0.917048538938612.\n",
      "[I 2024-11-03 12:33:26,967] Trial 2 finished with value: 0.8984413328545546 and parameters: {'learning_rate': 0.019594972058679168, 'lambda_l1': 0.5404103854647329, 'lambda_l2': 0.8168455894760165, 'num_leaves': 18, 'feature_fraction': 0.25973902572668783, 'bagging_fraction': 0.508540663048167, 'bagging_freq': 2, 'min_child_samples': 9, 'max_depth': 4, 'max_bin': 108, 'min_data_in_leaf': 28}. Best is trial 1 with value: 0.917048538938612.\n",
      "[I 2024-11-03 12:33:29,111] Trial 3 finished with value: 0.9151603287577963 and parameters: {'learning_rate': 0.08889667907018929, 'lambda_l1': 8.536189862866832, 'lambda_l2': 4.138040112561017, 'num_leaves': 13, 'feature_fraction': 0.1781376912051071, 'bagging_fraction': 0.6105398159072942, 'bagging_freq': 2, 'min_child_samples': 16, 'max_depth': 3, 'max_bin': 101, 'min_data_in_leaf': 139}. Best is trial 1 with value: 0.917048538938612.\n",
      "[I 2024-11-03 12:33:32,271] Trial 4 finished with value: 0.9200120230003681 and parameters: {'learning_rate': 0.01814596135349025, 'lambda_l1': 2.113705944064573, 'lambda_l2': 0.420167205437253, 'num_leaves': 15, 'feature_fraction': 0.5373682234746238, 'bagging_fraction': 0.31091267331531625, 'bagging_freq': 3, 'min_child_samples': 79, 'max_depth': 5, 'max_bin': 145, 'min_data_in_leaf': 98}. Best is trial 4 with value: 0.9200120230003681.\n",
      "[I 2024-11-03 12:33:34,339] Trial 5 finished with value: 0.9219942594204897 and parameters: {'learning_rate': 0.0835361075531176, 'lambda_l1': 0.15030900645056822, 'lambda_l2': 0.24658447214487378, 'num_leaves': 10, 'feature_fraction': 0.36026426461061145, 'bagging_fraction': 0.43320637381368926, 'bagging_freq': 1, 'min_child_samples': 84, 'max_depth': 2, 'max_bin': 114, 'min_data_in_leaf': 91}. Best is trial 5 with value: 0.9219942594204897.\n",
      "[I 2024-11-03 12:33:37,414] Trial 6 finished with value: 0.9211598413138512 and parameters: {'learning_rate': 0.013833249975219963, 'lambda_l1': 4.02155452669029, 'lambda_l2': 0.14096175149815865, 'num_leaves': 20, 'feature_fraction': 0.717795815437326, 'bagging_fraction': 0.31922940892050344, 'bagging_freq': 1, 'min_child_samples': 83, 'max_depth': 4, 'max_bin': 137, 'min_data_in_leaf': 121}. Best is trial 5 with value: 0.9219942594204897.\n",
      "[I 2024-11-03 12:33:39,492] Trial 7 finished with value: 0.8951493765594949 and parameters: {'learning_rate': 0.011858906685575274, 'lambda_l1': 0.5211124595788266, 'lambda_l2': 0.17050539260269293, 'num_leaves': 19, 'feature_fraction': 0.5986385014620463, 'bagging_fraction': 0.39853881491158955, 'bagging_freq': 1, 'min_child_samples': 34, 'max_depth': 2, 'max_bin': 137, 'min_data_in_leaf': 103}. Best is trial 5 with value: 0.9219942594204897.\n",
      "[I 2024-11-03 12:33:42,553] Trial 8 finished with value: 0.9270330593544106 and parameters: {'learning_rate': 0.07712811947156349, 'lambda_l1': 0.8798929749689022, 'lambda_l2': 0.17345566642360938, 'num_leaves': 17, 'feature_fraction': 0.708628038893518, 'bagging_fraction': 0.5367663185416978, 'bagging_freq': 3, 'min_child_samples': 52, 'max_depth': 3, 'max_bin': 121, 'min_data_in_leaf': 23}. Best is trial 8 with value: 0.9270330593544106.\n",
      "[I 2024-11-03 12:33:45,620] Trial 9 finished with value: 0.9176195143701473 and parameters: {'learning_rate': 0.0128201004189169, 'lambda_l1': 0.11557352816269865, 'lambda_l2': 1.8742210985555698, 'num_leaves': 13, 'feature_fraction': 0.5068565529317622, 'bagging_fraction': 0.7445398843556559, 'bagging_freq': 1, 'min_child_samples': 44, 'max_depth': 4, 'max_bin': 111, 'min_data_in_leaf': 30}. Best is trial 8 with value: 0.9270330593544106.\n",
      "[I 2024-11-03 12:33:47,292] Trial 10 finished with value: 0.9055474151789358 and parameters: {'learning_rate': 0.046632924030566285, 'lambda_l1': 1.3112992007873714, 'lambda_l2': 8.691089486124978, 'num_leaves': 17, 'feature_fraction': 0.8828328849421558, 'bagging_fraction': 0.6136588346475399, 'bagging_freq': 3, 'min_child_samples': 64, 'max_depth': 1, 'max_bin': 121, 'min_data_in_leaf': 56}. Best is trial 8 with value: 0.9270330593544106.\n",
      "[I 2024-11-03 12:33:49,533] Trial 11 finished with value: 0.908077519878293 and parameters: {'learning_rate': 0.05589773202159083, 'lambda_l1': 0.11090572877945773, 'lambda_l2': 0.5256637703102728, 'num_leaves': 10, 'feature_fraction': 0.35462900009984644, 'bagging_fraction': 0.5204938061209768, 'bagging_freq': 3, 'min_child_samples': 65, 'max_depth': 2, 'max_bin': 120, 'min_data_in_leaf': 67}. Best is trial 8 with value: 0.9270330593544106.\n",
      "[I 2024-11-03 12:33:51,272] Trial 12 finished with value: 0.9097003992116397 and parameters: {'learning_rate': 0.0584380592304802, 'lambda_l1': 0.35397284510561594, 'lambda_l2': 0.11043199262255746, 'num_leaves': 10, 'feature_fraction': 0.7175436670081548, 'bagging_fraction': 0.43871428314185207, 'bagging_freq': 3, 'min_child_samples': 100, 'max_depth': 1, 'max_bin': 114, 'min_data_in_leaf': 78}. Best is trial 8 with value: 0.9270330593544106.\n",
      "[I 2024-11-03 12:33:54,052] Trial 13 finished with value: 0.9206080541198349 and parameters: {'learning_rate': 0.035932869914807916, 'lambda_l1': 0.2209220770793134, 'lambda_l2': 0.2805094210329639, 'num_leaves': 15, 'feature_fraction': 0.4373564812614204, 'bagging_fraction': 0.6167129800853254, 'bagging_freq': 2, 'min_child_samples': 65, 'max_depth': 3, 'max_bin': 126, 'min_data_in_leaf': 57}. Best is trial 8 with value: 0.9270330593544106.\n",
      "[I 2024-11-03 12:33:56,213] Trial 14 finished with value: 0.9237385624000052 and parameters: {'learning_rate': 0.07683810841793164, 'lambda_l1': 0.8697279047851351, 'lambda_l2': 1.0193334078798542, 'num_leaves': 17, 'feature_fraction': 0.8500489274928182, 'bagging_fraction': 0.7140177301575984, 'bagging_freq': 2, 'min_child_samples': 29, 'max_depth': 2, 'max_bin': 116, 'min_data_in_leaf': 90}. Best is trial 8 with value: 0.9270330593544106.\n",
      "[I 2024-11-03 12:33:59,596] Trial 15 finished with value: 0.9268386452451826 and parameters: {'learning_rate': 0.0672647077243804, 'lambda_l1': 0.9320335519444257, 'lambda_l2': 1.1774806769898252, 'num_leaves': 17, 'feature_fraction': 0.8673901314442377, 'bagging_fraction': 0.7948570474938238, 'bagging_freq': 2, 'min_child_samples': 29, 'max_depth': 3, 'max_bin': 100, 'min_data_in_leaf': 113}. Best is trial 8 with value: 0.9270330593544106.\n",
      "[I 2024-11-03 12:34:02,703] Trial 16 finished with value: 0.9223922682575875 and parameters: {'learning_rate': 0.038773133083608864, 'lambda_l1': 1.5527519199172783, 'lambda_l2': 1.3548647922877886, 'num_leaves': 18, 'feature_fraction': 0.6866647863841021, 'bagging_fraction': 0.7964580972217913, 'bagging_freq': 3, 'min_child_samples': 27, 'max_depth': 3, 'max_bin': 100, 'min_data_in_leaf': 121}. Best is trial 8 with value: 0.9270330593544106.\n",
      "[I 2024-11-03 12:34:05,739] Trial 17 finished with value: 0.9288060332412944 and parameters: {'learning_rate': 0.06563441943830989, 'lambda_l1': 0.8108473139204599, 'lambda_l2': 0.654352336537576, 'num_leaves': 20, 'feature_fraction': 0.7912592426983397, 'bagging_fraction': 0.20735355067611028, 'bagging_freq': 2, 'min_child_samples': 56, 'max_depth': 5, 'max_bin': 150, 'min_data_in_leaf': 114}. Best is trial 17 with value: 0.9288060332412944.\n",
      "[I 2024-11-03 12:34:08,777] Trial 18 finished with value: 0.9259673717238666 and parameters: {'learning_rate': 0.02842238616445537, 'lambda_l1': 2.5141324934479012, 'lambda_l2': 0.5212673661961977, 'num_leaves': 20, 'feature_fraction': 0.7858145579077023, 'bagging_fraction': 0.20231743325080562, 'bagging_freq': 3, 'min_child_samples': 56, 'max_depth': 5, 'max_bin': 150, 'min_data_in_leaf': 150}. Best is trial 17 with value: 0.9288060332412944.\n",
      "[I 2024-11-03 12:34:12,037] Trial 19 finished with value: 0.9264161639185589 and parameters: {'learning_rate': 0.047614975855476534, 'lambda_l1': 0.5194647799703176, 'lambda_l2': 0.41064867581823966, 'num_leaves': 19, 'feature_fraction': 0.6380209901455304, 'bagging_fraction': 0.21487477086982548, 'bagging_freq': 2, 'min_child_samples': 53, 'max_depth': 5, 'max_bin': 130, 'min_data_in_leaf': 46}. Best is trial 17 with value: 0.9288060332412944.\n",
      "[I 2024-11-03 12:34:12,155] A new study created in memory with name: no-name-27022e9b-1ca6-4999-bc8f-3e7c22d79993\n",
      "[I 2024-11-03 12:34:16,381] Trial 0 finished with value: 0.8828619569583742 and parameters: {'learning_rate': 0.023688639503640783, 'lambda_l1': 7.969454818643936, 'lambda_l2': 2.9106359131330697, 'num_leaves': 16, 'feature_fraction': 0.22481491235394924, 'bagging_fraction': 0.2935967122017216, 'bagging_freq': 1, 'min_child_samples': 88, 'max_depth': 4, 'max_bin': 136, 'min_data_in_leaf': 22}. Best is trial 0 with value: 0.8828619569583742.\n",
      "[I 2024-11-03 12:34:18,585] Trial 1 finished with value: 0.9152054782092114 and parameters: {'learning_rate': 0.09330606024425668, 'lambda_l1': 4.622589001020832, 'lambda_l2': 0.26587543983272705, 'num_leaves': 12, 'feature_fraction': 0.24672360788274705, 'bagging_fraction': 0.38254534577572263, 'bagging_freq': 2, 'min_child_samples': 46, 'max_depth': 2, 'max_bin': 131, 'min_data_in_leaf': 38}. Best is trial 1 with value: 0.9152054782092114.\n",
      "[I 2024-11-03 12:34:23,237] Trial 2 finished with value: 0.8805295717960893 and parameters: {'learning_rate': 0.019594972058679168, 'lambda_l1': 0.5404103854647329, 'lambda_l2': 0.8168455894760165, 'num_leaves': 18, 'feature_fraction': 0.25973902572668783, 'bagging_fraction': 0.508540663048167, 'bagging_freq': 2, 'min_child_samples': 9, 'max_depth': 4, 'max_bin': 108, 'min_data_in_leaf': 28}. Best is trial 1 with value: 0.9152054782092114.\n",
      "[I 2024-11-03 12:34:27,670] Trial 3 finished with value: 0.9113164211554958 and parameters: {'learning_rate': 0.08889667907018929, 'lambda_l1': 8.536189862866832, 'lambda_l2': 4.138040112561017, 'num_leaves': 13, 'feature_fraction': 0.1781376912051071, 'bagging_fraction': 0.6105398159072942, 'bagging_freq': 2, 'min_child_samples': 16, 'max_depth': 3, 'max_bin': 101, 'min_data_in_leaf': 139}. Best is trial 1 with value: 0.9152054782092114.\n",
      "[I 2024-11-03 12:34:31,414] Trial 4 finished with value: 0.9225290075643934 and parameters: {'learning_rate': 0.01814596135349025, 'lambda_l1': 2.113705944064573, 'lambda_l2': 0.420167205437253, 'num_leaves': 15, 'feature_fraction': 0.5373682234746238, 'bagging_fraction': 0.31091267331531625, 'bagging_freq': 3, 'min_child_samples': 79, 'max_depth': 5, 'max_bin': 145, 'min_data_in_leaf': 98}. Best is trial 4 with value: 0.9225290075643934.\n",
      "[I 2024-11-03 12:34:33,716] Trial 5 finished with value: 0.927335506702485 and parameters: {'learning_rate': 0.0835361075531176, 'lambda_l1': 0.15030900645056822, 'lambda_l2': 0.24658447214487378, 'num_leaves': 10, 'feature_fraction': 0.36026426461061145, 'bagging_fraction': 0.43320637381368926, 'bagging_freq': 1, 'min_child_samples': 84, 'max_depth': 2, 'max_bin': 114, 'min_data_in_leaf': 91}. Best is trial 5 with value: 0.927335506702485.\n",
      "[I 2024-11-03 12:34:37,044] Trial 6 finished with value: 0.9233550805648764 and parameters: {'learning_rate': 0.013833249975219963, 'lambda_l1': 4.02155452669029, 'lambda_l2': 0.14096175149815865, 'num_leaves': 20, 'feature_fraction': 0.717795815437326, 'bagging_fraction': 0.31922940892050344, 'bagging_freq': 1, 'min_child_samples': 83, 'max_depth': 4, 'max_bin': 137, 'min_data_in_leaf': 121}. Best is trial 5 with value: 0.927335506702485.\n",
      "[I 2024-11-03 12:34:39,326] Trial 7 finished with value: 0.8780077355749183 and parameters: {'learning_rate': 0.011858906685575274, 'lambda_l1': 0.5211124595788266, 'lambda_l2': 0.17050539260269293, 'num_leaves': 19, 'feature_fraction': 0.5986385014620463, 'bagging_fraction': 0.39853881491158955, 'bagging_freq': 1, 'min_child_samples': 34, 'max_depth': 2, 'max_bin': 137, 'min_data_in_leaf': 103}. Best is trial 5 with value: 0.927335506702485.\n",
      "[I 2024-11-03 12:34:42,279] Trial 8 finished with value: 0.9366272370636132 and parameters: {'learning_rate': 0.07712811947156349, 'lambda_l1': 0.8798929749689022, 'lambda_l2': 0.17345566642360938, 'num_leaves': 17, 'feature_fraction': 0.708628038893518, 'bagging_fraction': 0.5367663185416978, 'bagging_freq': 3, 'min_child_samples': 52, 'max_depth': 3, 'max_bin': 121, 'min_data_in_leaf': 23}. Best is trial 8 with value: 0.9366272370636132.\n",
      "[I 2024-11-03 12:34:45,744] Trial 9 finished with value: 0.9172903340628542 and parameters: {'learning_rate': 0.0128201004189169, 'lambda_l1': 0.11557352816269865, 'lambda_l2': 1.8742210985555698, 'num_leaves': 13, 'feature_fraction': 0.5068565529317622, 'bagging_fraction': 0.7445398843556559, 'bagging_freq': 1, 'min_child_samples': 44, 'max_depth': 4, 'max_bin': 111, 'min_data_in_leaf': 30}. Best is trial 8 with value: 0.9366272370636132.\n",
      "[I 2024-11-03 12:34:48,600] Trial 10 finished with value: 0.894717533822567 and parameters: {'learning_rate': 0.046632924030566285, 'lambda_l1': 1.3112992007873714, 'lambda_l2': 8.691089486124978, 'num_leaves': 17, 'feature_fraction': 0.8828328849421558, 'bagging_fraction': 0.6136588346475399, 'bagging_freq': 3, 'min_child_samples': 64, 'max_depth': 1, 'max_bin': 121, 'min_data_in_leaf': 56}. Best is trial 8 with value: 0.9366272370636132.\n",
      "[I 2024-11-03 12:34:52,140] Trial 11 finished with value: 0.8989611190663884 and parameters: {'learning_rate': 0.05589773202159083, 'lambda_l1': 0.11090572877945773, 'lambda_l2': 0.5256637703102728, 'num_leaves': 10, 'feature_fraction': 0.35462900009984644, 'bagging_fraction': 0.5204938061209768, 'bagging_freq': 3, 'min_child_samples': 65, 'max_depth': 2, 'max_bin': 120, 'min_data_in_leaf': 67}. Best is trial 8 with value: 0.9366272370636132.\n",
      "[I 2024-11-03 12:34:54,407] Trial 12 finished with value: 0.9016118349453432 and parameters: {'learning_rate': 0.0584380592304802, 'lambda_l1': 0.35397284510561594, 'lambda_l2': 0.11043199262255746, 'num_leaves': 10, 'feature_fraction': 0.7175436670081548, 'bagging_fraction': 0.43871428314185207, 'bagging_freq': 3, 'min_child_samples': 100, 'max_depth': 1, 'max_bin': 114, 'min_data_in_leaf': 78}. Best is trial 8 with value: 0.9366272370636132.\n",
      "[I 2024-11-03 12:34:57,362] Trial 13 finished with value: 0.9237584038593647 and parameters: {'learning_rate': 0.035932869914807916, 'lambda_l1': 0.2209220770793134, 'lambda_l2': 0.2805094210329639, 'num_leaves': 15, 'feature_fraction': 0.4373564812614204, 'bagging_fraction': 0.6167129800853254, 'bagging_freq': 2, 'min_child_samples': 65, 'max_depth': 3, 'max_bin': 126, 'min_data_in_leaf': 57}. Best is trial 8 with value: 0.9366272370636132.\n",
      "[I 2024-11-03 12:34:59,956] Trial 14 finished with value: 0.9278637214588543 and parameters: {'learning_rate': 0.07683810841793164, 'lambda_l1': 0.8697279047851351, 'lambda_l2': 1.0193334078798542, 'num_leaves': 17, 'feature_fraction': 0.8500489274928182, 'bagging_fraction': 0.7140177301575984, 'bagging_freq': 2, 'min_child_samples': 29, 'max_depth': 2, 'max_bin': 116, 'min_data_in_leaf': 90}. Best is trial 8 with value: 0.9366272370636132.\n",
      "[I 2024-11-03 12:35:04,858] Trial 15 finished with value: 0.9353317637954395 and parameters: {'learning_rate': 0.0672647077243804, 'lambda_l1': 0.9320335519444257, 'lambda_l2': 1.1774806769898252, 'num_leaves': 17, 'feature_fraction': 0.8673901314442377, 'bagging_fraction': 0.7948570474938238, 'bagging_freq': 2, 'min_child_samples': 29, 'max_depth': 3, 'max_bin': 100, 'min_data_in_leaf': 113}. Best is trial 8 with value: 0.9366272370636132.\n",
      "[I 2024-11-03 12:35:09,078] Trial 16 finished with value: 0.9258268922660945 and parameters: {'learning_rate': 0.038773133083608864, 'lambda_l1': 1.5527519199172783, 'lambda_l2': 1.3548647922877886, 'num_leaves': 18, 'feature_fraction': 0.6866647863841021, 'bagging_fraction': 0.7964580972217913, 'bagging_freq': 3, 'min_child_samples': 27, 'max_depth': 3, 'max_bin': 100, 'min_data_in_leaf': 121}. Best is trial 8 with value: 0.9366272370636132.\n",
      "[I 2024-11-03 12:35:13,856] Trial 17 finished with value: 0.9442961167748424 and parameters: {'learning_rate': 0.06563441943830989, 'lambda_l1': 0.8108473139204599, 'lambda_l2': 0.654352336537576, 'num_leaves': 20, 'feature_fraction': 0.7912592426983397, 'bagging_fraction': 0.20735355067611028, 'bagging_freq': 2, 'min_child_samples': 56, 'max_depth': 5, 'max_bin': 150, 'min_data_in_leaf': 114}. Best is trial 17 with value: 0.9442961167748424.\n",
      "[I 2024-11-03 12:35:17,519] Trial 18 finished with value: 0.935409555712118 and parameters: {'learning_rate': 0.02842238616445537, 'lambda_l1': 2.5141324934479012, 'lambda_l2': 0.5212673661961977, 'num_leaves': 20, 'feature_fraction': 0.7858145579077023, 'bagging_fraction': 0.20231743325080562, 'bagging_freq': 3, 'min_child_samples': 56, 'max_depth': 5, 'max_bin': 150, 'min_data_in_leaf': 150}. Best is trial 17 with value: 0.9442961167748424.\n",
      "[I 2024-11-03 12:35:20,978] Trial 19 finished with value: 0.9359699947904938 and parameters: {'learning_rate': 0.047614975855476534, 'lambda_l1': 0.5194647799703176, 'lambda_l2': 0.41064867581823966, 'num_leaves': 19, 'feature_fraction': 0.6380209901455304, 'bagging_fraction': 0.21487477086982548, 'bagging_freq': 2, 'min_child_samples': 53, 'max_depth': 5, 'max_bin': 130, 'min_data_in_leaf': 46}. Best is trial 17 with value: 0.9442961167748424.\n"
     ]
    }
   ],
   "source": [
    "for train_index, test_index in tscv.split(pca_df):\n",
    "    X_train, X_test = pca_df.iloc[train_index], pca_df.iloc[test_index]\n",
    "    y_train, y_test = btc_data_copy_targets.iloc[train_index], btc_data_copy_targets.iloc[test_index]\n",
    "    sampler_complex = TPESampler(n_startup_trials=10, seed=42)\n",
    "    study_complex = optuna.create_study(direction='maximize', sampler=sampler_complex)\n",
    "    study_complex.optimize(objective, n_trials=20)"
   ]
  },
  {
   "cell_type": "code",
   "execution_count": null,
   "metadata": {},
   "outputs": [],
   "source": [
    "# params = study_complex.best_params | {\n",
    "#                                         \"objective\": \"binary\",\n",
    "#                                         \"metric\": \"f1\",\n",
    "#                                         \"verbosity\": -1,\n",
    "#                                         \"n_jobs\": -1,\n",
    "#                                         \"random_state\": 42,\n",
    "#                                         \"is_unbalance\": True,\n",
    "#                                         \"subsample\": 1.0,\n",
    "#                                         \"boosting_type\": 'gbdt'\n",
    "#                                         }\n",
    "# params"
   ]
  },
  {
   "cell_type": "code",
   "execution_count": 56,
   "metadata": {},
   "outputs": [],
   "source": [
    "params = {'learning_rate': 0.06563441943830989,\n",
    "        'lambda_l1': 0.8108473139204599,\n",
    "        'lambda_l2': 0.654352336537576,\n",
    "        'num_leaves': 20,\n",
    "        'feature_fraction': 0.7912592426983397,\n",
    "        'bagging_fraction': 0.20735355067611028,\n",
    "        'bagging_freq': 2,\n",
    "        'min_child_samples': 56,\n",
    "        'max_depth': 5,\n",
    "        'max_bin': 150,\n",
    "        'min_data_in_leaf': 114,\n",
    "        'objective': 'binary',\n",
    "        'metric': 'f1',\n",
    "        'verbosity': -1,\n",
    "        'n_jobs': -1,\n",
    "        'random_state': 42,\n",
    "        'is_unbalance': True,\n",
    "        'subsample': 1.0,\n",
    "        'boosting_type': 'gbdt'}"
   ]
  },
  {
   "cell_type": "code",
   "execution_count": 57,
   "metadata": {},
   "outputs": [],
   "source": [
    "dtrain = lgb.Dataset(pca_df, label=btc_data_copy_targets)\n",
    "\n",
    "tuned_model = lgb.train(params, dtrain)"
   ]
  },
  {
   "cell_type": "markdown",
   "metadata": {},
   "source": [
    "---"
   ]
  },
  {
   "cell_type": "markdown",
   "metadata": {},
   "source": [
    "## Neural Networks (CHANGE THE DATA SPLITAGE)"
   ]
  },
  {
   "cell_type": "code",
   "execution_count": 91,
   "metadata": {},
   "outputs": [],
   "source": [
    "# X = combined_df.drop(['close', 'close_target'], axis=1)\n",
    "# y = combined_df[\"close_target\"]\n",
    "# tscv = TimeSeriesSplit()"
   ]
  },
  {
   "cell_type": "code",
   "execution_count": 92,
   "metadata": {},
   "outputs": [],
   "source": [
    "# num = X.select_dtypes(include=['float64', 'int64']).columns\n",
    "\n",
    "# numeric = make_pipeline(SimpleImputer(strategy=\"median\"),\n",
    "#                         StandardScaler())\n",
    "\n",
    "# preproccessing_pipeline = ColumnTransformer([\n",
    "#     ('num', numeric, num)\n",
    "#     ], remainder='passthrough')"
   ]
  },
  {
   "cell_type": "code",
   "execution_count": 104,
   "metadata": {},
   "outputs": [],
   "source": [
    "# from sklearn.pipeline import make_pipeline, Pipeline\n",
    "\n",
    "# preproccessing = ColumnTransformer([\n",
    "#     ('num', Pipeline([\n",
    "#         ('imputer', SimpleImputer(strategy='mean')),  # Handle missing values\n",
    "#         ('scaler', StandardScaler())  # Scale numerical data\n",
    "#     ]), num)\n",
    "# ], remainder='passthrough')\n",
    "\n",
    "# X_train_processed = preproccessing.fit_transform(X_train)\n",
    "# X_test_processed = preproccessing.transform(X_test)\n",
    "\n",
    "# tf.random.set_seed(42)\n",
    "# nn_model = tf.keras.Sequential([\n",
    "#     tf.keras.layers.Flatten(),\n",
    "#     tf.keras.layers.Dense(300, activation=\"relu\"),\n",
    "#     tf.keras.layers.Dense(1, activation=\"linear\")  # Linear activation for regression\n",
    "# ])\n",
    "\n",
    "# adam_optimizer = AdamW(learning_rate=0.1)\n",
    "\n",
    "# # Use mean squared error for regression\n",
    "# nn_model.compile(loss=\"mean_squared_error\",\n",
    "#                  optimizer=adam_optimizer,\n",
    "#                  metrics=[tf.keras.metrics.RootMeanSquaredError()])\n",
    "\n",
    "# history = nn_model.fit(X_train_processed, y_train, epochs=30, batch_size=8,\n",
    "#                        validation_data=(X_test_processed, y_test))"
   ]
  },
  {
   "cell_type": "markdown",
   "metadata": {},
   "source": [
    "<hr>"
   ]
  },
  {
   "cell_type": "code",
   "execution_count": null,
   "metadata": {},
   "outputs": [],
   "source": [
    "# # TimeSeriesSplit для кросс-валидации\n",
    "# tscv = TimeSeriesSplit(n_splits=5)\n",
    "\n",
    "# # Валидация на временных рядах\n",
    "# for train_index, test_index in tscv.split(X):\n",
    "#     X_train, X_test = X.iloc[train_index], X.iloc[test_index]\n",
    "#     y_train, y_test = y.iloc[train_index], y.iloc[test_index]\n",
    "    \n",
    "#     # Предобработка\n",
    "#     X_train_processed = preproccessing_pipeline.fit_transform(X_train)\n",
    "#     X_test_processed = preproccessing_pipeline.transform(X_test)\n",
    "    \n",
    "#     # Построение и компиляция модели\n",
    "#     nn_model = tf.keras.Sequential([\n",
    "#         tf.keras.layers.Flatten(),\n",
    "#         tf.keras.layers.Dense(400, activation=\"relu\"),\n",
    "#         tf.keras.layers.Dense(1, activation=\"linear\")\n",
    "#     ])\n",
    "    \n",
    "#     adam_optimizer = AdamW(learning_rate=0.01)\n",
    "    \n",
    "#     nn_model.compile(loss=\"mean_squared_error\",\n",
    "#                      optimizer = adam_optimizer,\n",
    "#                      metrics=[tf.keras.metrics.RootMeanSquaredError()])\n",
    "    \n",
    "#     # Обучение модели\n",
    "#     history = nn_model.fit(X_train_processed, y_train, epochs=30, batch_size=8,\n",
    "#                            validation_data=(X_test_processed, y_test))\n"
   ]
  },
  {
   "cell_type": "markdown",
   "metadata": {},
   "source": [
    "## Bybit API"
   ]
  },
  {
   "cell_type": "code",
   "execution_count": 62,
   "metadata": {},
   "outputs": [],
   "source": [
    "api_key_ = api_public\n",
    "api_secret_ = api_secret"
   ]
  },
  {
   "cell_type": "markdown",
   "metadata": {},
   "source": [
    "### Bybit Testnet connection"
   ]
  },
  {
   "cell_type": "code",
   "execution_count": 68,
   "metadata": {},
   "outputs": [
    {
     "ename": "InvalidRequestError",
     "evalue": "You are not authorized to execute this request. (ErrCode: 10003) (ErrTime: 10:54:35).\nRequest → POST https://api.bybit.com/v5/order/create: {\"category\": \"spot\", \"symbol\": \"BTCUSDT\", \"side\": \"Buy\", \"orderType\": \"Market\", \"qty\": \"1000\", \"marketunit\": \"quoteCoin\", \"timeInForce\": \"IOC\", \"orderLinkId\": \"spot-test-mainnet-algo\", \"isLeverage\": 0, \"orderFilter\": \"Order\"}.",
     "output_type": "error",
     "traceback": [
      "\u001b[0;31m---------------------------------------------------------------------------\u001b[0m",
      "\u001b[0;31mInvalidRequestError\u001b[0m                       Traceback (most recent call last)",
      "Cell \u001b[0;32mIn[68], line 7\u001b[0m\n\u001b[1;32m      1\u001b[0m \u001b[38;5;28;01mfrom\u001b[39;00m \u001b[38;5;21;01mpybit\u001b[39;00m\u001b[38;5;21;01m.\u001b[39;00m\u001b[38;5;21;01munified_trading\u001b[39;00m \u001b[38;5;28;01mimport\u001b[39;00m HTTP\n\u001b[1;32m      2\u001b[0m session \u001b[38;5;241m=\u001b[39m HTTP(\n\u001b[1;32m      3\u001b[0m     testnet\u001b[38;5;241m=\u001b[39m\u001b[38;5;28;01mFalse\u001b[39;00m,\n\u001b[1;32m      4\u001b[0m     api_key\u001b[38;5;241m=\u001b[39mapi_key_,\n\u001b[1;32m      5\u001b[0m     api_secret\u001b[38;5;241m=\u001b[39mapi_secret_,\n\u001b[1;32m      6\u001b[0m )\n\u001b[0;32m----> 7\u001b[0m \u001b[38;5;28mprint\u001b[39m(\u001b[43msession\u001b[49m\u001b[38;5;241;43m.\u001b[39;49m\u001b[43mplace_order\u001b[49m\u001b[43m(\u001b[49m\n\u001b[1;32m      8\u001b[0m \u001b[43m    \u001b[49m\u001b[43mcategory\u001b[49m\u001b[38;5;241;43m=\u001b[39;49m\u001b[38;5;124;43m\"\u001b[39;49m\u001b[38;5;124;43mspot\u001b[39;49m\u001b[38;5;124;43m\"\u001b[39;49m\u001b[43m,\u001b[49m\n\u001b[1;32m      9\u001b[0m \u001b[43m    \u001b[49m\u001b[43msymbol\u001b[49m\u001b[38;5;241;43m=\u001b[39;49m\u001b[38;5;124;43m\"\u001b[39;49m\u001b[38;5;124;43mBTCUSDT\u001b[39;49m\u001b[38;5;124;43m\"\u001b[39;49m\u001b[43m,\u001b[49m\n\u001b[1;32m     10\u001b[0m \u001b[43m    \u001b[49m\u001b[43mside\u001b[49m\u001b[38;5;241;43m=\u001b[39;49m\u001b[38;5;124;43m\"\u001b[39;49m\u001b[38;5;124;43mBuy\u001b[39;49m\u001b[38;5;124;43m\"\u001b[39;49m\u001b[43m,\u001b[49m\n\u001b[1;32m     11\u001b[0m \u001b[43m    \u001b[49m\u001b[43morderType\u001b[49m\u001b[38;5;241;43m=\u001b[39;49m\u001b[38;5;124;43m\"\u001b[39;49m\u001b[38;5;124;43mMarket\u001b[39;49m\u001b[38;5;124;43m\"\u001b[39;49m\u001b[43m,\u001b[49m\n\u001b[1;32m     12\u001b[0m \u001b[43m    \u001b[49m\u001b[43mqty\u001b[49m\u001b[38;5;241;43m=\u001b[39;49m\u001b[38;5;124;43m\"\u001b[39;49m\u001b[38;5;124;43m1000\u001b[39;49m\u001b[38;5;124;43m\"\u001b[39;49m\u001b[43m,\u001b[49m\n\u001b[1;32m     13\u001b[0m \u001b[43m    \u001b[49m\u001b[43mmarketunit\u001b[49m\u001b[38;5;241;43m=\u001b[39;49m\u001b[38;5;124;43m\"\u001b[39;49m\u001b[38;5;124;43mquoteCoin\u001b[39;49m\u001b[38;5;124;43m\"\u001b[39;49m\u001b[43m,\u001b[49m\n\u001b[1;32m     14\u001b[0m \u001b[43m    \u001b[49m\u001b[43mtimeInForce\u001b[49m\u001b[38;5;241;43m=\u001b[39;49m\u001b[38;5;124;43m\"\u001b[39;49m\u001b[38;5;124;43mIOC\u001b[39;49m\u001b[38;5;124;43m\"\u001b[39;49m\u001b[43m,\u001b[49m\n\u001b[1;32m     15\u001b[0m \u001b[43m    \u001b[49m\u001b[43morderLinkId\u001b[49m\u001b[38;5;241;43m=\u001b[39;49m\u001b[38;5;124;43m\"\u001b[39;49m\u001b[38;5;124;43mspot-test-mainnet-algo\u001b[39;49m\u001b[38;5;124;43m\"\u001b[39;49m\u001b[43m,\u001b[49m\n\u001b[1;32m     16\u001b[0m \u001b[43m    \u001b[49m\u001b[43misLeverage\u001b[49m\u001b[38;5;241;43m=\u001b[39;49m\u001b[38;5;241;43m0\u001b[39;49m\u001b[43m,\u001b[49m\n\u001b[1;32m     17\u001b[0m \u001b[43m    \u001b[49m\u001b[43morderFilter\u001b[49m\u001b[38;5;241;43m=\u001b[39;49m\u001b[38;5;124;43m\"\u001b[39;49m\u001b[38;5;124;43mOrder\u001b[39;49m\u001b[38;5;124;43m\"\u001b[39;49m\u001b[43m)\u001b[49m)\n",
      "File \u001b[0;32m~/Desktop/ML/my_env/lib/python3.12/site-packages/pybit/_v5_trade.py:21\u001b[0m, in \u001b[0;36mTradeHTTP.place_order\u001b[0;34m(self, **kwargs)\u001b[0m\n\u001b[1;32m      6\u001b[0m \u001b[38;5;28;01mdef\u001b[39;00m \u001b[38;5;21mplace_order\u001b[39m(\u001b[38;5;28mself\u001b[39m, \u001b[38;5;241m*\u001b[39m\u001b[38;5;241m*\u001b[39mkwargs):\n\u001b[1;32m      7\u001b[0m \u001b[38;5;250m    \u001b[39m\u001b[38;5;124;03m\"\"\"This method supports to create the order for spot, spot margin, linear perpetual, inverse futures and options.\u001b[39;00m\n\u001b[1;32m      8\u001b[0m \n\u001b[1;32m      9\u001b[0m \u001b[38;5;124;03m    Required args:\u001b[39;00m\n\u001b[0;32m   (...)\u001b[0m\n\u001b[1;32m     19\u001b[0m \u001b[38;5;124;03m        https://bybit-exchange.github.io/docs/v5/order/create-order\u001b[39;00m\n\u001b[1;32m     20\u001b[0m \u001b[38;5;124;03m    \"\"\"\u001b[39;00m\n\u001b[0;32m---> 21\u001b[0m     \u001b[38;5;28;01mreturn\u001b[39;00m \u001b[38;5;28;43mself\u001b[39;49m\u001b[38;5;241;43m.\u001b[39;49m\u001b[43m_submit_request\u001b[49m\u001b[43m(\u001b[49m\n\u001b[1;32m     22\u001b[0m \u001b[43m        \u001b[49m\u001b[43mmethod\u001b[49m\u001b[38;5;241;43m=\u001b[39;49m\u001b[38;5;124;43m\"\u001b[39;49m\u001b[38;5;124;43mPOST\u001b[39;49m\u001b[38;5;124;43m\"\u001b[39;49m\u001b[43m,\u001b[49m\n\u001b[1;32m     23\u001b[0m \u001b[43m        \u001b[49m\u001b[43mpath\u001b[49m\u001b[38;5;241;43m=\u001b[39;49m\u001b[38;5;124;43mf\u001b[39;49m\u001b[38;5;124;43m\"\u001b[39;49m\u001b[38;5;132;43;01m{\u001b[39;49;00m\u001b[38;5;28;43mself\u001b[39;49m\u001b[38;5;241;43m.\u001b[39;49m\u001b[43mendpoint\u001b[49m\u001b[38;5;132;43;01m}\u001b[39;49;00m\u001b[38;5;132;43;01m{\u001b[39;49;00m\u001b[43mTrade\u001b[49m\u001b[38;5;241;43m.\u001b[39;49m\u001b[43mPLACE_ORDER\u001b[49m\u001b[38;5;132;43;01m}\u001b[39;49;00m\u001b[38;5;124;43m\"\u001b[39;49m\u001b[43m,\u001b[49m\n\u001b[1;32m     24\u001b[0m \u001b[43m        \u001b[49m\u001b[43mquery\u001b[49m\u001b[38;5;241;43m=\u001b[39;49m\u001b[43mkwargs\u001b[49m\u001b[43m,\u001b[49m\n\u001b[1;32m     25\u001b[0m \u001b[43m        \u001b[49m\u001b[43mauth\u001b[49m\u001b[38;5;241;43m=\u001b[39;49m\u001b[38;5;28;43;01mTrue\u001b[39;49;00m\u001b[43m,\u001b[49m\n\u001b[1;32m     26\u001b[0m \u001b[43m    \u001b[49m\u001b[43m)\u001b[49m\n",
      "File \u001b[0;32m~/Desktop/ML/my_env/lib/python3.12/site-packages/pybit/_http_manager.py:379\u001b[0m, in \u001b[0;36m_V5HTTPManager._submit_request\u001b[0;34m(self, method, path, query, auth)\u001b[0m\n\u001b[1;32m    376\u001b[0m         \u001b[38;5;28;01mpass\u001b[39;00m\n\u001b[1;32m    378\u001b[0m     \u001b[38;5;28;01melse\u001b[39;00m:\n\u001b[0;32m--> 379\u001b[0m         \u001b[38;5;28;01mraise\u001b[39;00m InvalidRequestError(\n\u001b[1;32m    380\u001b[0m             request\u001b[38;5;241m=\u001b[39m\u001b[38;5;124mf\u001b[39m\u001b[38;5;124m\"\u001b[39m\u001b[38;5;132;01m{\u001b[39;00mmethod\u001b[38;5;132;01m}\u001b[39;00m\u001b[38;5;124m \u001b[39m\u001b[38;5;132;01m{\u001b[39;00mpath\u001b[38;5;132;01m}\u001b[39;00m\u001b[38;5;124m: \u001b[39m\u001b[38;5;132;01m{\u001b[39;00mreq_params\u001b[38;5;132;01m}\u001b[39;00m\u001b[38;5;124m\"\u001b[39m,\n\u001b[1;32m    381\u001b[0m             message\u001b[38;5;241m=\u001b[39ms_json[ret_msg],\n\u001b[1;32m    382\u001b[0m             status_code\u001b[38;5;241m=\u001b[39ms_json[ret_code],\n\u001b[1;32m    383\u001b[0m             time\u001b[38;5;241m=\u001b[39mdt\u001b[38;5;241m.\u001b[39mutcnow()\u001b[38;5;241m.\u001b[39mstrftime(\u001b[38;5;124m\"\u001b[39m\u001b[38;5;124m%\u001b[39m\u001b[38;5;124mH:\u001b[39m\u001b[38;5;124m%\u001b[39m\u001b[38;5;124mM:\u001b[39m\u001b[38;5;124m%\u001b[39m\u001b[38;5;124mS\u001b[39m\u001b[38;5;124m\"\u001b[39m),\n\u001b[1;32m    384\u001b[0m             resp_headers\u001b[38;5;241m=\u001b[39ms\u001b[38;5;241m.\u001b[39mheaders,\n\u001b[1;32m    385\u001b[0m         )\n\u001b[1;32m    386\u001b[0m \u001b[38;5;28;01melse\u001b[39;00m:\n\u001b[1;32m    387\u001b[0m     \u001b[38;5;28;01mif\u001b[39;00m \u001b[38;5;28mself\u001b[39m\u001b[38;5;241m.\u001b[39mlog_requests:\n",
      "\u001b[0;31mInvalidRequestError\u001b[0m: You are not authorized to execute this request. (ErrCode: 10003) (ErrTime: 10:54:35).\nRequest → POST https://api.bybit.com/v5/order/create: {\"category\": \"spot\", \"symbol\": \"BTCUSDT\", \"side\": \"Buy\", \"orderType\": \"Market\", \"qty\": \"1000\", \"marketunit\": \"quoteCoin\", \"timeInForce\": \"IOC\", \"orderLinkId\": \"spot-test-mainnet-algo\", \"isLeverage\": 0, \"orderFilter\": \"Order\"}."
     ]
    }
   ],
   "source": [
    "from pybit.unified_trading import HTTP\n",
    "session = HTTP(\n",
    "    testnet=False,\n",
    "    api_key=api_key_,\n",
    "    api_secret=api_secret_,\n",
    ")\n",
    "print(session.place_order(\n",
    "    category=\"spot\",\n",
    "    symbol=\"BTCUSDT\",\n",
    "    side=\"Buy\",\n",
    "    orderType=\"Market\",\n",
    "    qty=\"1000\",\n",
    "    marketunit=\"quoteCoin\",\n",
    "    timeInForce=\"IOC\",\n",
    "    orderLinkId=\"spot-test-mainnet-algo\",\n",
    "    isLeverage=0,\n",
    "    orderFilter=\"Order\"))"
   ]
  },
  {
   "cell_type": "code",
   "execution_count": 65,
   "metadata": {},
   "outputs": [
    {
     "name": "stdout",
     "output_type": "stream",
     "text": [
      "Сигнал на покупку! Вероятность роста: 0.8\n",
      "Ошибка при размещении ордера: bybit {\"retCode\":10032,\"retMsg\":\"Demo trading are not supported.\",\"result\":{},\"retExtInfo\":{},\"time\":1730629842045}\n"
     ]
    },
    {
     "ename": "KeyboardInterrupt",
     "evalue": "",
     "output_type": "error",
     "traceback": [
      "\u001b[0;31m---------------------------------------------------------------------------\u001b[0m",
      "\u001b[0;31mKeyboardInterrupt\u001b[0m                         Traceback (most recent call last)",
      "Cell \u001b[0;32mIn[65], line 43\u001b[0m\n\u001b[1;32m     40\u001b[0m         time\u001b[38;5;241m.\u001b[39msleep(\u001b[38;5;241m60\u001b[39m)  \u001b[38;5;66;03m# Проверка каждые 60 секунд (или любой другой интервал)\u001b[39;00m\n\u001b[1;32m     42\u001b[0m \u001b[38;5;66;03m# Запуск бота\u001b[39;00m\n\u001b[0;32m---> 43\u001b[0m \u001b[43mtrading_bot\u001b[49m\u001b[43m(\u001b[49m\u001b[43m)\u001b[49m\n",
      "Cell \u001b[0;32mIn[65], line 40\u001b[0m, in \u001b[0;36mtrading_bot\u001b[0;34m(threshold, amount)\u001b[0m\n\u001b[1;32m     37\u001b[0m \u001b[38;5;28;01melse\u001b[39;00m:\n\u001b[1;32m     38\u001b[0m     \u001b[38;5;28mprint\u001b[39m(\u001b[38;5;124mf\u001b[39m\u001b[38;5;124m\"\u001b[39m\u001b[38;5;124mНет сигнала на покупку. Текущая вероятность: \u001b[39m\u001b[38;5;132;01m{\u001b[39;00mprobability\u001b[38;5;132;01m}\u001b[39;00m\u001b[38;5;124m\"\u001b[39m)\n\u001b[0;32m---> 40\u001b[0m \u001b[43mtime\u001b[49m\u001b[38;5;241;43m.\u001b[39;49m\u001b[43msleep\u001b[49m\u001b[43m(\u001b[49m\u001b[38;5;241;43m60\u001b[39;49m\u001b[43m)\u001b[49m\n",
      "\u001b[0;31mKeyboardInterrupt\u001b[0m: "
     ]
    }
   ],
   "source": [
    "exchange_spot = ccxt.bybit({\n",
    "    'apiKey': api_key_,\n",
    "    'secret': api_secret_,\n",
    "    'enableRateLimit': True,\n",
    "    'options': {\n",
    "        'defaultType': 'spot',\n",
    "    },\n",
    "    'urls': {\n",
    "        'api': {\n",
    "            'public': 'https://api-demo.bybit.com',\n",
    "            'private': 'https://api-demo.bybit.com',\n",
    "        }\n",
    "    }\n",
    "})\n",
    "\n",
    "def get_bitcoin_signal():\n",
    "    # Здесь вызывается ваша модель, которая предсказывает вероятность роста\n",
    "    # Например:\n",
    "    # prediction = model.predict_proba(input_data)\n",
    "    # Вероятность роста цены (пример)\n",
    "    probability_of_increase = 0.8  # заменить на реальную вероятность от модели\n",
    "    return probability_of_increase\n",
    "\n",
    "def place_order(amount):\n",
    "    try:\n",
    "        order = exchange_spot.create_market_buy_order('BTC/USDT', amount)\n",
    "        print(\"Покупка совершена:\", order)\n",
    "    except Exception as e:\n",
    "        print(\"Ошибка при размещении ордера:\", e)\n",
    "\n",
    "def trading_bot(threshold=0.7, amount=0.001):\n",
    "    while True:\n",
    "        probability = get_bitcoin_signal()\n",
    "        if probability >= threshold:\n",
    "            print(f\"Сигнал на покупку! Вероятность роста: {probability}\")\n",
    "            place_order(amount)\n",
    "        else:\n",
    "            print(f\"Нет сигнала на покупку. Текущая вероятность: {probability}\")\n",
    "        \n",
    "        time.sleep(60)  # Проверка каждые 60 секунд (или любой другой интервал)\n",
    "\n",
    "# Запуск бота\n",
    "trading_bot()"
   ]
  },
  {
   "cell_type": "code",
   "execution_count": null,
   "metadata": {},
   "outputs": [],
   "source": []
  }
 ],
 "metadata": {
  "kernelspec": {
   "display_name": "my_env",
   "language": "python",
   "name": "my_env"
  },
  "language_info": {
   "codemirror_mode": {
    "name": "ipython",
    "version": 3
   },
   "file_extension": ".py",
   "mimetype": "text/x-python",
   "name": "python",
   "nbconvert_exporter": "python",
   "pygments_lexer": "ipython3",
   "version": "3.12.5"
  }
 },
 "nbformat": 4,
 "nbformat_minor": 2
}
