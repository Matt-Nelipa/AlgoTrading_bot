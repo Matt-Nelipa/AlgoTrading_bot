{
 "cells": [
  {
   "cell_type": "markdown",
   "metadata": {},
   "source": [
    "### Importing Modules"
   ]
  },
  {
   "cell_type": "code",
   "execution_count": 1,
   "metadata": {},
   "outputs": [],
   "source": [
    "import numpy as np\n",
    "import pandas as pd\n",
    "import optuna\n",
    "from optuna.samplers import TPESampler\n",
    "from sklearn.model_selection import TimeSeriesSplit\n",
    "from sklearn.metrics import roc_auc_score\n",
    "import lightgbm as lgb\n",
    "from sklearn.decomposition import PCA\n",
    "import time\n",
    "from api_keys import api_public, api_secret\n",
    "from datetime import datetime\n",
    "from pybit.unified_trading import HTTP\n",
    "import tti.indicators as ti\n",
    "import inspect\n",
    "import warnings"
   ]
  },
  {
   "cell_type": "markdown",
   "metadata": {},
   "source": [
    "<hr>"
   ]
  },
  {
   "cell_type": "markdown",
   "metadata": {},
   "source": [
    "### Data preparation"
   ]
  },
  {
   "cell_type": "code",
   "execution_count": 2,
   "metadata": {},
   "outputs": [],
   "source": [
    "btc_data = pd.read_csv('clean_5min.csv', header=0, index_col=0)"
   ]
  },
  {
   "cell_type": "code",
   "execution_count": 3,
   "metadata": {},
   "outputs": [],
   "source": [
    "btc_data_copy_v1 = btc_data.copy()"
   ]
  },
  {
   "cell_type": "code",
   "execution_count": 4,
   "metadata": {},
   "outputs": [],
   "source": [
    "btc_data_copy_v1['date'] = pd.to_datetime(btc_data_copy_v1['date'])"
   ]
  },
  {
   "cell_type": "code",
   "execution_count": 5,
   "metadata": {},
   "outputs": [],
   "source": [
    "btc_data_copy_v1 = btc_data_copy_v1.set_index('date')\n",
    "btc_data_copy_v1['target_label'] = btc_data_copy_v1['close'].diff(-1).apply(lambda x: 1 if x <= 0 else -1)\n",
    "btc_data_copy_v1 = btc_data_copy_v1[:-1]"
   ]
  },
  {
   "cell_type": "code",
   "execution_count": 6,
   "metadata": {},
   "outputs": [
    {
     "data": {
      "text/html": [
       "<div>\n",
       "<style scoped>\n",
       "    .dataframe tbody tr th:only-of-type {\n",
       "        vertical-align: middle;\n",
       "    }\n",
       "\n",
       "    .dataframe tbody tr th {\n",
       "        vertical-align: top;\n",
       "    }\n",
       "\n",
       "    .dataframe thead th {\n",
       "        text-align: right;\n",
       "    }\n",
       "</style>\n",
       "<table border=\"1\" class=\"dataframe\">\n",
       "  <thead>\n",
       "    <tr style=\"text-align: right;\">\n",
       "      <th></th>\n",
       "      <th>open</th>\n",
       "      <th>high</th>\n",
       "      <th>low</th>\n",
       "      <th>close</th>\n",
       "      <th>volume</th>\n",
       "      <th>middle_band</th>\n",
       "      <th>upper_band</th>\n",
       "      <th>lower_band</th>\n",
       "      <th>co</th>\n",
       "      <th>cmo</th>\n",
       "      <th>...</th>\n",
       "      <th>vhf</th>\n",
       "      <th>vch</th>\n",
       "      <th>vosc</th>\n",
       "      <th>wc</th>\n",
       "      <th>ws</th>\n",
       "      <th>wad</th>\n",
       "      <th>wr</th>\n",
       "      <th>price_change</th>\n",
       "      <th>close_target</th>\n",
       "      <th>target_label</th>\n",
       "    </tr>\n",
       "    <tr>\n",
       "      <th>date</th>\n",
       "      <th></th>\n",
       "      <th></th>\n",
       "      <th></th>\n",
       "      <th></th>\n",
       "      <th></th>\n",
       "      <th></th>\n",
       "      <th></th>\n",
       "      <th></th>\n",
       "      <th></th>\n",
       "      <th></th>\n",
       "      <th></th>\n",
       "      <th></th>\n",
       "      <th></th>\n",
       "      <th></th>\n",
       "      <th></th>\n",
       "      <th></th>\n",
       "      <th></th>\n",
       "      <th></th>\n",
       "      <th></th>\n",
       "      <th></th>\n",
       "      <th></th>\n",
       "    </tr>\n",
       "  </thead>\n",
       "  <tbody>\n",
       "    <tr>\n",
       "      <th>2015-10-08 19:35:00</th>\n",
       "      <td>244.0</td>\n",
       "      <td>244.0</td>\n",
       "      <td>244.0</td>\n",
       "      <td>244.0</td>\n",
       "      <td>0.0</td>\n",
       "      <td>244.4910</td>\n",
       "      <td>245.4237</td>\n",
       "      <td>243.5583</td>\n",
       "      <td>-1.1617</td>\n",
       "      <td>-100.0</td>\n",
       "      <td>...</td>\n",
       "      <td>0.4</td>\n",
       "      <td>28.2743</td>\n",
       "      <td>0.0</td>\n",
       "      <td>244.0</td>\n",
       "      <td>244.1036</td>\n",
       "      <td>0.0</td>\n",
       "      <td>-100.0</td>\n",
       "      <td>0.0</td>\n",
       "      <td>244.0</td>\n",
       "      <td>1</td>\n",
       "    </tr>\n",
       "    <tr>\n",
       "      <th>2015-10-08 19:40:00</th>\n",
       "      <td>244.0</td>\n",
       "      <td>244.0</td>\n",
       "      <td>244.0</td>\n",
       "      <td>244.0</td>\n",
       "      <td>0.0</td>\n",
       "      <td>244.4415</td>\n",
       "      <td>245.3681</td>\n",
       "      <td>243.5149</td>\n",
       "      <td>-1.1617</td>\n",
       "      <td>-100.0</td>\n",
       "      <td>...</td>\n",
       "      <td>0.5</td>\n",
       "      <td>-79.6453</td>\n",
       "      <td>0.0</td>\n",
       "      <td>244.0</td>\n",
       "      <td>244.0829</td>\n",
       "      <td>0.0</td>\n",
       "      <td>-100.0</td>\n",
       "      <td>0.0</td>\n",
       "      <td>244.0</td>\n",
       "      <td>1</td>\n",
       "    </tr>\n",
       "    <tr>\n",
       "      <th>2015-10-08 19:45:00</th>\n",
       "      <td>244.0</td>\n",
       "      <td>244.0</td>\n",
       "      <td>244.0</td>\n",
       "      <td>244.0</td>\n",
       "      <td>0.0</td>\n",
       "      <td>244.3920</td>\n",
       "      <td>245.3017</td>\n",
       "      <td>243.4823</td>\n",
       "      <td>-1.1617</td>\n",
       "      <td>-100.0</td>\n",
       "      <td>...</td>\n",
       "      <td>0.6</td>\n",
       "      <td>-86.5569</td>\n",
       "      <td>0.0</td>\n",
       "      <td>244.0</td>\n",
       "      <td>244.0663</td>\n",
       "      <td>0.0</td>\n",
       "      <td>-100.0</td>\n",
       "      <td>0.0</td>\n",
       "      <td>244.0</td>\n",
       "      <td>1</td>\n",
       "    </tr>\n",
       "    <tr>\n",
       "      <th>2015-10-08 19:50:00</th>\n",
       "      <td>244.0</td>\n",
       "      <td>244.0</td>\n",
       "      <td>244.0</td>\n",
       "      <td>244.0</td>\n",
       "      <td>0.0</td>\n",
       "      <td>244.3425</td>\n",
       "      <td>245.2240</td>\n",
       "      <td>243.4610</td>\n",
       "      <td>-1.1617</td>\n",
       "      <td>-100.0</td>\n",
       "      <td>...</td>\n",
       "      <td>0.7</td>\n",
       "      <td>-86.5569</td>\n",
       "      <td>0.0</td>\n",
       "      <td>244.0</td>\n",
       "      <td>244.0530</td>\n",
       "      <td>0.0</td>\n",
       "      <td>-100.0</td>\n",
       "      <td>0.0</td>\n",
       "      <td>244.0</td>\n",
       "      <td>1</td>\n",
       "    </tr>\n",
       "    <tr>\n",
       "      <th>2015-10-08 19:55:00</th>\n",
       "      <td>244.0</td>\n",
       "      <td>244.0</td>\n",
       "      <td>244.0</td>\n",
       "      <td>244.0</td>\n",
       "      <td>0.0</td>\n",
       "      <td>244.2930</td>\n",
       "      <td>245.1337</td>\n",
       "      <td>243.4523</td>\n",
       "      <td>-1.1617</td>\n",
       "      <td>-100.0</td>\n",
       "      <td>...</td>\n",
       "      <td>0.8</td>\n",
       "      <td>-86.5569</td>\n",
       "      <td>0.0</td>\n",
       "      <td>244.0</td>\n",
       "      <td>244.0424</td>\n",
       "      <td>0.0</td>\n",
       "      <td>-100.0</td>\n",
       "      <td>0.0</td>\n",
       "      <td>244.0</td>\n",
       "      <td>1</td>\n",
       "    </tr>\n",
       "  </tbody>\n",
       "</table>\n",
       "<p>5 rows × 74 columns</p>\n",
       "</div>"
      ],
      "text/plain": [
       "                      open   high    low  close  volume  middle_band  \\\n",
       "date                                                                   \n",
       "2015-10-08 19:35:00  244.0  244.0  244.0  244.0     0.0     244.4910   \n",
       "2015-10-08 19:40:00  244.0  244.0  244.0  244.0     0.0     244.4415   \n",
       "2015-10-08 19:45:00  244.0  244.0  244.0  244.0     0.0     244.3920   \n",
       "2015-10-08 19:50:00  244.0  244.0  244.0  244.0     0.0     244.3425   \n",
       "2015-10-08 19:55:00  244.0  244.0  244.0  244.0     0.0     244.2930   \n",
       "\n",
       "                     upper_band  lower_band      co    cmo  ...  vhf      vch  \\\n",
       "date                                                        ...                 \n",
       "2015-10-08 19:35:00    245.4237    243.5583 -1.1617 -100.0  ...  0.4  28.2743   \n",
       "2015-10-08 19:40:00    245.3681    243.5149 -1.1617 -100.0  ...  0.5 -79.6453   \n",
       "2015-10-08 19:45:00    245.3017    243.4823 -1.1617 -100.0  ...  0.6 -86.5569   \n",
       "2015-10-08 19:50:00    245.2240    243.4610 -1.1617 -100.0  ...  0.7 -86.5569   \n",
       "2015-10-08 19:55:00    245.1337    243.4523 -1.1617 -100.0  ...  0.8 -86.5569   \n",
       "\n",
       "                     vosc     wc        ws  wad     wr  price_change  \\\n",
       "date                                                                   \n",
       "2015-10-08 19:35:00   0.0  244.0  244.1036  0.0 -100.0           0.0   \n",
       "2015-10-08 19:40:00   0.0  244.0  244.0829  0.0 -100.0           0.0   \n",
       "2015-10-08 19:45:00   0.0  244.0  244.0663  0.0 -100.0           0.0   \n",
       "2015-10-08 19:50:00   0.0  244.0  244.0530  0.0 -100.0           0.0   \n",
       "2015-10-08 19:55:00   0.0  244.0  244.0424  0.0 -100.0           0.0   \n",
       "\n",
       "                     close_target  target_label  \n",
       "date                                             \n",
       "2015-10-08 19:35:00         244.0             1  \n",
       "2015-10-08 19:40:00         244.0             1  \n",
       "2015-10-08 19:45:00         244.0             1  \n",
       "2015-10-08 19:50:00         244.0             1  \n",
       "2015-10-08 19:55:00         244.0             1  \n",
       "\n",
       "[5 rows x 74 columns]"
      ]
     },
     "execution_count": 6,
     "metadata": {},
     "output_type": "execute_result"
    }
   ],
   "source": [
    "btc_data_copy_v1.head()"
   ]
  },
  {
   "cell_type": "code",
   "execution_count": 7,
   "metadata": {},
   "outputs": [],
   "source": [
    "btc_data_copy_targets = btc_data_copy_v1.target_label\n",
    "btc_data_copy_features = btc_data_copy_v1.drop('target_label', axis=1)"
   ]
  },
  {
   "cell_type": "code",
   "execution_count": 8,
   "metadata": {},
   "outputs": [],
   "source": [
    "df_centralized = btc_data_copy_features - btc_data_copy_features.mean()\n",
    "df_centralized = df_centralized.drop(['ko', 'close_target', 'price_change'], axis=1)"
   ]
  },
  {
   "cell_type": "markdown",
   "metadata": {},
   "source": [
    "### PCA"
   ]
  },
  {
   "cell_type": "code",
   "execution_count": 9,
   "metadata": {},
   "outputs": [
    {
     "name": "stdout",
     "output_type": "stream",
     "text": [
      "(775354, 30)\n",
      "(775354,)\n"
     ]
    }
   ],
   "source": [
    "pca = PCA(n_components=30)\n",
    "principal_components = pca.fit_transform(df_centralized)\n",
    "pca_df = pd.DataFrame(data=principal_components, index=btc_data_copy_features.index)\n",
    "print(pca_df.shape, btc_data_copy_targets.shape, sep='\\n')"
   ]
  },
  {
   "cell_type": "markdown",
   "metadata": {},
   "source": [
    "Will take into account class imbalance building models"
   ]
  },
  {
   "cell_type": "code",
   "execution_count": 10,
   "metadata": {},
   "outputs": [
    {
     "data": {
      "text/plain": [
       "target_label\n",
       " 1    454603\n",
       "-1    320751\n",
       "Name: count, dtype: int64"
      ]
     },
     "execution_count": 10,
     "metadata": {},
     "output_type": "execute_result"
    }
   ],
   "source": [
    "btc_data_copy_targets.value_counts()"
   ]
  },
  {
   "cell_type": "markdown",
   "metadata": {},
   "source": [
    "### Bayesian Optimization for LightBoostClassifier hyperparameters tuning"
   ]
  },
  {
   "cell_type": "code",
   "execution_count": 26,
   "metadata": {},
   "outputs": [],
   "source": [
    "def objective(trial):\n",
    "\n",
    "    param = {\n",
    "        \"objective\": \"binary\",\n",
    "        \"metric\": \"auc\",\n",
    "        \"verbosity\": -1,\n",
    "        \"n_jobs\": -1,\n",
    "        \"random_state\": 42,\n",
    "        \"is_unbalance\": True,\n",
    "        \"subsample\": 1.0,\n",
    "        \"boosting_type\": 'gbdt',\n",
    "        'n_estimators': trial.suggest_int(\"n_estimators\", 100, 2000),\n",
    "        'learning_rate': trial.suggest_float('learning_rate', 0.01, 0.1, log=True),\n",
    "        \"lambda_l1\": trial.suggest_float(\"lambda_l1\", 1e-1, 10.0, log=True),\n",
    "        \"lambda_l2\": trial.suggest_float(\"lambda_l2\", 1e-1, 10.0, log=True),\n",
    "        \"num_leaves\": trial.suggest_int(\"num_leaves\", 10, 20),\n",
    "        \"feature_fraction\": trial.suggest_float(\"feature_fraction\", 0.1, 0.9),\n",
    "        \"bagging_fraction\": trial.suggest_float(\"bagging_fraction\", 0.2, 0.8),\n",
    "        \"bagging_freq\": trial.suggest_int(\"bagging_freq\", 1, 3),\n",
    "        \"min_child_samples\": trial.suggest_int(\"min_child_samples\", 5, 100),\n",
    "        \"max_depth\": trial.suggest_int('max_depth', 1, 5),\n",
    "        'max_bin': trial.suggest_int('max_bin', 100, 150),\n",
    "        'min_data_in_leaf': trial.suggest_int('min_data_in_leaf', 20, 150),\n",
    "    }\n",
    "    \n",
    "    dtrain = lgb.Dataset(X_train, label=y_train)\n",
    "\n",
    "    gbm = lgb.train(param, dtrain)\n",
    "    y_pred = gbm.predict(X_test)\n",
    "    auc = roc_auc_score(y_test, y_pred)\n",
    "    return auc"
   ]
  },
  {
   "cell_type": "code",
   "execution_count": 27,
   "metadata": {},
   "outputs": [
    {
     "name": "stderr",
     "output_type": "stream",
     "text": [
      "[I 2024-11-09 13:28:59,523] A new study created in memory with name: no-name-d21e7f91-1337-4c89-a59f-5cfaf045205d\n",
      "[I 2024-11-09 13:29:05,759] Trial 0 finished with value: 0.507369017417107 and parameters: {'n_estimators': 812, 'learning_rate': 0.08927180304353628, 'lambda_l1': 2.9106359131330697, 'lambda_l2': 1.5751320499779735, 'num_leaves': 11, 'feature_fraction': 0.22479561626896213, 'bagging_fraction': 0.23485016730091968, 'bagging_freq': 3, 'min_child_samples': 62, 'max_depth': 4, 'max_bin': 101, 'min_data_in_leaf': 147}. Best is trial 0 with value: 0.507369017417107.\n",
      "[I 2024-11-09 13:29:13,996] Trial 1 finished with value: 0.5854924684146051 and parameters: {'n_estimators': 1682, 'learning_rate': 0.016305687346221478, 'lambda_l1': 0.23102018878452935, 'lambda_l2': 0.2327067708383781, 'num_leaves': 13, 'feature_fraction': 0.5198051453057903, 'bagging_fraction': 0.4591670111852695, 'bagging_freq': 1, 'min_child_samples': 63, 'max_depth': 1, 'max_bin': 114, 'min_data_in_leaf': 67}. Best is trial 1 with value: 0.5854924684146051.\n",
      "[I 2024-11-09 13:29:22,488] Trial 2 finished with value: 0.5172997306365159 and parameters: {'n_estimators': 966, 'learning_rate': 0.06097839109531514, 'lambda_l1': 0.2508115686045233, 'lambda_l2': 1.0677482709481354, 'num_leaves': 16, 'feature_fraction': 0.13716033017599819, 'bagging_fraction': 0.5645269111408631, 'bagging_freq': 1, 'min_child_samples': 11, 'max_depth': 5, 'max_bin': 149, 'min_data_in_leaf': 125}. Best is trial 1 with value: 0.5854924684146051.\n",
      "[I 2024-11-09 13:29:27,530] Trial 3 finished with value: 0.5440632132953639 and parameters: {'n_estimators': 679, 'learning_rate': 0.012521954287060391, 'lambda_l1': 2.3359635026261603, 'lambda_l2': 0.7591104805282696, 'num_leaves': 11, 'feature_fraction': 0.4961415280890161, 'bagging_fraction': 0.22063311266913105, 'bagging_freq': 3, 'min_child_samples': 29, 'max_depth': 4, 'max_bin': 115, 'min_data_in_leaf': 88}. Best is trial 1 with value: 0.5854924684146051.\n",
      "[I 2024-11-09 13:29:32,446] Trial 4 finished with value: 0.5898775897442565 and parameters: {'n_estimators': 1139, 'learning_rate': 0.015305744365500184, 'lambda_l1': 8.692991511139551, 'lambda_l2': 3.5503048581283085, 'num_leaves': 20, 'feature_fraction': 0.815861880342119, 'bagging_fraction': 0.5587399872866512, 'bagging_freq': 3, 'min_child_samples': 13, 'max_depth': 1, 'max_bin': 102, 'min_data_in_leaf': 62}. Best is trial 4 with value: 0.5898775897442565.\n",
      "[I 2024-11-09 13:29:39,642] Trial 5 finished with value: 0.5379039987329061 and parameters: {'n_estimators': 838, 'learning_rate': 0.01867880257107068, 'lambda_l1': 4.544383960336017, 'lambda_l2': 0.5170191786366992, 'num_leaves': 13, 'feature_fraction': 0.5341568665265988, 'bagging_fraction': 0.2845545349848576, 'bagging_freq': 3, 'min_child_samples': 12, 'max_depth': 5, 'max_bin': 139, 'min_data_in_leaf': 46}. Best is trial 4 with value: 0.5898775897442565.\n",
      "[I 2024-11-09 13:29:41,000] Trial 6 finished with value: 0.5436913993236633 and parameters: {'n_estimators': 110, 'learning_rate': 0.06538248584518043, 'lambda_l1': 2.5924756604751593, 'lambda_l2': 2.8708753481954687, 'num_leaves': 18, 'feature_fraction': 0.1592357213872723, 'bagging_fraction': 0.4150794371265636, 'bagging_freq': 1, 'min_child_samples': 87, 'max_depth': 4, 'max_bin': 116, 'min_data_in_leaf': 28}. Best is trial 4 with value: 0.5898775897442565.\n",
      "[I 2024-11-09 13:29:45,450] Trial 7 finished with value: 0.5524564988016648 and parameters: {'n_estimators': 691, 'learning_rate': 0.021143813626634367, 'lambda_l1': 2.878805718308924, 'lambda_l2': 1.8841476921545086, 'num_leaves': 19, 'feature_fraction': 0.4777719401295595, 'bagging_fraction': 0.27175654756298107, 'bagging_freq': 3, 'min_child_samples': 78, 'max_depth': 3, 'max_bin': 139, 'min_data_in_leaf': 84}. Best is trial 4 with value: 0.5898775897442565.\n",
      "[I 2024-11-09 13:29:51,246] Trial 8 finished with value: 0.5439233381079007 and parameters: {'n_estimators': 1093, 'learning_rate': 0.026763383567660764, 'lambda_l1': 0.11241862095793062, 'lambda_l2': 0.16435497475111327, 'num_leaves': 10, 'feature_fraction': 0.6091283290110243, 'bagging_fraction': 0.38861358864579604, 'bagging_freq': 2, 'min_child_samples': 92, 'max_depth': 2, 'max_bin': 120, 'min_data_in_leaf': 118}. Best is trial 4 with value: 0.5898775897442565.\n",
      "[I 2024-11-09 13:29:53,807] Trial 9 finished with value: 0.6077584804487233 and parameters: {'n_estimators': 534, 'learning_rate': 0.011939328726535447, 'lambda_l1': 0.3797544798678416, 'lambda_l2': 0.21010799310103556, 'num_leaves': 20, 'feature_fraction': 0.7464963036515336, 'bagging_fraction': 0.5800422539062542, 'bagging_freq': 3, 'min_child_samples': 82, 'max_depth': 1, 'max_bin': 145, 'min_data_in_leaf': 90}. Best is trial 9 with value: 0.6077584804487233.\n",
      "[I 2024-11-09 13:29:55,121] Trial 10 finished with value: 0.5926321176358491 and parameters: {'n_estimators': 150, 'learning_rate': 0.010139048090380872, 'lambda_l1': 0.7243598948404971, 'lambda_l2': 7.32117324325261, 'num_leaves': 17, 'feature_fraction': 0.8261318362260144, 'bagging_fraction': 0.7681848397907224, 'bagging_freq': 2, 'min_child_samples': 43, 'max_depth': 2, 'max_bin': 132, 'min_data_in_leaf': 100}. Best is trial 9 with value: 0.6077584804487233.\n",
      "[I 2024-11-09 13:29:56,498] Trial 11 finished with value: 0.5919327108785342 and parameters: {'n_estimators': 155, 'learning_rate': 0.010660609570685578, 'lambda_l1': 0.5811118340705553, 'lambda_l2': 7.738143309868784, 'num_leaves': 17, 'feature_fraction': 0.8989208099224782, 'bagging_fraction': 0.7721844791266287, 'bagging_freq': 2, 'min_child_samples': 41, 'max_depth': 2, 'max_bin': 132, 'min_data_in_leaf': 104}. Best is trial 9 with value: 0.6077584804487233.\n",
      "[I 2024-11-09 13:29:59,868] Trial 12 finished with value: 0.5711337673812855 and parameters: {'n_estimators': 456, 'learning_rate': 0.04036278334571579, 'lambda_l1': 0.7588472348427456, 'lambda_l2': 9.818226878189126, 'num_leaves': 20, 'feature_fraction': 0.7297416028962965, 'bagging_fraction': 0.7851942571644772, 'bagging_freq': 2, 'min_child_samples': 42, 'max_depth': 2, 'max_bin': 150, 'min_data_in_leaf': 93}. Best is trial 9 with value: 0.6077584804487233.\n",
      "[I 2024-11-09 13:30:02,156] Trial 13 finished with value: 0.5997216306115993 and parameters: {'n_estimators': 399, 'learning_rate': 0.010155197376227084, 'lambda_l1': 0.3719793253349844, 'lambda_l2': 0.3390360223578276, 'num_leaves': 16, 'feature_fraction': 0.7012907398526314, 'bagging_fraction': 0.6742751803594045, 'bagging_freq': 2, 'min_child_samples': 72, 'max_depth': 1, 'max_bin': 130, 'min_data_in_leaf': 124}. Best is trial 9 with value: 0.6077584804487233.\n",
      "[I 2024-11-09 13:30:04,963] Trial 14 finished with value: 0.596112043441417 and parameters: {'n_estimators': 429, 'learning_rate': 0.03626927035742487, 'lambda_l1': 0.33395393964835784, 'lambda_l2': 0.33179393547814406, 'num_leaves': 14, 'feature_fraction': 0.6808040457519312, 'bagging_fraction': 0.6519428425179716, 'bagging_freq': 2, 'min_child_samples': 74, 'max_depth': 1, 'max_bin': 142, 'min_data_in_leaf': 144}. Best is trial 9 with value: 0.6077584804487233.\n",
      "[I 2024-11-09 13:30:10,998] Trial 15 finished with value: 0.5852031441703056 and parameters: {'n_estimators': 1349, 'learning_rate': 0.024477620362977674, 'lambda_l1': 0.10625721497327492, 'lambda_l2': 0.1040088186227518, 'num_leaves': 16, 'feature_fraction': 0.36706710213558735, 'bagging_fraction': 0.6698194223992413, 'bagging_freq': 2, 'min_child_samples': 100, 'max_depth': 1, 'max_bin': 129, 'min_data_in_leaf': 124}. Best is trial 9 with value: 0.6077584804487233.\n",
      "[I 2024-11-09 13:30:14,302] Trial 16 finished with value: 0.5948202231821159 and parameters: {'n_estimators': 429, 'learning_rate': 0.01394312292004565, 'lambda_l1': 1.349298082325872, 'lambda_l2': 0.4163985957596336, 'num_leaves': 18, 'feature_fraction': 0.6969106478450143, 'bagging_fraction': 0.6596857012136745, 'bagging_freq': 3, 'min_child_samples': 71, 'max_depth': 3, 'max_bin': 143, 'min_data_in_leaf': 72}. Best is trial 9 with value: 0.6077584804487233.\n",
      "[I 2024-11-09 13:30:21,120] Trial 17 finished with value: 0.5862203071221623 and parameters: {'n_estimators': 1984, 'learning_rate': 0.012165938513832514, 'lambda_l1': 0.43934832786158606, 'lambda_l2': 0.1798274642547473, 'num_leaves': 15, 'feature_fraction': 0.6186343573657436, 'bagging_fraction': 0.560202466625252, 'bagging_freq': 1, 'min_child_samples': 54, 'max_depth': 1, 'max_bin': 126, 'min_data_in_leaf': 114}. Best is trial 9 with value: 0.6077584804487233.\n",
      "[I 2024-11-09 13:30:25,402] Trial 18 finished with value: 0.563326144293769 and parameters: {'n_estimators': 537, 'learning_rate': 0.01896531781379117, 'lambda_l1': 0.17959228826212265, 'lambda_l2': 0.1002998973710369, 'num_leaves': 19, 'feature_fraction': 0.8016192824460571, 'bagging_fraction': 0.704584567003541, 'bagging_freq': 2, 'min_child_samples': 83, 'max_depth': 3, 'max_bin': 108, 'min_data_in_leaf': 135}. Best is trial 9 with value: 0.6077584804487233.\n",
      "[I 2024-11-09 13:30:27,264] Trial 19 finished with value: 0.5868994390809288 and parameters: {'n_estimators': 309, 'learning_rate': 0.029554997191683342, 'lambda_l1': 0.40143716274271213, 'lambda_l2': 0.2497883124528272, 'num_leaves': 14, 'feature_fraction': 0.3586726112995233, 'bagging_fraction': 0.5952582369659408, 'bagging_freq': 2, 'min_child_samples': 98, 'max_depth': 2, 'max_bin': 135, 'min_data_in_leaf': 107}. Best is trial 9 with value: 0.6077584804487233.\n",
      "[I 2024-11-09 13:30:27,326] A new study created in memory with name: no-name-f4f470c3-43a5-45a8-a085-1c46a2f6864b\n",
      "[I 2024-11-09 13:30:35,507] Trial 0 finished with value: 0.5743692496011988 and parameters: {'n_estimators': 812, 'learning_rate': 0.08927180304353628, 'lambda_l1': 2.9106359131330697, 'lambda_l2': 1.5751320499779735, 'num_leaves': 11, 'feature_fraction': 0.22479561626896213, 'bagging_fraction': 0.23485016730091968, 'bagging_freq': 3, 'min_child_samples': 62, 'max_depth': 4, 'max_bin': 101, 'min_data_in_leaf': 147}. Best is trial 0 with value: 0.5743692496011988.\n",
      "[I 2024-11-09 13:30:48,272] Trial 1 finished with value: 0.5688057178056621 and parameters: {'n_estimators': 1682, 'learning_rate': 0.016305687346221478, 'lambda_l1': 0.23102018878452935, 'lambda_l2': 0.2327067708383781, 'num_leaves': 13, 'feature_fraction': 0.5198051453057903, 'bagging_fraction': 0.4591670111852695, 'bagging_freq': 1, 'min_child_samples': 63, 'max_depth': 1, 'max_bin': 114, 'min_data_in_leaf': 67}. Best is trial 0 with value: 0.5743692496011988.\n",
      "[I 2024-11-09 13:30:58,938] Trial 2 finished with value: 0.628746032952258 and parameters: {'n_estimators': 966, 'learning_rate': 0.06097839109531514, 'lambda_l1': 0.2508115686045233, 'lambda_l2': 1.0677482709481354, 'num_leaves': 16, 'feature_fraction': 0.13716033017599819, 'bagging_fraction': 0.5645269111408631, 'bagging_freq': 1, 'min_child_samples': 11, 'max_depth': 5, 'max_bin': 149, 'min_data_in_leaf': 125}. Best is trial 2 with value: 0.628746032952258.\n",
      "[I 2024-11-09 13:31:05,938] Trial 3 finished with value: 0.6047203210586343 and parameters: {'n_estimators': 679, 'learning_rate': 0.012521954287060391, 'lambda_l1': 2.3359635026261603, 'lambda_l2': 0.7591104805282696, 'num_leaves': 11, 'feature_fraction': 0.4961415280890161, 'bagging_fraction': 0.22063311266913105, 'bagging_freq': 3, 'min_child_samples': 29, 'max_depth': 4, 'max_bin': 115, 'min_data_in_leaf': 88}. Best is trial 2 with value: 0.628746032952258.\n",
      "[I 2024-11-09 13:31:13,903] Trial 4 finished with value: 0.5688470500880753 and parameters: {'n_estimators': 1139, 'learning_rate': 0.015305744365500184, 'lambda_l1': 8.692991511139551, 'lambda_l2': 3.5503048581283085, 'num_leaves': 20, 'feature_fraction': 0.815861880342119, 'bagging_fraction': 0.5587399872866512, 'bagging_freq': 3, 'min_child_samples': 13, 'max_depth': 1, 'max_bin': 102, 'min_data_in_leaf': 62}. Best is trial 2 with value: 0.628746032952258.\n",
      "[I 2024-11-09 13:31:24,027] Trial 5 finished with value: 0.5991493141263066 and parameters: {'n_estimators': 838, 'learning_rate': 0.01867880257107068, 'lambda_l1': 4.544383960336017, 'lambda_l2': 0.5170191786366992, 'num_leaves': 13, 'feature_fraction': 0.5341568665265988, 'bagging_fraction': 0.2845545349848576, 'bagging_freq': 3, 'min_child_samples': 12, 'max_depth': 5, 'max_bin': 139, 'min_data_in_leaf': 46}. Best is trial 2 with value: 0.628746032952258.\n",
      "[I 2024-11-09 13:31:25,753] Trial 6 finished with value: 0.5880455478606715 and parameters: {'n_estimators': 110, 'learning_rate': 0.06538248584518043, 'lambda_l1': 2.5924756604751593, 'lambda_l2': 2.8708753481954687, 'num_leaves': 18, 'feature_fraction': 0.1592357213872723, 'bagging_fraction': 0.4150794371265636, 'bagging_freq': 1, 'min_child_samples': 87, 'max_depth': 4, 'max_bin': 116, 'min_data_in_leaf': 28}. Best is trial 2 with value: 0.628746032952258.\n",
      "[I 2024-11-09 13:31:31,808] Trial 7 finished with value: 0.6059655797738634 and parameters: {'n_estimators': 691, 'learning_rate': 0.021143813626634367, 'lambda_l1': 2.878805718308924, 'lambda_l2': 1.8841476921545086, 'num_leaves': 19, 'feature_fraction': 0.4777719401295595, 'bagging_fraction': 0.27175654756298107, 'bagging_freq': 3, 'min_child_samples': 78, 'max_depth': 3, 'max_bin': 139, 'min_data_in_leaf': 84}. Best is trial 2 with value: 0.628746032952258.\n",
      "[I 2024-11-09 13:31:40,552] Trial 8 finished with value: 0.5873136559631144 and parameters: {'n_estimators': 1093, 'learning_rate': 0.026763383567660764, 'lambda_l1': 0.11241862095793062, 'lambda_l2': 0.16435497475111327, 'num_leaves': 10, 'feature_fraction': 0.6091283290110243, 'bagging_fraction': 0.38861358864579604, 'bagging_freq': 2, 'min_child_samples': 92, 'max_depth': 2, 'max_bin': 120, 'min_data_in_leaf': 118}. Best is trial 2 with value: 0.628746032952258.\n",
      "[I 2024-11-09 13:31:44,677] Trial 9 finished with value: 0.5680243956409335 and parameters: {'n_estimators': 534, 'learning_rate': 0.011939328726535447, 'lambda_l1': 0.3797544798678416, 'lambda_l2': 0.21010799310103556, 'num_leaves': 20, 'feature_fraction': 0.7464963036515336, 'bagging_fraction': 0.5800422539062542, 'bagging_freq': 3, 'min_child_samples': 82, 'max_depth': 1, 'max_bin': 145, 'min_data_in_leaf': 90}. Best is trial 2 with value: 0.628746032952258.\n",
      "[I 2024-11-09 13:32:07,550] Trial 10 finished with value: 0.5850591294277682 and parameters: {'n_estimators': 1577, 'learning_rate': 0.047293022194231815, 'lambda_l1': 0.7243598948404971, 'lambda_l2': 7.32117324325261, 'num_leaves': 16, 'feature_fraction': 0.33029302178336095, 'bagging_fraction': 0.7652996487092816, 'bagging_freq': 2, 'min_child_samples': 37, 'max_depth': 5, 'max_bin': 150, 'min_data_in_leaf': 143}. Best is trial 2 with value: 0.628746032952258.\n",
      "[I 2024-11-09 13:32:10,952] Trial 11 finished with value: 0.6180337831036089 and parameters: {'n_estimators': 335, 'learning_rate': 0.034812440450179526, 'lambda_l1': 0.920010236020791, 'lambda_l2': 1.5121658229465376, 'num_leaves': 17, 'feature_fraction': 0.32284292373086776, 'bagging_fraction': 0.6759588059224958, 'bagging_freq': 1, 'min_child_samples': 48, 'max_depth': 3, 'max_bin': 134, 'min_data_in_leaf': 114}. Best is trial 2 with value: 0.628746032952258.\n",
      "[I 2024-11-09 13:32:12,554] Trial 12 finished with value: 0.5476262499108513 and parameters: {'n_estimators': 149, 'learning_rate': 0.03919666887935119, 'lambda_l1': 0.9174385522435321, 'lambda_l2': 0.5012035325226448, 'num_leaves': 16, 'feature_fraction': 0.10144439838491988, 'bagging_fraction': 0.6962215209935603, 'bagging_freq': 1, 'min_child_samples': 39, 'max_depth': 3, 'max_bin': 129, 'min_data_in_leaf': 117}. Best is trial 2 with value: 0.628746032952258.\n",
      "[I 2024-11-09 13:32:23,218] Trial 13 finished with value: 0.6044837120013323 and parameters: {'n_estimators': 1419, 'learning_rate': 0.05772437382632818, 'lambda_l1': 0.4179461203083026, 'lambda_l2': 1.0553215129956104, 'num_leaves': 17, 'feature_fraction': 0.3057906285087603, 'bagging_fraction': 0.6506198280819944, 'bagging_freq': 1, 'min_child_samples': 25, 'max_depth': 2, 'max_bin': 130, 'min_data_in_leaf': 117}. Best is trial 2 with value: 0.628746032952258.\n",
      "[I 2024-11-09 13:32:26,492] Trial 14 finished with value: 0.5955986258326373 and parameters: {'n_estimators': 342, 'learning_rate': 0.03121063603771729, 'lambda_l1': 0.21055871507446208, 'lambda_l2': 6.483339775925699, 'num_leaves': 14, 'feature_fraction': 0.33361922014068207, 'bagging_fraction': 0.6284932520584278, 'bagging_freq': 2, 'min_child_samples': 51, 'max_depth': 2, 'max_bin': 138, 'min_data_in_leaf': 129}. Best is trial 2 with value: 0.628746032952258.\n",
      "[I 2024-11-09 13:32:46,462] Trial 15 finished with value: 0.5892394196962398 and parameters: {'n_estimators': 1933, 'learning_rate': 0.09654829665848191, 'lambda_l1': 0.10625721497327492, 'lambda_l2': 0.3563969409649351, 'num_leaves': 16, 'feature_fraction': 0.2505499539693714, 'bagging_fraction': 0.7695829684016495, 'bagging_freq': 1, 'min_child_samples': 8, 'max_depth': 4, 'max_bin': 150, 'min_data_in_leaf': 105}. Best is trial 2 with value: 0.628746032952258.\n",
      "[I 2024-11-09 13:33:03,265] Trial 16 finished with value: 0.5807717943738295 and parameters: {'n_estimators': 1245, 'learning_rate': 0.04090812952475739, 'lambda_l1': 1.349298082325872, 'lambda_l2': 0.10148354704881504, 'num_leaves': 18, 'feature_fraction': 0.3880837140921847, 'bagging_fraction': 0.5190145281768018, 'bagging_freq': 1, 'min_child_samples': 50, 'max_depth': 5, 'max_bin': 133, 'min_data_in_leaf': 131}. Best is trial 2 with value: 0.628746032952258.\n",
      "[I 2024-11-09 13:33:07,436] Trial 17 finished with value: 0.617347365595654 and parameters: {'n_estimators': 385, 'learning_rate': 0.06670426317818505, 'lambda_l1': 0.4419117666742621, 'lambda_l2': 1.1861806366881982, 'num_leaves': 15, 'feature_fraction': 0.1817169672726275, 'bagging_fraction': 0.6908792151130647, 'bagging_freq': 2, 'min_child_samples': 100, 'max_depth': 3, 'max_bin': 144, 'min_data_in_leaf': 103}. Best is trial 2 with value: 0.628746032952258.\n",
      "[I 2024-11-09 13:33:16,718] Trial 18 finished with value: 0.6088765970777056 and parameters: {'n_estimators': 900, 'learning_rate': 0.023689594696560387, 'lambda_l1': 0.24432229294762084, 'lambda_l2': 3.5518658805520773, 'num_leaves': 18, 'feature_fraction': 0.10739282201529815, 'bagging_fraction': 0.5927680403129516, 'bagging_freq': 1, 'min_child_samples': 67, 'max_depth': 3, 'max_bin': 124, 'min_data_in_leaf': 135}. Best is trial 2 with value: 0.628746032952258.\n",
      "[I 2024-11-09 13:33:22,626] Trial 19 finished with value: 0.5994276358550387 and parameters: {'n_estimators': 402, 'learning_rate': 0.052019187528652616, 'lambda_l1': 0.612225225867301, 'lambda_l2': 1.8881062334830505, 'num_leaves': 14, 'feature_fraction': 0.4064745977282438, 'bagging_fraction': 0.4792546996553736, 'bagging_freq': 2, 'min_child_samples': 27, 'max_depth': 4, 'max_bin': 134, 'min_data_in_leaf': 103}. Best is trial 2 with value: 0.628746032952258.\n",
      "[I 2024-11-09 13:33:22,728] A new study created in memory with name: no-name-22bbbb10-ebfb-4bee-a1af-b77065302946\n",
      "[I 2024-11-09 13:33:33,256] Trial 0 finished with value: 0.6722185993272701 and parameters: {'n_estimators': 812, 'learning_rate': 0.08927180304353628, 'lambda_l1': 2.9106359131330697, 'lambda_l2': 1.5751320499779735, 'num_leaves': 11, 'feature_fraction': 0.22479561626896213, 'bagging_fraction': 0.23485016730091968, 'bagging_freq': 3, 'min_child_samples': 62, 'max_depth': 4, 'max_bin': 101, 'min_data_in_leaf': 147}. Best is trial 0 with value: 0.6722185993272701.\n",
      "[I 2024-11-09 13:33:55,231] Trial 1 finished with value: 0.6697357036626921 and parameters: {'n_estimators': 1682, 'learning_rate': 0.016305687346221478, 'lambda_l1': 0.23102018878452935, 'lambda_l2': 0.2327067708383781, 'num_leaves': 13, 'feature_fraction': 0.5198051453057903, 'bagging_fraction': 0.4591670111852695, 'bagging_freq': 1, 'min_child_samples': 63, 'max_depth': 1, 'max_bin': 114, 'min_data_in_leaf': 67}. Best is trial 0 with value: 0.6722185993272701.\n",
      "[I 2024-11-09 13:34:10,549] Trial 2 finished with value: 0.6601592584950821 and parameters: {'n_estimators': 966, 'learning_rate': 0.06097839109531514, 'lambda_l1': 0.2508115686045233, 'lambda_l2': 1.0677482709481354, 'num_leaves': 16, 'feature_fraction': 0.13716033017599819, 'bagging_fraction': 0.5645269111408631, 'bagging_freq': 1, 'min_child_samples': 11, 'max_depth': 5, 'max_bin': 149, 'min_data_in_leaf': 125}. Best is trial 0 with value: 0.6722185993272701.\n",
      "[I 2024-11-09 13:34:19,949] Trial 3 finished with value: 0.6925152011986515 and parameters: {'n_estimators': 679, 'learning_rate': 0.012521954287060391, 'lambda_l1': 2.3359635026261603, 'lambda_l2': 0.7591104805282696, 'num_leaves': 11, 'feature_fraction': 0.4961415280890161, 'bagging_fraction': 0.22063311266913105, 'bagging_freq': 3, 'min_child_samples': 29, 'max_depth': 4, 'max_bin': 115, 'min_data_in_leaf': 88}. Best is trial 3 with value: 0.6925152011986515.\n",
      "[I 2024-11-09 13:34:31,862] Trial 4 finished with value: 0.6561849196156184 and parameters: {'n_estimators': 1139, 'learning_rate': 0.015305744365500184, 'lambda_l1': 8.692991511139551, 'lambda_l2': 3.5503048581283085, 'num_leaves': 20, 'feature_fraction': 0.815861880342119, 'bagging_fraction': 0.5587399872866512, 'bagging_freq': 3, 'min_child_samples': 13, 'max_depth': 1, 'max_bin': 102, 'min_data_in_leaf': 62}. Best is trial 3 with value: 0.6925152011986515.\n",
      "[I 2024-11-09 13:34:45,361] Trial 5 finished with value: 0.7055026867059337 and parameters: {'n_estimators': 838, 'learning_rate': 0.01867880257107068, 'lambda_l1': 4.544383960336017, 'lambda_l2': 0.5170191786366992, 'num_leaves': 13, 'feature_fraction': 0.5341568665265988, 'bagging_fraction': 0.2845545349848576, 'bagging_freq': 3, 'min_child_samples': 12, 'max_depth': 5, 'max_bin': 139, 'min_data_in_leaf': 46}. Best is trial 5 with value: 0.7055026867059337.\n",
      "[I 2024-11-09 13:34:47,610] Trial 6 finished with value: 0.6426096755478199 and parameters: {'n_estimators': 110, 'learning_rate': 0.06538248584518043, 'lambda_l1': 2.5924756604751593, 'lambda_l2': 2.8708753481954687, 'num_leaves': 18, 'feature_fraction': 0.1592357213872723, 'bagging_fraction': 0.4150794371265636, 'bagging_freq': 1, 'min_child_samples': 87, 'max_depth': 4, 'max_bin': 116, 'min_data_in_leaf': 28}. Best is trial 5 with value: 0.7055026867059337.\n",
      "[I 2024-11-09 13:34:55,885] Trial 7 finished with value: 0.7001537414466344 and parameters: {'n_estimators': 691, 'learning_rate': 0.021143813626634367, 'lambda_l1': 2.878805718308924, 'lambda_l2': 1.8841476921545086, 'num_leaves': 19, 'feature_fraction': 0.4777719401295595, 'bagging_fraction': 0.27175654756298107, 'bagging_freq': 3, 'min_child_samples': 78, 'max_depth': 3, 'max_bin': 139, 'min_data_in_leaf': 84}. Best is trial 5 with value: 0.7055026867059337.\n",
      "[I 2024-11-09 13:35:08,159] Trial 8 finished with value: 0.7013560226187847 and parameters: {'n_estimators': 1093, 'learning_rate': 0.026763383567660764, 'lambda_l1': 0.11241862095793062, 'lambda_l2': 0.16435497475111327, 'num_leaves': 10, 'feature_fraction': 0.6091283290110243, 'bagging_fraction': 0.38861358864579604, 'bagging_freq': 2, 'min_child_samples': 92, 'max_depth': 2, 'max_bin': 120, 'min_data_in_leaf': 118}. Best is trial 5 with value: 0.7055026867059337.\n",
      "[I 2024-11-09 13:35:13,967] Trial 9 finished with value: 0.6472901175757393 and parameters: {'n_estimators': 534, 'learning_rate': 0.011939328726535447, 'lambda_l1': 0.3797544798678416, 'lambda_l2': 0.21010799310103556, 'num_leaves': 20, 'feature_fraction': 0.7464963036515336, 'bagging_fraction': 0.5800422539062542, 'bagging_freq': 3, 'min_child_samples': 82, 'max_depth': 1, 'max_bin': 145, 'min_data_in_leaf': 90}. Best is trial 5 with value: 0.7055026867059337.\n",
      "[I 2024-11-09 13:35:44,350] Trial 10 finished with value: 0.6959094757525954 and parameters: {'n_estimators': 1577, 'learning_rate': 0.04033377325092907, 'lambda_l1': 8.691089486124978, 'lambda_l2': 7.32117324325261, 'num_leaves': 14, 'feature_fraction': 0.3404518584394768, 'bagging_fraction': 0.775862447567252, 'bagging_freq': 2, 'min_child_samples': 37, 'max_depth': 5, 'max_bin': 134, 'min_data_in_leaf': 21}. Best is trial 5 with value: 0.7055026867059337.\n",
      "[I 2024-11-09 13:35:58,075] Trial 11 finished with value: 0.703883326564735 and parameters: {'n_estimators': 1248, 'learning_rate': 0.027342330783636182, 'lambda_l1': 0.11530283407156856, 'lambda_l2': 0.10724459185118644, 'num_leaves': 10, 'feature_fraction': 0.6686426522469714, 'bagging_fraction': 0.36019464376722177, 'bagging_freq': 2, 'min_child_samples': 45, 'max_depth': 2, 'max_bin': 126, 'min_data_in_leaf': 118}. Best is trial 5 with value: 0.7055026867059337.\n",
      "[I 2024-11-09 13:36:13,329] Trial 12 finished with value: 0.7026128915602994 and parameters: {'n_estimators': 1432, 'learning_rate': 0.035230923304789864, 'lambda_l1': 0.9039818287200198, 'lambda_l2': 0.4848401495672273, 'num_leaves': 13, 'feature_fraction': 0.6992825957109835, 'bagging_fraction': 0.3308926735609551, 'bagging_freq': 2, 'min_child_samples': 40, 'max_depth': 2, 'max_bin': 130, 'min_data_in_leaf': 49}. Best is trial 5 with value: 0.7055026867059337.\n",
      "[I 2024-11-09 13:36:30,204] Trial 13 finished with value: 0.7019795764163014 and parameters: {'n_estimators': 1326, 'learning_rate': 0.023961997598071712, 'lambda_l1': 0.8399037432330653, 'lambda_l2': 0.10107006925425198, 'num_leaves': 16, 'feature_fraction': 0.6209823448338395, 'bagging_fraction': 0.3280269534392149, 'bagging_freq': 2, 'min_child_samples': 25, 'max_depth': 3, 'max_bin': 127, 'min_data_in_leaf': 112}. Best is trial 5 with value: 0.7055026867059337.\n",
      "[I 2024-11-09 13:36:49,927] Trial 14 finished with value: 0.7013889781826432 and parameters: {'n_estimators': 1882, 'learning_rate': 0.04369460910544449, 'lambda_l1': 0.5100348035951566, 'lambda_l2': 0.4356721653729601, 'num_leaves': 10, 'feature_fraction': 0.8818131724760627, 'bagging_fraction': 0.3377947217898299, 'bagging_freq': 2, 'min_child_samples': 51, 'max_depth': 2, 'max_bin': 138, 'min_data_in_leaf': 144}. Best is trial 5 with value: 0.7055026867059337.\n",
      "[I 2024-11-09 13:36:53,661] Trial 15 finished with value: 0.6551664845217812 and parameters: {'n_estimators': 211, 'learning_rate': 0.019116758754724864, 'lambda_l1': 0.10625721497327492, 'lambda_l2': 0.39605294845258576, 'num_leaves': 12, 'feature_fraction': 0.35459558617363085, 'bagging_fraction': 0.7109104317140343, 'bagging_freq': 2, 'min_child_samples': 8, 'max_depth': 3, 'max_bin': 121, 'min_data_in_leaf': 42}. Best is trial 5 with value: 0.7055026867059337.\n",
      "[I 2024-11-09 13:37:01,622] Trial 16 finished with value: 0.7084331172771832 and parameters: {'n_estimators': 392, 'learning_rate': 0.025693342862581434, 'lambda_l1': 4.898682826068311, 'lambda_l2': 0.10036561567459112, 'num_leaves': 14, 'feature_fraction': 0.6248350675372294, 'bagging_fraction': 0.5028765900908693, 'bagging_freq': 3, 'min_child_samples': 22, 'max_depth': 5, 'max_bin': 142, 'min_data_in_leaf': 103}. Best is trial 16 with value: 0.7084331172771832.\n",
      "[I 2024-11-09 13:37:08,588] Trial 17 finished with value: 0.679952122258014 and parameters: {'n_estimators': 358, 'learning_rate': 0.015927514360689902, 'lambda_l1': 4.532849664044731, 'lambda_l2': 0.30420535330428233, 'num_leaves': 15, 'feature_fraction': 0.3874710093985634, 'bagging_fraction': 0.5103876220321278, 'bagging_freq': 3, 'min_child_samples': 21, 'max_depth': 5, 'max_bin': 142, 'min_data_in_leaf': 101}. Best is trial 16 with value: 0.7084331172771832.\n",
      "[I 2024-11-09 13:37:18,468] Trial 18 finished with value: 0.699544733967016 and parameters: {'n_estimators': 435, 'learning_rate': 0.010271194697074973, 'lambda_l1': 5.287277595638058, 'lambda_l2': 0.5795197175939841, 'num_leaves': 17, 'feature_fraction': 0.5514348450378743, 'bagging_fraction': 0.641775852793165, 'bagging_freq': 3, 'min_child_samples': 21, 'max_depth': 5, 'max_bin': 149, 'min_data_in_leaf': 68}. Best is trial 16 with value: 0.7084331172771832.\n",
      "[I 2024-11-09 13:37:32,180] Trial 19 finished with value: 0.7038454184614352 and parameters: {'n_estimators': 841, 'learning_rate': 0.029554997191683342, 'lambda_l1': 1.2639128645099111, 'lambda_l2': 9.526261766589357, 'num_leaves': 14, 'feature_fraction': 0.4316865518009497, 'bagging_fraction': 0.4792546996553736, 'bagging_freq': 3, 'min_child_samples': 6, 'max_depth': 4, 'max_bin': 133, 'min_data_in_leaf': 39}. Best is trial 16 with value: 0.7084331172771832.\n",
      "[I 2024-11-09 13:37:32,295] A new study created in memory with name: no-name-b9e60784-25c5-430c-b0d7-6a458b415e9e\n",
      "[I 2024-11-09 13:37:45,094] Trial 0 finished with value: 0.7912061532075543 and parameters: {'n_estimators': 812, 'learning_rate': 0.08927180304353628, 'lambda_l1': 2.9106359131330697, 'lambda_l2': 1.5751320499779735, 'num_leaves': 11, 'feature_fraction': 0.22479561626896213, 'bagging_fraction': 0.23485016730091968, 'bagging_freq': 3, 'min_child_samples': 62, 'max_depth': 4, 'max_bin': 101, 'min_data_in_leaf': 147}. Best is trial 0 with value: 0.7912061532075543.\n",
      "[I 2024-11-09 13:38:08,929] Trial 1 finished with value: 0.78866771115772 and parameters: {'n_estimators': 1682, 'learning_rate': 0.016305687346221478, 'lambda_l1': 0.23102018878452935, 'lambda_l2': 0.2327067708383781, 'num_leaves': 13, 'feature_fraction': 0.5198051453057903, 'bagging_fraction': 0.4591670111852695, 'bagging_freq': 1, 'min_child_samples': 63, 'max_depth': 1, 'max_bin': 114, 'min_data_in_leaf': 67}. Best is trial 0 with value: 0.7912061532075543.\n",
      "[I 2024-11-09 13:38:26,015] Trial 2 finished with value: 0.7939411020080611 and parameters: {'n_estimators': 966, 'learning_rate': 0.06097839109531514, 'lambda_l1': 0.2508115686045233, 'lambda_l2': 1.0677482709481354, 'num_leaves': 16, 'feature_fraction': 0.13716033017599819, 'bagging_fraction': 0.5645269111408631, 'bagging_freq': 1, 'min_child_samples': 11, 'max_depth': 5, 'max_bin': 149, 'min_data_in_leaf': 125}. Best is trial 2 with value: 0.7939411020080611.\n",
      "[I 2024-11-09 13:38:37,440] Trial 3 finished with value: 0.7910883407832072 and parameters: {'n_estimators': 679, 'learning_rate': 0.012521954287060391, 'lambda_l1': 2.3359635026261603, 'lambda_l2': 0.7591104805282696, 'num_leaves': 11, 'feature_fraction': 0.4961415280890161, 'bagging_fraction': 0.22063311266913105, 'bagging_freq': 3, 'min_child_samples': 29, 'max_depth': 4, 'max_bin': 115, 'min_data_in_leaf': 88}. Best is trial 2 with value: 0.7939411020080611.\n",
      "[I 2024-11-09 13:38:52,245] Trial 4 finished with value: 0.7874389609428294 and parameters: {'n_estimators': 1139, 'learning_rate': 0.015305744365500184, 'lambda_l1': 8.692991511139551, 'lambda_l2': 3.5503048581283085, 'num_leaves': 20, 'feature_fraction': 0.815861880342119, 'bagging_fraction': 0.5587399872866512, 'bagging_freq': 3, 'min_child_samples': 13, 'max_depth': 1, 'max_bin': 102, 'min_data_in_leaf': 62}. Best is trial 2 with value: 0.7939411020080611.\n",
      "[I 2024-11-09 13:39:08,797] Trial 5 finished with value: 0.7922883597017242 and parameters: {'n_estimators': 838, 'learning_rate': 0.01867880257107068, 'lambda_l1': 4.544383960336017, 'lambda_l2': 0.5170191786366992, 'num_leaves': 13, 'feature_fraction': 0.5341568665265988, 'bagging_fraction': 0.2845545349848576, 'bagging_freq': 3, 'min_child_samples': 12, 'max_depth': 5, 'max_bin': 139, 'min_data_in_leaf': 46}. Best is trial 2 with value: 0.7939411020080611.\n",
      "[I 2024-11-09 13:39:11,558] Trial 6 finished with value: 0.7623001028277194 and parameters: {'n_estimators': 110, 'learning_rate': 0.06538248584518043, 'lambda_l1': 2.5924756604751593, 'lambda_l2': 2.8708753481954687, 'num_leaves': 18, 'feature_fraction': 0.1592357213872723, 'bagging_fraction': 0.4150794371265636, 'bagging_freq': 1, 'min_child_samples': 87, 'max_depth': 4, 'max_bin': 116, 'min_data_in_leaf': 28}. Best is trial 2 with value: 0.7939411020080611.\n",
      "[I 2024-11-09 13:39:21,979] Trial 7 finished with value: 0.7926847300703773 and parameters: {'n_estimators': 691, 'learning_rate': 0.021143813626634367, 'lambda_l1': 2.878805718308924, 'lambda_l2': 1.8841476921545086, 'num_leaves': 19, 'feature_fraction': 0.4777719401295595, 'bagging_fraction': 0.27175654756298107, 'bagging_freq': 3, 'min_child_samples': 78, 'max_depth': 3, 'max_bin': 139, 'min_data_in_leaf': 84}. Best is trial 2 with value: 0.7939411020080611.\n",
      "[I 2024-11-09 13:39:37,898] Trial 8 finished with value: 0.7943229614443355 and parameters: {'n_estimators': 1093, 'learning_rate': 0.026763383567660764, 'lambda_l1': 0.11241862095793062, 'lambda_l2': 0.16435497475111327, 'num_leaves': 10, 'feature_fraction': 0.6091283290110243, 'bagging_fraction': 0.38861358864579604, 'bagging_freq': 2, 'min_child_samples': 92, 'max_depth': 2, 'max_bin': 120, 'min_data_in_leaf': 118}. Best is trial 8 with value: 0.7943229614443355.\n",
      "[I 2024-11-09 13:39:45,382] Trial 9 finished with value: 0.7760778206243257 and parameters: {'n_estimators': 534, 'learning_rate': 0.011939328726535447, 'lambda_l1': 0.3797544798678416, 'lambda_l2': 0.21010799310103556, 'num_leaves': 20, 'feature_fraction': 0.7464963036515336, 'bagging_fraction': 0.5800422539062542, 'bagging_freq': 3, 'min_child_samples': 82, 'max_depth': 1, 'max_bin': 145, 'min_data_in_leaf': 90}. Best is trial 8 with value: 0.7943229614443355.\n",
      "[I 2024-11-09 13:40:17,015] Trial 10 finished with value: 0.7945287544060221 and parameters: {'n_estimators': 1577, 'learning_rate': 0.0348181760769092, 'lambda_l1': 0.10353677627159782, 'lambda_l2': 0.10862348973937136, 'num_leaves': 10, 'feature_fraction': 0.6861846574523829, 'bagging_fraction': 0.775862447567252, 'bagging_freq': 2, 'min_child_samples': 98, 'max_depth': 2, 'max_bin': 126, 'min_data_in_leaf': 117}. Best is trial 10 with value: 0.7945287544060221.\n",
      "[I 2024-11-09 13:40:48,591] Trial 11 finished with value: 0.7940694583757373 and parameters: {'n_estimators': 1594, 'learning_rate': 0.033631304259792535, 'lambda_l1': 0.10795970208898632, 'lambda_l2': 0.10525537679465312, 'num_leaves': 10, 'feature_fraction': 0.6787014690976971, 'bagging_fraction': 0.7629449100068717, 'bagging_freq': 2, 'min_child_samples': 98, 'max_depth': 2, 'max_bin': 129, 'min_data_in_leaf': 117}. Best is trial 10 with value: 0.7945287544060221.\n",
      "[I 2024-11-09 13:41:14,929] Trial 12 finished with value: 0.7957832479496582 and parameters: {'n_estimators': 1293, 'learning_rate': 0.032676735935596245, 'lambda_l1': 0.10145462031508672, 'lambda_l2': 9.818226878189126, 'num_leaves': 13, 'feature_fraction': 0.6458269899954538, 'bagging_fraction': 0.799617463184931, 'bagging_freq': 2, 'min_child_samples': 96, 'max_depth': 2, 'max_bin': 125, 'min_data_in_leaf': 120}. Best is trial 12 with value: 0.7957832479496582.\n",
      "[I 2024-11-09 13:41:54,358] Trial 13 finished with value: 0.7940309826182937 and parameters: {'n_estimators': 1967, 'learning_rate': 0.04030159155730151, 'lambda_l1': 0.6250641249115986, 'lambda_l2': 9.81824756903747, 'num_leaves': 13, 'feature_fraction': 0.8695273222738908, 'bagging_fraction': 0.7897642072973247, 'bagging_freq': 2, 'min_child_samples': 44, 'max_depth': 2, 'max_bin': 128, 'min_data_in_leaf': 146}. Best is trial 12 with value: 0.7957832479496582.\n",
      "[I 2024-11-09 13:42:20,662] Trial 14 finished with value: 0.7867483098380912 and parameters: {'n_estimators': 1383, 'learning_rate': 0.044859943433981586, 'lambda_l1': 0.17936049026839, 'lambda_l2': 9.096015328440265, 'num_leaves': 15, 'feature_fraction': 0.3803568499112411, 'bagging_fraction': 0.692491268635817, 'bagging_freq': 2, 'min_child_samples': 70, 'max_depth': 3, 'max_bin': 133, 'min_data_in_leaf': 107}. Best is trial 12 with value: 0.7957832479496582.\n",
      "[I 2024-11-09 13:42:46,382] Trial 15 finished with value: 0.796327697763605 and parameters: {'n_estimators': 1387, 'learning_rate': 0.02615000519607022, 'lambda_l1': 0.8679553868731111, 'lambda_l2': 0.3563969409649351, 'num_leaves': 15, 'feature_fraction': 0.696298285725989, 'bagging_fraction': 0.6828696846966383, 'bagging_freq': 2, 'min_child_samples': 100, 'max_depth': 2, 'max_bin': 120, 'min_data_in_leaf': 129}. Best is trial 15 with value: 0.796327697763605.\n",
      "[I 2024-11-09 13:43:11,853] Trial 16 finished with value: 0.790248318485435 and parameters: {'n_estimators': 1348, 'learning_rate': 0.02475209662847627, 'lambda_l1': 1.0125327584503918, 'lambda_l2': 0.4948344638349456, 'num_leaves': 15, 'feature_fraction': 0.37928317386343996, 'bagging_fraction': 0.6734734175648549, 'bagging_freq': 2, 'min_child_samples': 49, 'max_depth': 3, 'max_bin': 121, 'min_data_in_leaf': 135}. Best is trial 15 with value: 0.796327697763605.\n",
      "[I 2024-11-09 13:43:37,817] Trial 17 finished with value: 0.771257717650177 and parameters: {'n_estimators': 1952, 'learning_rate': 0.057009137081822314, 'lambda_l1': 1.0982065346914132, 'lambda_l2': 0.3549220210721144, 'num_leaves': 17, 'feature_fraction': 0.7773300306940121, 'bagging_fraction': 0.6773540886069578, 'bagging_freq': 1, 'min_child_samples': 76, 'max_depth': 2, 'max_bin': 109, 'min_data_in_leaf': 103}. Best is trial 15 with value: 0.796327697763605.\n",
      "[I 2024-11-09 13:44:06,644] Trial 18 finished with value: 0.7893017171178636 and parameters: {'n_estimators': 1304, 'learning_rate': 0.02707919111577822, 'lambda_l1': 0.5114187209362978, 'lambda_l2': 5.470648126311349, 'num_leaves': 14, 'feature_fraction': 0.6072286096072027, 'bagging_fraction': 0.7144408394943204, 'bagging_freq': 2, 'min_child_samples': 100, 'max_depth': 3, 'max_bin': 133, 'min_data_in_leaf': 134}. Best is trial 15 with value: 0.796327697763605.\n",
      "[I 2024-11-09 13:44:33,234] Trial 19 finished with value: 0.7942618499786256 and parameters: {'n_estimators': 1768, 'learning_rate': 0.04493634400686289, 'lambda_l1': 9.698317113376428, 'lambda_l2': 0.9324290320904939, 'num_leaves': 12, 'feature_fraction': 0.8839178758117406, 'bagging_fraction': 0.6203734668018497, 'bagging_freq': 2, 'min_child_samples': 35, 'max_depth': 1, 'max_bin': 108, 'min_data_in_leaf': 133}. Best is trial 15 with value: 0.796327697763605.\n",
      "[I 2024-11-09 13:44:33,378] A new study created in memory with name: no-name-1a899a13-9f42-4ebb-856e-94c0ef8d1a2a\n",
      "[I 2024-11-09 13:44:48,305] Trial 0 finished with value: 0.7373658514949655 and parameters: {'n_estimators': 812, 'learning_rate': 0.08927180304353628, 'lambda_l1': 2.9106359131330697, 'lambda_l2': 1.5751320499779735, 'num_leaves': 11, 'feature_fraction': 0.22479561626896213, 'bagging_fraction': 0.23485016730091968, 'bagging_freq': 3, 'min_child_samples': 62, 'max_depth': 4, 'max_bin': 101, 'min_data_in_leaf': 147}. Best is trial 0 with value: 0.7373658514949655.\n",
      "[I 2024-11-09 13:45:20,575] Trial 1 finished with value: 0.7634572572977979 and parameters: {'n_estimators': 1682, 'learning_rate': 0.016305687346221478, 'lambda_l1': 0.23102018878452935, 'lambda_l2': 0.2327067708383781, 'num_leaves': 13, 'feature_fraction': 0.5198051453057903, 'bagging_fraction': 0.4591670111852695, 'bagging_freq': 1, 'min_child_samples': 63, 'max_depth': 1, 'max_bin': 114, 'min_data_in_leaf': 67}. Best is trial 1 with value: 0.7634572572977979.\n",
      "[I 2024-11-09 13:45:43,159] Trial 2 finished with value: 0.7409840957208835 and parameters: {'n_estimators': 966, 'learning_rate': 0.06097839109531514, 'lambda_l1': 0.2508115686045233, 'lambda_l2': 1.0677482709481354, 'num_leaves': 16, 'feature_fraction': 0.13716033017599819, 'bagging_fraction': 0.5645269111408631, 'bagging_freq': 1, 'min_child_samples': 11, 'max_depth': 5, 'max_bin': 149, 'min_data_in_leaf': 125}. Best is trial 1 with value: 0.7634572572977979.\n",
      "[I 2024-11-09 13:45:58,730] Trial 3 finished with value: 0.7485022166180471 and parameters: {'n_estimators': 679, 'learning_rate': 0.012521954287060391, 'lambda_l1': 2.3359635026261603, 'lambda_l2': 0.7591104805282696, 'num_leaves': 11, 'feature_fraction': 0.4961415280890161, 'bagging_fraction': 0.22063311266913105, 'bagging_freq': 3, 'min_child_samples': 29, 'max_depth': 4, 'max_bin': 115, 'min_data_in_leaf': 88}. Best is trial 1 with value: 0.7634572572977979.\n",
      "[I 2024-11-09 13:46:17,046] Trial 4 finished with value: 0.7579521630407621 and parameters: {'n_estimators': 1139, 'learning_rate': 0.015305744365500184, 'lambda_l1': 8.692991511139551, 'lambda_l2': 3.5503048581283085, 'num_leaves': 20, 'feature_fraction': 0.815861880342119, 'bagging_fraction': 0.5587399872866512, 'bagging_freq': 3, 'min_child_samples': 13, 'max_depth': 1, 'max_bin': 102, 'min_data_in_leaf': 62}. Best is trial 1 with value: 0.7634572572977979.\n",
      "[I 2024-11-09 13:46:38,828] Trial 5 finished with value: 0.7533586633040658 and parameters: {'n_estimators': 838, 'learning_rate': 0.01867880257107068, 'lambda_l1': 4.544383960336017, 'lambda_l2': 0.5170191786366992, 'num_leaves': 13, 'feature_fraction': 0.5341568665265988, 'bagging_fraction': 0.2845545349848576, 'bagging_freq': 3, 'min_child_samples': 12, 'max_depth': 5, 'max_bin': 139, 'min_data_in_leaf': 46}. Best is trial 1 with value: 0.7634572572977979.\n",
      "[I 2024-11-09 13:46:42,414] Trial 6 finished with value: 0.6987748563367016 and parameters: {'n_estimators': 110, 'learning_rate': 0.06538248584518043, 'lambda_l1': 2.5924756604751593, 'lambda_l2': 2.8708753481954687, 'num_leaves': 18, 'feature_fraction': 0.1592357213872723, 'bagging_fraction': 0.4150794371265636, 'bagging_freq': 1, 'min_child_samples': 87, 'max_depth': 4, 'max_bin': 116, 'min_data_in_leaf': 28}. Best is trial 1 with value: 0.7634572572977979.\n",
      "[I 2024-11-09 13:46:55,589] Trial 7 finished with value: 0.7555552831104062 and parameters: {'n_estimators': 691, 'learning_rate': 0.021143813626634367, 'lambda_l1': 2.878805718308924, 'lambda_l2': 1.8841476921545086, 'num_leaves': 19, 'feature_fraction': 0.4777719401295595, 'bagging_fraction': 0.27175654756298107, 'bagging_freq': 3, 'min_child_samples': 78, 'max_depth': 3, 'max_bin': 139, 'min_data_in_leaf': 84}. Best is trial 1 with value: 0.7634572572977979.\n",
      "[I 2024-11-09 13:47:15,923] Trial 8 finished with value: 0.7604641008467822 and parameters: {'n_estimators': 1093, 'learning_rate': 0.026763383567660764, 'lambda_l1': 0.11241862095793062, 'lambda_l2': 0.16435497475111327, 'num_leaves': 10, 'feature_fraction': 0.6091283290110243, 'bagging_fraction': 0.38861358864579604, 'bagging_freq': 2, 'min_child_samples': 92, 'max_depth': 2, 'max_bin': 120, 'min_data_in_leaf': 118}. Best is trial 1 with value: 0.7634572572977979.\n",
      "[I 2024-11-09 13:47:25,702] Trial 9 finished with value: 0.7360379939736668 and parameters: {'n_estimators': 534, 'learning_rate': 0.011939328726535447, 'lambda_l1': 0.3797544798678416, 'lambda_l2': 0.21010799310103556, 'num_leaves': 20, 'feature_fraction': 0.7464963036515336, 'bagging_fraction': 0.5800422539062542, 'bagging_freq': 3, 'min_child_samples': 82, 'max_depth': 1, 'max_bin': 145, 'min_data_in_leaf': 90}. Best is trial 1 with value: 0.7634572572977979.\n",
      "[I 2024-11-09 13:48:06,746] Trial 10 finished with value: 0.7501204350131937 and parameters: {'n_estimators': 1893, 'learning_rate': 0.03690998419211478, 'lambda_l1': 0.7243598948404971, 'lambda_l2': 7.32117324325261, 'num_leaves': 14, 'feature_fraction': 0.3404518584394768, 'bagging_fraction': 0.775862447567252, 'bagging_freq': 2, 'min_child_samples': 47, 'max_depth': 2, 'max_bin': 130, 'min_data_in_leaf': 22}. Best is trial 1 with value: 0.7634572572977979.\n",
      "[I 2024-11-09 13:48:40,656] Trial 11 finished with value: 0.76257242494226 and parameters: {'n_estimators': 1600, 'learning_rate': 0.030204440214274295, 'lambda_l1': 0.10843948088834998, 'lambda_l2': 0.10724459185118644, 'num_leaves': 10, 'feature_fraction': 0.6686426522469714, 'bagging_fraction': 0.42169799302984085, 'bagging_freq': 2, 'min_child_samples': 95, 'max_depth': 2, 'max_bin': 118, 'min_data_in_leaf': 118}. Best is trial 1 with value: 0.7634572572977979.\n",
      "[I 2024-11-09 13:49:25,758] Trial 12 finished with value: 0.7624039612278684 and parameters: {'n_estimators': 1717, 'learning_rate': 0.03535124044947991, 'lambda_l1': 0.10150308332978508, 'lambda_l2': 0.10475035634873302, 'num_leaves': 13, 'feature_fraction': 0.6992825957109835, 'bagging_fraction': 0.44471529917297287, 'bagging_freq': 1, 'min_child_samples': 63, 'max_depth': 2, 'max_bin': 110, 'min_data_in_leaf': 109}. Best is trial 1 with value: 0.7634572572977979.\n",
      "[I 2024-11-09 13:49:54,159] Trial 13 finished with value: 0.7647898948297027 and parameters: {'n_estimators': 1491, 'learning_rate': 0.028774960330279976, 'lambda_l1': 0.23470345283947283, 'lambda_l2': 0.33851798850320947, 'num_leaves': 16, 'feature_fraction': 0.3618321665092412, 'bagging_fraction': 0.6600427294588951, 'bagging_freq': 2, 'min_child_samples': 40, 'max_depth': 1, 'max_bin': 127, 'min_data_in_leaf': 68}. Best is trial 13 with value: 0.7647898948297027.\n",
      "[I 2024-11-09 13:50:20,807] Trial 14 finished with value: 0.7619283750328965 and parameters: {'n_estimators': 1393, 'learning_rate': 0.022148164335043123, 'lambda_l1': 0.28629517365026674, 'lambda_l2': 0.3528489982170643, 'num_leaves': 16, 'feature_fraction': 0.36192858327620464, 'bagging_fraction': 0.6947699593737504, 'bagging_freq': 1, 'min_child_samples': 45, 'max_depth': 1, 'max_bin': 128, 'min_data_in_leaf': 64}. Best is trial 13 with value: 0.7647898948297027.\n",
      "[I 2024-11-09 13:50:48,706] Trial 15 finished with value: 0.7668284160578165 and parameters: {'n_estimators': 1402, 'learning_rate': 0.044996644176894224, 'lambda_l1': 0.7389521731787256, 'lambda_l2': 0.32895690256677534, 'num_leaves': 17, 'feature_fraction': 0.36418565076936776, 'bagging_fraction': 0.6579434505389752, 'bagging_freq': 2, 'min_child_samples': 35, 'max_depth': 1, 'max_bin': 132, 'min_data_in_leaf': 65}. Best is trial 15 with value: 0.7668284160578165.\n",
      "[I 2024-11-09 13:51:20,990] Trial 16 finished with value: 0.7504242127922653 and parameters: {'n_estimators': 1245, 'learning_rate': 0.046536364192714626, 'lambda_l1': 0.7554198086269549, 'lambda_l2': 0.40359391499709885, 'num_leaves': 17, 'feature_fraction': 0.3287353163031293, 'bagging_fraction': 0.675924212940837, 'bagging_freq': 2, 'min_child_samples': 33, 'max_depth': 3, 'max_bin': 133, 'min_data_in_leaf': 46}. Best is trial 15 with value: 0.7668284160578165.\n",
      "[I 2024-11-09 13:51:46,423] Trial 17 finished with value: 0.7673395776707215 and parameters: {'n_estimators': 1385, 'learning_rate': 0.04254050587571971, 'lambda_l1': 1.1513140503215087, 'lambda_l2': 0.6779331678445241, 'num_leaves': 15, 'feature_fraction': 0.39228596334878807, 'bagging_fraction': 0.6623368331204738, 'bagging_freq': 2, 'min_child_samples': 33, 'max_depth': 1, 'max_bin': 124, 'min_data_in_leaf': 44}. Best is trial 17 with value: 0.7673395776707215.\n",
      "[I 2024-11-09 13:52:14,128] Trial 18 finished with value: 0.7436666907003064 and parameters: {'n_estimators': 1302, 'learning_rate': 0.0461876137055135, 'lambda_l1': 1.0813827629481754, 'lambda_l2': 0.7030881188943509, 'num_leaves': 15, 'feature_fraction': 0.25040950189429745, 'bagging_fraction': 0.7781888576865816, 'bagging_freq': 2, 'min_child_samples': 27, 'max_depth': 2, 'max_bin': 123, 'min_data_in_leaf': 37}. Best is trial 17 with value: 0.7673395776707215.\n",
      "[I 2024-11-09 13:53:01,072] Trial 19 finished with value: 0.7565657752199084 and parameters: {'n_estimators': 1894, 'learning_rate': 0.09324055798383521, 'lambda_l1': 1.2454421428093447, 'lambda_l2': 1.2136203216594836, 'num_leaves': 18, 'feature_fraction': 0.42986474402999053, 'bagging_fraction': 0.6203734668018497, 'bagging_freq': 2, 'min_child_samples': 23, 'max_depth': 3, 'max_bin': 136, 'min_data_in_leaf': 49}. Best is trial 17 with value: 0.7673395776707215.\n"
     ]
    }
   ],
   "source": [
    "tscv = TimeSeriesSplit(n_splits=5)\n",
    "\n",
    "for train_index, test_index in tscv.split(pca_df):\n",
    "    X_train, X_test = pca_df.iloc[train_index], pca_df.iloc[test_index]\n",
    "    y_train, y_test = btc_data_copy_targets.iloc[train_index], btc_data_copy_targets.iloc[test_index]\n",
    "    sampler_complex = TPESampler(n_startup_trials=10, seed=42)\n",
    "    study_complex = optuna.create_study(direction='maximize', sampler=sampler_complex)\n",
    "    study_complex.optimize(objective, n_trials=20)"
   ]
  },
  {
   "cell_type": "code",
   "execution_count": 28,
   "metadata": {},
   "outputs": [
    {
     "data": {
      "text/plain": [
       "{'n_estimators': 1385,\n",
       " 'learning_rate': 0.04254050587571971,\n",
       " 'lambda_l1': 1.1513140503215087,\n",
       " 'lambda_l2': 0.6779331678445241,\n",
       " 'num_leaves': 15,\n",
       " 'feature_fraction': 0.39228596334878807,\n",
       " 'bagging_fraction': 0.6623368331204738,\n",
       " 'bagging_freq': 2,\n",
       " 'min_child_samples': 33,\n",
       " 'max_depth': 1,\n",
       " 'max_bin': 124,\n",
       " 'min_data_in_leaf': 44,\n",
       " 'objective': 'binary',\n",
       " 'metric': 'auc',\n",
       " 'verbosity': -1,\n",
       " 'n_jobs': -1,\n",
       " 'random_state': 42,\n",
       " 'is_unbalance': True,\n",
       " 'subsample': 1.0}"
      ]
     },
     "execution_count": 28,
     "metadata": {},
     "output_type": "execute_result"
    }
   ],
   "source": [
    "params = study_complex.best_params | {\n",
    "                                        \"objective\": \"binary\",\n",
    "                                        \"metric\": \"auc\",\n",
    "                                        \"verbosity\": -1,\n",
    "                                        \"n_jobs\": -1,\n",
    "                                        \"random_state\": 42,\n",
    "                                        \"is_unbalance\": True,\n",
    "                                        \"subsample\": 1.0,\n",
    "                                        }\n",
    "params"
   ]
  },
  {
   "cell_type": "code",
   "execution_count": 11,
   "metadata": {},
   "outputs": [],
   "source": [
    "params = {\n",
    "        'n_estimators': 1385,\n",
    "        'learning_rate': 0.04254050587571971,\n",
    "        'lambda_l1': 1.1513140503215087,\n",
    "        'lambda_l2': 0.6779331678445241,\n",
    "        'num_leaves': 15,\n",
    "        'feature_fraction': 0.39228596334878807,\n",
    "        'bagging_fraction': 0.6623368331204738,\n",
    "        'bagging_freq': 2,\n",
    "        'min_child_samples': 33,\n",
    "        'max_depth': 1,\n",
    "        'max_bin': 124,\n",
    "        'min_data_in_leaf': 44,\n",
    "        'objective': 'binary',\n",
    "        'metric': 'auc',\n",
    "        'verbosity': -1,\n",
    "        'n_jobs': -1,\n",
    "        'random_state': 42,\n",
    "        'is_unbalance': True,\n",
    "        'subsample': 1.0\n",
    "        }"
   ]
  },
  {
   "cell_type": "markdown",
   "metadata": {},
   "source": [
    "### Train model on the whole dataset"
   ]
  },
  {
   "cell_type": "code",
   "execution_count": 12,
   "metadata": {},
   "outputs": [
    {
     "name": "stderr",
     "output_type": "stream",
     "text": [
      "/Users/matveynelipa/Desktop/ML/my_env/lib/python3.12/site-packages/lightgbm/engine.py:204: UserWarning: Found `n_estimators` in params. Will use it instead of argument\n",
      "  _log_warning(f\"Found `{alias}` in params. Will use it instead of argument\")\n"
     ]
    }
   ],
   "source": [
    "dtrain = lgb.Dataset(pca_df, label=btc_data_copy_targets)\n",
    "tuned_model = lgb.train(params, dtrain)"
   ]
  },
  {
   "cell_type": "code",
   "execution_count": 15,
   "metadata": {},
   "outputs": [],
   "source": [
    "y_pred = tuned_model.predict(pca_df)\n",
    "btc_data_copy_v2 = btc_data.copy().iloc[:-1]\n",
    "btc_data_copy_v2['y_pred'] = y_pred"
   ]
  },
  {
   "cell_type": "code",
   "execution_count": 18,
   "metadata": {},
   "outputs": [],
   "source": [
    "df = btc_data_copy_v2[['close', 'y_pred']]"
   ]
  },
  {
   "cell_type": "code",
   "execution_count": 19,
   "metadata": {},
   "outputs": [],
   "source": [
    "df = df.sort_index(ascending=False)"
   ]
  },
  {
   "cell_type": "code",
   "execution_count": null,
   "metadata": {},
   "outputs": [],
   "source": [
    "df"
   ]
  },
  {
   "cell_type": "code",
   "execution_count": null,
   "metadata": {},
   "outputs": [],
   "source": [
    "btc_data_copy_v1"
   ]
  },
  {
   "cell_type": "markdown",
   "metadata": {},
   "source": [
    "---"
   ]
  },
  {
   "cell_type": "markdown",
   "metadata": {},
   "source": [
    "## Bybit API"
   ]
  },
  {
   "cell_type": "markdown",
   "metadata": {},
   "source": [
    "### Bybit Mainnet Demo Trading connection"
   ]
  },
  {
   "cell_type": "code",
   "execution_count": 21,
   "metadata": {},
   "outputs": [],
   "source": [
    "api_key_ = api_public\n",
    "api_secret_ = api_secret\n",
    "session = HTTP(\n",
    "    demo=True,\n",
    "    api_key=api_key_,\n",
    "    api_secret=api_secret_\n",
    ")"
   ]
  },
  {
   "cell_type": "markdown",
   "metadata": {},
   "source": [
    "### Access to Bybit OHLCV data, model prediction, order placement"
   ]
  },
  {
   "cell_type": "code",
   "execution_count": 23,
   "metadata": {},
   "outputs": [
    {
     "name": "stdout",
     "output_type": "stream",
     "text": [
      "Wait for a better opportunity. Price increase probability: 0.12438708641290597\n",
      "Current BTC price: 76383.25\n",
      "BTC balance in USD: 0.05406853\n",
      "USDT balance: 125849.81130371\n",
      "Wait for a better opportunity. Price increase probability: 0.12438708641290597\n",
      "Current BTC price: 76391.15\n",
      "BTC balance in USD: 0.05406853\n",
      "USDT balance: 125849.81130371\n",
      "Wait for a better opportunity. Price increase probability: 0.12438708641290597\n",
      "Current BTC price: 76448.79\n",
      "BTC balance in USD: 0.05406853\n",
      "USDT balance: 125849.81130371\n",
      "Wait for a better opportunity. Price increase probability: 0.12438708641290597\n",
      "Current BTC price: 76461.87\n",
      "BTC balance in USD: 0.05406853\n",
      "USDT balance: 125849.81130371\n",
      "Wait for a better opportunity. Price increase probability: 0.12438708641290597\n",
      "Current BTC price: 76468.09\n",
      "BTC balance in USD: 0.05406853\n",
      "USDT balance: 125849.81130371\n",
      "Wait for a better opportunity. Price increase probability: 0.12438708641290597\n",
      "Current BTC price: 76522.73\n",
      "BTC balance in USD: 0.05406853\n",
      "USDT balance: 125849.81130371\n"
     ]
    },
    {
     "ename": "KeyboardInterrupt",
     "evalue": "",
     "output_type": "error",
     "traceback": [
      "\u001b[0;31m---------------------------------------------------------------------------\u001b[0m",
      "\u001b[0;31mKeyboardInterrupt\u001b[0m                         Traceback (most recent call last)",
      "Cell \u001b[0;32mIn[23], line 140\u001b[0m\n\u001b[1;32m    137\u001b[0m         time\u001b[38;5;241m.\u001b[39msleep(\u001b[38;5;241m300\u001b[39m)  \u001b[38;5;66;03m# Checkout every 5 min\u001b[39;00m\n\u001b[1;32m    139\u001b[0m \u001b[38;5;66;03m# Bot launching\u001b[39;00m\n\u001b[0;32m--> 140\u001b[0m \u001b[43mtrading_bot\u001b[49m\u001b[43m(\u001b[49m\u001b[43m)\u001b[49m\n",
      "Cell \u001b[0;32mIn[23], line 137\u001b[0m, in \u001b[0;36mtrading_bot\u001b[0;34m(threshold, amount)\u001b[0m\n\u001b[1;32m    132\u001b[0m     \u001b[38;5;28mprint\u001b[39m(\u001b[38;5;124mf\u001b[39m\u001b[38;5;124m\"\u001b[39m\u001b[38;5;124mWait for a better opportunity. Price increase probability: \u001b[39m\u001b[38;5;132;01m{\u001b[39;00mprobability[\u001b[38;5;241m0\u001b[39m]\u001b[38;5;132;01m}\u001b[39;00m\u001b[38;5;124m\"\u001b[39m)\n\u001b[1;32m    134\u001b[0m \u001b[38;5;28mprint\u001b[39m(\u001b[38;5;124mf\u001b[39m\u001b[38;5;124m'\u001b[39m\u001b[38;5;124mCurrent BTC price: \u001b[39m\u001b[38;5;132;01m{\u001b[39;00mlast_btc_price\u001b[38;5;132;01m}\u001b[39;00m\u001b[38;5;124m'\u001b[39m,\n\u001b[1;32m    135\u001b[0m       \u001b[38;5;124mf\u001b[39m\u001b[38;5;124m'\u001b[39m\u001b[38;5;124mBTC balance in USD: \u001b[39m\u001b[38;5;132;01m{\u001b[39;00mbtc_balance_in_usdt\u001b[38;5;132;01m}\u001b[39;00m\u001b[38;5;124m'\u001b[39m,\n\u001b[1;32m    136\u001b[0m       \u001b[38;5;124mf\u001b[39m\u001b[38;5;124m'\u001b[39m\u001b[38;5;124mUSDT balance: \u001b[39m\u001b[38;5;132;01m{\u001b[39;00musdt_balance\u001b[38;5;132;01m}\u001b[39;00m\u001b[38;5;124m'\u001b[39m, sep\u001b[38;5;241m=\u001b[39m\u001b[38;5;124m'\u001b[39m\u001b[38;5;130;01m\\n\u001b[39;00m\u001b[38;5;124m'\u001b[39m)    \n\u001b[0;32m--> 137\u001b[0m \u001b[43mtime\u001b[49m\u001b[38;5;241;43m.\u001b[39;49m\u001b[43msleep\u001b[49m\u001b[43m(\u001b[49m\u001b[38;5;241;43m300\u001b[39;49m\u001b[43m)\u001b[49m\n",
      "\u001b[0;31mKeyboardInterrupt\u001b[0m: "
     ]
    }
   ],
   "source": [
    "warnings.filterwarnings('ignore')\n",
    "\n",
    "def generate_indicators(df):\n",
    "    \n",
    "    ''' makes new features based on OHLCV data'''\n",
    "    \n",
    "    #from warnings import simplefilter \n",
    "    #simplefilter(action='ignore', category=FutureWarning)\n",
    "    combined_df = df.copy()\n",
    "    \n",
    "    indicator_classes = [cls for _, cls in inspect.getmembers(ti, inspect.isclass)]\n",
    "    \n",
    "    for indicator_class in indicator_classes:\n",
    "        try:\n",
    "            indicator = indicator_class(input_data=df)\n",
    "            indicator_data = indicator.getTiData()\n",
    "            combined_df = combined_df.join(indicator_data, how='left')\n",
    "        except Exception as e:\n",
    "            pass\n",
    "            #print(f\"Error computing {indicator_class.__name__}: {e}\")\n",
    "    combined_df['target_label'] = combined_df['close'].diff(-1).apply(lambda x: 1 if x <= 0 else -1)\n",
    "    \n",
    "    return combined_df\n",
    "\n",
    "def get_clean_ohlcv_data(symbol=\"BTCUSDT\", interval=5):\n",
    "    \n",
    "    ''' extracts OHLCV data from Bybit for the last 5 minutes'''\n",
    "    \n",
    "    end_time = int(datetime.now().timestamp())  # Current time in seconds\n",
    "    start_time = end_time - (5 * 60)  # time 5 min ago in seconds\n",
    "    try:\n",
    "        response = session.get_kline(\n",
    "            category=\"spot\",\n",
    "            symbol=symbol,\n",
    "            interval=str(interval),\n",
    "            start=start_time * 1000,  # start_time to milliseconds\n",
    "            end=end_time * 1000       # end_time to milliseconds\n",
    "        )\n",
    "\n",
    "        kline = response['result']['list'][0]\n",
    "        ohlcv_data = {\n",
    "                    \"date\": datetime.fromtimestamp(int(kline[0]) / 1000),\n",
    "                    \"open\": float(kline[1]),\n",
    "                    \"high\": float(kline[2]),\n",
    "                    \"low\": float(kline[3]),\n",
    "                    \"close\": float(kline[4]),\n",
    "                    \"volume\": float(kline[5])\n",
    "                    }\n",
    "        \n",
    "        df = pd.DataFrame(ohlcv_data.items()).T\n",
    "        df.columns = df.iloc[0]\n",
    "        df = df.iloc[1:].set_index('date')\n",
    "        df = df.astype({\n",
    "            'open':'Float64',\n",
    "            'high':'Float64',\n",
    "            'low':'Float64',\n",
    "            'close':'Float64',\n",
    "            'volume':'Float64'\n",
    "        })\n",
    "        return df\n",
    "    except Exception as e:\n",
    "        print(\"Error extracting data:\", e)\n",
    "\n",
    "def input_data_preprocessing():\n",
    "    \n",
    "    ''' combines previous OHLCV data with the newest one and processes it'''\n",
    "    \n",
    "    new_ohlcv_row = get_clean_ohlcv_data()\n",
    "    last_55_rows_df = btc_data_copy_v1.iloc[-300:, :5]\n",
    "    ohlcv_data = pd.concat([last_55_rows_df, new_ohlcv_row], axis=0)\n",
    "    featured_data = generate_indicators(ohlcv_data)\n",
    "    nan = featured_data[featured_data.columns[featured_data.isna().sum() > 0]].columns\n",
    "    featured_data[nan] = featured_data[nan].fillna(featured_data[nan].rolling(window=200, min_periods=1).mean())\n",
    "    return featured_data.iloc[[-1]]\n",
    "\n",
    "def get_bitcoin_signal():\n",
    "    \n",
    "    '''ohlcv_data processing, features generation, \n",
    "    PCA application and model prediction'''\n",
    "    \n",
    "    preprocessed_data = input_data_preprocessing()\n",
    "    preprocessed_data = preprocessed_data.drop(['adl', 'cmf', 'emv_ma', 'emv', 'mfi', 'vrc', 'target_label'], axis=1)\n",
    "    centralized_data = preprocessed_data - preprocessed_data.mean()\n",
    "    latest_data = pca.transform(centralized_data)\n",
    "    y_pred = tuned_model.predict(latest_data)\n",
    "    last_btc_price = preprocessed_data['close'].iloc[-1]\n",
    "    # FIXME продумать логику добавления новых данных в исходные датасеты (зазписать в .csv)\n",
    "    return (y_pred, last_btc_price)\n",
    "\n",
    "\n",
    "def place_order(order_side: str, amount):\n",
    "    \n",
    "    '''makes a \"buy\" or \"sell\" order'''\n",
    "    \n",
    "    try:\n",
    "        order = session.place_order(\n",
    "                                    category=\"spot\",\n",
    "                                    symbol=\"BTCUSDT\",\n",
    "                                    side=order_side, # Buy or Sell\n",
    "                                    orderType=\"Market\",\n",
    "                                    qty=str(amount), # BTC value for Sell and USDT value for Buy\n",
    "                                    marketunit=\"quoteCoin\",\n",
    "                                    timeInForce=\"IOC\",\n",
    "                                    #orderLinkId=\"spot-test-mainnet-algo\",\n",
    "                                    isLeverage=0,\n",
    "                                    orderFilter=\"Order\"\n",
    "                                    )\n",
    "        print(f\"{\"Buy order\" if order_side==\"Buy\" else \"Sell order\"} executed:\", order)\n",
    "    except Exception as e:\n",
    "        print(\"Error making an order:\", e)\n",
    "\n",
    "def trading_bot(threshold=0.7, amount=1000):\n",
    "    while True:\n",
    "        probability, last_btc_price = get_bitcoin_signal()\n",
    "        btc_balance_in_usdt = float(session.get_wallet_balance(\n",
    "                                accountType=\"UNIFIED\",\n",
    "                                coin=\"BTC\"\n",
    "                                )['result']['list'][0]['coin'][0]['usdValue'])\n",
    "        usdt_balance = float(session.get_wallet_balance(\n",
    "                                accountType=\"UNIFIED\",\n",
    "                                coin=\"USDT\"\n",
    "                                )['result']['list'][0]['coin'][0]['usdValue'])\n",
    "        if probability >= threshold and btc_balance_in_usdt > 100:\n",
    "            print('Hold your tokens!')\n",
    "        elif probability >= threshold and btc_balance_in_usdt <= 100:\n",
    "            print(f\"Buy signal! Price increase probability: {probability[0]}\")\n",
    "            place_order(\"Buy\", amount)\n",
    "        elif probability <= threshold and btc_balance_in_usdt > 100:\n",
    "            print(f\"Sell signal! Price increase probability: {probability[0]}\")\n",
    "            place_order(\"Sell\", btc_balance_in_usdt)\n",
    "        else:\n",
    "            print(f\"Wait for a better opportunity. Price increase probability: {probability[0]}\")\n",
    "        \n",
    "        print(f'Current BTC price: {last_btc_price}',\n",
    "              f'BTC balance in USD: {btc_balance_in_usdt}',\n",
    "              f'USDT balance: {usdt_balance}', sep='\\n')    \n",
    "        time.sleep(300)  # Checkout every 5 min\n",
    "        \n",
    "# Bot launching\n",
    "trading_bot()"
   ]
  }
 ],
 "metadata": {
  "kernelspec": {
   "display_name": "my_env",
   "language": "python",
   "name": "python3"
  },
  "language_info": {
   "codemirror_mode": {
    "name": "ipython",
    "version": 3
   },
   "file_extension": ".py",
   "mimetype": "text/x-python",
   "name": "python",
   "nbconvert_exporter": "python",
   "pygments_lexer": "ipython3",
   "version": "3.12.5"
  }
 },
 "nbformat": 4,
 "nbformat_minor": 2
}
